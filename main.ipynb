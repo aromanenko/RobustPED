{
 "cells": [
  {
   "cell_type": "code",
   "execution_count": 1,
   "metadata": {
    "ExecuteTime": {
     "end_time": "2020-12-17T15:16:54.165823Z",
     "start_time": "2020-12-17T15:16:53.300678Z"
    }
   },
   "outputs": [],
   "source": [
    "import pandas as pd\n",
    "import numpy as np\n",
    "import statsmodels.api as sm\n",
    "from statsmodels.formula.api import ols "
   ]
  },
  {
   "cell_type": "code",
   "execution_count": 2,
   "metadata": {
    "ExecuteTime": {
     "end_time": "2020-12-17T15:16:54.877158Z",
     "start_time": "2020-12-17T15:16:54.808186Z"
    }
   },
   "outputs": [
    {
     "name": "stdout",
     "output_type": "stream",
     "text": [
      "<class 'pandas.core.frame.DataFrame'>\n",
      "RangeIndex: 86916 entries, 0 to 86915\n",
      "Data columns (total 7 columns):\n",
      " #   Column         Non-Null Count  Dtype  \n",
      "---  ------         --------------  -----  \n",
      " 0   Store_id       86916 non-null  int64  \n",
      " 1   SKU_id         86916 non-null  int64  \n",
      " 2   Date           86916 non-null  object \n",
      " 3   Promo          15349 non-null  float64\n",
      " 4   Demand         86916 non-null  int64  \n",
      " 5   Regular_Price  86916 non-null  float64\n",
      " 6   Promo_Price    15349 non-null  float64\n",
      "dtypes: float64(3), int64(3), object(1)\n",
      "memory usage: 4.6+ MB\n"
     ]
    }
   ],
   "source": [
    "df = pd.read_csv('train.csv', sep=';')\n",
    "df.info()"
   ]
  },
  {
   "cell_type": "code",
   "execution_count": 3,
   "metadata": {
    "ExecuteTime": {
     "end_time": "2020-12-17T15:16:55.721435Z",
     "start_time": "2020-12-17T15:16:55.700619Z"
    }
   },
   "outputs": [
    {
     "data": {
      "text/html": [
       "<div>\n",
       "<style scoped>\n",
       "    .dataframe tbody tr th:only-of-type {\n",
       "        vertical-align: middle;\n",
       "    }\n",
       "\n",
       "    .dataframe tbody tr th {\n",
       "        vertical-align: top;\n",
       "    }\n",
       "\n",
       "    .dataframe thead th {\n",
       "        text-align: right;\n",
       "    }\n",
       "</style>\n",
       "<table border=\"1\" class=\"dataframe\">\n",
       "  <thead>\n",
       "    <tr style=\"text-align: right;\">\n",
       "      <th></th>\n",
       "      <th>Store_id</th>\n",
       "      <th>SKU_id</th>\n",
       "      <th>Date</th>\n",
       "      <th>Promo</th>\n",
       "      <th>Demand</th>\n",
       "      <th>Regular_Price</th>\n",
       "      <th>Promo_Price</th>\n",
       "    </tr>\n",
       "  </thead>\n",
       "  <tbody>\n",
       "    <tr>\n",
       "      <th>0</th>\n",
       "      <td>1</td>\n",
       "      <td>1</td>\n",
       "      <td>01.01.2015</td>\n",
       "      <td>NaN</td>\n",
       "      <td>22</td>\n",
       "      <td>163.78</td>\n",
       "      <td>NaN</td>\n",
       "    </tr>\n",
       "    <tr>\n",
       "      <th>1</th>\n",
       "      <td>1</td>\n",
       "      <td>1</td>\n",
       "      <td>02.01.2015</td>\n",
       "      <td>NaN</td>\n",
       "      <td>41</td>\n",
       "      <td>163.78</td>\n",
       "      <td>NaN</td>\n",
       "    </tr>\n",
       "    <tr>\n",
       "      <th>2</th>\n",
       "      <td>1</td>\n",
       "      <td>1</td>\n",
       "      <td>03.01.2015</td>\n",
       "      <td>NaN</td>\n",
       "      <td>35</td>\n",
       "      <td>163.78</td>\n",
       "      <td>NaN</td>\n",
       "    </tr>\n",
       "    <tr>\n",
       "      <th>3</th>\n",
       "      <td>1</td>\n",
       "      <td>1</td>\n",
       "      <td>04.01.2015</td>\n",
       "      <td>NaN</td>\n",
       "      <td>72</td>\n",
       "      <td>163.78</td>\n",
       "      <td>NaN</td>\n",
       "    </tr>\n",
       "    <tr>\n",
       "      <th>4</th>\n",
       "      <td>1</td>\n",
       "      <td>1</td>\n",
       "      <td>05.01.2015</td>\n",
       "      <td>NaN</td>\n",
       "      <td>25</td>\n",
       "      <td>163.78</td>\n",
       "      <td>NaN</td>\n",
       "    </tr>\n",
       "  </tbody>\n",
       "</table>\n",
       "</div>"
      ],
      "text/plain": [
       "   Store_id  SKU_id        Date  Promo  Demand  Regular_Price  Promo_Price\n",
       "0         1       1  01.01.2015    NaN      22         163.78          NaN\n",
       "1         1       1  02.01.2015    NaN      41         163.78          NaN\n",
       "2         1       1  03.01.2015    NaN      35         163.78          NaN\n",
       "3         1       1  04.01.2015    NaN      72         163.78          NaN\n",
       "4         1       1  05.01.2015    NaN      25         163.78          NaN"
      ]
     },
     "execution_count": 3,
     "metadata": {},
     "output_type": "execute_result"
    }
   ],
   "source": [
    "df.head(n=5)"
   ]
  },
  {
   "cell_type": "code",
   "execution_count": 4,
   "metadata": {
    "ExecuteTime": {
     "end_time": "2020-12-17T15:16:59.044336Z",
     "start_time": "2020-12-17T15:16:59.038809Z"
    }
   },
   "outputs": [
    {
     "data": {
      "text/plain": [
       "array([  1,   2,   3,   4,   5,   6,   7,   8,   9,  10,  11,  12,  13,\n",
       "        14,  15,  16,  17,  18,  19,  20,  21,  22,  23,  24,  25,  26,\n",
       "        27,  28,  29,  30,  31,  32,  33,  34,  35,  36,  37,  38,  39,\n",
       "        40,  41,  42,  43,  44,  45,  46,  47,  48,  49,  50,  51,  52,\n",
       "        53,  54,  55,  56,  57,  58,  59,  60,  61,  62,  63,  64,  65,\n",
       "        66,  67,  68,  69,  70,  71,  72,  73,  74,  75,  76,  77,  78,\n",
       "        79,  80,  81,  82,  83,  84,  85,  86,  87,  88,  89,  90,  91,\n",
       "        92,  93,  94,  95,  96,  97,  98,  99, 100, 104, 105, 106])"
      ]
     },
     "execution_count": 4,
     "metadata": {},
     "output_type": "execute_result"
    }
   ],
   "source": [
    "df.Store_id.unique()"
   ]
  },
  {
   "cell_type": "code",
   "execution_count": 5,
   "metadata": {
    "ExecuteTime": {
     "end_time": "2020-12-17T15:17:05.148942Z",
     "start_time": "2020-12-17T15:17:05.143842Z"
    }
   },
   "outputs": [
    {
     "data": {
      "text/plain": [
       "array([1, 2])"
      ]
     },
     "execution_count": 5,
     "metadata": {},
     "output_type": "execute_result"
    }
   ],
   "source": [
    "df.SKU_id.unique()"
   ]
  },
  {
   "cell_type": "code",
   "execution_count": 6,
   "metadata": {
    "ExecuteTime": {
     "end_time": "2020-12-17T15:17:09.280873Z",
     "start_time": "2020-12-17T15:17:09.276928Z"
    }
   },
   "outputs": [],
   "source": [
    "def transform(x, ttype):\n",
    "    '''\n",
    "    Accepts vector and performs transformation on it based on ttype\n",
    "    '''\n",
    "    if ttype == 'log':\n",
    "        return np.log1p(x)\n",
    "    \n",
    "    return np.array(x)"
   ]
  },
  {
   "cell_type": "code",
   "execution_count": 7,
   "metadata": {
    "ExecuteTime": {
     "end_time": "2020-12-17T15:17:10.226607Z",
     "start_time": "2020-12-17T15:17:10.221888Z"
    }
   },
   "outputs": [],
   "source": [
    "def elasticity(X, y, model, model_type):\n",
    "    '''\n",
    "    Computes elasticity of model based on X, y, model itself and model's type\n",
    "    '''\n",
    "    if model_type == 'lin-lin':\n",
    "        return model.params[1] * np.mean(X) / np.mean(y)\n",
    "    elif model_type == 'log-lin':\n",
    "        return model.params[1] * np.mean(X)\n",
    "    elif model_type == 'log-log':\n",
    "        return model.params[1]"
   ]
  },
  {
   "cell_type": "code",
   "execution_count": 8,
   "metadata": {
    "ExecuteTime": {
     "end_time": "2020-12-17T15:17:10.658960Z",
     "start_time": "2020-12-17T15:17:10.654617Z"
    }
   },
   "outputs": [],
   "source": [
    "def PEDmodel(X, y, model_type='lin-lin'):\n",
    "    '''\n",
    "    Makes PED model based on input data X, y and model type\n",
    "    '''\n",
    "    _types = model_type.split('-')\n",
    "    \n",
    "    data = pd.DataFrame()\n",
    "    data['Act_Price'] = transform(X, _types[0])\n",
    "    data['Act_Demand'] = transform(y, _types[1])\n",
    "    \n",
    "    return ols('Act_Demand ~ Act_Price', data=data).fit()"
   ]
  },
  {
   "cell_type": "code",
   "execution_count": 9,
   "metadata": {
    "ExecuteTime": {
     "end_time": "2020-12-17T15:17:11.334933Z",
     "start_time": "2020-12-17T15:17:11.330874Z"
    }
   },
   "outputs": [],
   "source": [
    "def get_model_stats(X, y, model, model_type):\n",
    "    '''\n",
    "    returns model's statistics\n",
    "        regression coefficient,\n",
    "        R-squared,\n",
    "        T-test p-value,\n",
    "        elasticity\n",
    "    '''\n",
    "    \n",
    "    regr_coeff = model.params[1]\n",
    "    r2 = model.rsquared\n",
    "    t_test_p_value = model.pvalues[1]\n",
    "    elas = elasticity(X, y, model, model_type)\n",
    "    \n",
    "    return regr_coeff, r2, t_test_p_value, elas"
   ]
  },
  {
   "cell_type": "code",
   "execution_count": 11,
   "metadata": {
    "ExecuteTime": {
     "end_time": "2020-12-17T15:17:39.872245Z",
     "start_time": "2020-12-17T15:17:39.868651Z"
    }
   },
   "outputs": [],
   "source": [
    "all_model_types = ['lin-lin', 'log-lin', 'log-log']\n",
    "sku_id, store_id, coeff, rsquared, ttpvalue, elas, mtype = [], [], [], [], [], [], []"
   ]
  },
  {
   "cell_type": "code",
   "execution_count": 12,
   "metadata": {
    "ExecuteTime": {
     "end_time": "2020-12-17T15:17:46.043012Z",
     "start_time": "2020-12-17T15:17:40.459013Z"
    }
   },
   "outputs": [],
   "source": [
    "for shop_id in df.Store_id.unique():\n",
    "    for good_id in df.SKU_id.unique():\n",
    "        data = df[(df.Store_id == shop_id) & (df.SKU_id == good_id)]\n",
    "        for model_type in all_model_types:\n",
    "            model = PEDmodel(data.Regular_Price, data.Demand, model_type)\n",
    "            \n",
    "            c, r2, tp, e = get_model_stats(data.Regular_Price, data.Demand, model, model_type)\n",
    "            \n",
    "            sku_id.append(good_id)\n",
    "            store_id.append(shop_id)\n",
    "            coeff.append(c)\n",
    "            rsquared.append(r2)\n",
    "            ttpvalue.append(tp)\n",
    "            elas.append(e)\n",
    "            mtype.append(model_type)"
   ]
  },
  {
   "cell_type": "code",
   "execution_count": 13,
   "metadata": {
    "ExecuteTime": {
     "end_time": "2020-12-17T15:18:03.693692Z",
     "start_time": "2020-12-17T15:18:03.671514Z"
    }
   },
   "outputs": [
    {
     "data": {
      "text/html": [
       "<div>\n",
       "<style scoped>\n",
       "    .dataframe tbody tr th:only-of-type {\n",
       "        vertical-align: middle;\n",
       "    }\n",
       "\n",
       "    .dataframe tbody tr th {\n",
       "        vertical-align: top;\n",
       "    }\n",
       "\n",
       "    .dataframe thead th {\n",
       "        text-align: right;\n",
       "    }\n",
       "</style>\n",
       "<table border=\"1\" class=\"dataframe\">\n",
       "  <thead>\n",
       "    <tr style=\"text-align: right;\">\n",
       "      <th></th>\n",
       "      <th>SKU</th>\n",
       "      <th>Store</th>\n",
       "      <th>Coefficient</th>\n",
       "      <th>R-squared</th>\n",
       "      <th>T-test-p-value</th>\n",
       "      <th>Model-type</th>\n",
       "      <th>Elasticity</th>\n",
       "    </tr>\n",
       "  </thead>\n",
       "  <tbody>\n",
       "    <tr>\n",
       "      <th>0</th>\n",
       "      <td>1</td>\n",
       "      <td>1</td>\n",
       "      <td>-4.603284</td>\n",
       "      <td>0.017688</td>\n",
       "      <td>2.668840e-03</td>\n",
       "      <td>lin-lin</td>\n",
       "      <td>-2.415556e+00</td>\n",
       "    </tr>\n",
       "    <tr>\n",
       "      <th>1</th>\n",
       "      <td>1</td>\n",
       "      <td>1</td>\n",
       "      <td>-641.602207</td>\n",
       "      <td>0.016695</td>\n",
       "      <td>3.530984e-03</td>\n",
       "      <td>log-lin</td>\n",
       "      <td>-8.771532e+04</td>\n",
       "    </tr>\n",
       "    <tr>\n",
       "      <th>2</th>\n",
       "      <td>1</td>\n",
       "      <td>1</td>\n",
       "      <td>-2.817601</td>\n",
       "      <td>0.052010</td>\n",
       "      <td>2.034887e-07</td>\n",
       "      <td>log-log</td>\n",
       "      <td>-2.817601e+00</td>\n",
       "    </tr>\n",
       "    <tr>\n",
       "      <th>3</th>\n",
       "      <td>2</td>\n",
       "      <td>1</td>\n",
       "      <td>-0.815663</td>\n",
       "      <td>0.036251</td>\n",
       "      <td>1.557856e-05</td>\n",
       "      <td>lin-lin</td>\n",
       "      <td>-7.901477e+00</td>\n",
       "    </tr>\n",
       "    <tr>\n",
       "      <th>4</th>\n",
       "      <td>2</td>\n",
       "      <td>1</td>\n",
       "      <td>-118.130766</td>\n",
       "      <td>0.036146</td>\n",
       "      <td>1.603605e-05</td>\n",
       "      <td>log-lin</td>\n",
       "      <td>-1.685219e+04</td>\n",
       "    </tr>\n",
       "    <tr>\n",
       "      <th>...</th>\n",
       "      <td>...</td>\n",
       "      <td>...</td>\n",
       "      <td>...</td>\n",
       "      <td>...</td>\n",
       "      <td>...</td>\n",
       "      <td>...</td>\n",
       "      <td>...</td>\n",
       "    </tr>\n",
       "    <tr>\n",
       "      <th>613</th>\n",
       "      <td>1</td>\n",
       "      <td>106</td>\n",
       "      <td>-1842.012870</td>\n",
       "      <td>0.098066</td>\n",
       "      <td>1.991407e-02</td>\n",
       "      <td>log-lin</td>\n",
       "      <td>-2.485746e+05</td>\n",
       "    </tr>\n",
       "    <tr>\n",
       "      <th>614</th>\n",
       "      <td>1</td>\n",
       "      <td>106</td>\n",
       "      <td>-11.743319</td>\n",
       "      <td>0.155823</td>\n",
       "      <td>2.859918e-03</td>\n",
       "      <td>log-log</td>\n",
       "      <td>-1.174332e+01</td>\n",
       "    </tr>\n",
       "    <tr>\n",
       "      <th>615</th>\n",
       "      <td>2</td>\n",
       "      <td>106</td>\n",
       "      <td>103.896104</td>\n",
       "      <td>0.072553</td>\n",
       "      <td>4.674140e-02</td>\n",
       "      <td>lin-lin</td>\n",
       "      <td>9.254603e+02</td>\n",
       "    </tr>\n",
       "    <tr>\n",
       "      <th>616</th>\n",
       "      <td>2</td>\n",
       "      <td>106</td>\n",
       "      <td>14486.232549</td>\n",
       "      <td>0.072553</td>\n",
       "      <td>4.674140e-02</td>\n",
       "      <td>log-lin</td>\n",
       "      <td>2.005938e+06</td>\n",
       "    </tr>\n",
       "    <tr>\n",
       "      <th>617</th>\n",
       "      <td>2</td>\n",
       "      <td>106</td>\n",
       "      <td>1055.921688</td>\n",
       "      <td>0.092729</td>\n",
       "      <td>2.379362e-02</td>\n",
       "      <td>log-log</td>\n",
       "      <td>1.055922e+03</td>\n",
       "    </tr>\n",
       "  </tbody>\n",
       "</table>\n",
       "<p>618 rows × 7 columns</p>\n",
       "</div>"
      ],
      "text/plain": [
       "     SKU  Store   Coefficient  R-squared  T-test-p-value Model-type  \\\n",
       "0      1      1     -4.603284   0.017688    2.668840e-03    lin-lin   \n",
       "1      1      1   -641.602207   0.016695    3.530984e-03    log-lin   \n",
       "2      1      1     -2.817601   0.052010    2.034887e-07    log-log   \n",
       "3      2      1     -0.815663   0.036251    1.557856e-05    lin-lin   \n",
       "4      2      1   -118.130766   0.036146    1.603605e-05    log-lin   \n",
       "..   ...    ...           ...        ...             ...        ...   \n",
       "613    1    106  -1842.012870   0.098066    1.991407e-02    log-lin   \n",
       "614    1    106    -11.743319   0.155823    2.859918e-03    log-log   \n",
       "615    2    106    103.896104   0.072553    4.674140e-02    lin-lin   \n",
       "616    2    106  14486.232549   0.072553    4.674140e-02    log-lin   \n",
       "617    2    106   1055.921688   0.092729    2.379362e-02    log-log   \n",
       "\n",
       "       Elasticity  \n",
       "0   -2.415556e+00  \n",
       "1   -8.771532e+04  \n",
       "2   -2.817601e+00  \n",
       "3   -7.901477e+00  \n",
       "4   -1.685219e+04  \n",
       "..            ...  \n",
       "613 -2.485746e+05  \n",
       "614 -1.174332e+01  \n",
       "615  9.254603e+02  \n",
       "616  2.005938e+06  \n",
       "617  1.055922e+03  \n",
       "\n",
       "[618 rows x 7 columns]"
      ]
     },
     "execution_count": 13,
     "metadata": {},
     "output_type": "execute_result"
    }
   ],
   "source": [
    "stats = pd.DataFrame({\n",
    "    'SKU': sku_id,\n",
    "    'Store': store_id,\n",
    "    'Coefficient': coeff,\n",
    "    'R-squared': rsquared,\n",
    "    'T-test-p-value': ttpvalue,\n",
    "    'Model-type': mtype,\n",
    "    'Elasticity': elas\n",
    "})\n",
    "stats"
   ]
  },
  {
   "cell_type": "code",
   "execution_count": 53,
   "metadata": {
    "ExecuteTime": {
     "end_time": "2020-12-17T15:56:07.701565Z",
     "start_time": "2020-12-17T15:56:07.696770Z"
    }
   },
   "outputs": [],
   "source": [
    "'''TODO:Calcilate a statistics based on PED models\n",
    "amount of elements the following attributes:\n",
    "ATTRIBUTE 1 values: 1) 0<=x, 2) -10<=x<-1, 3) x<-10\n",
    "ATTRIBUTE 2: 1) p-value < 0.05, 2) p-value >= 0.05\n",
    "\n",
    "E.g. \n",
    "for each pair attribute1 x  attribute2 provide (6 pairs in total)\n",
    "   -share of samples (PED models) \n",
    "   with this attribute value.\n",
    "   \n",
    "Example of output table\n",
    "\n",
    "ModelType   ATTR1=1&ATTR2=1  ATTR1=1&ATTR2=2  ATTR1=2&ATTR2=1  ATTR1=2&ATTR2=2  ATTR1=3&ATTR2=1  ATTR1=3&ATTR2=2\n",
    "LIn-Lin          1%                2%              10%                 59%              20%             8%\n",
    "Log-Lin          1%                2%              10%                 59%              20%             8%\n",
    "Log-Log          1%                2%              10%                 59%              20%             8%\n",
    "'''\n",
    "\n",
    "\n",
    "# (attr value, (attr min threshold, attr max threshold))\n",
    "firrst_attr_v = [\n",
    "    (1, (0, float('+inf'))),\n",
    "    (2, (-1, 0)),\n",
    "    (3, (-10, -1)),\n",
    "    (4, (float('-inf'), -10))\n",
    "]\n",
    "\n",
    "second_attr_v = [\n",
    "    (1, (float('-inf'), 0.05)),\n",
    "    (2, (0.05, float('+inf')))\n",
    "]"
   ]
  },
  {
   "cell_type": "code",
   "execution_count": 54,
   "metadata": {
    "ExecuteTime": {
     "end_time": "2020-12-17T15:56:08.062309Z",
     "start_time": "2020-12-17T15:56:07.977981Z"
    }
   },
   "outputs": [],
   "source": [
    "stats_attr = pd.DataFrame()\n",
    "\n",
    "for f_val, (e_min, e_max) in firrst_attr_v:\n",
    "    for s_val, (p_min, p_max) in second_attr_v:\n",
    "        percents = []\n",
    "        for model_type in all_model_types:\n",
    "            stats_model_type = stats[stats['Model-type'] == model_type]\n",
    "            \n",
    "            stats_attrs = stats[(stats.Elasticity >= e_min) & (stats.Elasticity <= e_max) & (stats['Model-type'] == model_type)]\n",
    "            stats_attrs = stats_attrs[(stats_attrs['T-test-p-value'] >= p_min) & (stats_attrs['T-test-p-value'] <= p_max)]\n",
    "            \n",
    "            percents.append(round(stats_attrs.shape[0] / stats_model_type.shape[0], 2))\n",
    "        \n",
    "        percents = [f'{int(p * 100)}%' for p in percents]\n",
    "        col_name = 'ATTR1={}&ATTR2={}'.format(f_val, s_val)\n",
    "        stats_attr[col_name] = percents\n",
    "\n",
    "stats_attr['ModelType'] = all_model_types"
   ]
  },
  {
   "cell_type": "code",
   "execution_count": 55,
   "metadata": {
    "ExecuteTime": {
     "end_time": "2020-12-17T15:56:08.647667Z",
     "start_time": "2020-12-17T15:56:08.632854Z"
    }
   },
   "outputs": [
    {
     "data": {
      "text/html": [
       "<div>\n",
       "<style scoped>\n",
       "    .dataframe tbody tr th:only-of-type {\n",
       "        vertical-align: middle;\n",
       "    }\n",
       "\n",
       "    .dataframe tbody tr th {\n",
       "        vertical-align: top;\n",
       "    }\n",
       "\n",
       "    .dataframe thead th {\n",
       "        text-align: right;\n",
       "    }\n",
       "</style>\n",
       "<table border=\"1\" class=\"dataframe\">\n",
       "  <thead>\n",
       "    <tr style=\"text-align: right;\">\n",
       "      <th></th>\n",
       "      <th>ATTR1=1&amp;ATTR2=1</th>\n",
       "      <th>ATTR1=1&amp;ATTR2=2</th>\n",
       "      <th>ATTR1=2&amp;ATTR2=1</th>\n",
       "      <th>ATTR1=2&amp;ATTR2=2</th>\n",
       "      <th>ATTR1=3&amp;ATTR2=1</th>\n",
       "      <th>ATTR1=3&amp;ATTR2=2</th>\n",
       "      <th>ATTR1=4&amp;ATTR2=1</th>\n",
       "      <th>ATTR1=4&amp;ATTR2=2</th>\n",
       "      <th>ModelType</th>\n",
       "    </tr>\n",
       "  </thead>\n",
       "  <tbody>\n",
       "    <tr>\n",
       "      <th>0</th>\n",
       "      <td>4%</td>\n",
       "      <td>8%</td>\n",
       "      <td>0%</td>\n",
       "      <td>2%</td>\n",
       "      <td>71%</td>\n",
       "      <td>9%</td>\n",
       "      <td>5%</td>\n",
       "      <td>1%</td>\n",
       "      <td>lin-lin</td>\n",
       "    </tr>\n",
       "    <tr>\n",
       "      <th>1</th>\n",
       "      <td>4%</td>\n",
       "      <td>7%</td>\n",
       "      <td>0%</td>\n",
       "      <td>0%</td>\n",
       "      <td>0%</td>\n",
       "      <td>0%</td>\n",
       "      <td>75%</td>\n",
       "      <td>14%</td>\n",
       "      <td>log-lin</td>\n",
       "    </tr>\n",
       "    <tr>\n",
       "      <th>2</th>\n",
       "      <td>5%</td>\n",
       "      <td>6%</td>\n",
       "      <td>0%</td>\n",
       "      <td>5%</td>\n",
       "      <td>74%</td>\n",
       "      <td>5%</td>\n",
       "      <td>4%</td>\n",
       "      <td>1%</td>\n",
       "      <td>log-log</td>\n",
       "    </tr>\n",
       "  </tbody>\n",
       "</table>\n",
       "</div>"
      ],
      "text/plain": [
       "  ATTR1=1&ATTR2=1 ATTR1=1&ATTR2=2 ATTR1=2&ATTR2=1 ATTR1=2&ATTR2=2  \\\n",
       "0              4%              8%              0%              2%   \n",
       "1              4%              7%              0%              0%   \n",
       "2              5%              6%              0%              5%   \n",
       "\n",
       "  ATTR1=3&ATTR2=1 ATTR1=3&ATTR2=2 ATTR1=4&ATTR2=1 ATTR1=4&ATTR2=2 ModelType  \n",
       "0             71%              9%              5%              1%   lin-lin  \n",
       "1              0%              0%             75%             14%   log-lin  \n",
       "2             74%              5%              4%              1%   log-log  "
      ]
     },
     "execution_count": 55,
     "metadata": {},
     "output_type": "execute_result"
    }
   ],
   "source": [
    "stats_attr"
   ]
  },
  {
   "cell_type": "code",
   "execution_count": null,
   "metadata": {},
   "outputs": [],
   "source": []
  }
 ],
 "metadata": {
  "kernelspec": {
   "display_name": "Python 3",
   "language": "python",
   "name": "python3"
  },
  "language_info": {
   "codemirror_mode": {
    "name": "ipython",
    "version": 3
   },
   "file_extension": ".py",
   "mimetype": "text/x-python",
   "name": "python",
   "nbconvert_exporter": "python",
   "pygments_lexer": "ipython3",
   "version": "3.7.5"
  }
 },
 "nbformat": 4,
 "nbformat_minor": 4
}
