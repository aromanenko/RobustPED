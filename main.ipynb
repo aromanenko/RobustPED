{
 "cells": [
  {
   "cell_type": "code",
   "execution_count": 1,
   "metadata": {
    "ExecuteTime": {
     "end_time": "2021-01-21T14:52:00.293406Z",
     "start_time": "2021-01-21T14:51:59.129949Z"
    }
   },
   "outputs": [],
   "source": [
    "import pandas as pd\n",
    "import numpy as np\n",
    "import statsmodels.api as sm\n",
    "import matplotlib.pyplot as plt\n",
    "from statsmodels.formula.api import ols"
   ]
  },
  {
   "cell_type": "code",
   "execution_count": 12,
   "metadata": {
    "ExecuteTime": {
     "end_time": "2021-01-21T14:54:46.773956Z",
     "start_time": "2021-01-21T14:54:46.707256Z"
    }
   },
   "outputs": [
    {
     "data": {
      "text/html": [
       "<div>\n",
       "<style scoped>\n",
       "    .dataframe tbody tr th:only-of-type {\n",
       "        vertical-align: middle;\n",
       "    }\n",
       "\n",
       "    .dataframe tbody tr th {\n",
       "        vertical-align: top;\n",
       "    }\n",
       "\n",
       "    .dataframe thead th {\n",
       "        text-align: right;\n",
       "    }\n",
       "</style>\n",
       "<table border=\"1\" class=\"dataframe\">\n",
       "  <thead>\n",
       "    <tr style=\"text-align: right;\">\n",
       "      <th></th>\n",
       "      <th>Store_id</th>\n",
       "      <th>SKU_id</th>\n",
       "      <th>Date</th>\n",
       "      <th>Promo</th>\n",
       "      <th>Demand</th>\n",
       "      <th>Regular_Price</th>\n",
       "      <th>Promo_Price</th>\n",
       "    </tr>\n",
       "  </thead>\n",
       "  <tbody>\n",
       "    <tr>\n",
       "      <th>0</th>\n",
       "      <td>1</td>\n",
       "      <td>1</td>\n",
       "      <td>01.01.2015</td>\n",
       "      <td>NaN</td>\n",
       "      <td>22</td>\n",
       "      <td>163.78</td>\n",
       "      <td>NaN</td>\n",
       "    </tr>\n",
       "    <tr>\n",
       "      <th>1</th>\n",
       "      <td>1</td>\n",
       "      <td>1</td>\n",
       "      <td>02.01.2015</td>\n",
       "      <td>NaN</td>\n",
       "      <td>41</td>\n",
       "      <td>163.78</td>\n",
       "      <td>NaN</td>\n",
       "    </tr>\n",
       "    <tr>\n",
       "      <th>2</th>\n",
       "      <td>1</td>\n",
       "      <td>1</td>\n",
       "      <td>03.01.2015</td>\n",
       "      <td>NaN</td>\n",
       "      <td>35</td>\n",
       "      <td>163.78</td>\n",
       "      <td>NaN</td>\n",
       "    </tr>\n",
       "    <tr>\n",
       "      <th>3</th>\n",
       "      <td>1</td>\n",
       "      <td>1</td>\n",
       "      <td>04.01.2015</td>\n",
       "      <td>NaN</td>\n",
       "      <td>72</td>\n",
       "      <td>163.78</td>\n",
       "      <td>NaN</td>\n",
       "    </tr>\n",
       "    <tr>\n",
       "      <th>4</th>\n",
       "      <td>1</td>\n",
       "      <td>1</td>\n",
       "      <td>05.01.2015</td>\n",
       "      <td>NaN</td>\n",
       "      <td>25</td>\n",
       "      <td>163.78</td>\n",
       "      <td>NaN</td>\n",
       "    </tr>\n",
       "  </tbody>\n",
       "</table>\n",
       "</div>"
      ],
      "text/plain": [
       "   Store_id  SKU_id        Date  Promo  Demand  Regular_Price  Promo_Price\n",
       "0         1       1  01.01.2015    NaN      22         163.78          NaN\n",
       "1         1       1  02.01.2015    NaN      41         163.78          NaN\n",
       "2         1       1  03.01.2015    NaN      35         163.78          NaN\n",
       "3         1       1  04.01.2015    NaN      72         163.78          NaN\n",
       "4         1       1  05.01.2015    NaN      25         163.78          NaN"
      ]
     },
     "execution_count": 12,
     "metadata": {},
     "output_type": "execute_result"
    }
   ],
   "source": [
    "df = pd.read_csv('train.csv', sep=';')\n",
    "df.head(n=5)"
   ]
  },
  {
   "cell_type": "code",
   "execution_count": 4,
   "metadata": {
    "ExecuteTime": {
     "end_time": "2021-01-21T14:52:22.499984Z",
     "start_time": "2021-01-21T14:52:22.496167Z"
    }
   },
   "outputs": [],
   "source": [
    "def transform(x, ttype):\n",
    "    '''\n",
    "    Accepts vector and performs transformation on it based on ttype\n",
    "    '''\n",
    "    if ttype == 'log':\n",
    "        return np.log1p(x)\n",
    "    \n",
    "    return np.array(x)"
   ]
  },
  {
   "cell_type": "code",
   "execution_count": 5,
   "metadata": {
    "ExecuteTime": {
     "end_time": "2021-01-21T14:52:23.022274Z",
     "start_time": "2021-01-21T14:52:23.017773Z"
    }
   },
   "outputs": [],
   "source": [
    "def coef(model):\n",
    "    \"\"\"\n",
    "    return regression coefficient of model\n",
    "    \"\"\"\n",
    "    return model.params[1] if len(model.params) > 1 else model.params[0]\n",
    "\n",
    "def pvalue(model):\n",
    "    \"\"\"\n",
    "    return regression coefficient's t-test p-value of model\n",
    "    \"\"\"\n",
    "    return model.pvalues[1] if len(model.pvalues) > 1 else model.pvalues[0]"
   ]
  },
  {
   "cell_type": "code",
   "execution_count": 6,
   "metadata": {
    "ExecuteTime": {
     "end_time": "2021-01-21T14:52:23.576867Z",
     "start_time": "2021-01-21T14:52:23.572841Z"
    }
   },
   "outputs": [],
   "source": [
    "def elasticity(X, y, model, model_type):\n",
    "    '''\n",
    "    Computes elasticity of model based on X, y, model itself and model's type\n",
    "    '''\n",
    "    if model_type == 'lin-lin':\n",
    "        return coef(model) * np.mean(X) / np.mean(y)\n",
    "    elif model_type == 'log-lin':\n",
    "        return coef(model) * np.mean(X)\n",
    "    elif model_type == 'log-log':\n",
    "        return coef(model)"
   ]
  },
  {
   "cell_type": "code",
   "execution_count": 7,
   "metadata": {
    "ExecuteTime": {
     "end_time": "2021-01-21T14:52:24.335704Z",
     "start_time": "2021-01-21T14:52:24.331592Z"
    }
   },
   "outputs": [],
   "source": [
    "def PEDmodel(X, y, model_type='lin-lin'):\n",
    "    '''\n",
    "    Makes PED model based on input data X, y and model type\n",
    "    '''\n",
    "    _types = model_type.split('-')\n",
    "    \n",
    "    act_x = transform(X, _types[1])\n",
    "    act_x = sm.add_constant(act_x)\n",
    "    \n",
    "    act_y = transform(y, _types[0])\n",
    "    \n",
    "    return sm.OLS(act_y, act_x).fit()"
   ]
  },
  {
   "cell_type": "code",
   "execution_count": 8,
   "metadata": {
    "ExecuteTime": {
     "end_time": "2021-01-21T14:52:25.258767Z",
     "start_time": "2021-01-21T14:52:25.255337Z"
    }
   },
   "outputs": [],
   "source": [
    "def get_model_stats(X, y, model, model_type):\n",
    "    '''\n",
    "    returns model's statistics\n",
    "        regression coefficient,\n",
    "        R-squared,\n",
    "        T-test p-value,\n",
    "        elasticity\n",
    "    '''\n",
    "    elas = elasticity(X, y, model, model_type)\n",
    "    \n",
    "    return coef(model), model.rsquared, pvalue(model), elas"
   ]
  },
  {
   "cell_type": "code",
   "execution_count": 9,
   "metadata": {
    "ExecuteTime": {
     "end_time": "2021-01-21T14:53:37.540095Z",
     "start_time": "2021-01-21T14:53:37.532452Z"
    }
   },
   "outputs": [],
   "source": [
    "def GeneratePEDModels(dataset):\n",
    "    all_model_types = ['lin-lin', 'log-lin', 'log-log']\n",
    "    sku_id, store_id, coeff, rsquared, ttpvalue, elas, mtype = [], [], [], [], [], [], []\n",
    "    qty = []\n",
    "    \n",
    "    for shop_id in dataset.Store_id.unique():\n",
    "        for good_id in dataset.SKU_id.unique():\n",
    "            data = dataset[(dataset.Store_id == shop_id) & (dataset.SKU_id == good_id)]\n",
    "            curQty = data.Demand.sum()\n",
    "            for model_type in all_model_types:\n",
    "                model = PEDmodel(data.Regular_Price, data.Demand, model_type)\n",
    "\n",
    "                c, r2, tp, e = get_model_stats(data.Regular_Price, data.Demand, model, model_type)\n",
    "\n",
    "                sku_id.append(good_id)\n",
    "                store_id.append(shop_id)\n",
    "                coeff.append(c)\n",
    "                rsquared.append(r2)\n",
    "                ttpvalue.append(tp)\n",
    "                elas.append(e)\n",
    "                mtype.append(model_type)\n",
    "                qty.append(curQty)\n",
    "    \n",
    "    return pd.DataFrame({\n",
    "        'SKU': sku_id,\n",
    "        'Store': store_id,\n",
    "        'Coefficient': coeff,\n",
    "        'R-squared': rsquared,\n",
    "        'T-test-p-value': ttpvalue,\n",
    "        'Model-type': mtype,\n",
    "        'Elasticity': elas,\n",
    "        'Qty': qty\n",
    "    })"
   ]
  },
  {
   "cell_type": "code",
   "execution_count": 14,
   "metadata": {
    "ExecuteTime": {
     "end_time": "2021-01-21T15:04:12.189189Z",
     "start_time": "2021-01-21T15:04:12.181261Z"
    }
   },
   "outputs": [],
   "source": [
    "def PEDModelsStats(\n",
    "    stats,\n",
    "    adequate_elasticity=(-10, 0),\n",
    "    adequate_p_value=(0, 0.05),\n",
    "    all_model_types=['lin-lin', 'log-lin', 'log-log']\n",
    "):\n",
    "    elasticity_min, elasticity_max = adequate_elasticity\n",
    "    p_value_min, p_value_max = adequate_p_value\n",
    "    \n",
    "    result = pd.DataFrame()\n",
    "    result['ModelType'] = all_model_types\n",
    "\n",
    "    percents_id = []\n",
    "    percents_qty = []\n",
    "    \n",
    "    for model_type in all_model_types:\n",
    "        stats_model_type = stats[stats['Model-type'] == model_type]\n",
    "\n",
    "        stats_attrs = stats_model_type[\n",
    "            (stats_model_type.Elasticity >= elasticity_min) &\n",
    "            (stats_model_type.Elasticity <= elasticity_max)\n",
    "        ]\n",
    "        stats_attrs = stats_attrs[\n",
    "            (stats_attrs['T-test-p-value'] >= p_value_min) &\n",
    "            (stats_attrs['T-test-p-value'] <= p_value_max)\n",
    "        ]\n",
    "\n",
    "        percents_id.append(round(stats_attrs.shape[0] / stats_model_type.shape[0], 2))\n",
    "        percents_qty.append(round(stats_attrs.Qty.sum() / stats_model_type.Qty.sum(), 2))\n",
    "\n",
    "    percents_id = [f'{int(p * 100)}%' for p in percents_id]\n",
    "    percents_qty = [f'{int(p * 100)}%' for p in percents_qty]\n",
    "    \n",
    "    \n",
    "    result['Процент адекватных моделей относительно ID'] = percents_id\n",
    "    result['Процент адекватных моделей относительно Qty'] = percents_qty\n",
    "\n",
    "    \n",
    "    return result"
   ]
  },
  {
   "cell_type": "code",
   "execution_count": 15,
   "metadata": {
    "ExecuteTime": {
     "end_time": "2021-01-21T15:04:15.409624Z",
     "start_time": "2021-01-21T15:04:13.031963Z"
    }
   },
   "outputs": [
    {
     "data": {
      "text/html": [
       "<div>\n",
       "<style scoped>\n",
       "    .dataframe tbody tr th:only-of-type {\n",
       "        vertical-align: middle;\n",
       "    }\n",
       "\n",
       "    .dataframe tbody tr th {\n",
       "        vertical-align: top;\n",
       "    }\n",
       "\n",
       "    .dataframe thead th {\n",
       "        text-align: right;\n",
       "    }\n",
       "</style>\n",
       "<table border=\"1\" class=\"dataframe\">\n",
       "  <thead>\n",
       "    <tr style=\"text-align: right;\">\n",
       "      <th></th>\n",
       "      <th>ModelType</th>\n",
       "      <th>Процент адекватных моделей относительно ID</th>\n",
       "      <th>Процент адекватных моделей относительно Qty</th>\n",
       "    </tr>\n",
       "  </thead>\n",
       "  <tbody>\n",
       "    <tr>\n",
       "      <th>0</th>\n",
       "      <td>lin-lin</td>\n",
       "      <td>71%</td>\n",
       "      <td>92%</td>\n",
       "    </tr>\n",
       "    <tr>\n",
       "      <th>1</th>\n",
       "      <td>log-lin</td>\n",
       "      <td>74%</td>\n",
       "      <td>93%</td>\n",
       "    </tr>\n",
       "    <tr>\n",
       "      <th>2</th>\n",
       "      <td>log-log</td>\n",
       "      <td>74%</td>\n",
       "      <td>93%</td>\n",
       "    </tr>\n",
       "  </tbody>\n",
       "</table>\n",
       "</div>"
      ],
      "text/plain": [
       "  ModelType Процент адекватных моделей относительно ID  \\\n",
       "0   lin-lin                                        71%   \n",
       "1   log-lin                                        74%   \n",
       "2   log-log                                        74%   \n",
       "\n",
       "  Процент адекватных моделей относительно Qty  \n",
       "0                                         92%  \n",
       "1                                         93%  \n",
       "2                                         93%  "
      ]
     },
     "execution_count": 15,
     "metadata": {},
     "output_type": "execute_result"
    }
   ],
   "source": [
    "'''TODO:Calcilate a statistics based on PED models\n",
    "amount of elements the following attributes:\n",
    "ATTRIBUTE 1 values: 1) 0<=x, 2) -10<=x<-1, 3) x<-10\n",
    "ATTRIBUTE 2: 1) p-value < 0.05, 2) p-value >= 0.05\n",
    "\n",
    "E.g. \n",
    "for each pair attribute1 x  attribute2 provide (6 pairs in total)\n",
    "   -share of samples (PED models) \n",
    "   with this attribute value.\n",
    "   \n",
    "Example of output table\n",
    "\n",
    "ModelType   ATTR1=1&ATTR2=1  ATTR1=1&ATTR2=2  ATTR1=2&ATTR2=1  ATTR1=2&ATTR2=2  ATTR1=3&ATTR2=1  ATTR1=3&ATTR2=2\n",
    "LIn-Lin          1%                2%              10%                 59%              20%             8%\n",
    "Log-Lin          1%                2%              10%                 59%              20%             8%\n",
    "Log-Log          1%                2%              10%                 59%              20%             8%\n",
    "'''\n",
    "\n",
    "PEDModelsStats(GeneratePEDModels(df))"
   ]
  },
  {
   "cell_type": "code",
   "execution_count": 181,
   "metadata": {
    "ExecuteTime": {
     "end_time": "2021-01-20T17:59:22.761277Z",
     "start_time": "2021-01-20T17:59:22.752699Z"
    }
   },
   "outputs": [],
   "source": [
    "def PlotSampleSizeElasticityRelation(\n",
    "    data,\n",
    "    all_model_types=['lin-lin', 'log-lin', 'log-log']\n",
    "):    \n",
    "    _, popular_store_id, popular_sku_id = max(\n",
    "        (data[(data.Store_id == store_id) & (data.SKU_id == sku_id)].shape[0], store_id, sku_id)\n",
    "        for store_id in data.Store_id.unique()\n",
    "        for sku_id in data.SKU_id.unique()\n",
    "    )\n",
    "    \n",
    "    stats = data[(data.Store_id == popular_store_id) & (data.SKU_id == popular_sku_id)]\n",
    "    sizes = np.linspace(10, stats.shape[0], num=30, dtype=int)\n",
    "    \n",
    "    resulting_stats = {model_type: [] for model_type in all_model_types}\n",
    "    \n",
    "    # calculating stats\n",
    "    for current_size in sizes:\n",
    "        for model_type in all_model_types:\n",
    "            sampled = stats.sample(n=current_size)\n",
    "            ped_model = PEDmodel(sampled.Regular_Price, sampled.Demand, model_type)\n",
    "            _, _, _, elas = get_model_stats(sampled.Regular_Price, sampled.Demand, ped_model, model_type)\n",
    "            \n",
    "            resulting_stats[model_type].append(elas)\n",
    "\n",
    "    # plotting\n",
    "    plt.figure(figsize=(14, 8))\n",
    "    for model_type in all_model_types:\n",
    "        plt.plot(sizes, resulting_stats[model_type], label=model_type)\n",
    "    plt.ylabel('Эластичность')\n",
    "    plt.xlabel('Размер сэмпла')\n",
    "    plt.legend()"
   ]
  },
  {
   "cell_type": "code",
   "execution_count": 182,
   "metadata": {
    "ExecuteTime": {
     "end_time": "2021-01-20T17:59:24.426743Z",
     "start_time": "2021-01-20T17:59:23.606569Z"
    }
   },
   "outputs": [
    {
     "data": {
      "image/png": "[encoded data removed]",
      "text/plain": [
       "<Figure size 1008x576 with 1 Axes>"
      ]
     },
     "metadata": {
      "needs_background": "light"
     },
     "output_type": "display_data"
    }
   ],
   "source": [
    "PlotSampleSizeElasticityRelation(df)"
   ]
  },
  {
   "cell_type": "code",
   "execution_count": null,
   "metadata": {},
   "outputs": [],
   "source": []
  }
 ],
 "metadata": {
  "kernelspec": {
   "display_name": "Python 3",
   "language": "python",
   "name": "python3"
  },
  "language_info": {
   "codemirror_mode": {
    "name": "ipython",
    "version": 3
   },
   "file_extension": ".py",
   "mimetype": "text/x-python",
   "name": "python",
   "nbconvert_exporter": "python",
   "pygments_lexer": "ipython3",
   "version": "3.7.5"
  }
 },
 "nbformat": 4,
 "nbformat_minor": 4
}
