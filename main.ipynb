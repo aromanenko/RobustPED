{
 "cells": [
  {
   "cell_type": "code",
   "execution_count": 9,
   "metadata": {
    "ExecuteTime": {
     "end_time": "2020-12-13T23:12:34.903212Z",
     "start_time": "2020-12-13T23:12:34.566680Z"
    }
   },
   "outputs": [],
   "source": [
    "import pandas as pd\n",
    "import numpy as np\n",
    "import statsmodels.api as sm\n",
    "from statsmodels.formula.api import ols "
   ]
  },
  {
   "cell_type": "code",
   "execution_count": 5,
   "metadata": {
    "ExecuteTime": {
     "end_time": "2020-12-13T23:09:05.102507Z",
     "start_time": "2020-12-13T23:09:05.036560Z"
    }
   },
   "outputs": [
    {
     "name": "stdout",
     "output_type": "stream",
     "text": [
      "<class 'pandas.core.frame.DataFrame'>\n",
      "RangeIndex: 86916 entries, 0 to 86915\n",
      "Data columns (total 7 columns):\n",
      " #   Column         Non-Null Count  Dtype  \n",
      "---  ------         --------------  -----  \n",
      " 0   Store_id       86916 non-null  int64  \n",
      " 1   SKU_id         86916 non-null  int64  \n",
      " 2   Date           86916 non-null  object \n",
      " 3   Promo          15349 non-null  float64\n",
      " 4   Demand         86916 non-null  int64  \n",
      " 5   Regular_Price  86916 non-null  float64\n",
      " 6   Promo_Price    15349 non-null  float64\n",
      "dtypes: float64(3), int64(3), object(1)\n",
      "memory usage: 4.6+ MB\n"
     ]
    }
   ],
   "source": [
    "df = pd.read_csv('train.csv', sep=';')\n",
    "df.info()"
   ]
  },
  {
   "cell_type": "code",
   "execution_count": 6,
   "metadata": {
    "ExecuteTime": {
     "end_time": "2020-12-13T23:09:06.861967Z",
     "start_time": "2020-12-13T23:09:06.849649Z"
    }
   },
   "outputs": [
    {
     "data": {
      "text/html": [
       "<div>\n",
       "<style scoped>\n",
       "    .dataframe tbody tr th:only-of-type {\n",
       "        vertical-align: middle;\n",
       "    }\n",
       "\n",
       "    .dataframe tbody tr th {\n",
       "        vertical-align: top;\n",
       "    }\n",
       "\n",
       "    .dataframe thead th {\n",
       "        text-align: right;\n",
       "    }\n",
       "</style>\n",
       "<table border=\"1\" class=\"dataframe\">\n",
       "  <thead>\n",
       "    <tr style=\"text-align: right;\">\n",
       "      <th></th>\n",
       "      <th>Store_id</th>\n",
       "      <th>SKU_id</th>\n",
       "      <th>Date</th>\n",
       "      <th>Promo</th>\n",
       "      <th>Demand</th>\n",
       "      <th>Regular_Price</th>\n",
       "      <th>Promo_Price</th>\n",
       "    </tr>\n",
       "  </thead>\n",
       "  <tbody>\n",
       "    <tr>\n",
       "      <th>0</th>\n",
       "      <td>1</td>\n",
       "      <td>1</td>\n",
       "      <td>01.01.2015</td>\n",
       "      <td>NaN</td>\n",
       "      <td>22</td>\n",
       "      <td>163.78</td>\n",
       "      <td>NaN</td>\n",
       "    </tr>\n",
       "    <tr>\n",
       "      <th>1</th>\n",
       "      <td>1</td>\n",
       "      <td>1</td>\n",
       "      <td>02.01.2015</td>\n",
       "      <td>NaN</td>\n",
       "      <td>41</td>\n",
       "      <td>163.78</td>\n",
       "      <td>NaN</td>\n",
       "    </tr>\n",
       "    <tr>\n",
       "      <th>2</th>\n",
       "      <td>1</td>\n",
       "      <td>1</td>\n",
       "      <td>03.01.2015</td>\n",
       "      <td>NaN</td>\n",
       "      <td>35</td>\n",
       "      <td>163.78</td>\n",
       "      <td>NaN</td>\n",
       "    </tr>\n",
       "    <tr>\n",
       "      <th>3</th>\n",
       "      <td>1</td>\n",
       "      <td>1</td>\n",
       "      <td>04.01.2015</td>\n",
       "      <td>NaN</td>\n",
       "      <td>72</td>\n",
       "      <td>163.78</td>\n",
       "      <td>NaN</td>\n",
       "    </tr>\n",
       "    <tr>\n",
       "      <th>4</th>\n",
       "      <td>1</td>\n",
       "      <td>1</td>\n",
       "      <td>05.01.2015</td>\n",
       "      <td>NaN</td>\n",
       "      <td>25</td>\n",
       "      <td>163.78</td>\n",
       "      <td>NaN</td>\n",
       "    </tr>\n",
       "  </tbody>\n",
       "</table>\n",
       "</div>"
      ],
      "text/plain": [
       "   Store_id  SKU_id        Date  Promo  Demand  Regular_Price  Promo_Price\n",
       "0         1       1  01.01.2015    NaN      22         163.78          NaN\n",
       "1         1       1  02.01.2015    NaN      41         163.78          NaN\n",
       "2         1       1  03.01.2015    NaN      35         163.78          NaN\n",
       "3         1       1  04.01.2015    NaN      72         163.78          NaN\n",
       "4         1       1  05.01.2015    NaN      25         163.78          NaN"
      ]
     },
     "execution_count": 6,
     "metadata": {},
     "output_type": "execute_result"
    }
   ],
   "source": [
    "df.head(n=5)"
   ]
  },
  {
   "cell_type": "code",
   "execution_count": 7,
   "metadata": {
    "ExecuteTime": {
     "end_time": "2020-12-13T23:09:32.463218Z",
     "start_time": "2020-12-13T23:09:32.456834Z"
    }
   },
   "outputs": [
    {
     "data": {
      "text/plain": [
       "array([  1,   2,   3,   4,   5,   6,   7,   8,   9,  10,  11,  12,  13,\n",
       "        14,  15,  16,  17,  18,  19,  20,  21,  22,  23,  24,  25,  26,\n",
       "        27,  28,  29,  30,  31,  32,  33,  34,  35,  36,  37,  38,  39,\n",
       "        40,  41,  42,  43,  44,  45,  46,  47,  48,  49,  50,  51,  52,\n",
       "        53,  54,  55,  56,  57,  58,  59,  60,  61,  62,  63,  64,  65,\n",
       "        66,  67,  68,  69,  70,  71,  72,  73,  74,  75,  76,  77,  78,\n",
       "        79,  80,  81,  82,  83,  84,  85,  86,  87,  88,  89,  90,  91,\n",
       "        92,  93,  94,  95,  96,  97,  98,  99, 100, 104, 105, 106])"
      ]
     },
     "execution_count": 7,
     "metadata": {},
     "output_type": "execute_result"
    }
   ],
   "source": [
    "df.Store_id.unique()"
   ]
  },
  {
   "cell_type": "code",
   "execution_count": 8,
   "metadata": {
    "ExecuteTime": {
     "end_time": "2020-12-13T23:09:44.878673Z",
     "start_time": "2020-12-13T23:09:44.873522Z"
    }
   },
   "outputs": [
    {
     "data": {
      "text/plain": [
       "array([1, 2])"
      ]
     },
     "execution_count": 8,
     "metadata": {},
     "output_type": "execute_result"
    }
   ],
   "source": [
    "df.SKU_id.unique()"
   ]
  },
  {
   "cell_type": "code",
   "execution_count": 49,
   "metadata": {
    "ExecuteTime": {
     "end_time": "2020-12-13T23:51:29.795456Z",
     "start_time": "2020-12-13T23:51:29.792091Z"
    }
   },
   "outputs": [],
   "source": [
    "def transform(x, ttype):\n",
    "    if ttype == 'log':\n",
    "        return np.log1p(x)\n",
    "    \n",
    "    return np.array(x)"
   ]
  },
  {
   "cell_type": "code",
   "execution_count": 50,
   "metadata": {
    "ExecuteTime": {
     "end_time": "2020-12-13T23:51:30.008608Z",
     "start_time": "2020-12-13T23:51:30.004542Z"
    }
   },
   "outputs": [],
   "source": [
    "def elasticity(X, y, model, model_type):\n",
    "    if model_type == 'lin-lin':\n",
    "        return model.params[1] * np.mean(X) / np.mean(y)\n",
    "    elif model_type == 'log-lin':\n",
    "        return model.params[1] * np.mean(X)\n",
    "    elif model_type == 'log-log':\n",
    "        return model.params[1]"
   ]
  },
  {
   "cell_type": "code",
   "execution_count": 51,
   "metadata": {
    "ExecuteTime": {
     "end_time": "2020-12-13T23:51:30.247126Z",
     "start_time": "2020-12-13T23:51:30.242811Z"
    }
   },
   "outputs": [],
   "source": [
    "def PEDmodel(X, y, model_type='lin-lin'):\n",
    "    _types = model_type.split('-')\n",
    "    \n",
    "    data = pd.DataFrame()\n",
    "    data['Act_Price'] = transform(X, _types[0])\n",
    "    data['Act_Demand'] = transform(y, _types[1])\n",
    "    \n",
    "    return ols('Act_Demand ~ Act_Price', data=data).fit()"
   ]
  },
  {
   "cell_type": "code",
   "execution_count": 55,
   "metadata": {
    "ExecuteTime": {
     "end_time": "2020-12-13T23:51:43.256472Z",
     "start_time": "2020-12-13T23:51:43.252264Z"
    }
   },
   "outputs": [],
   "source": [
    "def get_model_stats(X, y, model, model_type):\n",
    "    regr_coeff = model.params[1]\n",
    "    r2 = model.rsquared\n",
    "    t_test_p_value = model.pvalues[1]\n",
    "    elas = elasticity(X, y, model, model_type)\n",
    "    \n",
    "    return regr_coeff, r2, t_test_p_value, elas"
   ]
  },
  {
   "cell_type": "code",
   "execution_count": 68,
   "metadata": {
    "ExecuteTime": {
     "end_time": "2020-12-13T23:57:53.515798Z",
     "start_time": "2020-12-13T23:57:53.511771Z"
    }
   },
   "outputs": [],
   "source": [
    "num_of_stores = 25\n",
    "num_of_goods = 2\n",
    "all_model_types = ['lin-lin', 'log-lin', 'log-log']\n",
    "\n",
    "sku_id, store_id, coeff, rsquared, ttpvalue, elas, mtype = [], [], [], [], [], [], []"
   ]
  },
  {
   "cell_type": "code",
   "execution_count": 57,
   "metadata": {
    "ExecuteTime": {
     "end_time": "2020-12-13T23:51:45.386496Z",
     "start_time": "2020-12-13T23:51:44.070561Z"
    }
   },
   "outputs": [],
   "source": [
    "for shop_id in range(1, num_of_stores + 1):\n",
    "    for good_id in range(1, num_of_goods + 1):\n",
    "        data = df[(df.Store_id == shop_id) & (df.SKU_id == good_id)]\n",
    "        for model_type in all_model_types:\n",
    "            model = PEDmodel(data.Regular_Price, data.Demand, model_type)\n",
    "            \n",
    "            c, r2, tp, e = get_model_stats(data.Regular_Price, data.Demand, model, model_type)\n",
    "            \n",
    "            sku_id.append(good_id)\n",
    "            store_id.append(shop_id)\n",
    "            coeff.append(c)\n",
    "            rsquared.append(r2)\n",
    "            ttpvalue.append(tp)\n",
    "            elas.append(e)\n",
    "            mtype.append(model_type)"
   ]
  },
  {
   "cell_type": "code",
   "execution_count": 59,
   "metadata": {
    "ExecuteTime": {
     "end_time": "2020-12-13T23:52:03.704943Z",
     "start_time": "2020-12-13T23:52:03.684057Z"
    }
   },
   "outputs": [
    {
     "data": {
      "text/html": [
       "<div>\n",
       "<style scoped>\n",
       "    .dataframe tbody tr th:only-of-type {\n",
       "        vertical-align: middle;\n",
       "    }\n",
       "\n",
       "    .dataframe tbody tr th {\n",
       "        vertical-align: top;\n",
       "    }\n",
       "\n",
       "    .dataframe thead th {\n",
       "        text-align: right;\n",
       "    }\n",
       "</style>\n",
       "<table border=\"1\" class=\"dataframe\">\n",
       "  <thead>\n",
       "    <tr style=\"text-align: right;\">\n",
       "      <th></th>\n",
       "      <th>SKU</th>\n",
       "      <th>Store</th>\n",
       "      <th>Coefficient</th>\n",
       "      <th>R-squared</th>\n",
       "      <th>T-test-p-value</th>\n",
       "      <th>Model-type</th>\n",
       "      <th>Elasticity</th>\n",
       "    </tr>\n",
       "  </thead>\n",
       "  <tbody>\n",
       "    <tr>\n",
       "      <th>0</th>\n",
       "      <td>1</td>\n",
       "      <td>1</td>\n",
       "      <td>-4.603284</td>\n",
       "      <td>0.017688</td>\n",
       "      <td>2.668840e-03</td>\n",
       "      <td>lin-lin</td>\n",
       "      <td>-2.415556</td>\n",
       "    </tr>\n",
       "    <tr>\n",
       "      <th>1</th>\n",
       "      <td>1</td>\n",
       "      <td>1</td>\n",
       "      <td>-641.602207</td>\n",
       "      <td>0.016695</td>\n",
       "      <td>3.530984e-03</td>\n",
       "      <td>log-lin</td>\n",
       "      <td>-87715.319562</td>\n",
       "    </tr>\n",
       "    <tr>\n",
       "      <th>2</th>\n",
       "      <td>1</td>\n",
       "      <td>1</td>\n",
       "      <td>-2.817601</td>\n",
       "      <td>0.052010</td>\n",
       "      <td>2.034887e-07</td>\n",
       "      <td>log-log</td>\n",
       "      <td>-2.817601</td>\n",
       "    </tr>\n",
       "    <tr>\n",
       "      <th>3</th>\n",
       "      <td>2</td>\n",
       "      <td>1</td>\n",
       "      <td>-0.815663</td>\n",
       "      <td>0.036251</td>\n",
       "      <td>1.557856e-05</td>\n",
       "      <td>lin-lin</td>\n",
       "      <td>-7.901477</td>\n",
       "    </tr>\n",
       "    <tr>\n",
       "      <th>4</th>\n",
       "      <td>2</td>\n",
       "      <td>1</td>\n",
       "      <td>-118.130766</td>\n",
       "      <td>0.036146</td>\n",
       "      <td>1.603605e-05</td>\n",
       "      <td>log-lin</td>\n",
       "      <td>-16852.186267</td>\n",
       "    </tr>\n",
       "    <tr>\n",
       "      <th>...</th>\n",
       "      <td>...</td>\n",
       "      <td>...</td>\n",
       "      <td>...</td>\n",
       "      <td>...</td>\n",
       "      <td>...</td>\n",
       "      <td>...</td>\n",
       "      <td>...</td>\n",
       "    </tr>\n",
       "    <tr>\n",
       "      <th>145</th>\n",
       "      <td>1</td>\n",
       "      <td>25</td>\n",
       "      <td>-742.802653</td>\n",
       "      <td>0.032546</td>\n",
       "      <td>4.319097e-05</td>\n",
       "      <td>log-lin</td>\n",
       "      <td>-101550.729367</td>\n",
       "    </tr>\n",
       "    <tr>\n",
       "      <th>146</th>\n",
       "      <td>1</td>\n",
       "      <td>25</td>\n",
       "      <td>-4.188820</td>\n",
       "      <td>0.093397</td>\n",
       "      <td>1.918895e-12</td>\n",
       "      <td>log-log</td>\n",
       "      <td>-4.188820</td>\n",
       "    </tr>\n",
       "    <tr>\n",
       "      <th>147</th>\n",
       "      <td>2</td>\n",
       "      <td>25</td>\n",
       "      <td>0.617931</td>\n",
       "      <td>0.016765</td>\n",
       "      <td>3.461552e-03</td>\n",
       "      <td>lin-lin</td>\n",
       "      <td>6.913541</td>\n",
       "    </tr>\n",
       "    <tr>\n",
       "      <th>148</th>\n",
       "      <td>2</td>\n",
       "      <td>25</td>\n",
       "      <td>91.320137</td>\n",
       "      <td>0.017947</td>\n",
       "      <td>2.481004e-03</td>\n",
       "      <td>log-lin</td>\n",
       "      <td>12572.257162</td>\n",
       "    </tr>\n",
       "    <tr>\n",
       "      <th>149</th>\n",
       "      <td>2</td>\n",
       "      <td>25</td>\n",
       "      <td>8.314763</td>\n",
       "      <td>0.047934</td>\n",
       "      <td>6.259393e-07</td>\n",
       "      <td>log-log</td>\n",
       "      <td>8.314763</td>\n",
       "    </tr>\n",
       "  </tbody>\n",
       "</table>\n",
       "<p>150 rows × 7 columns</p>\n",
       "</div>"
      ],
      "text/plain": [
       "     SKU  Store  Coefficient  R-squared  T-test-p-value Model-type  \\\n",
       "0      1      1    -4.603284   0.017688    2.668840e-03    lin-lin   \n",
       "1      1      1  -641.602207   0.016695    3.530984e-03    log-lin   \n",
       "2      1      1    -2.817601   0.052010    2.034887e-07    log-log   \n",
       "3      2      1    -0.815663   0.036251    1.557856e-05    lin-lin   \n",
       "4      2      1  -118.130766   0.036146    1.603605e-05    log-lin   \n",
       "..   ...    ...          ...        ...             ...        ...   \n",
       "145    1     25  -742.802653   0.032546    4.319097e-05    log-lin   \n",
       "146    1     25    -4.188820   0.093397    1.918895e-12    log-log   \n",
       "147    2     25     0.617931   0.016765    3.461552e-03    lin-lin   \n",
       "148    2     25    91.320137   0.017947    2.481004e-03    log-lin   \n",
       "149    2     25     8.314763   0.047934    6.259393e-07    log-log   \n",
       "\n",
       "        Elasticity  \n",
       "0        -2.415556  \n",
       "1    -87715.319562  \n",
       "2        -2.817601  \n",
       "3        -7.901477  \n",
       "4    -16852.186267  \n",
       "..             ...  \n",
       "145 -101550.729367  \n",
       "146      -4.188820  \n",
       "147       6.913541  \n",
       "148   12572.257162  \n",
       "149       8.314763  \n",
       "\n",
       "[150 rows x 7 columns]"
      ]
     },
     "execution_count": 59,
     "metadata": {},
     "output_type": "execute_result"
    }
   ],
   "source": [
    "stats = pd.DataFrame({\n",
    "    'SKU': sku_id,\n",
    "    'Store': store_id,\n",
    "    'Coefficient': coeff,\n",
    "    'R-squared': rsquared,\n",
    "    'T-test-p-value': ttpvalue,\n",
    "    'Model-type': mtype,\n",
    "    'Elasticity': elas\n",
    "})\n",
    "stats"
   ]
  },
  {
   "cell_type": "code",
   "execution_count": 66,
   "metadata": {
    "ExecuteTime": {
     "end_time": "2020-12-13T23:57:31.179483Z",
     "start_time": "2020-12-13T23:57:31.171942Z"
    }
   },
   "outputs": [
    {
     "name": "stdout",
     "output_type": "stream",
     "text": [
      "Number of elasticities < 0 =  46\n",
      "Number of elasticities > 0 =  4\n"
     ]
    }
   ],
   "source": [
    "stats = stats[stats['Model-type'] == 'log-log']\n",
    "\n",
    "print('Number of elasticities < 0 = ', stats[stats.Elasticity < 0].shape[0])\n",
    "print('Number of elasticities > 0 = ', stats[stats.Elasticity > 0].shape[0])"
   ]
  },
  {
   "cell_type": "code",
   "execution_count": 67,
   "metadata": {
    "ExecuteTime": {
     "end_time": "2020-12-13T23:57:33.346288Z",
     "start_time": "2020-12-13T23:57:33.341446Z"
    }
   },
   "outputs": [
    {
     "name": "stdout",
     "output_type": "stream",
     "text": [
      "Mean of elasticity =  -4.110478092933559\n"
     ]
    }
   ],
   "source": [
    "print('Mean of elasticity = ', stats.Elasticity.mean())"
   ]
  },
  {
   "cell_type": "code",
   "execution_count": null,
   "metadata": {},
   "outputs": [],
   "source": []
  }
 ],
 "metadata": {
  "kernelspec": {
   "display_name": "Python 3",
   "language": "python",
   "name": "python3"
  },
  "language_info": {
   "codemirror_mode": {
    "name": "ipython",
    "version": 3
   },
   "file_extension": ".py",
   "mimetype": "text/x-python",
   "name": "python",
   "nbconvert_exporter": "python",
   "pygments_lexer": "ipython3",
   "version": "3.7.5"
  }
 },
 "nbformat": 4,
 "nbformat_minor": 4
}
