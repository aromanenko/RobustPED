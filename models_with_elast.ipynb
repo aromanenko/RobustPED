{
 "cells": [
  {
   "cell_type": "code",
   "execution_count": 1,
   "metadata": {
    "ExecuteTime": {
     "end_time": "2021-05-06T07:51:55.063861Z",
     "start_time": "2021-05-06T07:51:52.824190Z"
    }
   },
   "outputs": [],
   "source": [
    "import pandas as pd\n",
    "import numpy as np\n",
    "import statsmodels.api as sm\n",
    "import matplotlib.pyplot as plt\n",
    "import gc\n",
    "import sys\n",
    "from statsmodels.formula.api import ols\n",
    "from IPython.display import clear_output\n",
    "from numba import njit, jit"
   ]
  },
  {
   "cell_type": "code",
   "execution_count": 2,
   "metadata": {
    "ExecuteTime": {
     "end_time": "2021-05-06T07:52:50.819630Z",
     "start_time": "2021-05-06T07:52:00.048298Z"
    }
   },
   "outputs": [],
   "source": [
    "df = pd.read_csv('SALES_2019.csv', parse_dates=['Date'])"
   ]
  },
  {
   "cell_type": "code",
   "execution_count": 3,
   "metadata": {
    "ExecuteTime": {
     "end_time": "2021-05-06T07:52:52.389574Z",
     "start_time": "2021-05-06T07:52:52.364078Z"
    }
   },
   "outputs": [
    {
     "data": {
      "text/html": [
       "<div>\n",
       "<style scoped>\n",
       "    .dataframe tbody tr th:only-of-type {\n",
       "        vertical-align: middle;\n",
       "    }\n",
       "\n",
       "    .dataframe tbody tr th {\n",
       "        vertical-align: top;\n",
       "    }\n",
       "\n",
       "    .dataframe thead th {\n",
       "        text-align: right;\n",
       "    }\n",
       "</style>\n",
       "<table border=\"1\" class=\"dataframe\">\n",
       "  <thead>\n",
       "    <tr style=\"text-align: right;\">\n",
       "      <th></th>\n",
       "      <th>SKU_ID</th>\n",
       "      <th>Store_ID</th>\n",
       "      <th>Date</th>\n",
       "      <th>Demand</th>\n",
       "      <th>Regular_Price</th>\n",
       "    </tr>\n",
       "  </thead>\n",
       "  <tbody>\n",
       "    <tr>\n",
       "      <th>0</th>\n",
       "      <td>114</td>\n",
       "      <td>1078</td>\n",
       "      <td>2019-01-01</td>\n",
       "      <td>2.0</td>\n",
       "      <td>51.0</td>\n",
       "    </tr>\n",
       "    <tr>\n",
       "      <th>1</th>\n",
       "      <td>114</td>\n",
       "      <td>1078</td>\n",
       "      <td>2019-01-02</td>\n",
       "      <td>2.0</td>\n",
       "      <td>51.0</td>\n",
       "    </tr>\n",
       "    <tr>\n",
       "      <th>2</th>\n",
       "      <td>114</td>\n",
       "      <td>1078</td>\n",
       "      <td>2019-01-03</td>\n",
       "      <td>2.0</td>\n",
       "      <td>51.0</td>\n",
       "    </tr>\n",
       "    <tr>\n",
       "      <th>3</th>\n",
       "      <td>114</td>\n",
       "      <td>1078</td>\n",
       "      <td>2019-01-04</td>\n",
       "      <td>2.0</td>\n",
       "      <td>51.0</td>\n",
       "    </tr>\n",
       "    <tr>\n",
       "      <th>4</th>\n",
       "      <td>114</td>\n",
       "      <td>1078</td>\n",
       "      <td>2019-01-05</td>\n",
       "      <td>2.0</td>\n",
       "      <td>51.0</td>\n",
       "    </tr>\n",
       "    <tr>\n",
       "      <th>...</th>\n",
       "      <td>...</td>\n",
       "      <td>...</td>\n",
       "      <td>...</td>\n",
       "      <td>...</td>\n",
       "      <td>...</td>\n",
       "    </tr>\n",
       "    <tr>\n",
       "      <th>75549757</th>\n",
       "      <td>363971</td>\n",
       "      <td>2866</td>\n",
       "      <td>2019-12-25</td>\n",
       "      <td>2.0</td>\n",
       "      <td>104.0</td>\n",
       "    </tr>\n",
       "    <tr>\n",
       "      <th>75549758</th>\n",
       "      <td>363971</td>\n",
       "      <td>2866</td>\n",
       "      <td>2019-12-26</td>\n",
       "      <td>2.0</td>\n",
       "      <td>104.0</td>\n",
       "    </tr>\n",
       "    <tr>\n",
       "      <th>75549759</th>\n",
       "      <td>363971</td>\n",
       "      <td>2866</td>\n",
       "      <td>2019-12-27</td>\n",
       "      <td>2.0</td>\n",
       "      <td>104.0</td>\n",
       "    </tr>\n",
       "    <tr>\n",
       "      <th>75549760</th>\n",
       "      <td>363971</td>\n",
       "      <td>2866</td>\n",
       "      <td>2019-12-28</td>\n",
       "      <td>2.0</td>\n",
       "      <td>104.0</td>\n",
       "    </tr>\n",
       "    <tr>\n",
       "      <th>75549761</th>\n",
       "      <td>363971</td>\n",
       "      <td>2866</td>\n",
       "      <td>2019-12-29</td>\n",
       "      <td>2.0</td>\n",
       "      <td>104.0</td>\n",
       "    </tr>\n",
       "  </tbody>\n",
       "</table>\n",
       "<p>75549762 rows × 5 columns</p>\n",
       "</div>"
      ],
      "text/plain": [
       "          SKU_ID  Store_ID       Date  Demand  Regular_Price\n",
       "0            114      1078 2019-01-01     2.0           51.0\n",
       "1            114      1078 2019-01-02     2.0           51.0\n",
       "2            114      1078 2019-01-03     2.0           51.0\n",
       "3            114      1078 2019-01-04     2.0           51.0\n",
       "4            114      1078 2019-01-05     2.0           51.0\n",
       "...          ...       ...        ...     ...            ...\n",
       "75549757  363971      2866 2019-12-25     2.0          104.0\n",
       "75549758  363971      2866 2019-12-26     2.0          104.0\n",
       "75549759  363971      2866 2019-12-27     2.0          104.0\n",
       "75549760  363971      2866 2019-12-28     2.0          104.0\n",
       "75549761  363971      2866 2019-12-29     2.0          104.0\n",
       "\n",
       "[75549762 rows x 5 columns]"
      ]
     },
     "execution_count": 3,
     "metadata": {},
     "output_type": "execute_result"
    }
   ],
   "source": [
    "df"
   ]
  },
  {
   "cell_type": "code",
   "execution_count": 4,
   "metadata": {
    "ExecuteTime": {
     "end_time": "2021-05-06T07:53:03.245613Z",
     "start_time": "2021-05-06T07:52:56.939029Z"
    }
   },
   "outputs": [
    {
     "data": {
      "text/plain": [
       "<AxesSubplot:xlabel='Date'>"
      ]
     },
     "execution_count": 4,
     "metadata": {},
     "output_type": "execute_result"
    },
    {
     "data": {
      "image/png": "[encoded data removed]",
      "text/plain": [
       "<Figure size 1800x360 with 1 Axes>"
      ]
     },
     "metadata": {
      "needs_background": "light"
     },
     "output_type": "display_data"
    }
   ],
   "source": [
    "df.groupby('Date').mean()['Demand'].plot(figsize=(25, 5))"
   ]
  },
  {
   "cell_type": "code",
   "execution_count": 5,
   "metadata": {
    "ExecuteTime": {
     "end_time": "2021-05-06T07:53:13.464161Z",
     "start_time": "2021-05-06T07:53:08.157878Z"
    }
   },
   "outputs": [
    {
     "data": {
      "text/html": [
       "<div>\n",
       "<style scoped>\n",
       "    .dataframe tbody tr th:only-of-type {\n",
       "        vertical-align: middle;\n",
       "    }\n",
       "\n",
       "    .dataframe tbody tr th {\n",
       "        vertical-align: top;\n",
       "    }\n",
       "\n",
       "    .dataframe thead th {\n",
       "        text-align: right;\n",
       "    }\n",
       "</style>\n",
       "<table border=\"1\" class=\"dataframe\">\n",
       "  <thead>\n",
       "    <tr style=\"text-align: right;\">\n",
       "      <th></th>\n",
       "      <th>SKU_ID</th>\n",
       "      <th>Store_ID</th>\n",
       "      <th>Date</th>\n",
       "      <th>Demand</th>\n",
       "      <th>Regular_Price</th>\n",
       "    </tr>\n",
       "  </thead>\n",
       "  <tbody>\n",
       "    <tr>\n",
       "      <th>0</th>\n",
       "      <td>114</td>\n",
       "      <td>1078</td>\n",
       "      <td>2019-01-01</td>\n",
       "      <td>2.0</td>\n",
       "      <td>51.0</td>\n",
       "    </tr>\n",
       "    <tr>\n",
       "      <th>1</th>\n",
       "      <td>114</td>\n",
       "      <td>1078</td>\n",
       "      <td>2019-01-02</td>\n",
       "      <td>2.0</td>\n",
       "      <td>51.0</td>\n",
       "    </tr>\n",
       "    <tr>\n",
       "      <th>2</th>\n",
       "      <td>114</td>\n",
       "      <td>1078</td>\n",
       "      <td>2019-01-03</td>\n",
       "      <td>2.0</td>\n",
       "      <td>51.0</td>\n",
       "    </tr>\n",
       "    <tr>\n",
       "      <th>3</th>\n",
       "      <td>114</td>\n",
       "      <td>1078</td>\n",
       "      <td>2019-01-04</td>\n",
       "      <td>2.0</td>\n",
       "      <td>51.0</td>\n",
       "    </tr>\n",
       "    <tr>\n",
       "      <th>4</th>\n",
       "      <td>114</td>\n",
       "      <td>1078</td>\n",
       "      <td>2019-01-05</td>\n",
       "      <td>2.0</td>\n",
       "      <td>51.0</td>\n",
       "    </tr>\n",
       "    <tr>\n",
       "      <th>...</th>\n",
       "      <td>...</td>\n",
       "      <td>...</td>\n",
       "      <td>...</td>\n",
       "      <td>...</td>\n",
       "      <td>...</td>\n",
       "    </tr>\n",
       "    <tr>\n",
       "      <th>75549757</th>\n",
       "      <td>363971</td>\n",
       "      <td>2866</td>\n",
       "      <td>2019-12-25</td>\n",
       "      <td>2.0</td>\n",
       "      <td>104.0</td>\n",
       "    </tr>\n",
       "    <tr>\n",
       "      <th>75549758</th>\n",
       "      <td>363971</td>\n",
       "      <td>2866</td>\n",
       "      <td>2019-12-26</td>\n",
       "      <td>2.0</td>\n",
       "      <td>104.0</td>\n",
       "    </tr>\n",
       "    <tr>\n",
       "      <th>75549759</th>\n",
       "      <td>363971</td>\n",
       "      <td>2866</td>\n",
       "      <td>2019-12-27</td>\n",
       "      <td>2.0</td>\n",
       "      <td>104.0</td>\n",
       "    </tr>\n",
       "    <tr>\n",
       "      <th>75549760</th>\n",
       "      <td>363971</td>\n",
       "      <td>2866</td>\n",
       "      <td>2019-12-28</td>\n",
       "      <td>2.0</td>\n",
       "      <td>104.0</td>\n",
       "    </tr>\n",
       "    <tr>\n",
       "      <th>75549761</th>\n",
       "      <td>363971</td>\n",
       "      <td>2866</td>\n",
       "      <td>2019-12-29</td>\n",
       "      <td>2.0</td>\n",
       "      <td>104.0</td>\n",
       "    </tr>\n",
       "  </tbody>\n",
       "</table>\n",
       "<p>74803345 rows × 5 columns</p>\n",
       "</div>"
      ],
      "text/plain": [
       "          SKU_ID  Store_ID       Date  Demand  Regular_Price\n",
       "0            114      1078 2019-01-01     2.0           51.0\n",
       "1            114      1078 2019-01-02     2.0           51.0\n",
       "2            114      1078 2019-01-03     2.0           51.0\n",
       "3            114      1078 2019-01-04     2.0           51.0\n",
       "4            114      1078 2019-01-05     2.0           51.0\n",
       "...          ...       ...        ...     ...            ...\n",
       "75549757  363971      2866 2019-12-25     2.0          104.0\n",
       "75549758  363971      2866 2019-12-26     2.0          104.0\n",
       "75549759  363971      2866 2019-12-27     2.0          104.0\n",
       "75549760  363971      2866 2019-12-28     2.0          104.0\n",
       "75549761  363971      2866 2019-12-29     2.0          104.0\n",
       "\n",
       "[74803345 rows x 5 columns]"
      ]
     },
     "execution_count": 5,
     "metadata": {},
     "output_type": "execute_result"
    }
   ],
   "source": [
    "df = df[df.Demand > 0]\n",
    "df"
   ]
  },
  {
   "cell_type": "code",
   "execution_count": 6,
   "metadata": {
    "ExecuteTime": {
     "end_time": "2021-05-06T07:53:27.349999Z",
     "start_time": "2021-05-06T07:53:19.709927Z"
    }
   },
   "outputs": [],
   "source": [
    "popular_pairs = df.groupby(['SKU_ID', 'Store_ID']).size().reset_index(name='counts').sort_values(by='counts', ascending=False).reset_index(drop=True)"
   ]
  },
  {
   "cell_type": "code",
   "execution_count": 7,
   "metadata": {
    "ExecuteTime": {
     "end_time": "2021-05-06T07:53:27.361682Z",
     "start_time": "2021-05-06T07:53:27.352411Z"
    }
   },
   "outputs": [
    {
     "data": {
      "text/html": [
       "<div>\n",
       "<style scoped>\n",
       "    .dataframe tbody tr th:only-of-type {\n",
       "        vertical-align: middle;\n",
       "    }\n",
       "\n",
       "    .dataframe tbody tr th {\n",
       "        vertical-align: top;\n",
       "    }\n",
       "\n",
       "    .dataframe thead th {\n",
       "        text-align: right;\n",
       "    }\n",
       "</style>\n",
       "<table border=\"1\" class=\"dataframe\">\n",
       "  <thead>\n",
       "    <tr style=\"text-align: right;\">\n",
       "      <th></th>\n",
       "      <th>SKU_ID</th>\n",
       "      <th>Store_ID</th>\n",
       "      <th>counts</th>\n",
       "    </tr>\n",
       "  </thead>\n",
       "  <tbody>\n",
       "    <tr>\n",
       "      <th>0</th>\n",
       "      <td>121403</td>\n",
       "      <td>2834</td>\n",
       "      <td>361</td>\n",
       "    </tr>\n",
       "    <tr>\n",
       "      <th>1</th>\n",
       "      <td>14408</td>\n",
       "      <td>2834</td>\n",
       "      <td>361</td>\n",
       "    </tr>\n",
       "    <tr>\n",
       "      <th>2</th>\n",
       "      <td>150862</td>\n",
       "      <td>2834</td>\n",
       "      <td>361</td>\n",
       "    </tr>\n",
       "    <tr>\n",
       "      <th>3</th>\n",
       "      <td>213851</td>\n",
       "      <td>2834</td>\n",
       "      <td>361</td>\n",
       "    </tr>\n",
       "    <tr>\n",
       "      <th>4</th>\n",
       "      <td>93788</td>\n",
       "      <td>2834</td>\n",
       "      <td>361</td>\n",
       "    </tr>\n",
       "    <tr>\n",
       "      <th>5</th>\n",
       "      <td>137749</td>\n",
       "      <td>1855</td>\n",
       "      <td>361</td>\n",
       "    </tr>\n",
       "    <tr>\n",
       "      <th>6</th>\n",
       "      <td>149856</td>\n",
       "      <td>2676</td>\n",
       "      <td>361</td>\n",
       "    </tr>\n",
       "    <tr>\n",
       "      <th>7</th>\n",
       "      <td>93788</td>\n",
       "      <td>2711</td>\n",
       "      <td>361</td>\n",
       "    </tr>\n",
       "    <tr>\n",
       "      <th>8</th>\n",
       "      <td>4240</td>\n",
       "      <td>1498</td>\n",
       "      <td>361</td>\n",
       "    </tr>\n",
       "    <tr>\n",
       "      <th>9</th>\n",
       "      <td>93788</td>\n",
       "      <td>2710</td>\n",
       "      <td>361</td>\n",
       "    </tr>\n",
       "  </tbody>\n",
       "</table>\n",
       "</div>"
      ],
      "text/plain": [
       "   SKU_ID  Store_ID  counts\n",
       "0  121403      2834     361\n",
       "1   14408      2834     361\n",
       "2  150862      2834     361\n",
       "3  213851      2834     361\n",
       "4   93788      2834     361\n",
       "5  137749      1855     361\n",
       "6  149856      2676     361\n",
       "7   93788      2711     361\n",
       "8    4240      1498     361\n",
       "9   93788      2710     361"
      ]
     },
     "execution_count": 7,
     "metadata": {},
     "output_type": "execute_result"
    }
   ],
   "source": [
    "popular_pairs.head(n=10)"
   ]
  },
  {
   "cell_type": "code",
   "execution_count": 8,
   "metadata": {
    "ExecuteTime": {
     "end_time": "2021-05-06T07:53:29.018797Z",
     "start_time": "2021-05-06T07:53:29.009910Z"
    }
   },
   "outputs": [
    {
     "data": {
      "text/html": [
       "<div>\n",
       "<style scoped>\n",
       "    .dataframe tbody tr th:only-of-type {\n",
       "        vertical-align: middle;\n",
       "    }\n",
       "\n",
       "    .dataframe tbody tr th {\n",
       "        vertical-align: top;\n",
       "    }\n",
       "\n",
       "    .dataframe thead th {\n",
       "        text-align: right;\n",
       "    }\n",
       "</style>\n",
       "<table border=\"1\" class=\"dataframe\">\n",
       "  <thead>\n",
       "    <tr style=\"text-align: right;\">\n",
       "      <th></th>\n",
       "      <th>SKU_ID</th>\n",
       "      <th>Store_ID</th>\n",
       "      <th>counts</th>\n",
       "    </tr>\n",
       "  </thead>\n",
       "  <tbody>\n",
       "    <tr>\n",
       "      <th>99999</th>\n",
       "      <td>23080</td>\n",
       "      <td>1504</td>\n",
       "      <td>340</td>\n",
       "    </tr>\n",
       "  </tbody>\n",
       "</table>\n",
       "</div>"
      ],
      "text/plain": [
       "       SKU_ID  Store_ID  counts\n",
       "99999   23080      1504     340"
      ]
     },
     "execution_count": 8,
     "metadata": {},
     "output_type": "execute_result"
    }
   ],
   "source": [
    "popular_pairs.head(n=100000).tail(n=1)"
   ]
  },
  {
   "cell_type": "code",
   "execution_count": 9,
   "metadata": {
    "ExecuteTime": {
     "end_time": "2021-05-06T07:53:43.295364Z",
     "start_time": "2021-05-06T07:53:33.647067Z"
    }
   },
   "outputs": [],
   "source": [
    "num_of_pairs = 100000\n",
    "pairs_for_experiment = [0 for _ in range(num_of_pairs)]\n",
    "for i, r in popular_pairs.iterrows():\n",
    "    if i == num_of_pairs:\n",
    "        break\n",
    "    pairs_for_experiment[i] = (r['SKU_ID'], r['Store_ID'])"
   ]
  },
  {
   "cell_type": "code",
   "execution_count": 10,
   "metadata": {
    "ExecuteTime": {
     "end_time": "2021-05-06T07:53:46.917711Z",
     "start_time": "2021-05-06T07:53:46.913635Z"
    }
   },
   "outputs": [],
   "source": [
    "def transform(x, ttype):\n",
    "    '''\n",
    "    Accepts vector and performs transformation on it based on ttype\n",
    "    '''\n",
    "    if ttype == 'log':\n",
    "        return np.log1p(x)\n",
    "    \n",
    "    return np.array(x)"
   ]
  },
  {
   "cell_type": "code",
   "execution_count": 11,
   "metadata": {
    "ExecuteTime": {
     "end_time": "2021-05-06T07:53:47.034788Z",
     "start_time": "2021-05-06T07:53:47.029961Z"
    }
   },
   "outputs": [],
   "source": [
    "def coef(model):\n",
    "    \"\"\"\n",
    "    return regression coefficient of model\n",
    "    \"\"\"\n",
    "    return model.params[1] if len(model.params) > 1 else model.params[0]\n",
    "\n",
    "def pvalue(model):\n",
    "    \"\"\"\n",
    "    return regression coefficient's t-test p-value of model\n",
    "    \"\"\"\n",
    "    return model.pvalues[1] if len(model.pvalues) > 1 else model.pvalues[0]"
   ]
  },
  {
   "cell_type": "code",
   "execution_count": 12,
   "metadata": {
    "ExecuteTime": {
     "end_time": "2021-05-06T07:53:48.660406Z",
     "start_time": "2021-05-06T07:53:48.655494Z"
    }
   },
   "outputs": [],
   "source": [
    "def elasticity(X, y, model, model_type):\n",
    "    '''\n",
    "    Computes elasticity of model based on X, y, model itself and model's type\n",
    "    '''\n",
    "    if model_type == 'lin-lin':\n",
    "        return coef(model) * np.mean(X) / np.mean(y)\n",
    "    elif model_type == 'log-lin':\n",
    "        return coef(model) * np.mean(X)\n",
    "    elif model_type == 'log-log':\n",
    "        return coef(model)"
   ]
  },
  {
   "cell_type": "code",
   "execution_count": 13,
   "metadata": {
    "ExecuteTime": {
     "end_time": "2021-05-06T07:53:48.704005Z",
     "start_time": "2021-05-06T07:53:48.699901Z"
    }
   },
   "outputs": [],
   "source": [
    "def PEDmodel(X, y, model_type='lin-lin'):\n",
    "    '''\n",
    "    Makes PED model based on input data X, y and model type\n",
    "    '''\n",
    "    _types = model_type.split('-')\n",
    "    \n",
    "    act_x = transform(X, _types[1])\n",
    "    act_x = sm.add_constant(act_x)\n",
    "    \n",
    "    act_y = transform(y, _types[0])\n",
    "    \n",
    "    return sm.OLS(act_y, act_x).fit()"
   ]
  },
  {
   "cell_type": "code",
   "execution_count": 14,
   "metadata": {
    "ExecuteTime": {
     "end_time": "2021-05-06T07:53:49.182639Z",
     "start_time": "2021-05-06T07:53:49.178109Z"
    }
   },
   "outputs": [],
   "source": [
    "def get_model_stats(X, y, model, model_type):\n",
    "    '''\n",
    "    returns model's statistics\n",
    "        regression coefficient,\n",
    "        R-squared,\n",
    "        T-test p-value,\n",
    "        elasticity\n",
    "    '''\n",
    "    elas = elasticity(X, y, model, model_type)\n",
    "    \n",
    "    return coef(model), model.rsquared, pvalue(model), elas"
   ]
  },
  {
   "cell_type": "code",
   "execution_count": 16,
   "metadata": {
    "ExecuteTime": {
     "end_time": "2021-05-06T07:55:40.530299Z",
     "start_time": "2021-05-06T07:55:40.521397Z"
    }
   },
   "outputs": [],
   "source": [
    "def GeneratePEDModels(dataset):\n",
    "    model_type = 'log-log'\n",
    "    sku_id, store_id, elas, qty, ttpvalue, price, q1_elas = [], [], [], [], [], [], []\n",
    "    q1_ttp = []\n",
    "    iter_count = 0\n",
    "\n",
    "    for good_id, shop_id in pairs_for_experiment:\n",
    "        data = dataset[(dataset.Store_ID == shop_id) & (dataset.SKU_ID == good_id)]\n",
    "        model = PEDmodel(data.Regular_Price, data.Demand, model_type)\n",
    "        \n",
    "        c, r2, tp, e = get_model_stats(data.Regular_Price, data.Demand, model, model_type)\n",
    "\n",
    "        sku_id.append(good_id)\n",
    "        store_id.append(shop_id)\n",
    "        elas.append(e)\n",
    "        ttpvalue.append(tp)\n",
    "        \n",
    "        # 2019 Q1\n",
    "        data = data[(data.Date >= '2019-01-01') & (data.Date <= '2019-03-31')]\n",
    "        model = PEDmodel(data.Regular_Price, data.Demand, model_type)\n",
    "        c, r2, tp, e = get_model_stats(data.Regular_Price, data.Demand, model, model_type)\n",
    "        \n",
    "        qty.append(data.Demand.sum() / data.shape[0])\n",
    "        price.append(data.Regular_Price.sum() / data.shape[0])\n",
    "        q1_elas.append(e)\n",
    "        q1_ttp.append(tp)\n",
    "        \n",
    "        clear_output()\n",
    "        print(iter_count)\n",
    "        iter_count += 1\n",
    "        \n",
    "        if iter_count == 30000:\n",
    "            break\n",
    "        \n",
    "    \n",
    "    return pd.DataFrame({\n",
    "        'SKU': sku_id,\n",
    "        'Store': store_id,\n",
    "        'Elasticity': elas,\n",
    "        'P_value': ttpvalue,\n",
    "        'Q1_Qty': qty,\n",
    "        'Q1_Price': price,\n",
    "        'Q1_Elasticity': q1_elas,\n",
    "        'Q1_Ttest': q1_ttp\n",
    "    })"
   ]
  },
  {
   "cell_type": "code",
   "execution_count": 17,
   "metadata": {
    "ExecuteTime": {
     "end_time": "2021-05-06T12:10:40.844776Z",
     "start_time": "2021-05-06T07:55:41.648776Z"
    },
    "scrolled": true
   },
   "outputs": [
    {
     "name": "stdout",
     "output_type": "stream",
     "text": [
      "29999\n"
     ]
    }
   ],
   "source": [
    "trained_data = GeneratePEDModels(df)"
   ]
  },
  {
   "cell_type": "code",
   "execution_count": 18,
   "metadata": {
    "ExecuteTime": {
     "end_time": "2021-05-06T12:53:20.143429Z",
     "start_time": "2021-05-06T12:53:20.122222Z"
    }
   },
   "outputs": [
    {
     "data": {
      "text/html": [
       "<div>\n",
       "<style scoped>\n",
       "    .dataframe tbody tr th:only-of-type {\n",
       "        vertical-align: middle;\n",
       "    }\n",
       "\n",
       "    .dataframe tbody tr th {\n",
       "        vertical-align: top;\n",
       "    }\n",
       "\n",
       "    .dataframe thead th {\n",
       "        text-align: right;\n",
       "    }\n",
       "</style>\n",
       "<table border=\"1\" class=\"dataframe\">\n",
       "  <thead>\n",
       "    <tr style=\"text-align: right;\">\n",
       "      <th></th>\n",
       "      <th>SKU</th>\n",
       "      <th>Store</th>\n",
       "      <th>Elasticity</th>\n",
       "      <th>P_value</th>\n",
       "      <th>Q1_Qty</th>\n",
       "      <th>Q1_Price</th>\n",
       "      <th>Q1_Elasticity</th>\n",
       "      <th>Q1_Ttest</th>\n",
       "    </tr>\n",
       "  </thead>\n",
       "  <tbody>\n",
       "    <tr>\n",
       "      <th>0</th>\n",
       "      <td>121403</td>\n",
       "      <td>2834</td>\n",
       "      <td>4.947777e+00</td>\n",
       "      <td>1.387119e-91</td>\n",
       "      <td>203.211111</td>\n",
       "      <td>219.056926</td>\n",
       "      <td>2.499524e-01</td>\n",
       "      <td>4.107512e-01</td>\n",
       "    </tr>\n",
       "    <tr>\n",
       "      <th>1</th>\n",
       "      <td>14408</td>\n",
       "      <td>2834</td>\n",
       "      <td>-1.248910e+00</td>\n",
       "      <td>2.932442e-61</td>\n",
       "      <td>202.344444</td>\n",
       "      <td>60.457444</td>\n",
       "      <td>-3.693639e+00</td>\n",
       "      <td>6.597211e-08</td>\n",
       "    </tr>\n",
       "    <tr>\n",
       "      <th>2</th>\n",
       "      <td>150862</td>\n",
       "      <td>2834</td>\n",
       "      <td>-1.006074e+00</td>\n",
       "      <td>2.219744e-64</td>\n",
       "      <td>266.366667</td>\n",
       "      <td>301.042889</td>\n",
       "      <td>-1.490706e+00</td>\n",
       "      <td>1.388874e-14</td>\n",
       "    </tr>\n",
       "    <tr>\n",
       "      <th>3</th>\n",
       "      <td>213851</td>\n",
       "      <td>2834</td>\n",
       "      <td>-1.328601e+00</td>\n",
       "      <td>5.668468e-03</td>\n",
       "      <td>4141.500000</td>\n",
       "      <td>90.424887</td>\n",
       "      <td>-5.872169e-01</td>\n",
       "      <td>4.622280e-01</td>\n",
       "    </tr>\n",
       "    <tr>\n",
       "      <th>4</th>\n",
       "      <td>93788</td>\n",
       "      <td>2834</td>\n",
       "      <td>1.314355e+00</td>\n",
       "      <td>9.124566e-86</td>\n",
       "      <td>206.511111</td>\n",
       "      <td>495.959667</td>\n",
       "      <td>1.156394e+00</td>\n",
       "      <td>1.298470e-08</td>\n",
       "    </tr>\n",
       "    <tr>\n",
       "      <th>...</th>\n",
       "      <td>...</td>\n",
       "      <td>...</td>\n",
       "      <td>...</td>\n",
       "      <td>...</td>\n",
       "      <td>...</td>\n",
       "      <td>...</td>\n",
       "      <td>...</td>\n",
       "      <td>...</td>\n",
       "    </tr>\n",
       "    <tr>\n",
       "      <th>29995</th>\n",
       "      <td>2010</td>\n",
       "      <td>1104</td>\n",
       "      <td>8.609657e+00</td>\n",
       "      <td>1.382582e-10</td>\n",
       "      <td>2.930233</td>\n",
       "      <td>389.313953</td>\n",
       "      <td>3.194009e+00</td>\n",
       "      <td>2.108291e-01</td>\n",
       "    </tr>\n",
       "    <tr>\n",
       "      <th>29996</th>\n",
       "      <td>14978</td>\n",
       "      <td>2231</td>\n",
       "      <td>9.933930e-02</td>\n",
       "      <td>1.456373e-06</td>\n",
       "      <td>1.905882</td>\n",
       "      <td>281.152941</td>\n",
       "      <td>-7.351222e-02</td>\n",
       "      <td>7.006502e-01</td>\n",
       "    </tr>\n",
       "    <tr>\n",
       "      <th>29997</th>\n",
       "      <td>147136</td>\n",
       "      <td>2232</td>\n",
       "      <td>-1.346145e-15</td>\n",
       "      <td>9.605337e-01</td>\n",
       "      <td>1.000000</td>\n",
       "      <td>146.640449</td>\n",
       "      <td>7.771561e-15</td>\n",
       "      <td>9.683149e-01</td>\n",
       "    </tr>\n",
       "    <tr>\n",
       "      <th>29998</th>\n",
       "      <td>118617</td>\n",
       "      <td>1118</td>\n",
       "      <td>9.419250e-02</td>\n",
       "      <td>6.148370e-01</td>\n",
       "      <td>1.377778</td>\n",
       "      <td>283.422222</td>\n",
       "      <td>1.273333e+01</td>\n",
       "      <td>6.010513e-21</td>\n",
       "    </tr>\n",
       "    <tr>\n",
       "      <th>29999</th>\n",
       "      <td>127659</td>\n",
       "      <td>1173</td>\n",
       "      <td>-3.017595e+00</td>\n",
       "      <td>2.184020e-24</td>\n",
       "      <td>1.900000</td>\n",
       "      <td>485.222222</td>\n",
       "      <td>-1.918458e+00</td>\n",
       "      <td>6.252089e-07</td>\n",
       "    </tr>\n",
       "  </tbody>\n",
       "</table>\n",
       "<p>30000 rows × 8 columns</p>\n",
       "</div>"
      ],
      "text/plain": [
       "          SKU  Store    Elasticity       P_value       Q1_Qty    Q1_Price  \\\n",
       "0      121403   2834  4.947777e+00  1.387119e-91   203.211111  219.056926   \n",
       "1       14408   2834 -1.248910e+00  2.932442e-61   202.344444   60.457444   \n",
       "2      150862   2834 -1.006074e+00  2.219744e-64   266.366667  301.042889   \n",
       "3      213851   2834 -1.328601e+00  5.668468e-03  4141.500000   90.424887   \n",
       "4       93788   2834  1.314355e+00  9.124566e-86   206.511111  495.959667   \n",
       "...       ...    ...           ...           ...          ...         ...   \n",
       "29995    2010   1104  8.609657e+00  1.382582e-10     2.930233  389.313953   \n",
       "29996   14978   2231  9.933930e-02  1.456373e-06     1.905882  281.152941   \n",
       "29997  147136   2232 -1.346145e-15  9.605337e-01     1.000000  146.640449   \n",
       "29998  118617   1118  9.419250e-02  6.148370e-01     1.377778  283.422222   \n",
       "29999  127659   1173 -3.017595e+00  2.184020e-24     1.900000  485.222222   \n",
       "\n",
       "       Q1_Elasticity      Q1_Ttest  \n",
       "0       2.499524e-01  4.107512e-01  \n",
       "1      -3.693639e+00  6.597211e-08  \n",
       "2      -1.490706e+00  1.388874e-14  \n",
       "3      -5.872169e-01  4.622280e-01  \n",
       "4       1.156394e+00  1.298470e-08  \n",
       "...              ...           ...  \n",
       "29995   3.194009e+00  2.108291e-01  \n",
       "29996  -7.351222e-02  7.006502e-01  \n",
       "29997   7.771561e-15  9.683149e-01  \n",
       "29998   1.273333e+01  6.010513e-21  \n",
       "29999  -1.918458e+00  6.252089e-07  \n",
       "\n",
       "[30000 rows x 8 columns]"
      ]
     },
     "execution_count": 18,
     "metadata": {},
     "output_type": "execute_result"
    }
   ],
   "source": [
    "trained_data"
   ]
  },
  {
   "cell_type": "code",
   "execution_count": 19,
   "metadata": {
    "ExecuteTime": {
     "end_time": "2021-05-06T12:53:36.639581Z",
     "start_time": "2021-05-06T12:53:36.297934Z"
    },
    "run_control": {
     "marked": false
    }
   },
   "outputs": [],
   "source": [
    "trained_data.to_csv('DF_TRAIN_.csv', index=False)"
   ]
  },
  {
   "cell_type": "code",
   "execution_count": 2,
   "metadata": {
    "ExecuteTime": {
     "end_time": "2021-04-01T16:02:06.421544Z",
     "start_time": "2021-04-01T16:02:06.366408Z"
    }
   },
   "outputs": [],
   "source": [
    "trained_data = pd.read_csv('DF_TRAIN_.csv')"
   ]
  },
  {
   "cell_type": "code",
   "execution_count": 20,
   "metadata": {
    "ExecuteTime": {
     "end_time": "2021-05-06T12:53:49.794629Z",
     "start_time": "2021-05-06T12:53:49.788037Z"
    }
   },
   "outputs": [],
   "source": [
    "df_train = trained_data[(trained_data.Elasticity > -10) & (trained_data.Elasticity < 0) & (trained_data.P_value < 0.05)]"
   ]
  },
  {
   "cell_type": "code",
   "execution_count": 21,
   "metadata": {
    "ExecuteTime": {
     "end_time": "2021-05-06T12:53:56.763014Z",
     "start_time": "2021-05-06T12:53:56.741806Z"
    }
   },
   "outputs": [
    {
     "name": "stdout",
     "output_type": "stream",
     "text": [
      "<class 'pandas.core.frame.DataFrame'>\n",
      "Int64Index: 13620 entries, 1 to 29999\n",
      "Data columns (total 8 columns):\n",
      " #   Column         Non-Null Count  Dtype  \n",
      "---  ------         --------------  -----  \n",
      " 0   SKU            13620 non-null  int64  \n",
      " 1   Store          13620 non-null  int64  \n",
      " 2   Elasticity     13620 non-null  float64\n",
      " 3   P_value        13620 non-null  float64\n",
      " 4   Q1_Qty         13620 non-null  float64\n",
      " 5   Q1_Price       13620 non-null  float64\n",
      " 6   Q1_Elasticity  13620 non-null  float64\n",
      " 7   Q1_Ttest       13620 non-null  float64\n",
      "dtypes: float64(6), int64(2)\n",
      "memory usage: 957.7 KB\n"
     ]
    }
   ],
   "source": [
    "df_train.info()"
   ]
  },
  {
   "cell_type": "code",
   "execution_count": 22,
   "metadata": {
    "ExecuteTime": {
     "end_time": "2021-05-06T12:54:11.742771Z",
     "start_time": "2021-05-06T12:54:10.167626Z"
    }
   },
   "outputs": [],
   "source": [
    "product_info = pd.read_csv('PRODUCT_INF.csv')"
   ]
  },
  {
   "cell_type": "code",
   "execution_count": 23,
   "metadata": {
    "ExecuteTime": {
     "end_time": "2021-05-06T12:54:12.486427Z",
     "start_time": "2021-05-06T12:54:12.464014Z"
    }
   },
   "outputs": [
    {
     "data": {
      "text/html": [
       "<div>\n",
       "<style scoped>\n",
       "    .dataframe tbody tr th:only-of-type {\n",
       "        vertical-align: middle;\n",
       "    }\n",
       "\n",
       "    .dataframe tbody tr th {\n",
       "        vertical-align: top;\n",
       "    }\n",
       "\n",
       "    .dataframe thead th {\n",
       "        text-align: right;\n",
       "    }\n",
       "</style>\n",
       "<table border=\"1\" class=\"dataframe\">\n",
       "  <thead>\n",
       "    <tr style=\"text-align: right;\">\n",
       "      <th></th>\n",
       "      <th>ProductName</th>\n",
       "      <th>SKU</th>\n",
       "      <th>ClassId</th>\n",
       "      <th>GroupId</th>\n",
       "      <th>SubGroupId</th>\n",
       "      <th>CategoryId</th>\n",
       "      <th>ClusterId</th>\n",
       "      <th>Class</th>\n",
       "      <th>Groups</th>\n",
       "      <th>SubGroups</th>\n",
       "      <th>Category</th>\n",
       "      <th>Cluster</th>\n",
       "    </tr>\n",
       "  </thead>\n",
       "  <tbody>\n",
       "    <tr>\n",
       "      <th>0</th>\n",
       "      <td>UN</td>\n",
       "      <td>9999999</td>\n",
       "      <td>-5</td>\n",
       "      <td>-4</td>\n",
       "      <td>-3</td>\n",
       "      <td>-2</td>\n",
       "      <td>-1</td>\n",
       "      <td>UN</td>\n",
       "      <td>UN</td>\n",
       "      <td>UN</td>\n",
       "      <td>UN</td>\n",
       "      <td>UN</td>\n",
       "    </tr>\n",
       "    <tr>\n",
       "      <th>1</th>\n",
       "      <td>Очки_x0020_корригирующие_x0020_Ocean_x0020_пла...</td>\n",
       "      <td>122139</td>\n",
       "      <td>-5</td>\n",
       "      <td>-4</td>\n",
       "      <td>-3</td>\n",
       "      <td>-2</td>\n",
       "      <td>-1</td>\n",
       "      <td>UN</td>\n",
       "      <td>UN</td>\n",
       "      <td>UN</td>\n",
       "      <td>UN</td>\n",
       "      <td>UN</td>\n",
       "    </tr>\n",
       "    <tr>\n",
       "      <th>2</th>\n",
       "      <td>Очки_x0020_корригирующие_x0020_Ocean_x0020_пла...</td>\n",
       "      <td>122140</td>\n",
       "      <td>-5</td>\n",
       "      <td>-4</td>\n",
       "      <td>-3</td>\n",
       "      <td>-2</td>\n",
       "      <td>-1</td>\n",
       "      <td>UN</td>\n",
       "      <td>UN</td>\n",
       "      <td>UN</td>\n",
       "      <td>UN</td>\n",
       "      <td>UN</td>\n",
       "    </tr>\n",
       "    <tr>\n",
       "      <th>3</th>\n",
       "      <td>Очки_x0020_корригирующие_x0020_Ocean_x0020_пла...</td>\n",
       "      <td>122141</td>\n",
       "      <td>-5</td>\n",
       "      <td>-4</td>\n",
       "      <td>-3</td>\n",
       "      <td>-2</td>\n",
       "      <td>-1</td>\n",
       "      <td>UN</td>\n",
       "      <td>UN</td>\n",
       "      <td>UN</td>\n",
       "      <td>UN</td>\n",
       "      <td>UN</td>\n",
       "    </tr>\n",
       "    <tr>\n",
       "      <th>4</th>\n",
       "      <td>Очки_x0020_корригирующие_x0020_Dali_x0020_плас...</td>\n",
       "      <td>122142</td>\n",
       "      <td>-5</td>\n",
       "      <td>-4</td>\n",
       "      <td>-3</td>\n",
       "      <td>-2</td>\n",
       "      <td>-1</td>\n",
       "      <td>UN</td>\n",
       "      <td>UN</td>\n",
       "      <td>UN</td>\n",
       "      <td>UN</td>\n",
       "      <td>UN</td>\n",
       "    </tr>\n",
       "    <tr>\n",
       "      <th>...</th>\n",
       "      <td>...</td>\n",
       "      <td>...</td>\n",
       "      <td>...</td>\n",
       "      <td>...</td>\n",
       "      <td>...</td>\n",
       "      <td>...</td>\n",
       "      <td>...</td>\n",
       "      <td>...</td>\n",
       "      <td>...</td>\n",
       "      <td>...</td>\n",
       "      <td>...</td>\n",
       "      <td>...</td>\n",
       "    </tr>\n",
       "    <tr>\n",
       "      <th>296388</th>\n",
       "      <td>Лактамил_x0020_смесь_x0020_сухая_x0020_молочна...</td>\n",
       "      <td>112785</td>\n",
       "      <td>2000</td>\n",
       "      <td>2010</td>\n",
       "      <td>2133</td>\n",
       "      <td>2915</td>\n",
       "      <td>834</td>\n",
       "      <td>Товары_x0020_для_x0020_матери_x0020_и_x0020_ре...</td>\n",
       "      <td>Товары_x0020_для_x0020_беременных_x0020_и_x002...</td>\n",
       "      <td>Питание_x0020_для_x0020_мам</td>\n",
       "      <td>Питание_x0020_для_x0020_мам</td>\n",
       "      <td>Питание_x0020_для_x0020_мам</td>\n",
       "    </tr>\n",
       "    <tr>\n",
       "      <th>296389</th>\n",
       "      <td>Чай_x0020__x0022_Хипп_x0022__x0020_с_x0020_вит...</td>\n",
       "      <td>112789</td>\n",
       "      <td>2000</td>\n",
       "      <td>2010</td>\n",
       "      <td>2133</td>\n",
       "      <td>2915</td>\n",
       "      <td>834</td>\n",
       "      <td>Товары_x0020_для_x0020_матери_x0020_и_x0020_ре...</td>\n",
       "      <td>Товары_x0020_для_x0020_беременных_x0020_и_x002...</td>\n",
       "      <td>Питание_x0020_для_x0020_мам</td>\n",
       "      <td>Питание_x0020_для_x0020_мам</td>\n",
       "      <td>Питание_x0020_для_x0020_мам</td>\n",
       "    </tr>\n",
       "    <tr>\n",
       "      <th>296390</th>\n",
       "      <td>Чай_x0020_Хипп_x0020_био_x0020_для_x0020_корм....</td>\n",
       "      <td>76810</td>\n",
       "      <td>2000</td>\n",
       "      <td>2010</td>\n",
       "      <td>2133</td>\n",
       "      <td>2915</td>\n",
       "      <td>834</td>\n",
       "      <td>Товары_x0020_для_x0020_матери_x0020_и_x0020_ре...</td>\n",
       "      <td>Товары_x0020_для_x0020_беременных_x0020_и_x002...</td>\n",
       "      <td>Питание_x0020_для_x0020_мам</td>\n",
       "      <td>Питание_x0020_для_x0020_мам</td>\n",
       "      <td>Питание_x0020_для_x0020_мам</td>\n",
       "    </tr>\n",
       "    <tr>\n",
       "      <th>296391</th>\n",
       "      <td>Фемилак_x0020_для_x0020_беременных_x0020_и_x00...</td>\n",
       "      <td>75619</td>\n",
       "      <td>2000</td>\n",
       "      <td>2010</td>\n",
       "      <td>2133</td>\n",
       "      <td>2915</td>\n",
       "      <td>834</td>\n",
       "      <td>Товары_x0020_для_x0020_матери_x0020_и_x0020_ре...</td>\n",
       "      <td>Товары_x0020_для_x0020_беременных_x0020_и_x002...</td>\n",
       "      <td>Питание_x0020_для_x0020_мам</td>\n",
       "      <td>Питание_x0020_для_x0020_мам</td>\n",
       "      <td>Питание_x0020_для_x0020_мам</td>\n",
       "    </tr>\n",
       "    <tr>\n",
       "      <th>296392</th>\n",
       "      <td>Чай_x0020_Даниа_x0020_для_x0020_кормящих_x0020...</td>\n",
       "      <td>24589</td>\n",
       "      <td>2000</td>\n",
       "      <td>2010</td>\n",
       "      <td>2133</td>\n",
       "      <td>2915</td>\n",
       "      <td>834</td>\n",
       "      <td>Товары_x0020_для_x0020_матери_x0020_и_x0020_ре...</td>\n",
       "      <td>Товары_x0020_для_x0020_беременных_x0020_и_x002...</td>\n",
       "      <td>Питание_x0020_для_x0020_мам</td>\n",
       "      <td>Питание_x0020_для_x0020_мам</td>\n",
       "      <td>Питание_x0020_для_x0020_мам</td>\n",
       "    </tr>\n",
       "  </tbody>\n",
       "</table>\n",
       "<p>296393 rows × 12 columns</p>\n",
       "</div>"
      ],
      "text/plain": [
       "                                              ProductName      SKU  ClassId  \\\n",
       "0                                                      UN  9999999       -5   \n",
       "1       Очки_x0020_корригирующие_x0020_Ocean_x0020_пла...   122139       -5   \n",
       "2       Очки_x0020_корригирующие_x0020_Ocean_x0020_пла...   122140       -5   \n",
       "3       Очки_x0020_корригирующие_x0020_Ocean_x0020_пла...   122141       -5   \n",
       "4       Очки_x0020_корригирующие_x0020_Dali_x0020_плас...   122142       -5   \n",
       "...                                                   ...      ...      ...   \n",
       "296388  Лактамил_x0020_смесь_x0020_сухая_x0020_молочна...   112785     2000   \n",
       "296389  Чай_x0020__x0022_Хипп_x0022__x0020_с_x0020_вит...   112789     2000   \n",
       "296390  Чай_x0020_Хипп_x0020_био_x0020_для_x0020_корм....    76810     2000   \n",
       "296391  Фемилак_x0020_для_x0020_беременных_x0020_и_x00...    75619     2000   \n",
       "296392  Чай_x0020_Даниа_x0020_для_x0020_кормящих_x0020...    24589     2000   \n",
       "\n",
       "        GroupId  SubGroupId  CategoryId  ClusterId  \\\n",
       "0            -4          -3          -2         -1   \n",
       "1            -4          -3          -2         -1   \n",
       "2            -4          -3          -2         -1   \n",
       "3            -4          -3          -2         -1   \n",
       "4            -4          -3          -2         -1   \n",
       "...         ...         ...         ...        ...   \n",
       "296388     2010        2133        2915        834   \n",
       "296389     2010        2133        2915        834   \n",
       "296390     2010        2133        2915        834   \n",
       "296391     2010        2133        2915        834   \n",
       "296392     2010        2133        2915        834   \n",
       "\n",
       "                                                    Class  \\\n",
       "0                                                      UN   \n",
       "1                                                      UN   \n",
       "2                                                      UN   \n",
       "3                                                      UN   \n",
       "4                                                      UN   \n",
       "...                                                   ...   \n",
       "296388  Товары_x0020_для_x0020_матери_x0020_и_x0020_ре...   \n",
       "296389  Товары_x0020_для_x0020_матери_x0020_и_x0020_ре...   \n",
       "296390  Товары_x0020_для_x0020_матери_x0020_и_x0020_ре...   \n",
       "296391  Товары_x0020_для_x0020_матери_x0020_и_x0020_ре...   \n",
       "296392  Товары_x0020_для_x0020_матери_x0020_и_x0020_ре...   \n",
       "\n",
       "                                                   Groups  \\\n",
       "0                                                      UN   \n",
       "1                                                      UN   \n",
       "2                                                      UN   \n",
       "3                                                      UN   \n",
       "4                                                      UN   \n",
       "...                                                   ...   \n",
       "296388  Товары_x0020_для_x0020_беременных_x0020_и_x002...   \n",
       "296389  Товары_x0020_для_x0020_беременных_x0020_и_x002...   \n",
       "296390  Товары_x0020_для_x0020_беременных_x0020_и_x002...   \n",
       "296391  Товары_x0020_для_x0020_беременных_x0020_и_x002...   \n",
       "296392  Товары_x0020_для_x0020_беременных_x0020_и_x002...   \n",
       "\n",
       "                          SubGroups                     Category  \\\n",
       "0                                UN                           UN   \n",
       "1                                UN                           UN   \n",
       "2                                UN                           UN   \n",
       "3                                UN                           UN   \n",
       "4                                UN                           UN   \n",
       "...                             ...                          ...   \n",
       "296388  Питание_x0020_для_x0020_мам  Питание_x0020_для_x0020_мам   \n",
       "296389  Питание_x0020_для_x0020_мам  Питание_x0020_для_x0020_мам   \n",
       "296390  Питание_x0020_для_x0020_мам  Питание_x0020_для_x0020_мам   \n",
       "296391  Питание_x0020_для_x0020_мам  Питание_x0020_для_x0020_мам   \n",
       "296392  Питание_x0020_для_x0020_мам  Питание_x0020_для_x0020_мам   \n",
       "\n",
       "                            Cluster  \n",
       "0                                UN  \n",
       "1                                UN  \n",
       "2                                UN  \n",
       "3                                UN  \n",
       "4                                UN  \n",
       "...                             ...  \n",
       "296388  Питание_x0020_для_x0020_мам  \n",
       "296389  Питание_x0020_для_x0020_мам  \n",
       "296390  Питание_x0020_для_x0020_мам  \n",
       "296391  Питание_x0020_для_x0020_мам  \n",
       "296392  Питание_x0020_для_x0020_мам  \n",
       "\n",
       "[296393 rows x 12 columns]"
      ]
     },
     "execution_count": 23,
     "metadata": {},
     "output_type": "execute_result"
    }
   ],
   "source": [
    "product_info"
   ]
  },
  {
   "cell_type": "code",
   "execution_count": 24,
   "metadata": {
    "ExecuteTime": {
     "end_time": "2021-05-06T12:54:16.342811Z",
     "start_time": "2021-05-06T12:54:16.334337Z"
    }
   },
   "outputs": [],
   "source": [
    "product_info = product_info[['SKU', 'ClassId', 'CategoryId', 'ClusterId', 'GroupId', 'SubGroupId']]"
   ]
  },
  {
   "cell_type": "code",
   "execution_count": 25,
   "metadata": {
    "ExecuteTime": {
     "end_time": "2021-05-06T12:54:16.892669Z",
     "start_time": "2021-05-06T12:54:16.840451Z"
    }
   },
   "outputs": [],
   "source": [
    "df_sku = df_train.join(product_info.set_index('SKU'), on='SKU')"
   ]
  },
  {
   "cell_type": "code",
   "execution_count": 26,
   "metadata": {
    "ExecuteTime": {
     "end_time": "2021-05-06T12:54:17.443977Z",
     "start_time": "2021-05-06T12:54:17.435865Z"
    }
   },
   "outputs": [
    {
     "data": {
      "text/plain": [
       "SKU               0\n",
       "Store             0\n",
       "Elasticity        0\n",
       "P_value           0\n",
       "Q1_Qty            0\n",
       "Q1_Price          0\n",
       "Q1_Elasticity     0\n",
       "Q1_Ttest          0\n",
       "ClassId          55\n",
       "CategoryId       55\n",
       "ClusterId        55\n",
       "GroupId          55\n",
       "SubGroupId       55\n",
       "dtype: int64"
      ]
     },
     "execution_count": 26,
     "metadata": {},
     "output_type": "execute_result"
    }
   ],
   "source": [
    "df_sku.isna().sum()"
   ]
  },
  {
   "cell_type": "code",
   "execution_count": 27,
   "metadata": {
    "ExecuteTime": {
     "end_time": "2021-05-06T12:54:18.191529Z",
     "start_time": "2021-05-06T12:54:18.183527Z"
    }
   },
   "outputs": [],
   "source": [
    "df_sku.dropna(inplace=True)"
   ]
  },
  {
   "cell_type": "code",
   "execution_count": 28,
   "metadata": {
    "ExecuteTime": {
     "end_time": "2021-05-06T12:54:18.731882Z",
     "start_time": "2021-05-06T12:54:18.723241Z"
    }
   },
   "outputs": [
    {
     "data": {
      "text/plain": [
       "SKU              0\n",
       "Store            0\n",
       "Elasticity       0\n",
       "P_value          0\n",
       "Q1_Qty           0\n",
       "Q1_Price         0\n",
       "Q1_Elasticity    0\n",
       "Q1_Ttest         0\n",
       "ClassId          0\n",
       "CategoryId       0\n",
       "ClusterId        0\n",
       "GroupId          0\n",
       "SubGroupId       0\n",
       "dtype: int64"
      ]
     },
     "execution_count": 28,
     "metadata": {},
     "output_type": "execute_result"
    }
   ],
   "source": [
    "df_sku.isna().sum()"
   ]
  },
  {
   "cell_type": "code",
   "execution_count": 29,
   "metadata": {
    "ExecuteTime": {
     "end_time": "2021-05-06T12:54:19.526748Z",
     "start_time": "2021-05-06T12:54:19.500223Z"
    }
   },
   "outputs": [
    {
     "data": {
      "text/html": [
       "<div>\n",
       "<style scoped>\n",
       "    .dataframe tbody tr th:only-of-type {\n",
       "        vertical-align: middle;\n",
       "    }\n",
       "\n",
       "    .dataframe tbody tr th {\n",
       "        vertical-align: top;\n",
       "    }\n",
       "\n",
       "    .dataframe thead th {\n",
       "        text-align: right;\n",
       "    }\n",
       "</style>\n",
       "<table border=\"1\" class=\"dataframe\">\n",
       "  <thead>\n",
       "    <tr style=\"text-align: right;\">\n",
       "      <th></th>\n",
       "      <th>SKU</th>\n",
       "      <th>Store</th>\n",
       "      <th>Elasticity</th>\n",
       "      <th>P_value</th>\n",
       "      <th>Q1_Qty</th>\n",
       "      <th>Q1_Price</th>\n",
       "      <th>Q1_Elasticity</th>\n",
       "      <th>Q1_Ttest</th>\n",
       "      <th>ClassId</th>\n",
       "      <th>CategoryId</th>\n",
       "      <th>ClusterId</th>\n",
       "      <th>GroupId</th>\n",
       "      <th>SubGroupId</th>\n",
       "    </tr>\n",
       "  </thead>\n",
       "  <tbody>\n",
       "    <tr>\n",
       "      <th>1</th>\n",
       "      <td>14408</td>\n",
       "      <td>2834</td>\n",
       "      <td>-1.248910</td>\n",
       "      <td>2.932442e-61</td>\n",
       "      <td>202.344444</td>\n",
       "      <td>60.457444</td>\n",
       "      <td>-3.693639e+00</td>\n",
       "      <td>6.597211e-08</td>\n",
       "      <td>2003.0</td>\n",
       "      <td>2561.0</td>\n",
       "      <td>27.0</td>\n",
       "      <td>2047.0</td>\n",
       "      <td>2356.0</td>\n",
       "    </tr>\n",
       "    <tr>\n",
       "      <th>2</th>\n",
       "      <td>150862</td>\n",
       "      <td>2834</td>\n",
       "      <td>-1.006074</td>\n",
       "      <td>2.219744e-64</td>\n",
       "      <td>266.366667</td>\n",
       "      <td>301.042889</td>\n",
       "      <td>-1.490706e+00</td>\n",
       "      <td>1.388874e-14</td>\n",
       "      <td>2003.0</td>\n",
       "      <td>2547.0</td>\n",
       "      <td>4.0</td>\n",
       "      <td>2047.0</td>\n",
       "      <td>2099.0</td>\n",
       "    </tr>\n",
       "    <tr>\n",
       "      <th>3</th>\n",
       "      <td>213851</td>\n",
       "      <td>2834</td>\n",
       "      <td>-1.328601</td>\n",
       "      <td>5.668468e-03</td>\n",
       "      <td>4141.500000</td>\n",
       "      <td>90.424887</td>\n",
       "      <td>-5.872169e-01</td>\n",
       "      <td>4.622280e-01</td>\n",
       "      <td>2003.0</td>\n",
       "      <td>2496.0</td>\n",
       "      <td>456.0</td>\n",
       "      <td>2037.0</td>\n",
       "      <td>2105.0</td>\n",
       "    </tr>\n",
       "    <tr>\n",
       "      <th>6</th>\n",
       "      <td>149856</td>\n",
       "      <td>2676</td>\n",
       "      <td>-0.960983</td>\n",
       "      <td>2.450502e-20</td>\n",
       "      <td>2.000000</td>\n",
       "      <td>336.777778</td>\n",
       "      <td>-1.075529e-15</td>\n",
       "      <td>9.347857e-01</td>\n",
       "      <td>2003.0</td>\n",
       "      <td>3023.0</td>\n",
       "      <td>458.0</td>\n",
       "      <td>2037.0</td>\n",
       "      <td>2105.0</td>\n",
       "    </tr>\n",
       "    <tr>\n",
       "      <th>8</th>\n",
       "      <td>4240</td>\n",
       "      <td>1498</td>\n",
       "      <td>-0.561682</td>\n",
       "      <td>3.082433e-02</td>\n",
       "      <td>2.000000</td>\n",
       "      <td>79.000000</td>\n",
       "      <td>2.507087e-01</td>\n",
       "      <td>0.000000e+00</td>\n",
       "      <td>2003.0</td>\n",
       "      <td>2692.0</td>\n",
       "      <td>455.0</td>\n",
       "      <td>2037.0</td>\n",
       "      <td>2105.0</td>\n",
       "    </tr>\n",
       "    <tr>\n",
       "      <th>...</th>\n",
       "      <td>...</td>\n",
       "      <td>...</td>\n",
       "      <td>...</td>\n",
       "      <td>...</td>\n",
       "      <td>...</td>\n",
       "      <td>...</td>\n",
       "      <td>...</td>\n",
       "      <td>...</td>\n",
       "      <td>...</td>\n",
       "      <td>...</td>\n",
       "      <td>...</td>\n",
       "      <td>...</td>\n",
       "      <td>...</td>\n",
       "    </tr>\n",
       "    <tr>\n",
       "      <th>29988</th>\n",
       "      <td>13154</td>\n",
       "      <td>1093</td>\n",
       "      <td>-4.951978</td>\n",
       "      <td>4.565353e-53</td>\n",
       "      <td>11.733333</td>\n",
       "      <td>80.611111</td>\n",
       "      <td>-6.440381e+00</td>\n",
       "      <td>1.936741e-13</td>\n",
       "      <td>2003.0</td>\n",
       "      <td>2489.0</td>\n",
       "      <td>467.0</td>\n",
       "      <td>2037.0</td>\n",
       "      <td>2111.0</td>\n",
       "    </tr>\n",
       "    <tr>\n",
       "      <th>29989</th>\n",
       "      <td>18086</td>\n",
       "      <td>1110</td>\n",
       "      <td>-4.119013</td>\n",
       "      <td>2.907439e-35</td>\n",
       "      <td>20.844444</td>\n",
       "      <td>289.488889</td>\n",
       "      <td>-6.259203e+00</td>\n",
       "      <td>1.033173e-04</td>\n",
       "      <td>2003.0</td>\n",
       "      <td>2711.0</td>\n",
       "      <td>39.0</td>\n",
       "      <td>2047.0</td>\n",
       "      <td>2151.0</td>\n",
       "    </tr>\n",
       "    <tr>\n",
       "      <th>29991</th>\n",
       "      <td>97331</td>\n",
       "      <td>1132</td>\n",
       "      <td>-0.203404</td>\n",
       "      <td>1.443094e-06</td>\n",
       "      <td>1.188889</td>\n",
       "      <td>345.000000</td>\n",
       "      <td>1.316588e-01</td>\n",
       "      <td>1.256047e-63</td>\n",
       "      <td>2003.0</td>\n",
       "      <td>2528.0</td>\n",
       "      <td>34.0</td>\n",
       "      <td>2047.0</td>\n",
       "      <td>2212.0</td>\n",
       "    </tr>\n",
       "    <tr>\n",
       "      <th>29994</th>\n",
       "      <td>18086</td>\n",
       "      <td>1108</td>\n",
       "      <td>-6.240736</td>\n",
       "      <td>1.938132e-24</td>\n",
       "      <td>29.639535</td>\n",
       "      <td>323.627907</td>\n",
       "      <td>1.860400e+01</td>\n",
       "      <td>2.855984e-08</td>\n",
       "      <td>2003.0</td>\n",
       "      <td>2711.0</td>\n",
       "      <td>39.0</td>\n",
       "      <td>2047.0</td>\n",
       "      <td>2151.0</td>\n",
       "    </tr>\n",
       "    <tr>\n",
       "      <th>29999</th>\n",
       "      <td>127659</td>\n",
       "      <td>1173</td>\n",
       "      <td>-3.017595</td>\n",
       "      <td>2.184020e-24</td>\n",
       "      <td>1.900000</td>\n",
       "      <td>485.222222</td>\n",
       "      <td>-1.918458e+00</td>\n",
       "      <td>6.252089e-07</td>\n",
       "      <td>2003.0</td>\n",
       "      <td>4001.0</td>\n",
       "      <td>45.0</td>\n",
       "      <td>2047.0</td>\n",
       "      <td>2334.0</td>\n",
       "    </tr>\n",
       "  </tbody>\n",
       "</table>\n",
       "<p>13565 rows × 13 columns</p>\n",
       "</div>"
      ],
      "text/plain": [
       "          SKU  Store  Elasticity       P_value       Q1_Qty    Q1_Price  \\\n",
       "1       14408   2834   -1.248910  2.932442e-61   202.344444   60.457444   \n",
       "2      150862   2834   -1.006074  2.219744e-64   266.366667  301.042889   \n",
       "3      213851   2834   -1.328601  5.668468e-03  4141.500000   90.424887   \n",
       "6      149856   2676   -0.960983  2.450502e-20     2.000000  336.777778   \n",
       "8        4240   1498   -0.561682  3.082433e-02     2.000000   79.000000   \n",
       "...       ...    ...         ...           ...          ...         ...   \n",
       "29988   13154   1093   -4.951978  4.565353e-53    11.733333   80.611111   \n",
       "29989   18086   1110   -4.119013  2.907439e-35    20.844444  289.488889   \n",
       "29991   97331   1132   -0.203404  1.443094e-06     1.188889  345.000000   \n",
       "29994   18086   1108   -6.240736  1.938132e-24    29.639535  323.627907   \n",
       "29999  127659   1173   -3.017595  2.184020e-24     1.900000  485.222222   \n",
       "\n",
       "       Q1_Elasticity      Q1_Ttest  ClassId  CategoryId  ClusterId  GroupId  \\\n",
       "1      -3.693639e+00  6.597211e-08   2003.0      2561.0       27.0   2047.0   \n",
       "2      -1.490706e+00  1.388874e-14   2003.0      2547.0        4.0   2047.0   \n",
       "3      -5.872169e-01  4.622280e-01   2003.0      2496.0      456.0   2037.0   \n",
       "6      -1.075529e-15  9.347857e-01   2003.0      3023.0      458.0   2037.0   \n",
       "8       2.507087e-01  0.000000e+00   2003.0      2692.0      455.0   2037.0   \n",
       "...              ...           ...      ...         ...        ...      ...   \n",
       "29988  -6.440381e+00  1.936741e-13   2003.0      2489.0      467.0   2037.0   \n",
       "29989  -6.259203e+00  1.033173e-04   2003.0      2711.0       39.0   2047.0   \n",
       "29991   1.316588e-01  1.256047e-63   2003.0      2528.0       34.0   2047.0   \n",
       "29994   1.860400e+01  2.855984e-08   2003.0      2711.0       39.0   2047.0   \n",
       "29999  -1.918458e+00  6.252089e-07   2003.0      4001.0       45.0   2047.0   \n",
       "\n",
       "       SubGroupId  \n",
       "1          2356.0  \n",
       "2          2099.0  \n",
       "3          2105.0  \n",
       "6          2105.0  \n",
       "8          2105.0  \n",
       "...           ...  \n",
       "29988      2111.0  \n",
       "29989      2151.0  \n",
       "29991      2212.0  \n",
       "29994      2151.0  \n",
       "29999      2334.0  \n",
       "\n",
       "[13565 rows x 13 columns]"
      ]
     },
     "execution_count": 29,
     "metadata": {},
     "output_type": "execute_result"
    }
   ],
   "source": [
    "df_sku"
   ]
  },
  {
   "cell_type": "code",
   "execution_count": 30,
   "metadata": {
    "ExecuteTime": {
     "end_time": "2021-05-06T12:54:23.072737Z",
     "start_time": "2021-05-06T12:54:22.768449Z"
    }
   },
   "outputs": [
    {
     "name": "stderr",
     "output_type": "stream",
     "text": [
      "/usr/local/lib/python3.7/dist-packages/openpyxl/styles/stylesheet.py:221: UserWarning: Workbook contains no default style, apply openpyxl's default\n",
      "  warn(\"Workbook contains no default style, apply openpyxl's default\")\n"
     ]
    }
   ],
   "source": [
    "store_info = pd.read_excel('LOCATION_INF.xlsx', parse_dates=['OpenDate', 'CloseDate'])\n",
    "store_info.rename(columns={'TradePointId': 'Store'}, inplace=True)"
   ]
  },
  {
   "cell_type": "code",
   "execution_count": 31,
   "metadata": {
    "ExecuteTime": {
     "end_time": "2021-05-06T12:54:28.821411Z",
     "start_time": "2021-05-06T12:54:28.813932Z"
    }
   },
   "outputs": [],
   "source": [
    "import datetime\n",
    "\n",
    "age_func = lambda r: datetime.datetime.today().year - datetime.datetime.date(r).year\n",
    "store_info['StoreAge'] = store_info.OpenDate.apply(age_func)"
   ]
  },
  {
   "cell_type": "code",
   "execution_count": 32,
   "metadata": {
    "ExecuteTime": {
     "end_time": "2021-05-06T12:54:30.115683Z",
     "start_time": "2021-05-06T12:54:30.109529Z"
    }
   },
   "outputs": [],
   "source": [
    "def city_func(r):\n",
    "    city = r.split('_x0020_')[0]\n",
    "    if city.endswith('_x002C_'):\n",
    "        city = city.split('_x002C_')[0]\n",
    "\n",
    "    return city\n",
    "\n",
    "store_info['StoreCity'] = store_info.TradePointName.apply(city_func)"
   ]
  },
  {
   "cell_type": "code",
   "execution_count": 33,
   "metadata": {
    "ExecuteTime": {
     "end_time": "2021-05-06T12:54:33.491442Z",
     "start_time": "2021-05-06T12:54:33.485754Z"
    }
   },
   "outputs": [],
   "source": [
    "store_info = store_info[['Store', 'StoreAge', 'StoreCity']]"
   ]
  },
  {
   "cell_type": "code",
   "execution_count": 34,
   "metadata": {
    "ExecuteTime": {
     "end_time": "2021-05-06T12:54:36.847062Z",
     "start_time": "2021-05-06T12:54:36.834078Z"
    }
   },
   "outputs": [
    {
     "data": {
      "text/html": [
       "<div>\n",
       "<style scoped>\n",
       "    .dataframe tbody tr th:only-of-type {\n",
       "        vertical-align: middle;\n",
       "    }\n",
       "\n",
       "    .dataframe tbody tr th {\n",
       "        vertical-align: top;\n",
       "    }\n",
       "\n",
       "    .dataframe thead th {\n",
       "        text-align: right;\n",
       "    }\n",
       "</style>\n",
       "<table border=\"1\" class=\"dataframe\">\n",
       "  <thead>\n",
       "    <tr style=\"text-align: right;\">\n",
       "      <th></th>\n",
       "      <th>Store</th>\n",
       "      <th>StoreAge</th>\n",
       "      <th>StoreCity</th>\n",
       "    </tr>\n",
       "  </thead>\n",
       "  <tbody>\n",
       "    <tr>\n",
       "      <th>0</th>\n",
       "      <td>1076</td>\n",
       "      <td>12</td>\n",
       "      <td>СПб</td>\n",
       "    </tr>\n",
       "    <tr>\n",
       "      <th>1</th>\n",
       "      <td>1077</td>\n",
       "      <td>16</td>\n",
       "      <td>СПб</td>\n",
       "    </tr>\n",
       "    <tr>\n",
       "      <th>2</th>\n",
       "      <td>1078</td>\n",
       "      <td>14</td>\n",
       "      <td>СПб</td>\n",
       "    </tr>\n",
       "    <tr>\n",
       "      <th>3</th>\n",
       "      <td>1079</td>\n",
       "      <td>19</td>\n",
       "      <td>СПб</td>\n",
       "    </tr>\n",
       "    <tr>\n",
       "      <th>4</th>\n",
       "      <td>1080</td>\n",
       "      <td>13</td>\n",
       "      <td>СПб</td>\n",
       "    </tr>\n",
       "    <tr>\n",
       "      <th>...</th>\n",
       "      <td>...</td>\n",
       "      <td>...</td>\n",
       "      <td>...</td>\n",
       "    </tr>\n",
       "    <tr>\n",
       "      <th>179</th>\n",
       "      <td>2926</td>\n",
       "      <td>1</td>\n",
       "      <td>СПб</td>\n",
       "    </tr>\n",
       "    <tr>\n",
       "      <th>180</th>\n",
       "      <td>2928</td>\n",
       "      <td>1</td>\n",
       "      <td>СПб</td>\n",
       "    </tr>\n",
       "    <tr>\n",
       "      <th>181</th>\n",
       "      <td>2930</td>\n",
       "      <td>1</td>\n",
       "      <td>Интернет-магазин</td>\n",
       "    </tr>\n",
       "    <tr>\n",
       "      <th>182</th>\n",
       "      <td>2952</td>\n",
       "      <td>1</td>\n",
       "      <td>СПб</td>\n",
       "    </tr>\n",
       "    <tr>\n",
       "      <th>183</th>\n",
       "      <td>2953</td>\n",
       "      <td>1</td>\n",
       "      <td>СПб</td>\n",
       "    </tr>\n",
       "  </tbody>\n",
       "</table>\n",
       "<p>184 rows × 3 columns</p>\n",
       "</div>"
      ],
      "text/plain": [
       "     Store  StoreAge         StoreCity\n",
       "0     1076        12               СПб\n",
       "1     1077        16               СПб\n",
       "2     1078        14               СПб\n",
       "3     1079        19               СПб\n",
       "4     1080        13               СПб\n",
       "..     ...       ...               ...\n",
       "179   2926         1               СПб\n",
       "180   2928         1               СПб\n",
       "181   2930         1  Интернет-магазин\n",
       "182   2952         1               СПб\n",
       "183   2953         1               СПб\n",
       "\n",
       "[184 rows x 3 columns]"
      ]
     },
     "execution_count": 34,
     "metadata": {},
     "output_type": "execute_result"
    }
   ],
   "source": [
    "store_info"
   ]
  },
  {
   "cell_type": "code",
   "execution_count": 35,
   "metadata": {
    "ExecuteTime": {
     "end_time": "2021-05-06T12:54:41.260059Z",
     "start_time": "2021-05-06T12:54:41.250989Z"
    }
   },
   "outputs": [],
   "source": [
    "df_store_sku = df_sku.join(store_info.set_index('Store'), on='Store')"
   ]
  },
  {
   "cell_type": "code",
   "execution_count": 36,
   "metadata": {
    "ExecuteTime": {
     "end_time": "2021-05-06T12:54:42.943715Z",
     "start_time": "2021-05-06T12:54:42.933981Z"
    }
   },
   "outputs": [
    {
     "data": {
      "text/plain": [
       "SKU               0\n",
       "Store             0\n",
       "Elasticity        0\n",
       "P_value           0\n",
       "Q1_Qty            0\n",
       "Q1_Price          0\n",
       "Q1_Elasticity     0\n",
       "Q1_Ttest          0\n",
       "ClassId           0\n",
       "CategoryId        0\n",
       "ClusterId         0\n",
       "GroupId           0\n",
       "SubGroupId        0\n",
       "StoreAge         57\n",
       "StoreCity        57\n",
       "dtype: int64"
      ]
     },
     "execution_count": 36,
     "metadata": {},
     "output_type": "execute_result"
    }
   ],
   "source": [
    "df_store_sku.isna().sum()"
   ]
  },
  {
   "cell_type": "code",
   "execution_count": 37,
   "metadata": {
    "ExecuteTime": {
     "end_time": "2021-05-06T12:54:43.842891Z",
     "start_time": "2021-05-06T12:54:43.832800Z"
    }
   },
   "outputs": [],
   "source": [
    "df_store_sku.dropna(inplace=True)"
   ]
  },
  {
   "cell_type": "code",
   "execution_count": 38,
   "metadata": {
    "ExecuteTime": {
     "end_time": "2021-05-06T12:54:46.018460Z",
     "start_time": "2021-05-06T12:54:46.008914Z"
    }
   },
   "outputs": [
    {
     "data": {
      "text/plain": [
       "SKU              0\n",
       "Store            0\n",
       "Elasticity       0\n",
       "P_value          0\n",
       "Q1_Qty           0\n",
       "Q1_Price         0\n",
       "Q1_Elasticity    0\n",
       "Q1_Ttest         0\n",
       "ClassId          0\n",
       "CategoryId       0\n",
       "ClusterId        0\n",
       "GroupId          0\n",
       "SubGroupId       0\n",
       "StoreAge         0\n",
       "StoreCity        0\n",
       "dtype: int64"
      ]
     },
     "execution_count": 38,
     "metadata": {},
     "output_type": "execute_result"
    }
   ],
   "source": [
    "df_store_sku.isna().sum()"
   ]
  },
  {
   "cell_type": "code",
   "execution_count": 42,
   "metadata": {
    "ExecuteTime": {
     "end_time": "2021-05-06T12:56:42.828142Z",
     "start_time": "2021-05-06T12:56:42.796987Z"
    }
   },
   "outputs": [
    {
     "data": {
      "text/html": [
       "<div>\n",
       "<style scoped>\n",
       "    .dataframe tbody tr th:only-of-type {\n",
       "        vertical-align: middle;\n",
       "    }\n",
       "\n",
       "    .dataframe tbody tr th {\n",
       "        vertical-align: top;\n",
       "    }\n",
       "\n",
       "    .dataframe thead th {\n",
       "        text-align: right;\n",
       "    }\n",
       "</style>\n",
       "<table border=\"1\" class=\"dataframe\">\n",
       "  <thead>\n",
       "    <tr style=\"text-align: right;\">\n",
       "      <th></th>\n",
       "      <th>SKU</th>\n",
       "      <th>Store</th>\n",
       "      <th>Elasticity</th>\n",
       "      <th>P_value</th>\n",
       "      <th>Q1_Qty</th>\n",
       "      <th>Q1_Price</th>\n",
       "      <th>Q1_Elasticity</th>\n",
       "      <th>Q1_Ttest</th>\n",
       "      <th>ClassId</th>\n",
       "      <th>CategoryId</th>\n",
       "      <th>ClusterId</th>\n",
       "      <th>GroupId</th>\n",
       "      <th>SubGroupId</th>\n",
       "      <th>StoreAge</th>\n",
       "      <th>StoreCity</th>\n",
       "    </tr>\n",
       "  </thead>\n",
       "  <tbody>\n",
       "    <tr>\n",
       "      <th>0</th>\n",
       "      <td>14408</td>\n",
       "      <td>2834</td>\n",
       "      <td>-1.248910</td>\n",
       "      <td>2.932442e-61</td>\n",
       "      <td>202.344444</td>\n",
       "      <td>60.457444</td>\n",
       "      <td>-3.693639e+00</td>\n",
       "      <td>6.597211e-08</td>\n",
       "      <td>2003.0</td>\n",
       "      <td>2561.0</td>\n",
       "      <td>27.0</td>\n",
       "      <td>2047.0</td>\n",
       "      <td>2356.0</td>\n",
       "      <td>2.0</td>\n",
       "      <td>Интернет-магазин</td>\n",
       "    </tr>\n",
       "    <tr>\n",
       "      <th>1</th>\n",
       "      <td>150862</td>\n",
       "      <td>2834</td>\n",
       "      <td>-1.006074</td>\n",
       "      <td>2.219744e-64</td>\n",
       "      <td>266.366667</td>\n",
       "      <td>301.042889</td>\n",
       "      <td>-1.490706e+00</td>\n",
       "      <td>1.388874e-14</td>\n",
       "      <td>2003.0</td>\n",
       "      <td>2547.0</td>\n",
       "      <td>4.0</td>\n",
       "      <td>2047.0</td>\n",
       "      <td>2099.0</td>\n",
       "      <td>2.0</td>\n",
       "      <td>Интернет-магазин</td>\n",
       "    </tr>\n",
       "    <tr>\n",
       "      <th>2</th>\n",
       "      <td>213851</td>\n",
       "      <td>2834</td>\n",
       "      <td>-1.328601</td>\n",
       "      <td>5.668468e-03</td>\n",
       "      <td>4141.500000</td>\n",
       "      <td>90.424887</td>\n",
       "      <td>-5.872169e-01</td>\n",
       "      <td>4.622280e-01</td>\n",
       "      <td>2003.0</td>\n",
       "      <td>2496.0</td>\n",
       "      <td>456.0</td>\n",
       "      <td>2037.0</td>\n",
       "      <td>2105.0</td>\n",
       "      <td>2.0</td>\n",
       "      <td>Интернет-магазин</td>\n",
       "    </tr>\n",
       "    <tr>\n",
       "      <th>3</th>\n",
       "      <td>149856</td>\n",
       "      <td>2676</td>\n",
       "      <td>-0.960983</td>\n",
       "      <td>2.450502e-20</td>\n",
       "      <td>2.000000</td>\n",
       "      <td>336.777778</td>\n",
       "      <td>-1.075529e-15</td>\n",
       "      <td>9.347857e-01</td>\n",
       "      <td>2003.0</td>\n",
       "      <td>3023.0</td>\n",
       "      <td>458.0</td>\n",
       "      <td>2037.0</td>\n",
       "      <td>2105.0</td>\n",
       "      <td>3.0</td>\n",
       "      <td>ЛО</td>\n",
       "    </tr>\n",
       "    <tr>\n",
       "      <th>4</th>\n",
       "      <td>4240</td>\n",
       "      <td>1498</td>\n",
       "      <td>-0.561682</td>\n",
       "      <td>3.082433e-02</td>\n",
       "      <td>2.000000</td>\n",
       "      <td>79.000000</td>\n",
       "      <td>2.507087e-01</td>\n",
       "      <td>0.000000e+00</td>\n",
       "      <td>2003.0</td>\n",
       "      <td>2692.0</td>\n",
       "      <td>455.0</td>\n",
       "      <td>2037.0</td>\n",
       "      <td>2105.0</td>\n",
       "      <td>17.0</td>\n",
       "      <td>СПб</td>\n",
       "    </tr>\n",
       "    <tr>\n",
       "      <th>...</th>\n",
       "      <td>...</td>\n",
       "      <td>...</td>\n",
       "      <td>...</td>\n",
       "      <td>...</td>\n",
       "      <td>...</td>\n",
       "      <td>...</td>\n",
       "      <td>...</td>\n",
       "      <td>...</td>\n",
       "      <td>...</td>\n",
       "      <td>...</td>\n",
       "      <td>...</td>\n",
       "      <td>...</td>\n",
       "      <td>...</td>\n",
       "      <td>...</td>\n",
       "      <td>...</td>\n",
       "    </tr>\n",
       "    <tr>\n",
       "      <th>13503</th>\n",
       "      <td>13154</td>\n",
       "      <td>1093</td>\n",
       "      <td>-4.951978</td>\n",
       "      <td>4.565353e-53</td>\n",
       "      <td>11.733333</td>\n",
       "      <td>80.611111</td>\n",
       "      <td>-6.440381e+00</td>\n",
       "      <td>1.936741e-13</td>\n",
       "      <td>2003.0</td>\n",
       "      <td>2489.0</td>\n",
       "      <td>467.0</td>\n",
       "      <td>2037.0</td>\n",
       "      <td>2111.0</td>\n",
       "      <td>9.0</td>\n",
       "      <td>СПб</td>\n",
       "    </tr>\n",
       "    <tr>\n",
       "      <th>13504</th>\n",
       "      <td>18086</td>\n",
       "      <td>1110</td>\n",
       "      <td>-4.119013</td>\n",
       "      <td>2.907439e-35</td>\n",
       "      <td>20.844444</td>\n",
       "      <td>289.488889</td>\n",
       "      <td>-6.259203e+00</td>\n",
       "      <td>1.033173e-04</td>\n",
       "      <td>2003.0</td>\n",
       "      <td>2711.0</td>\n",
       "      <td>39.0</td>\n",
       "      <td>2047.0</td>\n",
       "      <td>2151.0</td>\n",
       "      <td>6.0</td>\n",
       "      <td>СПб</td>\n",
       "    </tr>\n",
       "    <tr>\n",
       "      <th>13505</th>\n",
       "      <td>97331</td>\n",
       "      <td>1132</td>\n",
       "      <td>-0.203404</td>\n",
       "      <td>1.443094e-06</td>\n",
       "      <td>1.188889</td>\n",
       "      <td>345.000000</td>\n",
       "      <td>1.316588e-01</td>\n",
       "      <td>1.256047e-63</td>\n",
       "      <td>2003.0</td>\n",
       "      <td>2528.0</td>\n",
       "      <td>34.0</td>\n",
       "      <td>2047.0</td>\n",
       "      <td>2212.0</td>\n",
       "      <td>4.0</td>\n",
       "      <td>СПб</td>\n",
       "    </tr>\n",
       "    <tr>\n",
       "      <th>13506</th>\n",
       "      <td>18086</td>\n",
       "      <td>1108</td>\n",
       "      <td>-6.240736</td>\n",
       "      <td>1.938132e-24</td>\n",
       "      <td>29.639535</td>\n",
       "      <td>323.627907</td>\n",
       "      <td>1.860400e+01</td>\n",
       "      <td>2.855984e-08</td>\n",
       "      <td>2003.0</td>\n",
       "      <td>2711.0</td>\n",
       "      <td>39.0</td>\n",
       "      <td>2047.0</td>\n",
       "      <td>2151.0</td>\n",
       "      <td>6.0</td>\n",
       "      <td>СПб</td>\n",
       "    </tr>\n",
       "    <tr>\n",
       "      <th>13507</th>\n",
       "      <td>127659</td>\n",
       "      <td>1173</td>\n",
       "      <td>-3.017595</td>\n",
       "      <td>2.184020e-24</td>\n",
       "      <td>1.900000</td>\n",
       "      <td>485.222222</td>\n",
       "      <td>-1.918458e+00</td>\n",
       "      <td>6.252089e-07</td>\n",
       "      <td>2003.0</td>\n",
       "      <td>4001.0</td>\n",
       "      <td>45.0</td>\n",
       "      <td>2047.0</td>\n",
       "      <td>2334.0</td>\n",
       "      <td>4.0</td>\n",
       "      <td>СПб</td>\n",
       "    </tr>\n",
       "  </tbody>\n",
       "</table>\n",
       "<p>13508 rows × 15 columns</p>\n",
       "</div>"
      ],
      "text/plain": [
       "          SKU  Store  Elasticity       P_value       Q1_Qty    Q1_Price  \\\n",
       "0       14408   2834   -1.248910  2.932442e-61   202.344444   60.457444   \n",
       "1      150862   2834   -1.006074  2.219744e-64   266.366667  301.042889   \n",
       "2      213851   2834   -1.328601  5.668468e-03  4141.500000   90.424887   \n",
       "3      149856   2676   -0.960983  2.450502e-20     2.000000  336.777778   \n",
       "4        4240   1498   -0.561682  3.082433e-02     2.000000   79.000000   \n",
       "...       ...    ...         ...           ...          ...         ...   \n",
       "13503   13154   1093   -4.951978  4.565353e-53    11.733333   80.611111   \n",
       "13504   18086   1110   -4.119013  2.907439e-35    20.844444  289.488889   \n",
       "13505   97331   1132   -0.203404  1.443094e-06     1.188889  345.000000   \n",
       "13506   18086   1108   -6.240736  1.938132e-24    29.639535  323.627907   \n",
       "13507  127659   1173   -3.017595  2.184020e-24     1.900000  485.222222   \n",
       "\n",
       "       Q1_Elasticity      Q1_Ttest  ClassId  CategoryId  ClusterId  GroupId  \\\n",
       "0      -3.693639e+00  6.597211e-08   2003.0      2561.0       27.0   2047.0   \n",
       "1      -1.490706e+00  1.388874e-14   2003.0      2547.0        4.0   2047.0   \n",
       "2      -5.872169e-01  4.622280e-01   2003.0      2496.0      456.0   2037.0   \n",
       "3      -1.075529e-15  9.347857e-01   2003.0      3023.0      458.0   2037.0   \n",
       "4       2.507087e-01  0.000000e+00   2003.0      2692.0      455.0   2037.0   \n",
       "...              ...           ...      ...         ...        ...      ...   \n",
       "13503  -6.440381e+00  1.936741e-13   2003.0      2489.0      467.0   2037.0   \n",
       "13504  -6.259203e+00  1.033173e-04   2003.0      2711.0       39.0   2047.0   \n",
       "13505   1.316588e-01  1.256047e-63   2003.0      2528.0       34.0   2047.0   \n",
       "13506   1.860400e+01  2.855984e-08   2003.0      2711.0       39.0   2047.0   \n",
       "13507  -1.918458e+00  6.252089e-07   2003.0      4001.0       45.0   2047.0   \n",
       "\n",
       "       SubGroupId  StoreAge         StoreCity  \n",
       "0          2356.0       2.0  Интернет-магазин  \n",
       "1          2099.0       2.0  Интернет-магазин  \n",
       "2          2105.0       2.0  Интернет-магазин  \n",
       "3          2105.0       3.0                ЛО  \n",
       "4          2105.0      17.0               СПб  \n",
       "...           ...       ...               ...  \n",
       "13503      2111.0       9.0               СПб  \n",
       "13504      2151.0       6.0               СПб  \n",
       "13505      2212.0       4.0               СПб  \n",
       "13506      2151.0       6.0               СПб  \n",
       "13507      2334.0       4.0               СПб  \n",
       "\n",
       "[13508 rows x 15 columns]"
      ]
     },
     "execution_count": 42,
     "metadata": {},
     "output_type": "execute_result"
    }
   ],
   "source": [
    "df_store_sku.reset_index(drop=True, inplace=True)\n",
    "df_store_sku"
   ]
  },
  {
   "cell_type": "code",
   "execution_count": 45,
   "metadata": {
    "ExecuteTime": {
     "end_time": "2021-05-06T13:01:04.692129Z",
     "start_time": "2021-05-06T13:01:04.675650Z"
    }
   },
   "outputs": [],
   "source": [
    "df_store_sku.ClassId = df_store_sku.ClassId.astype('int')\n",
    "df_store_sku.CategoryId = df_store_sku.CategoryId.astype('int')\n",
    "df_store_sku.ClusterId = df_store_sku.ClusterId.astype('int')\n",
    "df_store_sku.GroupId = df_store_sku.GroupId.astype('int')\n",
    "df_store_sku.SubGroupId = df_store_sku.SubGroupId.astype('int')\n",
    "df_store_sku.StoreAge = df_store_sku.StoreAge.astype('int')"
   ]
  },
  {
   "cell_type": "code",
   "execution_count": 46,
   "metadata": {
    "ExecuteTime": {
     "end_time": "2021-05-06T13:01:12.123617Z",
     "start_time": "2021-05-06T13:01:12.095317Z"
    }
   },
   "outputs": [
    {
     "data": {
      "text/html": [
       "<div>\n",
       "<style scoped>\n",
       "    .dataframe tbody tr th:only-of-type {\n",
       "        vertical-align: middle;\n",
       "    }\n",
       "\n",
       "    .dataframe tbody tr th {\n",
       "        vertical-align: top;\n",
       "    }\n",
       "\n",
       "    .dataframe thead th {\n",
       "        text-align: right;\n",
       "    }\n",
       "</style>\n",
       "<table border=\"1\" class=\"dataframe\">\n",
       "  <thead>\n",
       "    <tr style=\"text-align: right;\">\n",
       "      <th></th>\n",
       "      <th>SKU</th>\n",
       "      <th>Store</th>\n",
       "      <th>Elasticity</th>\n",
       "      <th>P_value</th>\n",
       "      <th>Q1_Qty</th>\n",
       "      <th>Q1_Price</th>\n",
       "      <th>Q1_Elasticity</th>\n",
       "      <th>Q1_Ttest</th>\n",
       "      <th>ClassId</th>\n",
       "      <th>CategoryId</th>\n",
       "      <th>ClusterId</th>\n",
       "      <th>GroupId</th>\n",
       "      <th>SubGroupId</th>\n",
       "      <th>StoreAge</th>\n",
       "      <th>StoreCity</th>\n",
       "    </tr>\n",
       "  </thead>\n",
       "  <tbody>\n",
       "    <tr>\n",
       "      <th>0</th>\n",
       "      <td>14408</td>\n",
       "      <td>2834</td>\n",
       "      <td>-1.248910</td>\n",
       "      <td>2.932442e-61</td>\n",
       "      <td>202.344444</td>\n",
       "      <td>60.457444</td>\n",
       "      <td>-3.693639e+00</td>\n",
       "      <td>6.597211e-08</td>\n",
       "      <td>2003</td>\n",
       "      <td>2561</td>\n",
       "      <td>27</td>\n",
       "      <td>2047</td>\n",
       "      <td>2356</td>\n",
       "      <td>2</td>\n",
       "      <td>Интернет-магазин</td>\n",
       "    </tr>\n",
       "    <tr>\n",
       "      <th>1</th>\n",
       "      <td>150862</td>\n",
       "      <td>2834</td>\n",
       "      <td>-1.006074</td>\n",
       "      <td>2.219744e-64</td>\n",
       "      <td>266.366667</td>\n",
       "      <td>301.042889</td>\n",
       "      <td>-1.490706e+00</td>\n",
       "      <td>1.388874e-14</td>\n",
       "      <td>2003</td>\n",
       "      <td>2547</td>\n",
       "      <td>4</td>\n",
       "      <td>2047</td>\n",
       "      <td>2099</td>\n",
       "      <td>2</td>\n",
       "      <td>Интернет-магазин</td>\n",
       "    </tr>\n",
       "    <tr>\n",
       "      <th>2</th>\n",
       "      <td>213851</td>\n",
       "      <td>2834</td>\n",
       "      <td>-1.328601</td>\n",
       "      <td>5.668468e-03</td>\n",
       "      <td>4141.500000</td>\n",
       "      <td>90.424887</td>\n",
       "      <td>-5.872169e-01</td>\n",
       "      <td>4.622280e-01</td>\n",
       "      <td>2003</td>\n",
       "      <td>2496</td>\n",
       "      <td>456</td>\n",
       "      <td>2037</td>\n",
       "      <td>2105</td>\n",
       "      <td>2</td>\n",
       "      <td>Интернет-магазин</td>\n",
       "    </tr>\n",
       "    <tr>\n",
       "      <th>3</th>\n",
       "      <td>149856</td>\n",
       "      <td>2676</td>\n",
       "      <td>-0.960983</td>\n",
       "      <td>2.450502e-20</td>\n",
       "      <td>2.000000</td>\n",
       "      <td>336.777778</td>\n",
       "      <td>-1.075529e-15</td>\n",
       "      <td>9.347857e-01</td>\n",
       "      <td>2003</td>\n",
       "      <td>3023</td>\n",
       "      <td>458</td>\n",
       "      <td>2037</td>\n",
       "      <td>2105</td>\n",
       "      <td>3</td>\n",
       "      <td>ЛО</td>\n",
       "    </tr>\n",
       "    <tr>\n",
       "      <th>4</th>\n",
       "      <td>4240</td>\n",
       "      <td>1498</td>\n",
       "      <td>-0.561682</td>\n",
       "      <td>3.082433e-02</td>\n",
       "      <td>2.000000</td>\n",
       "      <td>79.000000</td>\n",
       "      <td>2.507087e-01</td>\n",
       "      <td>0.000000e+00</td>\n",
       "      <td>2003</td>\n",
       "      <td>2692</td>\n",
       "      <td>455</td>\n",
       "      <td>2037</td>\n",
       "      <td>2105</td>\n",
       "      <td>17</td>\n",
       "      <td>СПб</td>\n",
       "    </tr>\n",
       "    <tr>\n",
       "      <th>...</th>\n",
       "      <td>...</td>\n",
       "      <td>...</td>\n",
       "      <td>...</td>\n",
       "      <td>...</td>\n",
       "      <td>...</td>\n",
       "      <td>...</td>\n",
       "      <td>...</td>\n",
       "      <td>...</td>\n",
       "      <td>...</td>\n",
       "      <td>...</td>\n",
       "      <td>...</td>\n",
       "      <td>...</td>\n",
       "      <td>...</td>\n",
       "      <td>...</td>\n",
       "      <td>...</td>\n",
       "    </tr>\n",
       "    <tr>\n",
       "      <th>13503</th>\n",
       "      <td>13154</td>\n",
       "      <td>1093</td>\n",
       "      <td>-4.951978</td>\n",
       "      <td>4.565353e-53</td>\n",
       "      <td>11.733333</td>\n",
       "      <td>80.611111</td>\n",
       "      <td>-6.440381e+00</td>\n",
       "      <td>1.936741e-13</td>\n",
       "      <td>2003</td>\n",
       "      <td>2489</td>\n",
       "      <td>467</td>\n",
       "      <td>2037</td>\n",
       "      <td>2111</td>\n",
       "      <td>9</td>\n",
       "      <td>СПб</td>\n",
       "    </tr>\n",
       "    <tr>\n",
       "      <th>13504</th>\n",
       "      <td>18086</td>\n",
       "      <td>1110</td>\n",
       "      <td>-4.119013</td>\n",
       "      <td>2.907439e-35</td>\n",
       "      <td>20.844444</td>\n",
       "      <td>289.488889</td>\n",
       "      <td>-6.259203e+00</td>\n",
       "      <td>1.033173e-04</td>\n",
       "      <td>2003</td>\n",
       "      <td>2711</td>\n",
       "      <td>39</td>\n",
       "      <td>2047</td>\n",
       "      <td>2151</td>\n",
       "      <td>6</td>\n",
       "      <td>СПб</td>\n",
       "    </tr>\n",
       "    <tr>\n",
       "      <th>13505</th>\n",
       "      <td>97331</td>\n",
       "      <td>1132</td>\n",
       "      <td>-0.203404</td>\n",
       "      <td>1.443094e-06</td>\n",
       "      <td>1.188889</td>\n",
       "      <td>345.000000</td>\n",
       "      <td>1.316588e-01</td>\n",
       "      <td>1.256047e-63</td>\n",
       "      <td>2003</td>\n",
       "      <td>2528</td>\n",
       "      <td>34</td>\n",
       "      <td>2047</td>\n",
       "      <td>2212</td>\n",
       "      <td>4</td>\n",
       "      <td>СПб</td>\n",
       "    </tr>\n",
       "    <tr>\n",
       "      <th>13506</th>\n",
       "      <td>18086</td>\n",
       "      <td>1108</td>\n",
       "      <td>-6.240736</td>\n",
       "      <td>1.938132e-24</td>\n",
       "      <td>29.639535</td>\n",
       "      <td>323.627907</td>\n",
       "      <td>1.860400e+01</td>\n",
       "      <td>2.855984e-08</td>\n",
       "      <td>2003</td>\n",
       "      <td>2711</td>\n",
       "      <td>39</td>\n",
       "      <td>2047</td>\n",
       "      <td>2151</td>\n",
       "      <td>6</td>\n",
       "      <td>СПб</td>\n",
       "    </tr>\n",
       "    <tr>\n",
       "      <th>13507</th>\n",
       "      <td>127659</td>\n",
       "      <td>1173</td>\n",
       "      <td>-3.017595</td>\n",
       "      <td>2.184020e-24</td>\n",
       "      <td>1.900000</td>\n",
       "      <td>485.222222</td>\n",
       "      <td>-1.918458e+00</td>\n",
       "      <td>6.252089e-07</td>\n",
       "      <td>2003</td>\n",
       "      <td>4001</td>\n",
       "      <td>45</td>\n",
       "      <td>2047</td>\n",
       "      <td>2334</td>\n",
       "      <td>4</td>\n",
       "      <td>СПб</td>\n",
       "    </tr>\n",
       "  </tbody>\n",
       "</table>\n",
       "<p>13508 rows × 15 columns</p>\n",
       "</div>"
      ],
      "text/plain": [
       "          SKU  Store  Elasticity       P_value       Q1_Qty    Q1_Price  \\\n",
       "0       14408   2834   -1.248910  2.932442e-61   202.344444   60.457444   \n",
       "1      150862   2834   -1.006074  2.219744e-64   266.366667  301.042889   \n",
       "2      213851   2834   -1.328601  5.668468e-03  4141.500000   90.424887   \n",
       "3      149856   2676   -0.960983  2.450502e-20     2.000000  336.777778   \n",
       "4        4240   1498   -0.561682  3.082433e-02     2.000000   79.000000   \n",
       "...       ...    ...         ...           ...          ...         ...   \n",
       "13503   13154   1093   -4.951978  4.565353e-53    11.733333   80.611111   \n",
       "13504   18086   1110   -4.119013  2.907439e-35    20.844444  289.488889   \n",
       "13505   97331   1132   -0.203404  1.443094e-06     1.188889  345.000000   \n",
       "13506   18086   1108   -6.240736  1.938132e-24    29.639535  323.627907   \n",
       "13507  127659   1173   -3.017595  2.184020e-24     1.900000  485.222222   \n",
       "\n",
       "       Q1_Elasticity      Q1_Ttest  ClassId  CategoryId  ClusterId  GroupId  \\\n",
       "0      -3.693639e+00  6.597211e-08     2003        2561         27     2047   \n",
       "1      -1.490706e+00  1.388874e-14     2003        2547          4     2047   \n",
       "2      -5.872169e-01  4.622280e-01     2003        2496        456     2037   \n",
       "3      -1.075529e-15  9.347857e-01     2003        3023        458     2037   \n",
       "4       2.507087e-01  0.000000e+00     2003        2692        455     2037   \n",
       "...              ...           ...      ...         ...        ...      ...   \n",
       "13503  -6.440381e+00  1.936741e-13     2003        2489        467     2037   \n",
       "13504  -6.259203e+00  1.033173e-04     2003        2711         39     2047   \n",
       "13505   1.316588e-01  1.256047e-63     2003        2528         34     2047   \n",
       "13506   1.860400e+01  2.855984e-08     2003        2711         39     2047   \n",
       "13507  -1.918458e+00  6.252089e-07     2003        4001         45     2047   \n",
       "\n",
       "       SubGroupId  StoreAge         StoreCity  \n",
       "0            2356         2  Интернет-магазин  \n",
       "1            2099         2  Интернет-магазин  \n",
       "2            2105         2  Интернет-магазин  \n",
       "3            2105         3                ЛО  \n",
       "4            2105        17               СПб  \n",
       "...           ...       ...               ...  \n",
       "13503        2111         9               СПб  \n",
       "13504        2151         6               СПб  \n",
       "13505        2212         4               СПб  \n",
       "13506        2151         6               СПб  \n",
       "13507        2334         4               СПб  \n",
       "\n",
       "[13508 rows x 15 columns]"
      ]
     },
     "execution_count": 46,
     "metadata": {},
     "output_type": "execute_result"
    }
   ],
   "source": [
    "df_store_sku"
   ]
  },
  {
   "cell_type": "code",
   "execution_count": 47,
   "metadata": {
    "ExecuteTime": {
     "end_time": "2021-05-06T13:01:18.884743Z",
     "start_time": "2021-05-06T13:01:18.812424Z"
    }
   },
   "outputs": [],
   "source": [
    "from sklearn.preprocessing import LabelEncoder\n",
    "\n",
    "df_store_sku.StoreCity = LabelEncoder().fit_transform(df_store_sku.StoreCity)"
   ]
  },
  {
   "cell_type": "code",
   "execution_count": 48,
   "metadata": {
    "ExecuteTime": {
     "end_time": "2021-05-06T13:01:58.975622Z",
     "start_time": "2021-05-06T13:01:58.949048Z"
    }
   },
   "outputs": [
    {
     "data": {
      "text/html": [
       "<div>\n",
       "<style scoped>\n",
       "    .dataframe tbody tr th:only-of-type {\n",
       "        vertical-align: middle;\n",
       "    }\n",
       "\n",
       "    .dataframe tbody tr th {\n",
       "        vertical-align: top;\n",
       "    }\n",
       "\n",
       "    .dataframe thead th {\n",
       "        text-align: right;\n",
       "    }\n",
       "</style>\n",
       "<table border=\"1\" class=\"dataframe\">\n",
       "  <thead>\n",
       "    <tr style=\"text-align: right;\">\n",
       "      <th></th>\n",
       "      <th>SKU</th>\n",
       "      <th>Store</th>\n",
       "      <th>Elasticity</th>\n",
       "      <th>P_value</th>\n",
       "      <th>Q1_Qty</th>\n",
       "      <th>Q1_Price</th>\n",
       "      <th>Q1_Elasticity</th>\n",
       "      <th>Q1_Ttest</th>\n",
       "      <th>ClassId</th>\n",
       "      <th>CategoryId</th>\n",
       "      <th>ClusterId</th>\n",
       "      <th>GroupId</th>\n",
       "      <th>SubGroupId</th>\n",
       "      <th>StoreAge</th>\n",
       "      <th>StoreCity</th>\n",
       "    </tr>\n",
       "  </thead>\n",
       "  <tbody>\n",
       "    <tr>\n",
       "      <th>0</th>\n",
       "      <td>14408</td>\n",
       "      <td>2834</td>\n",
       "      <td>-1.248910</td>\n",
       "      <td>2.932442e-61</td>\n",
       "      <td>202.344444</td>\n",
       "      <td>60.457444</td>\n",
       "      <td>-3.693639e+00</td>\n",
       "      <td>6.597211e-08</td>\n",
       "      <td>2003</td>\n",
       "      <td>2561</td>\n",
       "      <td>27</td>\n",
       "      <td>2047</td>\n",
       "      <td>2356</td>\n",
       "      <td>2</td>\n",
       "      <td>2</td>\n",
       "    </tr>\n",
       "    <tr>\n",
       "      <th>1</th>\n",
       "      <td>150862</td>\n",
       "      <td>2834</td>\n",
       "      <td>-1.006074</td>\n",
       "      <td>2.219744e-64</td>\n",
       "      <td>266.366667</td>\n",
       "      <td>301.042889</td>\n",
       "      <td>-1.490706e+00</td>\n",
       "      <td>1.388874e-14</td>\n",
       "      <td>2003</td>\n",
       "      <td>2547</td>\n",
       "      <td>4</td>\n",
       "      <td>2047</td>\n",
       "      <td>2099</td>\n",
       "      <td>2</td>\n",
       "      <td>2</td>\n",
       "    </tr>\n",
       "    <tr>\n",
       "      <th>2</th>\n",
       "      <td>213851</td>\n",
       "      <td>2834</td>\n",
       "      <td>-1.328601</td>\n",
       "      <td>5.668468e-03</td>\n",
       "      <td>4141.500000</td>\n",
       "      <td>90.424887</td>\n",
       "      <td>-5.872169e-01</td>\n",
       "      <td>4.622280e-01</td>\n",
       "      <td>2003</td>\n",
       "      <td>2496</td>\n",
       "      <td>456</td>\n",
       "      <td>2037</td>\n",
       "      <td>2105</td>\n",
       "      <td>2</td>\n",
       "      <td>2</td>\n",
       "    </tr>\n",
       "    <tr>\n",
       "      <th>3</th>\n",
       "      <td>149856</td>\n",
       "      <td>2676</td>\n",
       "      <td>-0.960983</td>\n",
       "      <td>2.450502e-20</td>\n",
       "      <td>2.000000</td>\n",
       "      <td>336.777778</td>\n",
       "      <td>-1.075529e-15</td>\n",
       "      <td>9.347857e-01</td>\n",
       "      <td>2003</td>\n",
       "      <td>3023</td>\n",
       "      <td>458</td>\n",
       "      <td>2037</td>\n",
       "      <td>2105</td>\n",
       "      <td>3</td>\n",
       "      <td>3</td>\n",
       "    </tr>\n",
       "    <tr>\n",
       "      <th>4</th>\n",
       "      <td>4240</td>\n",
       "      <td>1498</td>\n",
       "      <td>-0.561682</td>\n",
       "      <td>3.082433e-02</td>\n",
       "      <td>2.000000</td>\n",
       "      <td>79.000000</td>\n",
       "      <td>2.507087e-01</td>\n",
       "      <td>0.000000e+00</td>\n",
       "      <td>2003</td>\n",
       "      <td>2692</td>\n",
       "      <td>455</td>\n",
       "      <td>2037</td>\n",
       "      <td>2105</td>\n",
       "      <td>17</td>\n",
       "      <td>5</td>\n",
       "    </tr>\n",
       "    <tr>\n",
       "      <th>...</th>\n",
       "      <td>...</td>\n",
       "      <td>...</td>\n",
       "      <td>...</td>\n",
       "      <td>...</td>\n",
       "      <td>...</td>\n",
       "      <td>...</td>\n",
       "      <td>...</td>\n",
       "      <td>...</td>\n",
       "      <td>...</td>\n",
       "      <td>...</td>\n",
       "      <td>...</td>\n",
       "      <td>...</td>\n",
       "      <td>...</td>\n",
       "      <td>...</td>\n",
       "      <td>...</td>\n",
       "    </tr>\n",
       "    <tr>\n",
       "      <th>13503</th>\n",
       "      <td>13154</td>\n",
       "      <td>1093</td>\n",
       "      <td>-4.951978</td>\n",
       "      <td>4.565353e-53</td>\n",
       "      <td>11.733333</td>\n",
       "      <td>80.611111</td>\n",
       "      <td>-6.440381e+00</td>\n",
       "      <td>1.936741e-13</td>\n",
       "      <td>2003</td>\n",
       "      <td>2489</td>\n",
       "      <td>467</td>\n",
       "      <td>2037</td>\n",
       "      <td>2111</td>\n",
       "      <td>9</td>\n",
       "      <td>5</td>\n",
       "    </tr>\n",
       "    <tr>\n",
       "      <th>13504</th>\n",
       "      <td>18086</td>\n",
       "      <td>1110</td>\n",
       "      <td>-4.119013</td>\n",
       "      <td>2.907439e-35</td>\n",
       "      <td>20.844444</td>\n",
       "      <td>289.488889</td>\n",
       "      <td>-6.259203e+00</td>\n",
       "      <td>1.033173e-04</td>\n",
       "      <td>2003</td>\n",
       "      <td>2711</td>\n",
       "      <td>39</td>\n",
       "      <td>2047</td>\n",
       "      <td>2151</td>\n",
       "      <td>6</td>\n",
       "      <td>5</td>\n",
       "    </tr>\n",
       "    <tr>\n",
       "      <th>13505</th>\n",
       "      <td>97331</td>\n",
       "      <td>1132</td>\n",
       "      <td>-0.203404</td>\n",
       "      <td>1.443094e-06</td>\n",
       "      <td>1.188889</td>\n",
       "      <td>345.000000</td>\n",
       "      <td>1.316588e-01</td>\n",
       "      <td>1.256047e-63</td>\n",
       "      <td>2003</td>\n",
       "      <td>2528</td>\n",
       "      <td>34</td>\n",
       "      <td>2047</td>\n",
       "      <td>2212</td>\n",
       "      <td>4</td>\n",
       "      <td>5</td>\n",
       "    </tr>\n",
       "    <tr>\n",
       "      <th>13506</th>\n",
       "      <td>18086</td>\n",
       "      <td>1108</td>\n",
       "      <td>-6.240736</td>\n",
       "      <td>1.938132e-24</td>\n",
       "      <td>29.639535</td>\n",
       "      <td>323.627907</td>\n",
       "      <td>1.860400e+01</td>\n",
       "      <td>2.855984e-08</td>\n",
       "      <td>2003</td>\n",
       "      <td>2711</td>\n",
       "      <td>39</td>\n",
       "      <td>2047</td>\n",
       "      <td>2151</td>\n",
       "      <td>6</td>\n",
       "      <td>5</td>\n",
       "    </tr>\n",
       "    <tr>\n",
       "      <th>13507</th>\n",
       "      <td>127659</td>\n",
       "      <td>1173</td>\n",
       "      <td>-3.017595</td>\n",
       "      <td>2.184020e-24</td>\n",
       "      <td>1.900000</td>\n",
       "      <td>485.222222</td>\n",
       "      <td>-1.918458e+00</td>\n",
       "      <td>6.252089e-07</td>\n",
       "      <td>2003</td>\n",
       "      <td>4001</td>\n",
       "      <td>45</td>\n",
       "      <td>2047</td>\n",
       "      <td>2334</td>\n",
       "      <td>4</td>\n",
       "      <td>5</td>\n",
       "    </tr>\n",
       "  </tbody>\n",
       "</table>\n",
       "<p>13508 rows × 15 columns</p>\n",
       "</div>"
      ],
      "text/plain": [
       "          SKU  Store  Elasticity       P_value       Q1_Qty    Q1_Price  \\\n",
       "0       14408   2834   -1.248910  2.932442e-61   202.344444   60.457444   \n",
       "1      150862   2834   -1.006074  2.219744e-64   266.366667  301.042889   \n",
       "2      213851   2834   -1.328601  5.668468e-03  4141.500000   90.424887   \n",
       "3      149856   2676   -0.960983  2.450502e-20     2.000000  336.777778   \n",
       "4        4240   1498   -0.561682  3.082433e-02     2.000000   79.000000   \n",
       "...       ...    ...         ...           ...          ...         ...   \n",
       "13503   13154   1093   -4.951978  4.565353e-53    11.733333   80.611111   \n",
       "13504   18086   1110   -4.119013  2.907439e-35    20.844444  289.488889   \n",
       "13505   97331   1132   -0.203404  1.443094e-06     1.188889  345.000000   \n",
       "13506   18086   1108   -6.240736  1.938132e-24    29.639535  323.627907   \n",
       "13507  127659   1173   -3.017595  2.184020e-24     1.900000  485.222222   \n",
       "\n",
       "       Q1_Elasticity      Q1_Ttest  ClassId  CategoryId  ClusterId  GroupId  \\\n",
       "0      -3.693639e+00  6.597211e-08     2003        2561         27     2047   \n",
       "1      -1.490706e+00  1.388874e-14     2003        2547          4     2047   \n",
       "2      -5.872169e-01  4.622280e-01     2003        2496        456     2037   \n",
       "3      -1.075529e-15  9.347857e-01     2003        3023        458     2037   \n",
       "4       2.507087e-01  0.000000e+00     2003        2692        455     2037   \n",
       "...              ...           ...      ...         ...        ...      ...   \n",
       "13503  -6.440381e+00  1.936741e-13     2003        2489        467     2037   \n",
       "13504  -6.259203e+00  1.033173e-04     2003        2711         39     2047   \n",
       "13505   1.316588e-01  1.256047e-63     2003        2528         34     2047   \n",
       "13506   1.860400e+01  2.855984e-08     2003        2711         39     2047   \n",
       "13507  -1.918458e+00  6.252089e-07     2003        4001         45     2047   \n",
       "\n",
       "       SubGroupId  StoreAge  StoreCity  \n",
       "0            2356         2          2  \n",
       "1            2099         2          2  \n",
       "2            2105         2          2  \n",
       "3            2105         3          3  \n",
       "4            2105        17          5  \n",
       "...           ...       ...        ...  \n",
       "13503        2111         9          5  \n",
       "13504        2151         6          5  \n",
       "13505        2212         4          5  \n",
       "13506        2151         6          5  \n",
       "13507        2334         4          5  \n",
       "\n",
       "[13508 rows x 15 columns]"
      ]
     },
     "execution_count": 48,
     "metadata": {},
     "output_type": "execute_result"
    }
   ],
   "source": [
    "df_store_sku"
   ]
  },
  {
   "cell_type": "code",
   "execution_count": 53,
   "metadata": {
    "ExecuteTime": {
     "end_time": "2021-05-06T13:02:59.940201Z",
     "start_time": "2021-05-06T13:02:59.933516Z"
    }
   },
   "outputs": [],
   "source": [
    "X = df_store_sku[['SKU', 'Store', 'ClassId', 'CategoryId', 'ClusterId', 'StoreAge', 'StoreCity', 'Q1_Qty', 'Q1_Price', 'Q1_Elasticity', 'Q1_Ttest']].to_numpy()\n",
    "y = df_store_sku['Elasticity'].to_numpy()"
   ]
  },
  {
   "cell_type": "code",
   "execution_count": 54,
   "metadata": {
    "ExecuteTime": {
     "end_time": "2021-05-06T13:03:00.578348Z",
     "start_time": "2021-05-06T13:03:00.571273Z"
    }
   },
   "outputs": [],
   "source": [
    "from sklearn.model_selection import train_test_split\n",
    "\n",
    "X_train, X_test, y_train, y_test = train_test_split(X, y, test_size=0.1, random_state=42)"
   ]
  },
  {
   "cell_type": "code",
   "execution_count": 55,
   "metadata": {
    "ExecuteTime": {
     "end_time": "2021-05-06T13:03:12.758794Z",
     "start_time": "2021-05-06T13:03:03.349619Z"
    }
   },
   "outputs": [],
   "source": [
    "from sklearn.ensemble import RandomForestRegressor\n",
    "from sklearn.metrics import mean_squared_error\n",
    "\n",
    "reg = RandomForestRegressor().fit(X_train, y_train)"
   ]
  },
  {
   "cell_type": "code",
   "execution_count": 56,
   "metadata": {
    "ExecuteTime": {
     "end_time": "2021-05-06T13:03:15.328279Z",
     "start_time": "2021-05-06T13:03:15.247858Z"
    }
   },
   "outputs": [
    {
     "data": {
      "text/plain": [
       "3.029622222652878"
      ]
     },
     "execution_count": 56,
     "metadata": {},
     "output_type": "execute_result"
    }
   ],
   "source": [
    "mean_squared_error(y_test, reg.predict(X_test))"
   ]
  },
  {
   "cell_type": "code",
   "execution_count": 57,
   "metadata": {
    "ExecuteTime": {
     "end_time": "2021-05-06T13:03:17.007990Z",
     "start_time": "2021-05-06T13:03:16.763649Z"
    }
   },
   "outputs": [
    {
     "data": {
      "text/plain": [
       "Text(0, 0.5, 'True value')"
      ]
     },
     "execution_count": 57,
     "metadata": {},
     "output_type": "execute_result"
    },
    {
     "data": {
      "image/png": "[encoded data removed]",
      "text/plain": [
       "<Figure size 720x576 with 1 Axes>"
      ]
     },
     "metadata": {
      "needs_background": "light"
     },
     "output_type": "display_data"
    }
   ],
   "source": [
    "plt.figure(figsize=(10, 8))\n",
    "plt.plot(reg.predict(X_test), y_test, 'o')\n",
    "plt.xlabel('Prediction')\n",
    "plt.ylabel('True value')"
   ]
  },
  {
   "cell_type": "markdown",
   "metadata": {},
   "source": [
    "# One Hot Encoding"
   ]
  },
  {
   "cell_type": "code",
   "execution_count": 58,
   "metadata": {
    "ExecuteTime": {
     "end_time": "2021-05-06T13:04:42.678990Z",
     "start_time": "2021-05-06T13:04:42.671831Z"
    }
   },
   "outputs": [],
   "source": [
    "X = df_store_sku[['SKU', 'Store', 'ClassId', 'CategoryId', 'ClusterId', 'StoreAge', 'StoreCity', 'Q1_Qty', 'Q1_Price', 'Q1_Elasticity', 'Q1_Ttest']]\n",
    "y = df_store_sku['Elasticity']"
   ]
  },
  {
   "cell_type": "code",
   "execution_count": 59,
   "metadata": {
    "ExecuteTime": {
     "end_time": "2021-05-06T13:04:57.942854Z",
     "start_time": "2021-05-06T13:04:57.931358Z"
    }
   },
   "outputs": [],
   "source": [
    "X_train, X_test, y_train, y_test = train_test_split(X, y, test_size=0.1, random_state=42)"
   ]
  },
  {
   "cell_type": "code",
   "execution_count": 61,
   "metadata": {
    "ExecuteTime": {
     "end_time": "2021-05-06T13:07:11.919811Z",
     "start_time": "2021-05-06T13:07:11.915664Z"
    }
   },
   "outputs": [],
   "source": [
    "from sklearn.compose import ColumnTransformer\n",
    "from sklearn.pipeline import Pipeline\n",
    "from sklearn.preprocessing import OneHotEncoder"
   ]
  },
  {
   "cell_type": "code",
   "execution_count": 63,
   "metadata": {
    "ExecuteTime": {
     "end_time": "2021-05-06T13:07:49.841092Z",
     "start_time": "2021-05-06T13:07:49.836560Z"
    }
   },
   "outputs": [],
   "source": [
    "categorical = ['ClassId', 'CategoryId', 'ClusterId', 'StoreAge', 'StoreCity']"
   ]
  },
  {
   "cell_type": "code",
   "execution_count": 64,
   "metadata": {
    "ExecuteTime": {
     "end_time": "2021-05-06T13:08:54.065548Z",
     "start_time": "2021-05-06T13:08:38.804755Z"
    }
   },
   "outputs": [],
   "source": [
    "column_transformer = ColumnTransformer([\n",
    "    ('ohe', OneHotEncoder(handle_unknown='ignore'), categorical)\n",
    "])\n",
    "\n",
    "pipeline = Pipeline(steps=[\n",
    "    ('ohe', column_transformer),\n",
    "    ('random-forest', RandomForestRegressor())\n",
    "])\n",
    "\n",
    "model = pipeline.fit(X_train, y_train)"
   ]
  },
  {
   "cell_type": "code",
   "execution_count": 65,
   "metadata": {
    "ExecuteTime": {
     "end_time": "2021-05-06T13:09:11.888788Z",
     "start_time": "2021-05-06T13:09:11.830241Z"
    }
   },
   "outputs": [
    {
     "data": {
      "text/plain": [
       "4.404680863351394"
      ]
     },
     "execution_count": 65,
     "metadata": {},
     "output_type": "execute_result"
    }
   ],
   "source": [
    "mean_squared_error(y_test, model.predict(X_test))"
   ]
  },
  {
   "cell_type": "code",
   "execution_count": 66,
   "metadata": {
    "ExecuteTime": {
     "end_time": "2021-05-06T13:09:25.430865Z",
     "start_time": "2021-05-06T13:09:24.847672Z"
    }
   },
   "outputs": [
    {
     "data": {
      "text/plain": [
       "Text(0, 0.5, 'True value')"
      ]
     },
     "execution_count": 66,
     "metadata": {},
     "output_type": "execute_result"
    },
    {
     "data": {
      "image/png": "[encoded data removed]",
      "text/plain": [
       "<Figure size 720x576 with 1 Axes>"
      ]
     },
     "metadata": {
      "needs_background": "light"
     },
     "output_type": "display_data"
    }
   ],
   "source": [
    "plt.figure(figsize=(10, 8))\n",
    "plt.plot(reg.predict(X_test), y_test, 'o')\n",
    "plt.xlabel('Prediction')\n",
    "plt.ylabel('True value')"
   ]
  },
  {
   "cell_type": "code",
   "execution_count": null,
   "metadata": {},
   "outputs": [],
   "source": []
  }
 ],
 "metadata": {
  "kernelspec": {
   "display_name": "Python 3",
   "language": "python",
   "name": "python3"
  },
  "language_info": {
   "codemirror_mode": {
    "name": "ipython",
    "version": 3
   },
   "file_extension": ".py",
   "mimetype": "text/x-python",
   "name": "python",
   "nbconvert_exporter": "python",
   "pygments_lexer": "ipython3",
   "version": "3.7.5"
  }
 },
 "nbformat": 4,
 "nbformat_minor": 4
}
