{
 "cells": [
  {
   "cell_type": "code",
   "execution_count": 1,
   "metadata": {
    "ExecuteTime": {
     "end_time": "2021-05-11T13:38:51.066225Z",
     "start_time": "2021-05-11T13:38:48.985674Z"
    }
   },
   "outputs": [],
   "source": [
    "import pandas as pd\n",
    "import numpy as np\n",
    "import statsmodels.api as sm\n",
    "import matplotlib.pyplot as plt\n",
    "import gc\n",
    "import sys\n",
    "from statsmodels.formula.api import ols\n",
    "from IPython.display import clear_output\n",
    "from numba import njit, jit"
   ]
  },
  {
   "cell_type": "code",
   "execution_count": 2,
   "metadata": {
    "ExecuteTime": {
     "end_time": "2021-05-07T12:32:14.403660Z",
     "start_time": "2021-05-07T12:31:19.601245Z"
    }
   },
   "outputs": [],
   "source": [
    "df = pd.read_csv('SALES_2019.csv', parse_dates=['Date'])"
   ]
  },
  {
   "cell_type": "code",
   "execution_count": 3,
   "metadata": {
    "ExecuteTime": {
     "end_time": "2021-05-07T12:32:14.426828Z",
     "start_time": "2021-05-07T12:32:14.406093Z"
    }
   },
   "outputs": [
    {
     "data": {
      "text/html": [
       "<div>\n",
       "<style scoped>\n",
       "    .dataframe tbody tr th:only-of-type {\n",
       "        vertical-align: middle;\n",
       "    }\n",
       "\n",
       "    .dataframe tbody tr th {\n",
       "        vertical-align: top;\n",
       "    }\n",
       "\n",
       "    .dataframe thead th {\n",
       "        text-align: right;\n",
       "    }\n",
       "</style>\n",
       "<table border=\"1\" class=\"dataframe\">\n",
       "  <thead>\n",
       "    <tr style=\"text-align: right;\">\n",
       "      <th></th>\n",
       "      <th>SKU_ID</th>\n",
       "      <th>Store_ID</th>\n",
       "      <th>Date</th>\n",
       "      <th>Demand</th>\n",
       "      <th>Regular_Price</th>\n",
       "    </tr>\n",
       "  </thead>\n",
       "  <tbody>\n",
       "    <tr>\n",
       "      <th>0</th>\n",
       "      <td>114</td>\n",
       "      <td>1078</td>\n",
       "      <td>2019-01-01</td>\n",
       "      <td>2.0</td>\n",
       "      <td>51.0</td>\n",
       "    </tr>\n",
       "    <tr>\n",
       "      <th>1</th>\n",
       "      <td>114</td>\n",
       "      <td>1078</td>\n",
       "      <td>2019-01-02</td>\n",
       "      <td>2.0</td>\n",
       "      <td>51.0</td>\n",
       "    </tr>\n",
       "    <tr>\n",
       "      <th>2</th>\n",
       "      <td>114</td>\n",
       "      <td>1078</td>\n",
       "      <td>2019-01-03</td>\n",
       "      <td>2.0</td>\n",
       "      <td>51.0</td>\n",
       "    </tr>\n",
       "    <tr>\n",
       "      <th>3</th>\n",
       "      <td>114</td>\n",
       "      <td>1078</td>\n",
       "      <td>2019-01-04</td>\n",
       "      <td>2.0</td>\n",
       "      <td>51.0</td>\n",
       "    </tr>\n",
       "    <tr>\n",
       "      <th>4</th>\n",
       "      <td>114</td>\n",
       "      <td>1078</td>\n",
       "      <td>2019-01-05</td>\n",
       "      <td>2.0</td>\n",
       "      <td>51.0</td>\n",
       "    </tr>\n",
       "    <tr>\n",
       "      <th>...</th>\n",
       "      <td>...</td>\n",
       "      <td>...</td>\n",
       "      <td>...</td>\n",
       "      <td>...</td>\n",
       "      <td>...</td>\n",
       "    </tr>\n",
       "    <tr>\n",
       "      <th>75549757</th>\n",
       "      <td>363971</td>\n",
       "      <td>2866</td>\n",
       "      <td>2019-12-25</td>\n",
       "      <td>2.0</td>\n",
       "      <td>104.0</td>\n",
       "    </tr>\n",
       "    <tr>\n",
       "      <th>75549758</th>\n",
       "      <td>363971</td>\n",
       "      <td>2866</td>\n",
       "      <td>2019-12-26</td>\n",
       "      <td>2.0</td>\n",
       "      <td>104.0</td>\n",
       "    </tr>\n",
       "    <tr>\n",
       "      <th>75549759</th>\n",
       "      <td>363971</td>\n",
       "      <td>2866</td>\n",
       "      <td>2019-12-27</td>\n",
       "      <td>2.0</td>\n",
       "      <td>104.0</td>\n",
       "    </tr>\n",
       "    <tr>\n",
       "      <th>75549760</th>\n",
       "      <td>363971</td>\n",
       "      <td>2866</td>\n",
       "      <td>2019-12-28</td>\n",
       "      <td>2.0</td>\n",
       "      <td>104.0</td>\n",
       "    </tr>\n",
       "    <tr>\n",
       "      <th>75549761</th>\n",
       "      <td>363971</td>\n",
       "      <td>2866</td>\n",
       "      <td>2019-12-29</td>\n",
       "      <td>2.0</td>\n",
       "      <td>104.0</td>\n",
       "    </tr>\n",
       "  </tbody>\n",
       "</table>\n",
       "<p>75549762 rows × 5 columns</p>\n",
       "</div>"
      ],
      "text/plain": [
       "          SKU_ID  Store_ID       Date  Demand  Regular_Price\n",
       "0            114      1078 2019-01-01     2.0           51.0\n",
       "1            114      1078 2019-01-02     2.0           51.0\n",
       "2            114      1078 2019-01-03     2.0           51.0\n",
       "3            114      1078 2019-01-04     2.0           51.0\n",
       "4            114      1078 2019-01-05     2.0           51.0\n",
       "...          ...       ...        ...     ...            ...\n",
       "75549757  363971      2866 2019-12-25     2.0          104.0\n",
       "75549758  363971      2866 2019-12-26     2.0          104.0\n",
       "75549759  363971      2866 2019-12-27     2.0          104.0\n",
       "75549760  363971      2866 2019-12-28     2.0          104.0\n",
       "75549761  363971      2866 2019-12-29     2.0          104.0\n",
       "\n",
       "[75549762 rows x 5 columns]"
      ]
     },
     "execution_count": 3,
     "metadata": {},
     "output_type": "execute_result"
    }
   ],
   "source": [
    "df"
   ]
  },
  {
   "cell_type": "code",
   "execution_count": 4,
   "metadata": {
    "ExecuteTime": {
     "end_time": "2021-05-07T12:33:31.034309Z",
     "start_time": "2021-05-07T12:33:24.970696Z"
    }
   },
   "outputs": [
    {
     "data": {
      "text/plain": [
       "<AxesSubplot:xlabel='Date'>"
      ]
     },
     "execution_count": 4,
     "metadata": {},
     "output_type": "execute_result"
    },
    {
     "data": {
      "image/png": "[encoded data removed]",
      "text/plain": [
       "<Figure size 1800x360 with 1 Axes>"
      ]
     },
     "metadata": {
      "needs_background": "light"
     },
     "output_type": "display_data"
    }
   ],
   "source": [
    "df.groupby('Date').mean()['Demand'].plot(figsize=(25, 5))"
   ]
  },
  {
   "cell_type": "code",
   "execution_count": 5,
   "metadata": {
    "ExecuteTime": {
     "end_time": "2021-05-07T12:33:38.031751Z",
     "start_time": "2021-05-07T12:33:32.897375Z"
    }
   },
   "outputs": [
    {
     "data": {
      "text/html": [
       "<div>\n",
       "<style scoped>\n",
       "    .dataframe tbody tr th:only-of-type {\n",
       "        vertical-align: middle;\n",
       "    }\n",
       "\n",
       "    .dataframe tbody tr th {\n",
       "        vertical-align: top;\n",
       "    }\n",
       "\n",
       "    .dataframe thead th {\n",
       "        text-align: right;\n",
       "    }\n",
       "</style>\n",
       "<table border=\"1\" class=\"dataframe\">\n",
       "  <thead>\n",
       "    <tr style=\"text-align: right;\">\n",
       "      <th></th>\n",
       "      <th>SKU_ID</th>\n",
       "      <th>Store_ID</th>\n",
       "      <th>Date</th>\n",
       "      <th>Demand</th>\n",
       "      <th>Regular_Price</th>\n",
       "    </tr>\n",
       "  </thead>\n",
       "  <tbody>\n",
       "    <tr>\n",
       "      <th>0</th>\n",
       "      <td>114</td>\n",
       "      <td>1078</td>\n",
       "      <td>2019-01-01</td>\n",
       "      <td>2.0</td>\n",
       "      <td>51.0</td>\n",
       "    </tr>\n",
       "    <tr>\n",
       "      <th>1</th>\n",
       "      <td>114</td>\n",
       "      <td>1078</td>\n",
       "      <td>2019-01-02</td>\n",
       "      <td>2.0</td>\n",
       "      <td>51.0</td>\n",
       "    </tr>\n",
       "    <tr>\n",
       "      <th>2</th>\n",
       "      <td>114</td>\n",
       "      <td>1078</td>\n",
       "      <td>2019-01-03</td>\n",
       "      <td>2.0</td>\n",
       "      <td>51.0</td>\n",
       "    </tr>\n",
       "    <tr>\n",
       "      <th>3</th>\n",
       "      <td>114</td>\n",
       "      <td>1078</td>\n",
       "      <td>2019-01-04</td>\n",
       "      <td>2.0</td>\n",
       "      <td>51.0</td>\n",
       "    </tr>\n",
       "    <tr>\n",
       "      <th>4</th>\n",
       "      <td>114</td>\n",
       "      <td>1078</td>\n",
       "      <td>2019-01-05</td>\n",
       "      <td>2.0</td>\n",
       "      <td>51.0</td>\n",
       "    </tr>\n",
       "    <tr>\n",
       "      <th>...</th>\n",
       "      <td>...</td>\n",
       "      <td>...</td>\n",
       "      <td>...</td>\n",
       "      <td>...</td>\n",
       "      <td>...</td>\n",
       "    </tr>\n",
       "    <tr>\n",
       "      <th>75549757</th>\n",
       "      <td>363971</td>\n",
       "      <td>2866</td>\n",
       "      <td>2019-12-25</td>\n",
       "      <td>2.0</td>\n",
       "      <td>104.0</td>\n",
       "    </tr>\n",
       "    <tr>\n",
       "      <th>75549758</th>\n",
       "      <td>363971</td>\n",
       "      <td>2866</td>\n",
       "      <td>2019-12-26</td>\n",
       "      <td>2.0</td>\n",
       "      <td>104.0</td>\n",
       "    </tr>\n",
       "    <tr>\n",
       "      <th>75549759</th>\n",
       "      <td>363971</td>\n",
       "      <td>2866</td>\n",
       "      <td>2019-12-27</td>\n",
       "      <td>2.0</td>\n",
       "      <td>104.0</td>\n",
       "    </tr>\n",
       "    <tr>\n",
       "      <th>75549760</th>\n",
       "      <td>363971</td>\n",
       "      <td>2866</td>\n",
       "      <td>2019-12-28</td>\n",
       "      <td>2.0</td>\n",
       "      <td>104.0</td>\n",
       "    </tr>\n",
       "    <tr>\n",
       "      <th>75549761</th>\n",
       "      <td>363971</td>\n",
       "      <td>2866</td>\n",
       "      <td>2019-12-29</td>\n",
       "      <td>2.0</td>\n",
       "      <td>104.0</td>\n",
       "    </tr>\n",
       "  </tbody>\n",
       "</table>\n",
       "<p>74803345 rows × 5 columns</p>\n",
       "</div>"
      ],
      "text/plain": [
       "          SKU_ID  Store_ID       Date  Demand  Regular_Price\n",
       "0            114      1078 2019-01-01     2.0           51.0\n",
       "1            114      1078 2019-01-02     2.0           51.0\n",
       "2            114      1078 2019-01-03     2.0           51.0\n",
       "3            114      1078 2019-01-04     2.0           51.0\n",
       "4            114      1078 2019-01-05     2.0           51.0\n",
       "...          ...       ...        ...     ...            ...\n",
       "75549757  363971      2866 2019-12-25     2.0          104.0\n",
       "75549758  363971      2866 2019-12-26     2.0          104.0\n",
       "75549759  363971      2866 2019-12-27     2.0          104.0\n",
       "75549760  363971      2866 2019-12-28     2.0          104.0\n",
       "75549761  363971      2866 2019-12-29     2.0          104.0\n",
       "\n",
       "[74803345 rows x 5 columns]"
      ]
     },
     "execution_count": 5,
     "metadata": {},
     "output_type": "execute_result"
    }
   ],
   "source": [
    "df = df[df.Demand > 0]\n",
    "df"
   ]
  },
  {
   "cell_type": "code",
   "execution_count": 6,
   "metadata": {
    "ExecuteTime": {
     "end_time": "2021-05-07T12:33:49.060617Z",
     "start_time": "2021-05-07T12:33:41.698379Z"
    }
   },
   "outputs": [],
   "source": [
    "popular_pairs = df.groupby(['SKU_ID', 'Store_ID']).size().reset_index(name='counts').sort_values(by='counts', ascending=False).reset_index(drop=True)"
   ]
  },
  {
   "cell_type": "code",
   "execution_count": 7,
   "metadata": {
    "ExecuteTime": {
     "end_time": "2021-05-07T12:33:53.336474Z",
     "start_time": "2021-05-07T12:33:53.326797Z"
    }
   },
   "outputs": [
    {
     "data": {
      "text/html": [
       "<div>\n",
       "<style scoped>\n",
       "    .dataframe tbody tr th:only-of-type {\n",
       "        vertical-align: middle;\n",
       "    }\n",
       "\n",
       "    .dataframe tbody tr th {\n",
       "        vertical-align: top;\n",
       "    }\n",
       "\n",
       "    .dataframe thead th {\n",
       "        text-align: right;\n",
       "    }\n",
       "</style>\n",
       "<table border=\"1\" class=\"dataframe\">\n",
       "  <thead>\n",
       "    <tr style=\"text-align: right;\">\n",
       "      <th></th>\n",
       "      <th>SKU_ID</th>\n",
       "      <th>Store_ID</th>\n",
       "      <th>counts</th>\n",
       "    </tr>\n",
       "  </thead>\n",
       "  <tbody>\n",
       "    <tr>\n",
       "      <th>0</th>\n",
       "      <td>121403</td>\n",
       "      <td>2834</td>\n",
       "      <td>361</td>\n",
       "    </tr>\n",
       "    <tr>\n",
       "      <th>1</th>\n",
       "      <td>14408</td>\n",
       "      <td>2834</td>\n",
       "      <td>361</td>\n",
       "    </tr>\n",
       "    <tr>\n",
       "      <th>2</th>\n",
       "      <td>150862</td>\n",
       "      <td>2834</td>\n",
       "      <td>361</td>\n",
       "    </tr>\n",
       "    <tr>\n",
       "      <th>3</th>\n",
       "      <td>213851</td>\n",
       "      <td>2834</td>\n",
       "      <td>361</td>\n",
       "    </tr>\n",
       "    <tr>\n",
       "      <th>4</th>\n",
       "      <td>93788</td>\n",
       "      <td>2834</td>\n",
       "      <td>361</td>\n",
       "    </tr>\n",
       "    <tr>\n",
       "      <th>5</th>\n",
       "      <td>137749</td>\n",
       "      <td>1855</td>\n",
       "      <td>361</td>\n",
       "    </tr>\n",
       "    <tr>\n",
       "      <th>6</th>\n",
       "      <td>149856</td>\n",
       "      <td>2676</td>\n",
       "      <td>361</td>\n",
       "    </tr>\n",
       "    <tr>\n",
       "      <th>7</th>\n",
       "      <td>93788</td>\n",
       "      <td>2711</td>\n",
       "      <td>361</td>\n",
       "    </tr>\n",
       "    <tr>\n",
       "      <th>8</th>\n",
       "      <td>4240</td>\n",
       "      <td>1498</td>\n",
       "      <td>361</td>\n",
       "    </tr>\n",
       "    <tr>\n",
       "      <th>9</th>\n",
       "      <td>93788</td>\n",
       "      <td>2710</td>\n",
       "      <td>361</td>\n",
       "    </tr>\n",
       "  </tbody>\n",
       "</table>\n",
       "</div>"
      ],
      "text/plain": [
       "   SKU_ID  Store_ID  counts\n",
       "0  121403      2834     361\n",
       "1   14408      2834     361\n",
       "2  150862      2834     361\n",
       "3  213851      2834     361\n",
       "4   93788      2834     361\n",
       "5  137749      1855     361\n",
       "6  149856      2676     361\n",
       "7   93788      2711     361\n",
       "8    4240      1498     361\n",
       "9   93788      2710     361"
      ]
     },
     "execution_count": 7,
     "metadata": {},
     "output_type": "execute_result"
    }
   ],
   "source": [
    "popular_pairs.head(n=10)"
   ]
  },
  {
   "cell_type": "code",
   "execution_count": 15,
   "metadata": {
    "ExecuteTime": {
     "end_time": "2021-05-07T12:34:50.535914Z",
     "start_time": "2021-05-07T12:34:50.527288Z"
    }
   },
   "outputs": [
    {
     "data": {
      "text/html": [
       "<div>\n",
       "<style scoped>\n",
       "    .dataframe tbody tr th:only-of-type {\n",
       "        vertical-align: middle;\n",
       "    }\n",
       "\n",
       "    .dataframe tbody tr th {\n",
       "        vertical-align: top;\n",
       "    }\n",
       "\n",
       "    .dataframe thead th {\n",
       "        text-align: right;\n",
       "    }\n",
       "</style>\n",
       "<table border=\"1\" class=\"dataframe\">\n",
       "  <thead>\n",
       "    <tr style=\"text-align: right;\">\n",
       "      <th></th>\n",
       "      <th>SKU_ID</th>\n",
       "      <th>Store_ID</th>\n",
       "      <th>counts</th>\n",
       "    </tr>\n",
       "  </thead>\n",
       "  <tbody>\n",
       "    <tr>\n",
       "      <th>169999</th>\n",
       "      <td>312283</td>\n",
       "      <td>1200</td>\n",
       "      <td>298</td>\n",
       "    </tr>\n",
       "  </tbody>\n",
       "</table>\n",
       "</div>"
      ],
      "text/plain": [
       "        SKU_ID  Store_ID  counts\n",
       "169999  312283      1200     298"
      ]
     },
     "execution_count": 15,
     "metadata": {},
     "output_type": "execute_result"
    }
   ],
   "source": [
    "popular_pairs.head(n=170000).tail(n=1)"
   ]
  },
  {
   "cell_type": "code",
   "execution_count": 17,
   "metadata": {
    "ExecuteTime": {
     "end_time": "2021-05-07T12:36:10.751564Z",
     "start_time": "2021-05-07T12:35:54.100915Z"
    }
   },
   "outputs": [],
   "source": [
    "num_of_pairs = 170000\n",
    "pairs_for_experiment = [0 for _ in range(num_of_pairs)]\n",
    "for i, r in popular_pairs.iterrows():\n",
    "    if i == num_of_pairs:\n",
    "        break\n",
    "    pairs_for_experiment[i] = (r['SKU_ID'], r['Store_ID'])"
   ]
  },
  {
   "cell_type": "code",
   "execution_count": 18,
   "metadata": {
    "ExecuteTime": {
     "end_time": "2021-05-07T12:36:10.757984Z",
     "start_time": "2021-05-07T12:36:10.754186Z"
    }
   },
   "outputs": [],
   "source": [
    "def transform(x, ttype):\n",
    "    '''\n",
    "    Accepts vector and performs transformation on it based on ttype\n",
    "    '''\n",
    "    if ttype == 'log':\n",
    "        return np.log1p(x)\n",
    "    \n",
    "    return np.array(x)"
   ]
  },
  {
   "cell_type": "code",
   "execution_count": 19,
   "metadata": {
    "ExecuteTime": {
     "end_time": "2021-05-07T12:36:13.966155Z",
     "start_time": "2021-05-07T12:36:13.961061Z"
    }
   },
   "outputs": [],
   "source": [
    "def coef(model):\n",
    "    \"\"\"\n",
    "    return regression coefficient of model\n",
    "    \"\"\"\n",
    "    return model.params[1] if len(model.params) > 1 else model.params[0]\n",
    "\n",
    "def pvalue(model):\n",
    "    \"\"\"\n",
    "    return regression coefficient's t-test p-value of model\n",
    "    \"\"\"\n",
    "    return model.pvalues[1] if len(model.pvalues) > 1 else model.pvalues[0]"
   ]
  },
  {
   "cell_type": "code",
   "execution_count": 20,
   "metadata": {
    "ExecuteTime": {
     "end_time": "2021-05-07T12:36:14.780561Z",
     "start_time": "2021-05-07T12:36:14.775960Z"
    }
   },
   "outputs": [],
   "source": [
    "def elasticity(X, y, model, model_type):\n",
    "    '''\n",
    "    Computes elasticity of model based on X, y, model itself and model's type\n",
    "    '''\n",
    "    if model_type == 'lin-lin':\n",
    "        return coef(model) * np.mean(X) / np.mean(y)\n",
    "    elif model_type == 'log-lin':\n",
    "        return coef(model) * np.mean(X)\n",
    "    elif model_type == 'log-log':\n",
    "        return coef(model)"
   ]
  },
  {
   "cell_type": "code",
   "execution_count": 21,
   "metadata": {
    "ExecuteTime": {
     "end_time": "2021-05-07T12:36:16.835964Z",
     "start_time": "2021-05-07T12:36:16.829605Z"
    }
   },
   "outputs": [],
   "source": [
    "def PEDmodel(X, y, model_type='lin-lin'):\n",
    "    '''\n",
    "    Makes PED model based on input data X, y and model type\n",
    "    '''\n",
    "    _types = model_type.split('-')\n",
    "    \n",
    "    act_x = transform(X, _types[1])\n",
    "    act_x = sm.add_constant(act_x)\n",
    "    \n",
    "    act_y = transform(y, _types[0])\n",
    "    \n",
    "    return sm.OLS(act_y, act_x).fit()"
   ]
  },
  {
   "cell_type": "code",
   "execution_count": 22,
   "metadata": {
    "ExecuteTime": {
     "end_time": "2021-05-07T12:36:18.188988Z",
     "start_time": "2021-05-07T12:36:18.184985Z"
    }
   },
   "outputs": [],
   "source": [
    "def get_model_stats(X, y, model, model_type):\n",
    "    '''\n",
    "    returns model's statistics\n",
    "        regression coefficient,\n",
    "        R-squared,\n",
    "        T-test p-value,\n",
    "        elasticity\n",
    "    '''\n",
    "    elas = elasticity(X, y, model, model_type)\n",
    "    \n",
    "    return coef(model), model.rsquared, pvalue(model), elas"
   ]
  },
  {
   "cell_type": "code",
   "execution_count": 24,
   "metadata": {
    "ExecuteTime": {
     "end_time": "2021-05-07T12:36:35.146213Z",
     "start_time": "2021-05-07T12:36:35.137287Z"
    }
   },
   "outputs": [],
   "source": [
    "def GeneratePEDModels(dataset):\n",
    "    model_type = 'log-log'\n",
    "    sku_id, store_id, elas, qty, ttpvalue, price, q1_elas = [], [], [], [], [], [], []\n",
    "    q1_ttp = []\n",
    "    iter_count = 0\n",
    "\n",
    "    for good_id, shop_id in pairs_for_experiment:\n",
    "        data = dataset[(dataset.Store_ID == shop_id) & (dataset.SKU_ID == good_id)]\n",
    "        model = PEDmodel(data.Regular_Price, data.Demand, model_type)\n",
    "        \n",
    "        c, r2, tp, e = get_model_stats(data.Regular_Price, data.Demand, model, model_type)\n",
    "\n",
    "        sku_id.append(good_id)\n",
    "        store_id.append(shop_id)\n",
    "        elas.append(e)\n",
    "        ttpvalue.append(tp)\n",
    "        \n",
    "        # 2019 Q1\n",
    "        data = data[(data.Date >= '2019-01-01') & (data.Date <= '2019-03-31')]\n",
    "        model = PEDmodel(data.Regular_Price, data.Demand, model_type)\n",
    "        c, r2, tp, e = get_model_stats(data.Regular_Price, data.Demand, model, model_type)\n",
    "        \n",
    "        qty.append(data.Demand.sum() / data.shape[0])\n",
    "        price.append(data.Regular_Price.sum() / data.shape[0])\n",
    "        q1_elas.append(e)\n",
    "        q1_ttp.append(tp)\n",
    "        \n",
    "        clear_output()\n",
    "        print(iter_count)\n",
    "        iter_count += 1\n",
    "        \n",
    "        if iter_count == 170000:\n",
    "            break\n",
    "    \n",
    "    \n",
    "    return pd.DataFrame({\n",
    "        'SKU': sku_id,\n",
    "        'Store': store_id,\n",
    "        'Elasticity': elas,\n",
    "        'P_value': ttpvalue,\n",
    "        'Q1_Qty': qty,\n",
    "        'Q1_Price': price,\n",
    "        'Q1_Elasticity': q1_elas,\n",
    "        'Q1_Ttest': q1_ttp\n",
    "    })"
   ]
  },
  {
   "cell_type": "code",
   "execution_count": 25,
   "metadata": {
    "ExecuteTime": {
     "end_time": "2021-05-08T12:18:18.828318Z",
     "start_time": "2021-05-07T12:36:38.829845Z"
    },
    "scrolled": true
   },
   "outputs": [
    {
     "name": "stdout",
     "output_type": "stream",
     "text": [
      "169999\n"
     ]
    }
   ],
   "source": [
    "trained_data = GeneratePEDModels(df)"
   ]
  },
  {
   "cell_type": "code",
   "execution_count": 26,
   "metadata": {
    "ExecuteTime": {
     "end_time": "2021-05-08T16:17:45.000141Z",
     "start_time": "2021-05-08T16:17:44.980890Z"
    }
   },
   "outputs": [
    {
     "data": {
      "text/html": [
       "<div>\n",
       "<style scoped>\n",
       "    .dataframe tbody tr th:only-of-type {\n",
       "        vertical-align: middle;\n",
       "    }\n",
       "\n",
       "    .dataframe tbody tr th {\n",
       "        vertical-align: top;\n",
       "    }\n",
       "\n",
       "    .dataframe thead th {\n",
       "        text-align: right;\n",
       "    }\n",
       "</style>\n",
       "<table border=\"1\" class=\"dataframe\">\n",
       "  <thead>\n",
       "    <tr style=\"text-align: right;\">\n",
       "      <th></th>\n",
       "      <th>SKU</th>\n",
       "      <th>Store</th>\n",
       "      <th>Elasticity</th>\n",
       "      <th>P_value</th>\n",
       "      <th>Q1_Qty</th>\n",
       "      <th>Q1_Price</th>\n",
       "      <th>Q1_Elasticity</th>\n",
       "      <th>Q1_Ttest</th>\n",
       "    </tr>\n",
       "  </thead>\n",
       "  <tbody>\n",
       "    <tr>\n",
       "      <th>0</th>\n",
       "      <td>121403</td>\n",
       "      <td>2834</td>\n",
       "      <td>4.947777e+00</td>\n",
       "      <td>1.387119e-91</td>\n",
       "      <td>203.211111</td>\n",
       "      <td>219.056926</td>\n",
       "      <td>2.499524e-01</td>\n",
       "      <td>4.107512e-01</td>\n",
       "    </tr>\n",
       "    <tr>\n",
       "      <th>1</th>\n",
       "      <td>14408</td>\n",
       "      <td>2834</td>\n",
       "      <td>-1.248910e+00</td>\n",
       "      <td>2.932442e-61</td>\n",
       "      <td>202.344444</td>\n",
       "      <td>60.457444</td>\n",
       "      <td>-3.693639e+00</td>\n",
       "      <td>6.597211e-08</td>\n",
       "    </tr>\n",
       "    <tr>\n",
       "      <th>2</th>\n",
       "      <td>150862</td>\n",
       "      <td>2834</td>\n",
       "      <td>-1.006074e+00</td>\n",
       "      <td>2.219744e-64</td>\n",
       "      <td>266.366667</td>\n",
       "      <td>301.042889</td>\n",
       "      <td>-1.490706e+00</td>\n",
       "      <td>1.388874e-14</td>\n",
       "    </tr>\n",
       "    <tr>\n",
       "      <th>3</th>\n",
       "      <td>213851</td>\n",
       "      <td>2834</td>\n",
       "      <td>-1.328601e+00</td>\n",
       "      <td>5.668468e-03</td>\n",
       "      <td>4141.500000</td>\n",
       "      <td>90.424887</td>\n",
       "      <td>-5.872169e-01</td>\n",
       "      <td>4.622280e-01</td>\n",
       "    </tr>\n",
       "    <tr>\n",
       "      <th>4</th>\n",
       "      <td>93788</td>\n",
       "      <td>2834</td>\n",
       "      <td>1.314355e+00</td>\n",
       "      <td>9.124566e-86</td>\n",
       "      <td>206.511111</td>\n",
       "      <td>495.959667</td>\n",
       "      <td>1.156394e+00</td>\n",
       "      <td>1.298470e-08</td>\n",
       "    </tr>\n",
       "    <tr>\n",
       "      <th>...</th>\n",
       "      <td>...</td>\n",
       "      <td>...</td>\n",
       "      <td>...</td>\n",
       "      <td>...</td>\n",
       "      <td>...</td>\n",
       "      <td>...</td>\n",
       "      <td>...</td>\n",
       "      <td>...</td>\n",
       "    </tr>\n",
       "    <tr>\n",
       "      <th>169995</th>\n",
       "      <td>133782</td>\n",
       "      <td>1128</td>\n",
       "      <td>2.052770e-01</td>\n",
       "      <td>2.969268e-01</td>\n",
       "      <td>5.769231</td>\n",
       "      <td>78.000000</td>\n",
       "      <td>4.364594e-01</td>\n",
       "      <td>2.061059e-65</td>\n",
       "    </tr>\n",
       "    <tr>\n",
       "      <th>169996</th>\n",
       "      <td>96408</td>\n",
       "      <td>1841</td>\n",
       "      <td>-3.365364e-15</td>\n",
       "      <td>9.120910e-01</td>\n",
       "      <td>1.000000</td>\n",
       "      <td>626.093023</td>\n",
       "      <td>-2.220446e-16</td>\n",
       "      <td>9.963391e-01</td>\n",
       "    </tr>\n",
       "    <tr>\n",
       "      <th>169997</th>\n",
       "      <td>135276</td>\n",
       "      <td>1100</td>\n",
       "      <td>-3.331585e-01</td>\n",
       "      <td>7.131638e-02</td>\n",
       "      <td>1.327273</td>\n",
       "      <td>147.000000</td>\n",
       "      <td>1.652611e-01</td>\n",
       "      <td>1.021838e-36</td>\n",
       "    </tr>\n",
       "    <tr>\n",
       "      <th>169998</th>\n",
       "      <td>127511</td>\n",
       "      <td>1164</td>\n",
       "      <td>3.537239e+00</td>\n",
       "      <td>1.791653e-06</td>\n",
       "      <td>3.470588</td>\n",
       "      <td>277.602941</td>\n",
       "      <td>-2.765752e+01</td>\n",
       "      <td>3.684603e-04</td>\n",
       "    </tr>\n",
       "    <tr>\n",
       "      <th>169999</th>\n",
       "      <td>312283</td>\n",
       "      <td>1200</td>\n",
       "      <td>-5.585810e-16</td>\n",
       "      <td>9.629342e-01</td>\n",
       "      <td>1.000000</td>\n",
       "      <td>1162.271011</td>\n",
       "      <td>2.664535e-15</td>\n",
       "      <td>9.973377e-01</td>\n",
       "    </tr>\n",
       "  </tbody>\n",
       "</table>\n",
       "<p>170000 rows × 8 columns</p>\n",
       "</div>"
      ],
      "text/plain": [
       "           SKU  Store    Elasticity       P_value       Q1_Qty     Q1_Price  \\\n",
       "0       121403   2834  4.947777e+00  1.387119e-91   203.211111   219.056926   \n",
       "1        14408   2834 -1.248910e+00  2.932442e-61   202.344444    60.457444   \n",
       "2       150862   2834 -1.006074e+00  2.219744e-64   266.366667   301.042889   \n",
       "3       213851   2834 -1.328601e+00  5.668468e-03  4141.500000    90.424887   \n",
       "4        93788   2834  1.314355e+00  9.124566e-86   206.511111   495.959667   \n",
       "...        ...    ...           ...           ...          ...          ...   \n",
       "169995  133782   1128  2.052770e-01  2.969268e-01     5.769231    78.000000   \n",
       "169996   96408   1841 -3.365364e-15  9.120910e-01     1.000000   626.093023   \n",
       "169997  135276   1100 -3.331585e-01  7.131638e-02     1.327273   147.000000   \n",
       "169998  127511   1164  3.537239e+00  1.791653e-06     3.470588   277.602941   \n",
       "169999  312283   1200 -5.585810e-16  9.629342e-01     1.000000  1162.271011   \n",
       "\n",
       "        Q1_Elasticity      Q1_Ttest  \n",
       "0        2.499524e-01  4.107512e-01  \n",
       "1       -3.693639e+00  6.597211e-08  \n",
       "2       -1.490706e+00  1.388874e-14  \n",
       "3       -5.872169e-01  4.622280e-01  \n",
       "4        1.156394e+00  1.298470e-08  \n",
       "...               ...           ...  \n",
       "169995   4.364594e-01  2.061059e-65  \n",
       "169996  -2.220446e-16  9.963391e-01  \n",
       "169997   1.652611e-01  1.021838e-36  \n",
       "169998  -2.765752e+01  3.684603e-04  \n",
       "169999   2.664535e-15  9.973377e-01  \n",
       "\n",
       "[170000 rows x 8 columns]"
      ]
     },
     "execution_count": 26,
     "metadata": {},
     "output_type": "execute_result"
    }
   ],
   "source": [
    "trained_data"
   ]
  },
  {
   "cell_type": "code",
   "execution_count": 27,
   "metadata": {
    "ExecuteTime": {
     "end_time": "2021-05-08T16:17:58.459253Z",
     "start_time": "2021-05-08T16:17:56.448242Z"
    },
    "run_control": {
     "marked": false
    }
   },
   "outputs": [],
   "source": [
    "trained_data.to_csv('DF_TRAIN_170K.csv', index=False)"
   ]
  },
  {
   "cell_type": "markdown",
   "metadata": {},
   "source": [
    "# Train/test constructing"
   ]
  },
  {
   "cell_type": "code",
   "execution_count": 2,
   "metadata": {
    "ExecuteTime": {
     "end_time": "2021-05-11T13:38:56.527363Z",
     "start_time": "2021-05-11T13:38:56.277293Z"
    }
   },
   "outputs": [],
   "source": [
    "trained_data = pd.read_csv('DF_TRAIN_170K.csv')"
   ]
  },
  {
   "cell_type": "code",
   "execution_count": 3,
   "metadata": {
    "ExecuteTime": {
     "end_time": "2021-05-11T13:38:56.963763Z",
     "start_time": "2021-05-11T13:38:56.946456Z"
    }
   },
   "outputs": [],
   "source": [
    "df_train = trained_data[(trained_data.Elasticity > -10) & (trained_data.Elasticity < 0) & (trained_data.P_value < 0.05)]"
   ]
  },
  {
   "cell_type": "code",
   "execution_count": 4,
   "metadata": {
    "ExecuteTime": {
     "end_time": "2021-05-11T13:38:57.329097Z",
     "start_time": "2021-05-11T13:38:57.312856Z"
    }
   },
   "outputs": [
    {
     "name": "stdout",
     "output_type": "stream",
     "text": [
      "<class 'pandas.core.frame.DataFrame'>\n",
      "Int64Index: 79710 entries, 1 to 169994\n",
      "Data columns (total 8 columns):\n",
      " #   Column         Non-Null Count  Dtype  \n",
      "---  ------         --------------  -----  \n",
      " 0   SKU            79710 non-null  int64  \n",
      " 1   Store          79710 non-null  int64  \n",
      " 2   Elasticity     79710 non-null  float64\n",
      " 3   P_value        79710 non-null  float64\n",
      " 4   Q1_Qty         79710 non-null  float64\n",
      " 5   Q1_Price       79710 non-null  float64\n",
      " 6   Q1_Elasticity  79710 non-null  float64\n",
      " 7   Q1_Ttest       79710 non-null  float64\n",
      "dtypes: float64(6), int64(2)\n",
      "memory usage: 5.5 MB\n"
     ]
    }
   ],
   "source": [
    "df_train.info()"
   ]
  },
  {
   "cell_type": "code",
   "execution_count": 5,
   "metadata": {
    "ExecuteTime": {
     "end_time": "2021-05-11T13:38:59.239770Z",
     "start_time": "2021-05-11T13:38:57.793928Z"
    }
   },
   "outputs": [],
   "source": [
    "product_info = pd.read_csv('PRODUCT_INF.csv')"
   ]
  },
  {
   "cell_type": "code",
   "execution_count": 6,
   "metadata": {
    "ExecuteTime": {
     "end_time": "2021-05-11T13:38:59.268089Z",
     "start_time": "2021-05-11T13:38:59.242200Z"
    }
   },
   "outputs": [
    {
     "data": {
      "text/html": [
       "<div>\n",
       "<style scoped>\n",
       "    .dataframe tbody tr th:only-of-type {\n",
       "        vertical-align: middle;\n",
       "    }\n",
       "\n",
       "    .dataframe tbody tr th {\n",
       "        vertical-align: top;\n",
       "    }\n",
       "\n",
       "    .dataframe thead th {\n",
       "        text-align: right;\n",
       "    }\n",
       "</style>\n",
       "<table border=\"1\" class=\"dataframe\">\n",
       "  <thead>\n",
       "    <tr style=\"text-align: right;\">\n",
       "      <th></th>\n",
       "      <th>ProductName</th>\n",
       "      <th>SKU</th>\n",
       "      <th>ClassId</th>\n",
       "      <th>GroupId</th>\n",
       "      <th>SubGroupId</th>\n",
       "      <th>CategoryId</th>\n",
       "      <th>ClusterId</th>\n",
       "      <th>Class</th>\n",
       "      <th>Groups</th>\n",
       "      <th>SubGroups</th>\n",
       "      <th>Category</th>\n",
       "      <th>Cluster</th>\n",
       "    </tr>\n",
       "  </thead>\n",
       "  <tbody>\n",
       "    <tr>\n",
       "      <th>0</th>\n",
       "      <td>UN</td>\n",
       "      <td>9999999</td>\n",
       "      <td>-5</td>\n",
       "      <td>-4</td>\n",
       "      <td>-3</td>\n",
       "      <td>-2</td>\n",
       "      <td>-1</td>\n",
       "      <td>UN</td>\n",
       "      <td>UN</td>\n",
       "      <td>UN</td>\n",
       "      <td>UN</td>\n",
       "      <td>UN</td>\n",
       "    </tr>\n",
       "    <tr>\n",
       "      <th>1</th>\n",
       "      <td>Очки_x0020_корригирующие_x0020_Ocean_x0020_пла...</td>\n",
       "      <td>122139</td>\n",
       "      <td>-5</td>\n",
       "      <td>-4</td>\n",
       "      <td>-3</td>\n",
       "      <td>-2</td>\n",
       "      <td>-1</td>\n",
       "      <td>UN</td>\n",
       "      <td>UN</td>\n",
       "      <td>UN</td>\n",
       "      <td>UN</td>\n",
       "      <td>UN</td>\n",
       "    </tr>\n",
       "    <tr>\n",
       "      <th>2</th>\n",
       "      <td>Очки_x0020_корригирующие_x0020_Ocean_x0020_пла...</td>\n",
       "      <td>122140</td>\n",
       "      <td>-5</td>\n",
       "      <td>-4</td>\n",
       "      <td>-3</td>\n",
       "      <td>-2</td>\n",
       "      <td>-1</td>\n",
       "      <td>UN</td>\n",
       "      <td>UN</td>\n",
       "      <td>UN</td>\n",
       "      <td>UN</td>\n",
       "      <td>UN</td>\n",
       "    </tr>\n",
       "    <tr>\n",
       "      <th>3</th>\n",
       "      <td>Очки_x0020_корригирующие_x0020_Ocean_x0020_пла...</td>\n",
       "      <td>122141</td>\n",
       "      <td>-5</td>\n",
       "      <td>-4</td>\n",
       "      <td>-3</td>\n",
       "      <td>-2</td>\n",
       "      <td>-1</td>\n",
       "      <td>UN</td>\n",
       "      <td>UN</td>\n",
       "      <td>UN</td>\n",
       "      <td>UN</td>\n",
       "      <td>UN</td>\n",
       "    </tr>\n",
       "    <tr>\n",
       "      <th>4</th>\n",
       "      <td>Очки_x0020_корригирующие_x0020_Dali_x0020_плас...</td>\n",
       "      <td>122142</td>\n",
       "      <td>-5</td>\n",
       "      <td>-4</td>\n",
       "      <td>-3</td>\n",
       "      <td>-2</td>\n",
       "      <td>-1</td>\n",
       "      <td>UN</td>\n",
       "      <td>UN</td>\n",
       "      <td>UN</td>\n",
       "      <td>UN</td>\n",
       "      <td>UN</td>\n",
       "    </tr>\n",
       "    <tr>\n",
       "      <th>...</th>\n",
       "      <td>...</td>\n",
       "      <td>...</td>\n",
       "      <td>...</td>\n",
       "      <td>...</td>\n",
       "      <td>...</td>\n",
       "      <td>...</td>\n",
       "      <td>...</td>\n",
       "      <td>...</td>\n",
       "      <td>...</td>\n",
       "      <td>...</td>\n",
       "      <td>...</td>\n",
       "      <td>...</td>\n",
       "    </tr>\n",
       "    <tr>\n",
       "      <th>296388</th>\n",
       "      <td>Лактамил_x0020_смесь_x0020_сухая_x0020_молочна...</td>\n",
       "      <td>112785</td>\n",
       "      <td>2000</td>\n",
       "      <td>2010</td>\n",
       "      <td>2133</td>\n",
       "      <td>2915</td>\n",
       "      <td>834</td>\n",
       "      <td>Товары_x0020_для_x0020_матери_x0020_и_x0020_ре...</td>\n",
       "      <td>Товары_x0020_для_x0020_беременных_x0020_и_x002...</td>\n",
       "      <td>Питание_x0020_для_x0020_мам</td>\n",
       "      <td>Питание_x0020_для_x0020_мам</td>\n",
       "      <td>Питание_x0020_для_x0020_мам</td>\n",
       "    </tr>\n",
       "    <tr>\n",
       "      <th>296389</th>\n",
       "      <td>Чай_x0020__x0022_Хипп_x0022__x0020_с_x0020_вит...</td>\n",
       "      <td>112789</td>\n",
       "      <td>2000</td>\n",
       "      <td>2010</td>\n",
       "      <td>2133</td>\n",
       "      <td>2915</td>\n",
       "      <td>834</td>\n",
       "      <td>Товары_x0020_для_x0020_матери_x0020_и_x0020_ре...</td>\n",
       "      <td>Товары_x0020_для_x0020_беременных_x0020_и_x002...</td>\n",
       "      <td>Питание_x0020_для_x0020_мам</td>\n",
       "      <td>Питание_x0020_для_x0020_мам</td>\n",
       "      <td>Питание_x0020_для_x0020_мам</td>\n",
       "    </tr>\n",
       "    <tr>\n",
       "      <th>296390</th>\n",
       "      <td>Чай_x0020_Хипп_x0020_био_x0020_для_x0020_корм....</td>\n",
       "      <td>76810</td>\n",
       "      <td>2000</td>\n",
       "      <td>2010</td>\n",
       "      <td>2133</td>\n",
       "      <td>2915</td>\n",
       "      <td>834</td>\n",
       "      <td>Товары_x0020_для_x0020_матери_x0020_и_x0020_ре...</td>\n",
       "      <td>Товары_x0020_для_x0020_беременных_x0020_и_x002...</td>\n",
       "      <td>Питание_x0020_для_x0020_мам</td>\n",
       "      <td>Питание_x0020_для_x0020_мам</td>\n",
       "      <td>Питание_x0020_для_x0020_мам</td>\n",
       "    </tr>\n",
       "    <tr>\n",
       "      <th>296391</th>\n",
       "      <td>Фемилак_x0020_для_x0020_беременных_x0020_и_x00...</td>\n",
       "      <td>75619</td>\n",
       "      <td>2000</td>\n",
       "      <td>2010</td>\n",
       "      <td>2133</td>\n",
       "      <td>2915</td>\n",
       "      <td>834</td>\n",
       "      <td>Товары_x0020_для_x0020_матери_x0020_и_x0020_ре...</td>\n",
       "      <td>Товары_x0020_для_x0020_беременных_x0020_и_x002...</td>\n",
       "      <td>Питание_x0020_для_x0020_мам</td>\n",
       "      <td>Питание_x0020_для_x0020_мам</td>\n",
       "      <td>Питание_x0020_для_x0020_мам</td>\n",
       "    </tr>\n",
       "    <tr>\n",
       "      <th>296392</th>\n",
       "      <td>Чай_x0020_Даниа_x0020_для_x0020_кормящих_x0020...</td>\n",
       "      <td>24589</td>\n",
       "      <td>2000</td>\n",
       "      <td>2010</td>\n",
       "      <td>2133</td>\n",
       "      <td>2915</td>\n",
       "      <td>834</td>\n",
       "      <td>Товары_x0020_для_x0020_матери_x0020_и_x0020_ре...</td>\n",
       "      <td>Товары_x0020_для_x0020_беременных_x0020_и_x002...</td>\n",
       "      <td>Питание_x0020_для_x0020_мам</td>\n",
       "      <td>Питание_x0020_для_x0020_мам</td>\n",
       "      <td>Питание_x0020_для_x0020_мам</td>\n",
       "    </tr>\n",
       "  </tbody>\n",
       "</table>\n",
       "<p>296393 rows × 12 columns</p>\n",
       "</div>"
      ],
      "text/plain": [
       "                                              ProductName      SKU  ClassId  \\\n",
       "0                                                      UN  9999999       -5   \n",
       "1       Очки_x0020_корригирующие_x0020_Ocean_x0020_пла...   122139       -5   \n",
       "2       Очки_x0020_корригирующие_x0020_Ocean_x0020_пла...   122140       -5   \n",
       "3       Очки_x0020_корригирующие_x0020_Ocean_x0020_пла...   122141       -5   \n",
       "4       Очки_x0020_корригирующие_x0020_Dali_x0020_плас...   122142       -5   \n",
       "...                                                   ...      ...      ...   \n",
       "296388  Лактамил_x0020_смесь_x0020_сухая_x0020_молочна...   112785     2000   \n",
       "296389  Чай_x0020__x0022_Хипп_x0022__x0020_с_x0020_вит...   112789     2000   \n",
       "296390  Чай_x0020_Хипп_x0020_био_x0020_для_x0020_корм....    76810     2000   \n",
       "296391  Фемилак_x0020_для_x0020_беременных_x0020_и_x00...    75619     2000   \n",
       "296392  Чай_x0020_Даниа_x0020_для_x0020_кормящих_x0020...    24589     2000   \n",
       "\n",
       "        GroupId  SubGroupId  CategoryId  ClusterId  \\\n",
       "0            -4          -3          -2         -1   \n",
       "1            -4          -3          -2         -1   \n",
       "2            -4          -3          -2         -1   \n",
       "3            -4          -3          -2         -1   \n",
       "4            -4          -3          -2         -1   \n",
       "...         ...         ...         ...        ...   \n",
       "296388     2010        2133        2915        834   \n",
       "296389     2010        2133        2915        834   \n",
       "296390     2010        2133        2915        834   \n",
       "296391     2010        2133        2915        834   \n",
       "296392     2010        2133        2915        834   \n",
       "\n",
       "                                                    Class  \\\n",
       "0                                                      UN   \n",
       "1                                                      UN   \n",
       "2                                                      UN   \n",
       "3                                                      UN   \n",
       "4                                                      UN   \n",
       "...                                                   ...   \n",
       "296388  Товары_x0020_для_x0020_матери_x0020_и_x0020_ре...   \n",
       "296389  Товары_x0020_для_x0020_матери_x0020_и_x0020_ре...   \n",
       "296390  Товары_x0020_для_x0020_матери_x0020_и_x0020_ре...   \n",
       "296391  Товары_x0020_для_x0020_матери_x0020_и_x0020_ре...   \n",
       "296392  Товары_x0020_для_x0020_матери_x0020_и_x0020_ре...   \n",
       "\n",
       "                                                   Groups  \\\n",
       "0                                                      UN   \n",
       "1                                                      UN   \n",
       "2                                                      UN   \n",
       "3                                                      UN   \n",
       "4                                                      UN   \n",
       "...                                                   ...   \n",
       "296388  Товары_x0020_для_x0020_беременных_x0020_и_x002...   \n",
       "296389  Товары_x0020_для_x0020_беременных_x0020_и_x002...   \n",
       "296390  Товары_x0020_для_x0020_беременных_x0020_и_x002...   \n",
       "296391  Товары_x0020_для_x0020_беременных_x0020_и_x002...   \n",
       "296392  Товары_x0020_для_x0020_беременных_x0020_и_x002...   \n",
       "\n",
       "                          SubGroups                     Category  \\\n",
       "0                                UN                           UN   \n",
       "1                                UN                           UN   \n",
       "2                                UN                           UN   \n",
       "3                                UN                           UN   \n",
       "4                                UN                           UN   \n",
       "...                             ...                          ...   \n",
       "296388  Питание_x0020_для_x0020_мам  Питание_x0020_для_x0020_мам   \n",
       "296389  Питание_x0020_для_x0020_мам  Питание_x0020_для_x0020_мам   \n",
       "296390  Питание_x0020_для_x0020_мам  Питание_x0020_для_x0020_мам   \n",
       "296391  Питание_x0020_для_x0020_мам  Питание_x0020_для_x0020_мам   \n",
       "296392  Питание_x0020_для_x0020_мам  Питание_x0020_для_x0020_мам   \n",
       "\n",
       "                            Cluster  \n",
       "0                                UN  \n",
       "1                                UN  \n",
       "2                                UN  \n",
       "3                                UN  \n",
       "4                                UN  \n",
       "...                             ...  \n",
       "296388  Питание_x0020_для_x0020_мам  \n",
       "296389  Питание_x0020_для_x0020_мам  \n",
       "296390  Питание_x0020_для_x0020_мам  \n",
       "296391  Питание_x0020_для_x0020_мам  \n",
       "296392  Питание_x0020_для_x0020_мам  \n",
       "\n",
       "[296393 rows x 12 columns]"
      ]
     },
     "execution_count": 6,
     "metadata": {},
     "output_type": "execute_result"
    }
   ],
   "source": [
    "product_info"
   ]
  },
  {
   "cell_type": "code",
   "execution_count": 7,
   "metadata": {
    "ExecuteTime": {
     "end_time": "2021-05-11T13:38:59.710547Z",
     "start_time": "2021-05-11T13:38:59.694056Z"
    }
   },
   "outputs": [],
   "source": [
    "product_info = product_info[['SKU', 'ClassId', 'CategoryId', 'ClusterId', 'GroupId', 'SubGroupId']]"
   ]
  },
  {
   "cell_type": "code",
   "execution_count": 8,
   "metadata": {
    "ExecuteTime": {
     "end_time": "2021-05-11T13:39:00.169051Z",
     "start_time": "2021-05-11T13:39:00.083309Z"
    }
   },
   "outputs": [],
   "source": [
    "df_sku = df_train.join(product_info.set_index('SKU'), on='SKU')"
   ]
  },
  {
   "cell_type": "code",
   "execution_count": 9,
   "metadata": {
    "ExecuteTime": {
     "end_time": "2021-05-11T13:39:00.261945Z",
     "start_time": "2021-05-11T13:39:00.252537Z"
    }
   },
   "outputs": [
    {
     "data": {
      "text/plain": [
       "SKU                0\n",
       "Store              0\n",
       "Elasticity         0\n",
       "P_value            0\n",
       "Q1_Qty             0\n",
       "Q1_Price           0\n",
       "Q1_Elasticity      0\n",
       "Q1_Ttest           0\n",
       "ClassId          238\n",
       "CategoryId       238\n",
       "ClusterId        238\n",
       "GroupId          238\n",
       "SubGroupId       238\n",
       "dtype: int64"
      ]
     },
     "execution_count": 9,
     "metadata": {},
     "output_type": "execute_result"
    }
   ],
   "source": [
    "df_sku.isna().sum()"
   ]
  },
  {
   "cell_type": "code",
   "execution_count": 10,
   "metadata": {
    "ExecuteTime": {
     "end_time": "2021-05-11T13:39:00.450738Z",
     "start_time": "2021-05-11T13:39:00.418964Z"
    }
   },
   "outputs": [],
   "source": [
    "df_sku.dropna(inplace=True)"
   ]
  },
  {
   "cell_type": "code",
   "execution_count": 11,
   "metadata": {
    "ExecuteTime": {
     "end_time": "2021-05-11T13:39:00.735513Z",
     "start_time": "2021-05-11T13:39:00.726252Z"
    }
   },
   "outputs": [
    {
     "data": {
      "text/plain": [
       "SKU              0\n",
       "Store            0\n",
       "Elasticity       0\n",
       "P_value          0\n",
       "Q1_Qty           0\n",
       "Q1_Price         0\n",
       "Q1_Elasticity    0\n",
       "Q1_Ttest         0\n",
       "ClassId          0\n",
       "CategoryId       0\n",
       "ClusterId        0\n",
       "GroupId          0\n",
       "SubGroupId       0\n",
       "dtype: int64"
      ]
     },
     "execution_count": 11,
     "metadata": {},
     "output_type": "execute_result"
    }
   ],
   "source": [
    "df_sku.isna().sum()"
   ]
  },
  {
   "cell_type": "code",
   "execution_count": 12,
   "metadata": {
    "ExecuteTime": {
     "end_time": "2021-05-11T13:39:01.072891Z",
     "start_time": "2021-05-11T13:39:01.042070Z"
    }
   },
   "outputs": [
    {
     "data": {
      "text/html": [
       "<div>\n",
       "<style scoped>\n",
       "    .dataframe tbody tr th:only-of-type {\n",
       "        vertical-align: middle;\n",
       "    }\n",
       "\n",
       "    .dataframe tbody tr th {\n",
       "        vertical-align: top;\n",
       "    }\n",
       "\n",
       "    .dataframe thead th {\n",
       "        text-align: right;\n",
       "    }\n",
       "</style>\n",
       "<table border=\"1\" class=\"dataframe\">\n",
       "  <thead>\n",
       "    <tr style=\"text-align: right;\">\n",
       "      <th></th>\n",
       "      <th>SKU</th>\n",
       "      <th>Store</th>\n",
       "      <th>Elasticity</th>\n",
       "      <th>P_value</th>\n",
       "      <th>Q1_Qty</th>\n",
       "      <th>Q1_Price</th>\n",
       "      <th>Q1_Elasticity</th>\n",
       "      <th>Q1_Ttest</th>\n",
       "      <th>ClassId</th>\n",
       "      <th>CategoryId</th>\n",
       "      <th>ClusterId</th>\n",
       "      <th>GroupId</th>\n",
       "      <th>SubGroupId</th>\n",
       "    </tr>\n",
       "  </thead>\n",
       "  <tbody>\n",
       "    <tr>\n",
       "      <th>1</th>\n",
       "      <td>14408</td>\n",
       "      <td>2834</td>\n",
       "      <td>-1.248910</td>\n",
       "      <td>2.932442e-61</td>\n",
       "      <td>202.344444</td>\n",
       "      <td>60.457444</td>\n",
       "      <td>-3.693639e+00</td>\n",
       "      <td>6.597211e-08</td>\n",
       "      <td>2003.0</td>\n",
       "      <td>2561.0</td>\n",
       "      <td>27.0</td>\n",
       "      <td>2047.0</td>\n",
       "      <td>2356.0</td>\n",
       "    </tr>\n",
       "    <tr>\n",
       "      <th>2</th>\n",
       "      <td>150862</td>\n",
       "      <td>2834</td>\n",
       "      <td>-1.006074</td>\n",
       "      <td>2.219744e-64</td>\n",
       "      <td>266.366667</td>\n",
       "      <td>301.042889</td>\n",
       "      <td>-1.490706e+00</td>\n",
       "      <td>1.388874e-14</td>\n",
       "      <td>2003.0</td>\n",
       "      <td>2547.0</td>\n",
       "      <td>4.0</td>\n",
       "      <td>2047.0</td>\n",
       "      <td>2099.0</td>\n",
       "    </tr>\n",
       "    <tr>\n",
       "      <th>3</th>\n",
       "      <td>213851</td>\n",
       "      <td>2834</td>\n",
       "      <td>-1.328601</td>\n",
       "      <td>5.668468e-03</td>\n",
       "      <td>4141.500000</td>\n",
       "      <td>90.424887</td>\n",
       "      <td>-5.872169e-01</td>\n",
       "      <td>4.622280e-01</td>\n",
       "      <td>2003.0</td>\n",
       "      <td>2496.0</td>\n",
       "      <td>456.0</td>\n",
       "      <td>2037.0</td>\n",
       "      <td>2105.0</td>\n",
       "    </tr>\n",
       "    <tr>\n",
       "      <th>6</th>\n",
       "      <td>149856</td>\n",
       "      <td>2676</td>\n",
       "      <td>-0.960983</td>\n",
       "      <td>2.450502e-20</td>\n",
       "      <td>2.000000</td>\n",
       "      <td>336.777778</td>\n",
       "      <td>-1.075529e-15</td>\n",
       "      <td>9.347857e-01</td>\n",
       "      <td>2003.0</td>\n",
       "      <td>3023.0</td>\n",
       "      <td>458.0</td>\n",
       "      <td>2037.0</td>\n",
       "      <td>2105.0</td>\n",
       "    </tr>\n",
       "    <tr>\n",
       "      <th>8</th>\n",
       "      <td>4240</td>\n",
       "      <td>1498</td>\n",
       "      <td>-0.561682</td>\n",
       "      <td>3.082433e-02</td>\n",
       "      <td>2.000000</td>\n",
       "      <td>79.000000</td>\n",
       "      <td>2.507087e-01</td>\n",
       "      <td>0.000000e+00</td>\n",
       "      <td>2003.0</td>\n",
       "      <td>2692.0</td>\n",
       "      <td>455.0</td>\n",
       "      <td>2037.0</td>\n",
       "      <td>2105.0</td>\n",
       "    </tr>\n",
       "    <tr>\n",
       "      <th>...</th>\n",
       "      <td>...</td>\n",
       "      <td>...</td>\n",
       "      <td>...</td>\n",
       "      <td>...</td>\n",
       "      <td>...</td>\n",
       "      <td>...</td>\n",
       "      <td>...</td>\n",
       "      <td>...</td>\n",
       "      <td>...</td>\n",
       "      <td>...</td>\n",
       "      <td>...</td>\n",
       "      <td>...</td>\n",
       "      <td>...</td>\n",
       "    </tr>\n",
       "    <tr>\n",
       "      <th>169985</th>\n",
       "      <td>127510</td>\n",
       "      <td>1121</td>\n",
       "      <td>-7.771024</td>\n",
       "      <td>2.630867e-33</td>\n",
       "      <td>1.563636</td>\n",
       "      <td>640.000000</td>\n",
       "      <td>1.426084e-01</td>\n",
       "      <td>6.211444e-38</td>\n",
       "      <td>2003.0</td>\n",
       "      <td>2532.0</td>\n",
       "      <td>7.0</td>\n",
       "      <td>2047.0</td>\n",
       "      <td>2099.0</td>\n",
       "    </tr>\n",
       "    <tr>\n",
       "      <th>169986</th>\n",
       "      <td>135870</td>\n",
       "      <td>1122</td>\n",
       "      <td>-2.001138</td>\n",
       "      <td>1.654577e-39</td>\n",
       "      <td>2.922078</td>\n",
       "      <td>39.000000</td>\n",
       "      <td>3.693121e-01</td>\n",
       "      <td>4.073054e-88</td>\n",
       "      <td>2003.0</td>\n",
       "      <td>2489.0</td>\n",
       "      <td>465.0</td>\n",
       "      <td>2037.0</td>\n",
       "      <td>2111.0</td>\n",
       "    </tr>\n",
       "    <tr>\n",
       "      <th>169990</th>\n",
       "      <td>213317</td>\n",
       "      <td>1793</td>\n",
       "      <td>-1.075950</td>\n",
       "      <td>3.624972e-08</td>\n",
       "      <td>1.000000</td>\n",
       "      <td>312.510204</td>\n",
       "      <td>-2.844947e-16</td>\n",
       "      <td>7.719584e-01</td>\n",
       "      <td>2003.0</td>\n",
       "      <td>2849.0</td>\n",
       "      <td>470.0</td>\n",
       "      <td>2037.0</td>\n",
       "      <td>2145.0</td>\n",
       "    </tr>\n",
       "    <tr>\n",
       "      <th>169993</th>\n",
       "      <td>140917</td>\n",
       "      <td>1742</td>\n",
       "      <td>-1.853547</td>\n",
       "      <td>3.828967e-41</td>\n",
       "      <td>1.000000</td>\n",
       "      <td>407.000000</td>\n",
       "      <td>1.153080e-01</td>\n",
       "      <td>0.000000e+00</td>\n",
       "      <td>2003.0</td>\n",
       "      <td>2970.0</td>\n",
       "      <td>451.0</td>\n",
       "      <td>2037.0</td>\n",
       "      <td>2294.0</td>\n",
       "    </tr>\n",
       "    <tr>\n",
       "      <th>169994</th>\n",
       "      <td>207072</td>\n",
       "      <td>1128</td>\n",
       "      <td>-1.485153</td>\n",
       "      <td>6.789077e-38</td>\n",
       "      <td>1.000000</td>\n",
       "      <td>227.883721</td>\n",
       "      <td>-1.221245e-15</td>\n",
       "      <td>8.456690e-01</td>\n",
       "      <td>2003.0</td>\n",
       "      <td>2808.0</td>\n",
       "      <td>947.0</td>\n",
       "      <td>2037.0</td>\n",
       "      <td>2105.0</td>\n",
       "    </tr>\n",
       "  </tbody>\n",
       "</table>\n",
       "<p>79472 rows × 13 columns</p>\n",
       "</div>"
      ],
      "text/plain": [
       "           SKU  Store  Elasticity       P_value       Q1_Qty    Q1_Price  \\\n",
       "1        14408   2834   -1.248910  2.932442e-61   202.344444   60.457444   \n",
       "2       150862   2834   -1.006074  2.219744e-64   266.366667  301.042889   \n",
       "3       213851   2834   -1.328601  5.668468e-03  4141.500000   90.424887   \n",
       "6       149856   2676   -0.960983  2.450502e-20     2.000000  336.777778   \n",
       "8         4240   1498   -0.561682  3.082433e-02     2.000000   79.000000   \n",
       "...        ...    ...         ...           ...          ...         ...   \n",
       "169985  127510   1121   -7.771024  2.630867e-33     1.563636  640.000000   \n",
       "169986  135870   1122   -2.001138  1.654577e-39     2.922078   39.000000   \n",
       "169990  213317   1793   -1.075950  3.624972e-08     1.000000  312.510204   \n",
       "169993  140917   1742   -1.853547  3.828967e-41     1.000000  407.000000   \n",
       "169994  207072   1128   -1.485153  6.789077e-38     1.000000  227.883721   \n",
       "\n",
       "        Q1_Elasticity      Q1_Ttest  ClassId  CategoryId  ClusterId  GroupId  \\\n",
       "1       -3.693639e+00  6.597211e-08   2003.0      2561.0       27.0   2047.0   \n",
       "2       -1.490706e+00  1.388874e-14   2003.0      2547.0        4.0   2047.0   \n",
       "3       -5.872169e-01  4.622280e-01   2003.0      2496.0      456.0   2037.0   \n",
       "6       -1.075529e-15  9.347857e-01   2003.0      3023.0      458.0   2037.0   \n",
       "8        2.507087e-01  0.000000e+00   2003.0      2692.0      455.0   2037.0   \n",
       "...               ...           ...      ...         ...        ...      ...   \n",
       "169985   1.426084e-01  6.211444e-38   2003.0      2532.0        7.0   2047.0   \n",
       "169986   3.693121e-01  4.073054e-88   2003.0      2489.0      465.0   2037.0   \n",
       "169990  -2.844947e-16  7.719584e-01   2003.0      2849.0      470.0   2037.0   \n",
       "169993   1.153080e-01  0.000000e+00   2003.0      2970.0      451.0   2037.0   \n",
       "169994  -1.221245e-15  8.456690e-01   2003.0      2808.0      947.0   2037.0   \n",
       "\n",
       "        SubGroupId  \n",
       "1           2356.0  \n",
       "2           2099.0  \n",
       "3           2105.0  \n",
       "6           2105.0  \n",
       "8           2105.0  \n",
       "...            ...  \n",
       "169985      2099.0  \n",
       "169986      2111.0  \n",
       "169990      2145.0  \n",
       "169993      2294.0  \n",
       "169994      2105.0  \n",
       "\n",
       "[79472 rows x 13 columns]"
      ]
     },
     "execution_count": 12,
     "metadata": {},
     "output_type": "execute_result"
    }
   ],
   "source": [
    "df_sku"
   ]
  },
  {
   "cell_type": "code",
   "execution_count": 13,
   "metadata": {
    "ExecuteTime": {
     "end_time": "2021-05-11T13:39:01.790625Z",
     "start_time": "2021-05-11T13:39:01.454764Z"
    }
   },
   "outputs": [
    {
     "name": "stderr",
     "output_type": "stream",
     "text": [
      "/usr/local/lib/python3.7/dist-packages/openpyxl/styles/stylesheet.py:221: UserWarning: Workbook contains no default style, apply openpyxl's default\n",
      "  warn(\"Workbook contains no default style, apply openpyxl's default\")\n"
     ]
    }
   ],
   "source": [
    "store_info = pd.read_excel('LOCATION_INF.xlsx', parse_dates=['OpenDate', 'CloseDate'])\n",
    "store_info.rename(columns={'TradePointId': 'Store'}, inplace=True)"
   ]
  },
  {
   "cell_type": "code",
   "execution_count": 14,
   "metadata": {
    "ExecuteTime": {
     "end_time": "2021-05-11T13:39:02.315773Z",
     "start_time": "2021-05-11T13:39:02.309043Z"
    }
   },
   "outputs": [],
   "source": [
    "import datetime\n",
    "\n",
    "age_func = lambda r: datetime.datetime.today().year - datetime.datetime.date(r).year\n",
    "store_info['StoreAge'] = store_info.OpenDate.apply(age_func)"
   ]
  },
  {
   "cell_type": "code",
   "execution_count": 15,
   "metadata": {
    "ExecuteTime": {
     "end_time": "2021-05-11T13:39:02.791985Z",
     "start_time": "2021-05-11T13:39:02.786095Z"
    }
   },
   "outputs": [],
   "source": [
    "def city_func(r):\n",
    "    city = r.split('_x0020_')[0]\n",
    "    if city.endswith('_x002C_'):\n",
    "        city = city.split('_x002C_')[0]\n",
    "\n",
    "    return city\n",
    "\n",
    "store_info['StoreCity'] = store_info.TradePointName.apply(city_func)"
   ]
  },
  {
   "cell_type": "code",
   "execution_count": 16,
   "metadata": {
    "ExecuteTime": {
     "end_time": "2021-05-11T13:39:03.123179Z",
     "start_time": "2021-05-11T13:39:03.117966Z"
    }
   },
   "outputs": [],
   "source": [
    "store_info = store_info[['Store', 'StoreAge', 'StoreCity']]"
   ]
  },
  {
   "cell_type": "code",
   "execution_count": 17,
   "metadata": {
    "ExecuteTime": {
     "end_time": "2021-05-11T13:39:03.702913Z",
     "start_time": "2021-05-11T13:39:03.690370Z"
    }
   },
   "outputs": [
    {
     "data": {
      "text/html": [
       "<div>\n",
       "<style scoped>\n",
       "    .dataframe tbody tr th:only-of-type {\n",
       "        vertical-align: middle;\n",
       "    }\n",
       "\n",
       "    .dataframe tbody tr th {\n",
       "        vertical-align: top;\n",
       "    }\n",
       "\n",
       "    .dataframe thead th {\n",
       "        text-align: right;\n",
       "    }\n",
       "</style>\n",
       "<table border=\"1\" class=\"dataframe\">\n",
       "  <thead>\n",
       "    <tr style=\"text-align: right;\">\n",
       "      <th></th>\n",
       "      <th>Store</th>\n",
       "      <th>StoreAge</th>\n",
       "      <th>StoreCity</th>\n",
       "    </tr>\n",
       "  </thead>\n",
       "  <tbody>\n",
       "    <tr>\n",
       "      <th>0</th>\n",
       "      <td>1076</td>\n",
       "      <td>12</td>\n",
       "      <td>СПб</td>\n",
       "    </tr>\n",
       "    <tr>\n",
       "      <th>1</th>\n",
       "      <td>1077</td>\n",
       "      <td>16</td>\n",
       "      <td>СПб</td>\n",
       "    </tr>\n",
       "    <tr>\n",
       "      <th>2</th>\n",
       "      <td>1078</td>\n",
       "      <td>14</td>\n",
       "      <td>СПб</td>\n",
       "    </tr>\n",
       "    <tr>\n",
       "      <th>3</th>\n",
       "      <td>1079</td>\n",
       "      <td>19</td>\n",
       "      <td>СПб</td>\n",
       "    </tr>\n",
       "    <tr>\n",
       "      <th>4</th>\n",
       "      <td>1080</td>\n",
       "      <td>13</td>\n",
       "      <td>СПб</td>\n",
       "    </tr>\n",
       "    <tr>\n",
       "      <th>...</th>\n",
       "      <td>...</td>\n",
       "      <td>...</td>\n",
       "      <td>...</td>\n",
       "    </tr>\n",
       "    <tr>\n",
       "      <th>179</th>\n",
       "      <td>2926</td>\n",
       "      <td>1</td>\n",
       "      <td>СПб</td>\n",
       "    </tr>\n",
       "    <tr>\n",
       "      <th>180</th>\n",
       "      <td>2928</td>\n",
       "      <td>1</td>\n",
       "      <td>СПб</td>\n",
       "    </tr>\n",
       "    <tr>\n",
       "      <th>181</th>\n",
       "      <td>2930</td>\n",
       "      <td>1</td>\n",
       "      <td>Интернет-магазин</td>\n",
       "    </tr>\n",
       "    <tr>\n",
       "      <th>182</th>\n",
       "      <td>2952</td>\n",
       "      <td>1</td>\n",
       "      <td>СПб</td>\n",
       "    </tr>\n",
       "    <tr>\n",
       "      <th>183</th>\n",
       "      <td>2953</td>\n",
       "      <td>1</td>\n",
       "      <td>СПб</td>\n",
       "    </tr>\n",
       "  </tbody>\n",
       "</table>\n",
       "<p>184 rows × 3 columns</p>\n",
       "</div>"
      ],
      "text/plain": [
       "     Store  StoreAge         StoreCity\n",
       "0     1076        12               СПб\n",
       "1     1077        16               СПб\n",
       "2     1078        14               СПб\n",
       "3     1079        19               СПб\n",
       "4     1080        13               СПб\n",
       "..     ...       ...               ...\n",
       "179   2926         1               СПб\n",
       "180   2928         1               СПб\n",
       "181   2930         1  Интернет-магазин\n",
       "182   2952         1               СПб\n",
       "183   2953         1               СПб\n",
       "\n",
       "[184 rows x 3 columns]"
      ]
     },
     "execution_count": 17,
     "metadata": {},
     "output_type": "execute_result"
    }
   ],
   "source": [
    "store_info"
   ]
  },
  {
   "cell_type": "code",
   "execution_count": 18,
   "metadata": {
    "ExecuteTime": {
     "end_time": "2021-05-11T13:39:04.064680Z",
     "start_time": "2021-05-11T13:39:04.050900Z"
    }
   },
   "outputs": [],
   "source": [
    "df_store_sku = df_sku.join(store_info.set_index('Store'), on='Store')"
   ]
  },
  {
   "cell_type": "code",
   "execution_count": 19,
   "metadata": {
    "ExecuteTime": {
     "end_time": "2021-05-11T13:39:04.404445Z",
     "start_time": "2021-05-11T13:39:04.390343Z"
    }
   },
   "outputs": [
    {
     "data": {
      "text/plain": [
       "SKU                0\n",
       "Store              0\n",
       "Elasticity         0\n",
       "P_value            0\n",
       "Q1_Qty             0\n",
       "Q1_Price           0\n",
       "Q1_Elasticity      0\n",
       "Q1_Ttest           0\n",
       "ClassId            0\n",
       "CategoryId         0\n",
       "ClusterId          0\n",
       "GroupId            0\n",
       "SubGroupId         0\n",
       "StoreAge         583\n",
       "StoreCity        583\n",
       "dtype: int64"
      ]
     },
     "execution_count": 19,
     "metadata": {},
     "output_type": "execute_result"
    }
   ],
   "source": [
    "df_store_sku.isna().sum()"
   ]
  },
  {
   "cell_type": "code",
   "execution_count": 20,
   "metadata": {
    "ExecuteTime": {
     "end_time": "2021-05-11T13:39:04.782422Z",
     "start_time": "2021-05-11T13:39:04.751261Z"
    }
   },
   "outputs": [],
   "source": [
    "df_store_sku.dropna(inplace=True)"
   ]
  },
  {
   "cell_type": "code",
   "execution_count": 21,
   "metadata": {
    "ExecuteTime": {
     "end_time": "2021-05-11T13:39:05.296284Z",
     "start_time": "2021-05-11T13:39:05.281314Z"
    }
   },
   "outputs": [
    {
     "data": {
      "text/plain": [
       "SKU              0\n",
       "Store            0\n",
       "Elasticity       0\n",
       "P_value          0\n",
       "Q1_Qty           0\n",
       "Q1_Price         0\n",
       "Q1_Elasticity    0\n",
       "Q1_Ttest         0\n",
       "ClassId          0\n",
       "CategoryId       0\n",
       "ClusterId        0\n",
       "GroupId          0\n",
       "SubGroupId       0\n",
       "StoreAge         0\n",
       "StoreCity        0\n",
       "dtype: int64"
      ]
     },
     "execution_count": 21,
     "metadata": {},
     "output_type": "execute_result"
    }
   ],
   "source": [
    "df_store_sku.isna().sum()"
   ]
  },
  {
   "cell_type": "code",
   "execution_count": 22,
   "metadata": {
    "ExecuteTime": {
     "end_time": "2021-05-11T13:39:05.779494Z",
     "start_time": "2021-05-11T13:39:05.747428Z"
    }
   },
   "outputs": [
    {
     "data": {
      "text/html": [
       "<div>\n",
       "<style scoped>\n",
       "    .dataframe tbody tr th:only-of-type {\n",
       "        vertical-align: middle;\n",
       "    }\n",
       "\n",
       "    .dataframe tbody tr th {\n",
       "        vertical-align: top;\n",
       "    }\n",
       "\n",
       "    .dataframe thead th {\n",
       "        text-align: right;\n",
       "    }\n",
       "</style>\n",
       "<table border=\"1\" class=\"dataframe\">\n",
       "  <thead>\n",
       "    <tr style=\"text-align: right;\">\n",
       "      <th></th>\n",
       "      <th>SKU</th>\n",
       "      <th>Store</th>\n",
       "      <th>Elasticity</th>\n",
       "      <th>P_value</th>\n",
       "      <th>Q1_Qty</th>\n",
       "      <th>Q1_Price</th>\n",
       "      <th>Q1_Elasticity</th>\n",
       "      <th>Q1_Ttest</th>\n",
       "      <th>ClassId</th>\n",
       "      <th>CategoryId</th>\n",
       "      <th>ClusterId</th>\n",
       "      <th>GroupId</th>\n",
       "      <th>SubGroupId</th>\n",
       "      <th>StoreAge</th>\n",
       "      <th>StoreCity</th>\n",
       "    </tr>\n",
       "  </thead>\n",
       "  <tbody>\n",
       "    <tr>\n",
       "      <th>0</th>\n",
       "      <td>14408</td>\n",
       "      <td>2834</td>\n",
       "      <td>-1.248910</td>\n",
       "      <td>2.932442e-61</td>\n",
       "      <td>202.344444</td>\n",
       "      <td>60.457444</td>\n",
       "      <td>-3.693639e+00</td>\n",
       "      <td>6.597211e-08</td>\n",
       "      <td>2003.0</td>\n",
       "      <td>2561.0</td>\n",
       "      <td>27.0</td>\n",
       "      <td>2047.0</td>\n",
       "      <td>2356.0</td>\n",
       "      <td>2.0</td>\n",
       "      <td>Интернет-магазин</td>\n",
       "    </tr>\n",
       "    <tr>\n",
       "      <th>1</th>\n",
       "      <td>150862</td>\n",
       "      <td>2834</td>\n",
       "      <td>-1.006074</td>\n",
       "      <td>2.219744e-64</td>\n",
       "      <td>266.366667</td>\n",
       "      <td>301.042889</td>\n",
       "      <td>-1.490706e+00</td>\n",
       "      <td>1.388874e-14</td>\n",
       "      <td>2003.0</td>\n",
       "      <td>2547.0</td>\n",
       "      <td>4.0</td>\n",
       "      <td>2047.0</td>\n",
       "      <td>2099.0</td>\n",
       "      <td>2.0</td>\n",
       "      <td>Интернет-магазин</td>\n",
       "    </tr>\n",
       "    <tr>\n",
       "      <th>2</th>\n",
       "      <td>213851</td>\n",
       "      <td>2834</td>\n",
       "      <td>-1.328601</td>\n",
       "      <td>5.668468e-03</td>\n",
       "      <td>4141.500000</td>\n",
       "      <td>90.424887</td>\n",
       "      <td>-5.872169e-01</td>\n",
       "      <td>4.622280e-01</td>\n",
       "      <td>2003.0</td>\n",
       "      <td>2496.0</td>\n",
       "      <td>456.0</td>\n",
       "      <td>2037.0</td>\n",
       "      <td>2105.0</td>\n",
       "      <td>2.0</td>\n",
       "      <td>Интернет-магазин</td>\n",
       "    </tr>\n",
       "    <tr>\n",
       "      <th>3</th>\n",
       "      <td>149856</td>\n",
       "      <td>2676</td>\n",
       "      <td>-0.960983</td>\n",
       "      <td>2.450502e-20</td>\n",
       "      <td>2.000000</td>\n",
       "      <td>336.777778</td>\n",
       "      <td>-1.075529e-15</td>\n",
       "      <td>9.347857e-01</td>\n",
       "      <td>2003.0</td>\n",
       "      <td>3023.0</td>\n",
       "      <td>458.0</td>\n",
       "      <td>2037.0</td>\n",
       "      <td>2105.0</td>\n",
       "      <td>3.0</td>\n",
       "      <td>ЛО</td>\n",
       "    </tr>\n",
       "    <tr>\n",
       "      <th>4</th>\n",
       "      <td>4240</td>\n",
       "      <td>1498</td>\n",
       "      <td>-0.561682</td>\n",
       "      <td>3.082433e-02</td>\n",
       "      <td>2.000000</td>\n",
       "      <td>79.000000</td>\n",
       "      <td>2.507087e-01</td>\n",
       "      <td>0.000000e+00</td>\n",
       "      <td>2003.0</td>\n",
       "      <td>2692.0</td>\n",
       "      <td>455.0</td>\n",
       "      <td>2037.0</td>\n",
       "      <td>2105.0</td>\n",
       "      <td>17.0</td>\n",
       "      <td>СПб</td>\n",
       "    </tr>\n",
       "    <tr>\n",
       "      <th>...</th>\n",
       "      <td>...</td>\n",
       "      <td>...</td>\n",
       "      <td>...</td>\n",
       "      <td>...</td>\n",
       "      <td>...</td>\n",
       "      <td>...</td>\n",
       "      <td>...</td>\n",
       "      <td>...</td>\n",
       "      <td>...</td>\n",
       "      <td>...</td>\n",
       "      <td>...</td>\n",
       "      <td>...</td>\n",
       "      <td>...</td>\n",
       "      <td>...</td>\n",
       "      <td>...</td>\n",
       "    </tr>\n",
       "    <tr>\n",
       "      <th>78884</th>\n",
       "      <td>127510</td>\n",
       "      <td>1121</td>\n",
       "      <td>-7.771024</td>\n",
       "      <td>2.630867e-33</td>\n",
       "      <td>1.563636</td>\n",
       "      <td>640.000000</td>\n",
       "      <td>1.426084e-01</td>\n",
       "      <td>6.211444e-38</td>\n",
       "      <td>2003.0</td>\n",
       "      <td>2532.0</td>\n",
       "      <td>7.0</td>\n",
       "      <td>2047.0</td>\n",
       "      <td>2099.0</td>\n",
       "      <td>5.0</td>\n",
       "      <td>ЛО</td>\n",
       "    </tr>\n",
       "    <tr>\n",
       "      <th>78885</th>\n",
       "      <td>135870</td>\n",
       "      <td>1122</td>\n",
       "      <td>-2.001138</td>\n",
       "      <td>1.654577e-39</td>\n",
       "      <td>2.922078</td>\n",
       "      <td>39.000000</td>\n",
       "      <td>3.693121e-01</td>\n",
       "      <td>4.073054e-88</td>\n",
       "      <td>2003.0</td>\n",
       "      <td>2489.0</td>\n",
       "      <td>465.0</td>\n",
       "      <td>2037.0</td>\n",
       "      <td>2111.0</td>\n",
       "      <td>5.0</td>\n",
       "      <td>ЛО</td>\n",
       "    </tr>\n",
       "    <tr>\n",
       "      <th>78886</th>\n",
       "      <td>213317</td>\n",
       "      <td>1793</td>\n",
       "      <td>-1.075950</td>\n",
       "      <td>3.624972e-08</td>\n",
       "      <td>1.000000</td>\n",
       "      <td>312.510204</td>\n",
       "      <td>-2.844947e-16</td>\n",
       "      <td>7.719584e-01</td>\n",
       "      <td>2003.0</td>\n",
       "      <td>2849.0</td>\n",
       "      <td>470.0</td>\n",
       "      <td>2037.0</td>\n",
       "      <td>2145.0</td>\n",
       "      <td>11.0</td>\n",
       "      <td>СПб</td>\n",
       "    </tr>\n",
       "    <tr>\n",
       "      <th>78887</th>\n",
       "      <td>140917</td>\n",
       "      <td>1742</td>\n",
       "      <td>-1.853547</td>\n",
       "      <td>3.828967e-41</td>\n",
       "      <td>1.000000</td>\n",
       "      <td>407.000000</td>\n",
       "      <td>1.153080e-01</td>\n",
       "      <td>0.000000e+00</td>\n",
       "      <td>2003.0</td>\n",
       "      <td>2970.0</td>\n",
       "      <td>451.0</td>\n",
       "      <td>2037.0</td>\n",
       "      <td>2294.0</td>\n",
       "      <td>18.0</td>\n",
       "      <td>ЛО</td>\n",
       "    </tr>\n",
       "    <tr>\n",
       "      <th>78888</th>\n",
       "      <td>207072</td>\n",
       "      <td>1128</td>\n",
       "      <td>-1.485153</td>\n",
       "      <td>6.789077e-38</td>\n",
       "      <td>1.000000</td>\n",
       "      <td>227.883721</td>\n",
       "      <td>-1.221245e-15</td>\n",
       "      <td>8.456690e-01</td>\n",
       "      <td>2003.0</td>\n",
       "      <td>2808.0</td>\n",
       "      <td>947.0</td>\n",
       "      <td>2037.0</td>\n",
       "      <td>2105.0</td>\n",
       "      <td>5.0</td>\n",
       "      <td>СПб</td>\n",
       "    </tr>\n",
       "  </tbody>\n",
       "</table>\n",
       "<p>78889 rows × 15 columns</p>\n",
       "</div>"
      ],
      "text/plain": [
       "          SKU  Store  Elasticity       P_value       Q1_Qty    Q1_Price  \\\n",
       "0       14408   2834   -1.248910  2.932442e-61   202.344444   60.457444   \n",
       "1      150862   2834   -1.006074  2.219744e-64   266.366667  301.042889   \n",
       "2      213851   2834   -1.328601  5.668468e-03  4141.500000   90.424887   \n",
       "3      149856   2676   -0.960983  2.450502e-20     2.000000  336.777778   \n",
       "4        4240   1498   -0.561682  3.082433e-02     2.000000   79.000000   \n",
       "...       ...    ...         ...           ...          ...         ...   \n",
       "78884  127510   1121   -7.771024  2.630867e-33     1.563636  640.000000   \n",
       "78885  135870   1122   -2.001138  1.654577e-39     2.922078   39.000000   \n",
       "78886  213317   1793   -1.075950  3.624972e-08     1.000000  312.510204   \n",
       "78887  140917   1742   -1.853547  3.828967e-41     1.000000  407.000000   \n",
       "78888  207072   1128   -1.485153  6.789077e-38     1.000000  227.883721   \n",
       "\n",
       "       Q1_Elasticity      Q1_Ttest  ClassId  CategoryId  ClusterId  GroupId  \\\n",
       "0      -3.693639e+00  6.597211e-08   2003.0      2561.0       27.0   2047.0   \n",
       "1      -1.490706e+00  1.388874e-14   2003.0      2547.0        4.0   2047.0   \n",
       "2      -5.872169e-01  4.622280e-01   2003.0      2496.0      456.0   2037.0   \n",
       "3      -1.075529e-15  9.347857e-01   2003.0      3023.0      458.0   2037.0   \n",
       "4       2.507087e-01  0.000000e+00   2003.0      2692.0      455.0   2037.0   \n",
       "...              ...           ...      ...         ...        ...      ...   \n",
       "78884   1.426084e-01  6.211444e-38   2003.0      2532.0        7.0   2047.0   \n",
       "78885   3.693121e-01  4.073054e-88   2003.0      2489.0      465.0   2037.0   \n",
       "78886  -2.844947e-16  7.719584e-01   2003.0      2849.0      470.0   2037.0   \n",
       "78887   1.153080e-01  0.000000e+00   2003.0      2970.0      451.0   2037.0   \n",
       "78888  -1.221245e-15  8.456690e-01   2003.0      2808.0      947.0   2037.0   \n",
       "\n",
       "       SubGroupId  StoreAge         StoreCity  \n",
       "0          2356.0       2.0  Интернет-магазин  \n",
       "1          2099.0       2.0  Интернет-магазин  \n",
       "2          2105.0       2.0  Интернет-магазин  \n",
       "3          2105.0       3.0                ЛО  \n",
       "4          2105.0      17.0               СПб  \n",
       "...           ...       ...               ...  \n",
       "78884      2099.0       5.0                ЛО  \n",
       "78885      2111.0       5.0                ЛО  \n",
       "78886      2145.0      11.0               СПб  \n",
       "78887      2294.0      18.0                ЛО  \n",
       "78888      2105.0       5.0               СПб  \n",
       "\n",
       "[78889 rows x 15 columns]"
      ]
     },
     "execution_count": 22,
     "metadata": {},
     "output_type": "execute_result"
    }
   ],
   "source": [
    "df_store_sku.reset_index(drop=True, inplace=True)\n",
    "df_store_sku"
   ]
  },
  {
   "cell_type": "code",
   "execution_count": 23,
   "metadata": {
    "ExecuteTime": {
     "end_time": "2021-05-11T13:39:06.234687Z",
     "start_time": "2021-05-11T13:39:06.218580Z"
    }
   },
   "outputs": [],
   "source": [
    "df_store_sku.ClassId = df_store_sku.ClassId.astype('int')\n",
    "df_store_sku.CategoryId = df_store_sku.CategoryId.astype('int')\n",
    "df_store_sku.ClusterId = df_store_sku.ClusterId.astype('int')\n",
    "df_store_sku.GroupId = df_store_sku.GroupId.astype('int')\n",
    "df_store_sku.SubGroupId = df_store_sku.SubGroupId.astype('int')\n",
    "df_store_sku.StoreAge = df_store_sku.StoreAge.astype('int')"
   ]
  },
  {
   "cell_type": "code",
   "execution_count": 24,
   "metadata": {
    "ExecuteTime": {
     "end_time": "2021-05-11T13:39:06.822897Z",
     "start_time": "2021-05-11T13:39:06.795893Z"
    }
   },
   "outputs": [
    {
     "data": {
      "text/html": [
       "<div>\n",
       "<style scoped>\n",
       "    .dataframe tbody tr th:only-of-type {\n",
       "        vertical-align: middle;\n",
       "    }\n",
       "\n",
       "    .dataframe tbody tr th {\n",
       "        vertical-align: top;\n",
       "    }\n",
       "\n",
       "    .dataframe thead th {\n",
       "        text-align: right;\n",
       "    }\n",
       "</style>\n",
       "<table border=\"1\" class=\"dataframe\">\n",
       "  <thead>\n",
       "    <tr style=\"text-align: right;\">\n",
       "      <th></th>\n",
       "      <th>SKU</th>\n",
       "      <th>Store</th>\n",
       "      <th>Elasticity</th>\n",
       "      <th>P_value</th>\n",
       "      <th>Q1_Qty</th>\n",
       "      <th>Q1_Price</th>\n",
       "      <th>Q1_Elasticity</th>\n",
       "      <th>Q1_Ttest</th>\n",
       "      <th>ClassId</th>\n",
       "      <th>CategoryId</th>\n",
       "      <th>ClusterId</th>\n",
       "      <th>GroupId</th>\n",
       "      <th>SubGroupId</th>\n",
       "      <th>StoreAge</th>\n",
       "      <th>StoreCity</th>\n",
       "    </tr>\n",
       "  </thead>\n",
       "  <tbody>\n",
       "    <tr>\n",
       "      <th>0</th>\n",
       "      <td>14408</td>\n",
       "      <td>2834</td>\n",
       "      <td>-1.248910</td>\n",
       "      <td>2.932442e-61</td>\n",
       "      <td>202.344444</td>\n",
       "      <td>60.457444</td>\n",
       "      <td>-3.693639e+00</td>\n",
       "      <td>6.597211e-08</td>\n",
       "      <td>2003</td>\n",
       "      <td>2561</td>\n",
       "      <td>27</td>\n",
       "      <td>2047</td>\n",
       "      <td>2356</td>\n",
       "      <td>2</td>\n",
       "      <td>Интернет-магазин</td>\n",
       "    </tr>\n",
       "    <tr>\n",
       "      <th>1</th>\n",
       "      <td>150862</td>\n",
       "      <td>2834</td>\n",
       "      <td>-1.006074</td>\n",
       "      <td>2.219744e-64</td>\n",
       "      <td>266.366667</td>\n",
       "      <td>301.042889</td>\n",
       "      <td>-1.490706e+00</td>\n",
       "      <td>1.388874e-14</td>\n",
       "      <td>2003</td>\n",
       "      <td>2547</td>\n",
       "      <td>4</td>\n",
       "      <td>2047</td>\n",
       "      <td>2099</td>\n",
       "      <td>2</td>\n",
       "      <td>Интернет-магазин</td>\n",
       "    </tr>\n",
       "    <tr>\n",
       "      <th>2</th>\n",
       "      <td>213851</td>\n",
       "      <td>2834</td>\n",
       "      <td>-1.328601</td>\n",
       "      <td>5.668468e-03</td>\n",
       "      <td>4141.500000</td>\n",
       "      <td>90.424887</td>\n",
       "      <td>-5.872169e-01</td>\n",
       "      <td>4.622280e-01</td>\n",
       "      <td>2003</td>\n",
       "      <td>2496</td>\n",
       "      <td>456</td>\n",
       "      <td>2037</td>\n",
       "      <td>2105</td>\n",
       "      <td>2</td>\n",
       "      <td>Интернет-магазин</td>\n",
       "    </tr>\n",
       "    <tr>\n",
       "      <th>3</th>\n",
       "      <td>149856</td>\n",
       "      <td>2676</td>\n",
       "      <td>-0.960983</td>\n",
       "      <td>2.450502e-20</td>\n",
       "      <td>2.000000</td>\n",
       "      <td>336.777778</td>\n",
       "      <td>-1.075529e-15</td>\n",
       "      <td>9.347857e-01</td>\n",
       "      <td>2003</td>\n",
       "      <td>3023</td>\n",
       "      <td>458</td>\n",
       "      <td>2037</td>\n",
       "      <td>2105</td>\n",
       "      <td>3</td>\n",
       "      <td>ЛО</td>\n",
       "    </tr>\n",
       "    <tr>\n",
       "      <th>4</th>\n",
       "      <td>4240</td>\n",
       "      <td>1498</td>\n",
       "      <td>-0.561682</td>\n",
       "      <td>3.082433e-02</td>\n",
       "      <td>2.000000</td>\n",
       "      <td>79.000000</td>\n",
       "      <td>2.507087e-01</td>\n",
       "      <td>0.000000e+00</td>\n",
       "      <td>2003</td>\n",
       "      <td>2692</td>\n",
       "      <td>455</td>\n",
       "      <td>2037</td>\n",
       "      <td>2105</td>\n",
       "      <td>17</td>\n",
       "      <td>СПб</td>\n",
       "    </tr>\n",
       "    <tr>\n",
       "      <th>...</th>\n",
       "      <td>...</td>\n",
       "      <td>...</td>\n",
       "      <td>...</td>\n",
       "      <td>...</td>\n",
       "      <td>...</td>\n",
       "      <td>...</td>\n",
       "      <td>...</td>\n",
       "      <td>...</td>\n",
       "      <td>...</td>\n",
       "      <td>...</td>\n",
       "      <td>...</td>\n",
       "      <td>...</td>\n",
       "      <td>...</td>\n",
       "      <td>...</td>\n",
       "      <td>...</td>\n",
       "    </tr>\n",
       "    <tr>\n",
       "      <th>78884</th>\n",
       "      <td>127510</td>\n",
       "      <td>1121</td>\n",
       "      <td>-7.771024</td>\n",
       "      <td>2.630867e-33</td>\n",
       "      <td>1.563636</td>\n",
       "      <td>640.000000</td>\n",
       "      <td>1.426084e-01</td>\n",
       "      <td>6.211444e-38</td>\n",
       "      <td>2003</td>\n",
       "      <td>2532</td>\n",
       "      <td>7</td>\n",
       "      <td>2047</td>\n",
       "      <td>2099</td>\n",
       "      <td>5</td>\n",
       "      <td>ЛО</td>\n",
       "    </tr>\n",
       "    <tr>\n",
       "      <th>78885</th>\n",
       "      <td>135870</td>\n",
       "      <td>1122</td>\n",
       "      <td>-2.001138</td>\n",
       "      <td>1.654577e-39</td>\n",
       "      <td>2.922078</td>\n",
       "      <td>39.000000</td>\n",
       "      <td>3.693121e-01</td>\n",
       "      <td>4.073054e-88</td>\n",
       "      <td>2003</td>\n",
       "      <td>2489</td>\n",
       "      <td>465</td>\n",
       "      <td>2037</td>\n",
       "      <td>2111</td>\n",
       "      <td>5</td>\n",
       "      <td>ЛО</td>\n",
       "    </tr>\n",
       "    <tr>\n",
       "      <th>78886</th>\n",
       "      <td>213317</td>\n",
       "      <td>1793</td>\n",
       "      <td>-1.075950</td>\n",
       "      <td>3.624972e-08</td>\n",
       "      <td>1.000000</td>\n",
       "      <td>312.510204</td>\n",
       "      <td>-2.844947e-16</td>\n",
       "      <td>7.719584e-01</td>\n",
       "      <td>2003</td>\n",
       "      <td>2849</td>\n",
       "      <td>470</td>\n",
       "      <td>2037</td>\n",
       "      <td>2145</td>\n",
       "      <td>11</td>\n",
       "      <td>СПб</td>\n",
       "    </tr>\n",
       "    <tr>\n",
       "      <th>78887</th>\n",
       "      <td>140917</td>\n",
       "      <td>1742</td>\n",
       "      <td>-1.853547</td>\n",
       "      <td>3.828967e-41</td>\n",
       "      <td>1.000000</td>\n",
       "      <td>407.000000</td>\n",
       "      <td>1.153080e-01</td>\n",
       "      <td>0.000000e+00</td>\n",
       "      <td>2003</td>\n",
       "      <td>2970</td>\n",
       "      <td>451</td>\n",
       "      <td>2037</td>\n",
       "      <td>2294</td>\n",
       "      <td>18</td>\n",
       "      <td>ЛО</td>\n",
       "    </tr>\n",
       "    <tr>\n",
       "      <th>78888</th>\n",
       "      <td>207072</td>\n",
       "      <td>1128</td>\n",
       "      <td>-1.485153</td>\n",
       "      <td>6.789077e-38</td>\n",
       "      <td>1.000000</td>\n",
       "      <td>227.883721</td>\n",
       "      <td>-1.221245e-15</td>\n",
       "      <td>8.456690e-01</td>\n",
       "      <td>2003</td>\n",
       "      <td>2808</td>\n",
       "      <td>947</td>\n",
       "      <td>2037</td>\n",
       "      <td>2105</td>\n",
       "      <td>5</td>\n",
       "      <td>СПб</td>\n",
       "    </tr>\n",
       "  </tbody>\n",
       "</table>\n",
       "<p>78889 rows × 15 columns</p>\n",
       "</div>"
      ],
      "text/plain": [
       "          SKU  Store  Elasticity       P_value       Q1_Qty    Q1_Price  \\\n",
       "0       14408   2834   -1.248910  2.932442e-61   202.344444   60.457444   \n",
       "1      150862   2834   -1.006074  2.219744e-64   266.366667  301.042889   \n",
       "2      213851   2834   -1.328601  5.668468e-03  4141.500000   90.424887   \n",
       "3      149856   2676   -0.960983  2.450502e-20     2.000000  336.777778   \n",
       "4        4240   1498   -0.561682  3.082433e-02     2.000000   79.000000   \n",
       "...       ...    ...         ...           ...          ...         ...   \n",
       "78884  127510   1121   -7.771024  2.630867e-33     1.563636  640.000000   \n",
       "78885  135870   1122   -2.001138  1.654577e-39     2.922078   39.000000   \n",
       "78886  213317   1793   -1.075950  3.624972e-08     1.000000  312.510204   \n",
       "78887  140917   1742   -1.853547  3.828967e-41     1.000000  407.000000   \n",
       "78888  207072   1128   -1.485153  6.789077e-38     1.000000  227.883721   \n",
       "\n",
       "       Q1_Elasticity      Q1_Ttest  ClassId  CategoryId  ClusterId  GroupId  \\\n",
       "0      -3.693639e+00  6.597211e-08     2003        2561         27     2047   \n",
       "1      -1.490706e+00  1.388874e-14     2003        2547          4     2047   \n",
       "2      -5.872169e-01  4.622280e-01     2003        2496        456     2037   \n",
       "3      -1.075529e-15  9.347857e-01     2003        3023        458     2037   \n",
       "4       2.507087e-01  0.000000e+00     2003        2692        455     2037   \n",
       "...              ...           ...      ...         ...        ...      ...   \n",
       "78884   1.426084e-01  6.211444e-38     2003        2532          7     2047   \n",
       "78885   3.693121e-01  4.073054e-88     2003        2489        465     2037   \n",
       "78886  -2.844947e-16  7.719584e-01     2003        2849        470     2037   \n",
       "78887   1.153080e-01  0.000000e+00     2003        2970        451     2037   \n",
       "78888  -1.221245e-15  8.456690e-01     2003        2808        947     2037   \n",
       "\n",
       "       SubGroupId  StoreAge         StoreCity  \n",
       "0            2356         2  Интернет-магазин  \n",
       "1            2099         2  Интернет-магазин  \n",
       "2            2105         2  Интернет-магазин  \n",
       "3            2105         3                ЛО  \n",
       "4            2105        17               СПб  \n",
       "...           ...       ...               ...  \n",
       "78884        2099         5                ЛО  \n",
       "78885        2111         5                ЛО  \n",
       "78886        2145        11               СПб  \n",
       "78887        2294        18                ЛО  \n",
       "78888        2105         5               СПб  \n",
       "\n",
       "[78889 rows x 15 columns]"
      ]
     },
     "execution_count": 24,
     "metadata": {},
     "output_type": "execute_result"
    }
   ],
   "source": [
    "df_store_sku"
   ]
  },
  {
   "cell_type": "code",
   "execution_count": 25,
   "metadata": {
    "ExecuteTime": {
     "end_time": "2021-05-11T13:39:07.870677Z",
     "start_time": "2021-05-11T13:39:07.816921Z"
    }
   },
   "outputs": [],
   "source": [
    "from sklearn.preprocessing import LabelEncoder\n",
    "\n",
    "df_store_sku.StoreCity = LabelEncoder().fit_transform(df_store_sku.StoreCity)"
   ]
  },
  {
   "cell_type": "code",
   "execution_count": 26,
   "metadata": {
    "ExecuteTime": {
     "end_time": "2021-05-11T13:39:08.578095Z",
     "start_time": "2021-05-11T13:39:08.568289Z"
    }
   },
   "outputs": [],
   "source": [
    "# delete bad pairs by q1_elas\n",
    "df_store_sku = df_store_sku[(df_store_sku.Q1_Elasticity >= -10) & (df_store_sku.Q1_Elasticity <= 0)]"
   ]
  },
  {
   "cell_type": "code",
   "execution_count": 27,
   "metadata": {
    "ExecuteTime": {
     "end_time": "2021-05-11T13:39:09.400728Z",
     "start_time": "2021-05-11T13:39:09.372732Z"
    }
   },
   "outputs": [
    {
     "data": {
      "text/html": [
       "<div>\n",
       "<style scoped>\n",
       "    .dataframe tbody tr th:only-of-type {\n",
       "        vertical-align: middle;\n",
       "    }\n",
       "\n",
       "    .dataframe tbody tr th {\n",
       "        vertical-align: top;\n",
       "    }\n",
       "\n",
       "    .dataframe thead th {\n",
       "        text-align: right;\n",
       "    }\n",
       "</style>\n",
       "<table border=\"1\" class=\"dataframe\">\n",
       "  <thead>\n",
       "    <tr style=\"text-align: right;\">\n",
       "      <th></th>\n",
       "      <th>SKU</th>\n",
       "      <th>Store</th>\n",
       "      <th>Elasticity</th>\n",
       "      <th>P_value</th>\n",
       "      <th>Q1_Qty</th>\n",
       "      <th>Q1_Price</th>\n",
       "      <th>Q1_Elasticity</th>\n",
       "      <th>Q1_Ttest</th>\n",
       "      <th>ClassId</th>\n",
       "      <th>CategoryId</th>\n",
       "      <th>ClusterId</th>\n",
       "      <th>GroupId</th>\n",
       "      <th>SubGroupId</th>\n",
       "      <th>StoreAge</th>\n",
       "      <th>StoreCity</th>\n",
       "    </tr>\n",
       "  </thead>\n",
       "  <tbody>\n",
       "    <tr>\n",
       "      <th>0</th>\n",
       "      <td>14408</td>\n",
       "      <td>2834</td>\n",
       "      <td>-1.248910</td>\n",
       "      <td>2.932442e-61</td>\n",
       "      <td>202.344444</td>\n",
       "      <td>60.457444</td>\n",
       "      <td>-3.693639e+00</td>\n",
       "      <td>6.597211e-08</td>\n",
       "      <td>2003</td>\n",
       "      <td>2561</td>\n",
       "      <td>27</td>\n",
       "      <td>2047</td>\n",
       "      <td>2356</td>\n",
       "      <td>2</td>\n",
       "      <td>2</td>\n",
       "    </tr>\n",
       "    <tr>\n",
       "      <th>1</th>\n",
       "      <td>150862</td>\n",
       "      <td>2834</td>\n",
       "      <td>-1.006074</td>\n",
       "      <td>2.219744e-64</td>\n",
       "      <td>266.366667</td>\n",
       "      <td>301.042889</td>\n",
       "      <td>-1.490706e+00</td>\n",
       "      <td>1.388874e-14</td>\n",
       "      <td>2003</td>\n",
       "      <td>2547</td>\n",
       "      <td>4</td>\n",
       "      <td>2047</td>\n",
       "      <td>2099</td>\n",
       "      <td>2</td>\n",
       "      <td>2</td>\n",
       "    </tr>\n",
       "    <tr>\n",
       "      <th>2</th>\n",
       "      <td>213851</td>\n",
       "      <td>2834</td>\n",
       "      <td>-1.328601</td>\n",
       "      <td>5.668468e-03</td>\n",
       "      <td>4141.500000</td>\n",
       "      <td>90.424887</td>\n",
       "      <td>-5.872169e-01</td>\n",
       "      <td>4.622280e-01</td>\n",
       "      <td>2003</td>\n",
       "      <td>2496</td>\n",
       "      <td>456</td>\n",
       "      <td>2037</td>\n",
       "      <td>2105</td>\n",
       "      <td>2</td>\n",
       "      <td>2</td>\n",
       "    </tr>\n",
       "    <tr>\n",
       "      <th>3</th>\n",
       "      <td>149856</td>\n",
       "      <td>2676</td>\n",
       "      <td>-0.960983</td>\n",
       "      <td>2.450502e-20</td>\n",
       "      <td>2.000000</td>\n",
       "      <td>336.777778</td>\n",
       "      <td>-1.075529e-15</td>\n",
       "      <td>9.347857e-01</td>\n",
       "      <td>2003</td>\n",
       "      <td>3023</td>\n",
       "      <td>458</td>\n",
       "      <td>2037</td>\n",
       "      <td>2105</td>\n",
       "      <td>3</td>\n",
       "      <td>3</td>\n",
       "    </tr>\n",
       "    <tr>\n",
       "      <th>4</th>\n",
       "      <td>141715</td>\n",
       "      <td>2834</td>\n",
       "      <td>-3.216525</td>\n",
       "      <td>7.529501e-98</td>\n",
       "      <td>770.744444</td>\n",
       "      <td>99.974717</td>\n",
       "      <td>-9.513960e-01</td>\n",
       "      <td>7.419261e-04</td>\n",
       "      <td>2003</td>\n",
       "      <td>2572</td>\n",
       "      <td>51</td>\n",
       "      <td>2047</td>\n",
       "      <td>2240</td>\n",
       "      <td>2</td>\n",
       "      <td>2</td>\n",
       "    </tr>\n",
       "    <tr>\n",
       "      <th>...</th>\n",
       "      <td>...</td>\n",
       "      <td>...</td>\n",
       "      <td>...</td>\n",
       "      <td>...</td>\n",
       "      <td>...</td>\n",
       "      <td>...</td>\n",
       "      <td>...</td>\n",
       "      <td>...</td>\n",
       "      <td>...</td>\n",
       "      <td>...</td>\n",
       "      <td>...</td>\n",
       "      <td>...</td>\n",
       "      <td>...</td>\n",
       "      <td>...</td>\n",
       "      <td>...</td>\n",
       "    </tr>\n",
       "    <tr>\n",
       "      <th>34462</th>\n",
       "      <td>126337</td>\n",
       "      <td>1952</td>\n",
       "      <td>-1.483004</td>\n",
       "      <td>1.180083e-85</td>\n",
       "      <td>2.000000</td>\n",
       "      <td>131.338028</td>\n",
       "      <td>-1.010303e-14</td>\n",
       "      <td>8.065418e-01</td>\n",
       "      <td>2003</td>\n",
       "      <td>2650</td>\n",
       "      <td>17</td>\n",
       "      <td>2047</td>\n",
       "      <td>2376</td>\n",
       "      <td>7</td>\n",
       "      <td>0</td>\n",
       "    </tr>\n",
       "    <tr>\n",
       "      <th>34463</th>\n",
       "      <td>128712</td>\n",
       "      <td>1076</td>\n",
       "      <td>-0.898407</td>\n",
       "      <td>4.657460e-25</td>\n",
       "      <td>1.506329</td>\n",
       "      <td>880.037975</td>\n",
       "      <td>-5.997867e+00</td>\n",
       "      <td>1.251056e-20</td>\n",
       "      <td>2003</td>\n",
       "      <td>2411</td>\n",
       "      <td>53</td>\n",
       "      <td>2047</td>\n",
       "      <td>2218</td>\n",
       "      <td>12</td>\n",
       "      <td>5</td>\n",
       "    </tr>\n",
       "    <tr>\n",
       "      <th>34464</th>\n",
       "      <td>97331</td>\n",
       "      <td>1171</td>\n",
       "      <td>-1.548124</td>\n",
       "      <td>3.509144e-36</td>\n",
       "      <td>1.537500</td>\n",
       "      <td>356.637500</td>\n",
       "      <td>-2.216920e+00</td>\n",
       "      <td>3.222807e-05</td>\n",
       "      <td>2003</td>\n",
       "      <td>2528</td>\n",
       "      <td>34</td>\n",
       "      <td>2047</td>\n",
       "      <td>2212</td>\n",
       "      <td>4</td>\n",
       "      <td>5</td>\n",
       "    </tr>\n",
       "    <tr>\n",
       "      <th>34465</th>\n",
       "      <td>213317</td>\n",
       "      <td>1793</td>\n",
       "      <td>-1.075950</td>\n",
       "      <td>3.624972e-08</td>\n",
       "      <td>1.000000</td>\n",
       "      <td>312.510204</td>\n",
       "      <td>-2.844947e-16</td>\n",
       "      <td>7.719584e-01</td>\n",
       "      <td>2003</td>\n",
       "      <td>2849</td>\n",
       "      <td>470</td>\n",
       "      <td>2037</td>\n",
       "      <td>2145</td>\n",
       "      <td>11</td>\n",
       "      <td>5</td>\n",
       "    </tr>\n",
       "    <tr>\n",
       "      <th>34466</th>\n",
       "      <td>207072</td>\n",
       "      <td>1128</td>\n",
       "      <td>-1.485153</td>\n",
       "      <td>6.789077e-38</td>\n",
       "      <td>1.000000</td>\n",
       "      <td>227.883721</td>\n",
       "      <td>-1.221245e-15</td>\n",
       "      <td>8.456690e-01</td>\n",
       "      <td>2003</td>\n",
       "      <td>2808</td>\n",
       "      <td>947</td>\n",
       "      <td>2037</td>\n",
       "      <td>2105</td>\n",
       "      <td>5</td>\n",
       "      <td>5</td>\n",
       "    </tr>\n",
       "  </tbody>\n",
       "</table>\n",
       "<p>34467 rows × 15 columns</p>\n",
       "</div>"
      ],
      "text/plain": [
       "          SKU  Store  Elasticity       P_value       Q1_Qty    Q1_Price  \\\n",
       "0       14408   2834   -1.248910  2.932442e-61   202.344444   60.457444   \n",
       "1      150862   2834   -1.006074  2.219744e-64   266.366667  301.042889   \n",
       "2      213851   2834   -1.328601  5.668468e-03  4141.500000   90.424887   \n",
       "3      149856   2676   -0.960983  2.450502e-20     2.000000  336.777778   \n",
       "4      141715   2834   -3.216525  7.529501e-98   770.744444   99.974717   \n",
       "...       ...    ...         ...           ...          ...         ...   \n",
       "34462  126337   1952   -1.483004  1.180083e-85     2.000000  131.338028   \n",
       "34463  128712   1076   -0.898407  4.657460e-25     1.506329  880.037975   \n",
       "34464   97331   1171   -1.548124  3.509144e-36     1.537500  356.637500   \n",
       "34465  213317   1793   -1.075950  3.624972e-08     1.000000  312.510204   \n",
       "34466  207072   1128   -1.485153  6.789077e-38     1.000000  227.883721   \n",
       "\n",
       "       Q1_Elasticity      Q1_Ttest  ClassId  CategoryId  ClusterId  GroupId  \\\n",
       "0      -3.693639e+00  6.597211e-08     2003        2561         27     2047   \n",
       "1      -1.490706e+00  1.388874e-14     2003        2547          4     2047   \n",
       "2      -5.872169e-01  4.622280e-01     2003        2496        456     2037   \n",
       "3      -1.075529e-15  9.347857e-01     2003        3023        458     2037   \n",
       "4      -9.513960e-01  7.419261e-04     2003        2572         51     2047   \n",
       "...              ...           ...      ...         ...        ...      ...   \n",
       "34462  -1.010303e-14  8.065418e-01     2003        2650         17     2047   \n",
       "34463  -5.997867e+00  1.251056e-20     2003        2411         53     2047   \n",
       "34464  -2.216920e+00  3.222807e-05     2003        2528         34     2047   \n",
       "34465  -2.844947e-16  7.719584e-01     2003        2849        470     2037   \n",
       "34466  -1.221245e-15  8.456690e-01     2003        2808        947     2037   \n",
       "\n",
       "       SubGroupId  StoreAge  StoreCity  \n",
       "0            2356         2          2  \n",
       "1            2099         2          2  \n",
       "2            2105         2          2  \n",
       "3            2105         3          3  \n",
       "4            2240         2          2  \n",
       "...           ...       ...        ...  \n",
       "34462        2376         7          0  \n",
       "34463        2218        12          5  \n",
       "34464        2212         4          5  \n",
       "34465        2145        11          5  \n",
       "34466        2105         5          5  \n",
       "\n",
       "[34467 rows x 15 columns]"
      ]
     },
     "execution_count": 27,
     "metadata": {},
     "output_type": "execute_result"
    }
   ],
   "source": [
    "df_store_sku.reset_index(drop=True, inplace=True)\n",
    "df_store_sku"
   ]
  },
  {
   "cell_type": "markdown",
   "metadata": {},
   "source": [
    "# Random forest"
   ]
  },
  {
   "cell_type": "code",
   "execution_count": 28,
   "metadata": {
    "ExecuteTime": {
     "end_time": "2021-05-11T13:39:11.369171Z",
     "start_time": "2021-05-11T13:39:11.363429Z"
    }
   },
   "outputs": [],
   "source": [
    "X = df_store_sku[['ClassId', 'CategoryId', 'ClusterId', 'StoreAge', 'StoreCity', 'Q1_Qty', 'Q1_Price', 'Q1_Elasticity', 'Q1_Ttest']]\n",
    "y = df_store_sku['Elasticity']"
   ]
  },
  {
   "cell_type": "code",
   "execution_count": 29,
   "metadata": {
    "ExecuteTime": {
     "end_time": "2021-05-11T13:39:11.851573Z",
     "start_time": "2021-05-11T13:39:11.819127Z"
    }
   },
   "outputs": [],
   "source": [
    "from sklearn.model_selection import train_test_split\n",
    "\n",
    "X_train, X_test, y_train, y_test = train_test_split(X, y, test_size=0.1, random_state=42)"
   ]
  },
  {
   "cell_type": "code",
   "execution_count": 30,
   "metadata": {
    "ExecuteTime": {
     "end_time": "2021-05-11T13:39:35.511625Z",
     "start_time": "2021-05-11T13:39:12.496270Z"
    }
   },
   "outputs": [],
   "source": [
    "from sklearn.ensemble import RandomForestRegressor\n",
    "from sklearn.metrics import mean_squared_error\n",
    "\n",
    "reg = RandomForestRegressor().fit(X_train, y_train)"
   ]
  },
  {
   "cell_type": "code",
   "execution_count": 31,
   "metadata": {
    "ExecuteTime": {
     "end_time": "2021-05-11T13:39:35.713893Z",
     "start_time": "2021-05-11T13:39:35.514473Z"
    }
   },
   "outputs": [
    {
     "data": {
      "text/plain": [
       "2.6332292822184953"
      ]
     },
     "execution_count": 31,
     "metadata": {},
     "output_type": "execute_result"
    }
   ],
   "source": [
    "mean_squared_error(y_test, reg.predict(X_test))"
   ]
  },
  {
   "cell_type": "code",
   "execution_count": 32,
   "metadata": {
    "ExecuteTime": {
     "end_time": "2021-05-11T13:39:42.143352Z",
     "start_time": "2021-05-11T13:39:42.135290Z"
    }
   },
   "outputs": [],
   "source": [
    "def plot_predict(y_pred, y_true):\n",
    "    plt.figure(figsize=(10, 8))\n",
    "    plt.plot(y_pred, y_true, 'o')\n",
    "    \n",
    "    xmin = y_pred.min()\n",
    "    xmax = y_pred.max()\n",
    "    xyline = np.linspace(xmin, xmax, 50)\n",
    "    plt.plot(xyline, xyline, color='black', label='y = x')\n",
    "    \n",
    "    z = np.polyfit(y_pred, y_true, 1)\n",
    "    p = np.poly1d(z)\n",
    "    plt.plot(y_pred, p(y_pred), \"r--\", label='trendline')\n",
    "    \n",
    "    plt.xlabel('Prediction')\n",
    "    plt.ylabel('True value')\n",
    "    plt.legend()"
   ]
  },
  {
   "cell_type": "code",
   "execution_count": 33,
   "metadata": {
    "ExecuteTime": {
     "end_time": "2021-05-11T13:39:43.587815Z",
     "start_time": "2021-05-11T13:39:43.165978Z"
    }
   },
   "outputs": [
    {
     "data": {
      "image/png": "[encoded data removed]",
      "text/plain": [
       "<Figure size 720x576 with 1 Axes>"
      ]
     },
     "metadata": {
      "needs_background": "light"
     },
     "output_type": "display_data"
    }
   ],
   "source": [
    "plot_predict(reg.predict(X_test), y_test)"
   ]
  },
  {
   "cell_type": "markdown",
   "metadata": {},
   "source": [
    "# Random forest with hyperparams"
   ]
  },
  {
   "cell_type": "code",
   "execution_count": 34,
   "metadata": {
    "ExecuteTime": {
     "end_time": "2021-05-11T13:39:46.729944Z",
     "start_time": "2021-05-11T13:39:46.722133Z"
    }
   },
   "outputs": [],
   "source": [
    "def plot_cv_results(cv_results, param_x, param_z, metric='mean_test_score'):\n",
    "    \"\"\"\n",
    "    cv_results - cv_results_ attribute of a GridSearchCV instance (or similar)\n",
    "    param_x - name of grid search parameter to plot on x axis\n",
    "    param_z - name of grid search parameter to plot by line color\n",
    "    \"\"\"\n",
    "    import seaborn as sns\n",
    "    \n",
    "    cv_results = pd.DataFrame(cv_results)\n",
    "    col_x = 'param_' + param_x\n",
    "    col_z = 'param_' + param_z\n",
    "    fig, ax = plt.subplots(1, 1, figsize=(11, 8))\n",
    "    sns.pointplot(x=col_x, y=metric, hue=col_z, data=cv_results, ci=99, n_boot=64, ax=ax)\n",
    "    ax.set_title(\"CV Grid Search Results\")\n",
    "    ax.set_xlabel(param_x)\n",
    "    ax.set_ylabel(metric)\n",
    "    ax.legend(title=param_z)\n",
    "    \n",
    "    return fig"
   ]
  },
  {
   "cell_type": "code",
   "execution_count": 35,
   "metadata": {
    "ExecuteTime": {
     "end_time": "2021-05-11T13:39:58.659075Z",
     "start_time": "2021-05-11T13:39:58.654139Z"
    }
   },
   "outputs": [],
   "source": [
    "param_grid = {\n",
    "    'bootstrap': [True, False],\n",
    "    # 'max_depth': [2, 3, 4], \n",
    "    # 'min_samples_leaf': [2, 3, 4],\n",
    "    # 'min_samples_split': [5, 6, 7, 8],\n",
    "    'n_estimators': [100, 150, 200, 250]\n",
    "}"
   ]
  },
  {
   "cell_type": "code",
   "execution_count": 36,
   "metadata": {
    "ExecuteTime": {
     "end_time": "2021-05-11T13:39:59.509814Z",
     "start_time": "2021-05-11T13:39:59.504303Z"
    }
   },
   "outputs": [],
   "source": [
    "from sklearn.model_selection import GridSearchCV\n",
    "\n",
    "grid_search = GridSearchCV(RandomForestRegressor(), param_grid=param_grid, cv=6, n_jobs=-1, verbose=3)"
   ]
  },
  {
   "cell_type": "code",
   "execution_count": null,
   "metadata": {
    "ExecuteTime": {
     "start_time": "2021-05-11T13:40:02.752Z"
    }
   },
   "outputs": [
    {
     "name": "stdout",
     "output_type": "stream",
     "text": [
      "Fitting 6 folds for each of 8 candidates, totalling 48 fits\n"
     ]
    },
    {
     "name": "stderr",
     "output_type": "stream",
     "text": [
      "[Parallel(n_jobs=-1)]: Using backend LokyBackend with 32 concurrent workers.\n",
      "[Parallel(n_jobs=-1)]: Done   2 out of  48 | elapsed:   26.0s remaining: 10.0min\n",
      "[Parallel(n_jobs=-1)]: Done  19 out of  48 | elapsed:   55.2s remaining:  1.4min\n"
     ]
    }
   ],
   "source": [
    "grid_search.fit(X_train, y_train)"
   ]
  },
  {
   "cell_type": "code",
   "execution_count": 157,
   "metadata": {
    "ExecuteTime": {
     "end_time": "2021-05-09T15:15:10.346861Z",
     "start_time": "2021-05-09T15:15:09.879135Z"
    }
   },
   "outputs": [
    {
     "data": {
      "text/plain": [
       "2.6237809832292123"
      ]
     },
     "execution_count": 157,
     "metadata": {},
     "output_type": "execute_result"
    }
   ],
   "source": [
    "mean_squared_error(y_test, grid_search.predict(X_test))"
   ]
  },
  {
   "cell_type": "markdown",
   "metadata": {},
   "source": [
    "# One Hot Encoding"
   ]
  },
  {
   "cell_type": "code",
   "execution_count": 34,
   "metadata": {
    "ExecuteTime": {
     "end_time": "2021-05-08T16:42:47.753838Z",
     "start_time": "2021-05-08T16:42:47.747770Z"
    }
   },
   "outputs": [],
   "source": [
    "X = df_store_sku[['ClassId', 'CategoryId', 'ClusterId', 'StoreAge', 'StoreCity', 'Q1_Qty', 'Q1_Price', 'Q1_Elasticity', 'Q1_Ttest']]\n",
    "y = df_store_sku['Elasticity']"
   ]
  },
  {
   "cell_type": "code",
   "execution_count": 35,
   "metadata": {
    "ExecuteTime": {
     "end_time": "2021-05-08T16:42:48.195089Z",
     "start_time": "2021-05-08T16:42:48.184425Z"
    }
   },
   "outputs": [],
   "source": [
    "X_train, X_test, y_train, y_test = train_test_split(X, y, test_size=0.1, random_state=42)"
   ]
  },
  {
   "cell_type": "code",
   "execution_count": 36,
   "metadata": {
    "ExecuteTime": {
     "end_time": "2021-05-08T16:42:48.499967Z",
     "start_time": "2021-05-08T16:42:48.491964Z"
    }
   },
   "outputs": [],
   "source": [
    "from sklearn.compose import ColumnTransformer\n",
    "from sklearn.pipeline import Pipeline\n",
    "from sklearn.preprocessing import OneHotEncoder"
   ]
  },
  {
   "cell_type": "code",
   "execution_count": 37,
   "metadata": {
    "ExecuteTime": {
     "end_time": "2021-05-08T16:42:48.811699Z",
     "start_time": "2021-05-08T16:42:48.808192Z"
    }
   },
   "outputs": [],
   "source": [
    "categorical = ['ClassId', 'CategoryId', 'ClusterId', 'StoreAge', 'StoreCity']"
   ]
  },
  {
   "cell_type": "code",
   "execution_count": 38,
   "metadata": {
    "ExecuteTime": {
     "end_time": "2021-05-08T16:43:35.946568Z",
     "start_time": "2021-05-08T16:42:49.077055Z"
    }
   },
   "outputs": [],
   "source": [
    "column_transformer = ColumnTransformer([\n",
    "    ('ohe', OneHotEncoder(handle_unknown='ignore'), categorical)\n",
    "])\n",
    "\n",
    "pipeline = Pipeline(steps=[\n",
    "    ('ohe', column_transformer),\n",
    "    ('random-forest', RandomForestRegressor())\n",
    "])\n",
    "\n",
    "model = pipeline.fit(X_train, y_train)"
   ]
  },
  {
   "cell_type": "code",
   "execution_count": 39,
   "metadata": {
    "ExecuteTime": {
     "end_time": "2021-05-08T16:43:36.070627Z",
     "start_time": "2021-05-08T16:43:35.949077Z"
    }
   },
   "outputs": [
    {
     "data": {
      "text/plain": [
       "3.80072742610383"
      ]
     },
     "execution_count": 39,
     "metadata": {},
     "output_type": "execute_result"
    }
   ],
   "source": [
    "mean_squared_error(y_test, model.predict(X_test))"
   ]
  },
  {
   "cell_type": "code",
   "execution_count": 40,
   "metadata": {
    "ExecuteTime": {
     "end_time": "2021-05-08T16:43:39.942634Z",
     "start_time": "2021-05-08T16:43:39.613490Z"
    }
   },
   "outputs": [
    {
     "data": {
      "image/png": "[encoded data removed]",
      "text/plain": [
       "<Figure size 720x576 with 1 Axes>"
      ]
     },
     "metadata": {
      "needs_background": "light"
     },
     "output_type": "display_data"
    }
   ],
   "source": [
    "plot_predict(model.predict(X_test), y_test)"
   ]
  },
  {
   "cell_type": "markdown",
   "metadata": {},
   "source": [
    "# PED on 2019Q1"
   ]
  },
  {
   "cell_type": "code",
   "execution_count": 41,
   "metadata": {
    "ExecuteTime": {
     "end_time": "2021-05-08T16:43:40.944459Z",
     "start_time": "2021-05-08T16:43:40.936997Z"
    }
   },
   "outputs": [
    {
     "data": {
      "text/plain": [
       "7.758294444974354"
      ]
     },
     "execution_count": 41,
     "metadata": {},
     "output_type": "execute_result"
    }
   ],
   "source": [
    "mean_squared_error(y_test, X_test.Q1_Elasticity)"
   ]
  },
  {
   "cell_type": "code",
   "execution_count": 42,
   "metadata": {
    "ExecuteTime": {
     "end_time": "2021-05-08T16:43:47.818369Z",
     "start_time": "2021-05-08T16:43:47.611587Z"
    }
   },
   "outputs": [
    {
     "data": {
      "image/png": "[encoded data removed]",
      "text/plain": [
       "<Figure size 720x576 with 1 Axes>"
      ]
     },
     "metadata": {
      "needs_background": "light"
     },
     "output_type": "display_data"
    }
   ],
   "source": [
    "plot_predict(X_test.Q1_Elasticity, y_test)"
   ]
  },
  {
   "cell_type": "markdown",
   "metadata": {},
   "source": [
    "# Composition (mean)"
   ]
  },
  {
   "cell_type": "code",
   "execution_count": 43,
   "metadata": {
    "ExecuteTime": {
     "end_time": "2021-05-08T16:43:49.228167Z",
     "start_time": "2021-05-08T16:43:49.030342Z"
    }
   },
   "outputs": [],
   "source": [
    "pred_random_forest = reg.predict(X_test)\n",
    "pred_ped_q1 = X_test.Q1_Elasticity"
   ]
  },
  {
   "cell_type": "code",
   "execution_count": 44,
   "metadata": {
    "ExecuteTime": {
     "end_time": "2021-05-08T16:43:57.314672Z",
     "start_time": "2021-05-08T16:43:57.310045Z"
    }
   },
   "outputs": [],
   "source": [
    "pred_compo = (pred_random_forest + pred_ped_q1) / 2.0"
   ]
  },
  {
   "cell_type": "code",
   "execution_count": 45,
   "metadata": {
    "ExecuteTime": {
     "end_time": "2021-05-08T16:43:58.361699Z",
     "start_time": "2021-05-08T16:43:58.355123Z"
    }
   },
   "outputs": [
    {
     "data": {
      "text/plain": [
       "3.850409657977593"
      ]
     },
     "execution_count": 45,
     "metadata": {},
     "output_type": "execute_result"
    }
   ],
   "source": [
    "mean_squared_error(pred_compo, y_test)"
   ]
  },
  {
   "cell_type": "code",
   "execution_count": 46,
   "metadata": {
    "ExecuteTime": {
     "end_time": "2021-05-08T16:44:02.564016Z",
     "start_time": "2021-05-08T16:44:02.343794Z"
    }
   },
   "outputs": [
    {
     "data": {
      "image/png": "[encoded data removed]",
      "text/plain": [
       "<Figure size 720x576 with 1 Axes>"
      ]
     },
     "metadata": {
      "needs_background": "light"
     },
     "output_type": "display_data"
    }
   ],
   "source": [
    "plot_predict(pred_compo, y_test)"
   ]
  },
  {
   "cell_type": "markdown",
   "metadata": {},
   "source": [
    "# Composition (weighted mean)"
   ]
  },
  {
   "cell_type": "code",
   "execution_count": 120,
   "metadata": {
    "ExecuteTime": {
     "end_time": "2021-05-09T14:50:47.719112Z",
     "start_time": "2021-05-09T14:50:47.715954Z"
    }
   },
   "outputs": [],
   "source": [
    "from sklearn.linear_model import LinearRegression"
   ]
  },
  {
   "cell_type": "code",
   "execution_count": 121,
   "metadata": {
    "ExecuteTime": {
     "end_time": "2021-05-09T14:50:48.158516Z",
     "start_time": "2021-05-09T14:50:48.153919Z"
    }
   },
   "outputs": [],
   "source": [
    "def make_compo_train(data):\n",
    "    return np.concatenate(\n",
    "        (\n",
    "            reg.predict(data).reshape((len(data), 1)),\n",
    "            data.Q1_Elasticity.to_numpy().reshape((len(data), 1))\n",
    "        ),\n",
    "        axis=1\n",
    "    )"
   ]
  },
  {
   "cell_type": "code",
   "execution_count": 122,
   "metadata": {
    "ExecuteTime": {
     "end_time": "2021-05-09T14:50:49.718402Z",
     "start_time": "2021-05-09T14:50:48.572452Z"
    }
   },
   "outputs": [],
   "source": [
    "linear_model = LinearRegression().fit(make_compo_train(X_train), y_train.to_numpy())"
   ]
  },
  {
   "cell_type": "code",
   "execution_count": 123,
   "metadata": {
    "ExecuteTime": {
     "end_time": "2021-05-09T14:50:51.183093Z",
     "start_time": "2021-05-09T14:50:50.985783Z"
    }
   },
   "outputs": [
    {
     "data": {
      "text/plain": [
       "2.764195114837197"
      ]
     },
     "execution_count": 123,
     "metadata": {},
     "output_type": "execute_result"
    }
   ],
   "source": [
    "mean_squared_error(y_test, linear_model.predict(make_compo_train(X_test)))"
   ]
  },
  {
   "cell_type": "code",
   "execution_count": 124,
   "metadata": {
    "ExecuteTime": {
     "end_time": "2021-05-09T14:50:52.213800Z",
     "start_time": "2021-05-09T14:50:51.820726Z"
    }
   },
   "outputs": [
    {
     "data": {
      "image/png": "[encoded data removed]",
      "text/plain": [
       "<Figure size 720x576 with 1 Axes>"
      ]
     },
     "metadata": {
      "needs_background": "light"
     },
     "output_type": "display_data"
    }
   ],
   "source": [
    "plot_predict(linear_model.predict(make_compo_train(X_test)), y_test)"
   ]
  },
  {
   "cell_type": "code",
   "execution_count": null,
   "metadata": {},
   "outputs": [],
   "source": []
  }
 ],
 "metadata": {
  "kernelspec": {
   "display_name": "Python 3",
   "language": "python",
   "name": "python3"
  },
  "language_info": {
   "codemirror_mode": {
    "name": "ipython",
    "version": 3
   },
   "file_extension": ".py",
   "mimetype": "text/x-python",
   "name": "python",
   "nbconvert_exporter": "python",
   "pygments_lexer": "ipython3",
   "version": "3.7.5"
  }
 },
 "nbformat": 4,
 "nbformat_minor": 4
}
