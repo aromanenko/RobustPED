{
 "cells": [
  {
   "cell_type": "code",
   "execution_count": 1,
   "metadata": {
    "ExecuteTime": {
     "end_time": "2021-05-06T08:06:59.696252Z",
     "start_time": "2021-05-06T08:06:52.192325Z"
    }
   },
   "outputs": [],
   "source": [
    "import pandas as pd\n",
    "import numpy as np\n",
    "import statsmodels.api as sm\n",
    "import matplotlib.pyplot as plt\n",
    "import gc\n",
    "import sys\n",
    "from statsmodels.formula.api import ols\n",
    "from IPython.display import clear_output\n",
    "from numba import njit, jit"
   ]
  },
  {
   "cell_type": "markdown",
   "metadata": {},
   "source": [
    "### считаем данные по продажам за 18-19 год "
   ]
  },
  {
   "cell_type": "code",
   "execution_count": 21,
   "metadata": {
    "ExecuteTime": {
     "end_time": "2021-04-16T11:13:42.165422Z",
     "start_time": "2021-04-16T11:13:28.864950Z"
    }
   },
   "outputs": [
    {
     "data": {
      "text/html": [
       "<div>\n",
       "<style scoped>\n",
       "    .dataframe tbody tr th:only-of-type {\n",
       "        vertical-align: middle;\n",
       "    }\n",
       "\n",
       "    .dataframe tbody tr th {\n",
       "        vertical-align: top;\n",
       "    }\n",
       "\n",
       "    .dataframe thead th {\n",
       "        text-align: right;\n",
       "    }\n",
       "</style>\n",
       "<table border=\"1\" class=\"dataframe\">\n",
       "  <thead>\n",
       "    <tr style=\"text-align: right;\">\n",
       "      <th></th>\n",
       "      <th>SKU_ID</th>\n",
       "      <th>Store_ID</th>\n",
       "      <th>Date</th>\n",
       "      <th>Demand</th>\n",
       "      <th>Sales</th>\n",
       "      <th>Regular_Price</th>\n",
       "    </tr>\n",
       "  </thead>\n",
       "  <tbody>\n",
       "    <tr>\n",
       "      <th>0</th>\n",
       "      <td>114</td>\n",
       "      <td>1078</td>\n",
       "      <td>2018-07-01</td>\n",
       "      <td>2.0</td>\n",
       "      <td>2.0</td>\n",
       "      <td>30.0</td>\n",
       "    </tr>\n",
       "    <tr>\n",
       "      <th>1</th>\n",
       "      <td>114</td>\n",
       "      <td>1078</td>\n",
       "      <td>2018-08-05</td>\n",
       "      <td>2.0</td>\n",
       "      <td>0.0</td>\n",
       "      <td>30.0</td>\n",
       "    </tr>\n",
       "    <tr>\n",
       "      <th>2</th>\n",
       "      <td>114</td>\n",
       "      <td>1078</td>\n",
       "      <td>2018-08-06</td>\n",
       "      <td>2.0</td>\n",
       "      <td>0.0</td>\n",
       "      <td>30.0</td>\n",
       "    </tr>\n",
       "    <tr>\n",
       "      <th>3</th>\n",
       "      <td>114</td>\n",
       "      <td>1078</td>\n",
       "      <td>2018-08-07</td>\n",
       "      <td>2.0</td>\n",
       "      <td>0.0</td>\n",
       "      <td>30.0</td>\n",
       "    </tr>\n",
       "    <tr>\n",
       "      <th>4</th>\n",
       "      <td>114</td>\n",
       "      <td>1078</td>\n",
       "      <td>2018-08-08</td>\n",
       "      <td>2.0</td>\n",
       "      <td>0.0</td>\n",
       "      <td>30.0</td>\n",
       "    </tr>\n",
       "    <tr>\n",
       "      <th>...</th>\n",
       "      <td>...</td>\n",
       "      <td>...</td>\n",
       "      <td>...</td>\n",
       "      <td>...</td>\n",
       "      <td>...</td>\n",
       "      <td>...</td>\n",
       "    </tr>\n",
       "    <tr>\n",
       "      <th>19999995</th>\n",
       "      <td>9790</td>\n",
       "      <td>1127</td>\n",
       "      <td>2018-07-02</td>\n",
       "      <td>5.0</td>\n",
       "      <td>1.0</td>\n",
       "      <td>257.0</td>\n",
       "    </tr>\n",
       "    <tr>\n",
       "      <th>19999996</th>\n",
       "      <td>9790</td>\n",
       "      <td>1127</td>\n",
       "      <td>2018-07-03</td>\n",
       "      <td>4.0</td>\n",
       "      <td>2.0</td>\n",
       "      <td>257.0</td>\n",
       "    </tr>\n",
       "    <tr>\n",
       "      <th>19999997</th>\n",
       "      <td>9790</td>\n",
       "      <td>1127</td>\n",
       "      <td>2018-07-04</td>\n",
       "      <td>2.0</td>\n",
       "      <td>0.0</td>\n",
       "      <td>257.0</td>\n",
       "    </tr>\n",
       "    <tr>\n",
       "      <th>19999998</th>\n",
       "      <td>9790</td>\n",
       "      <td>1127</td>\n",
       "      <td>2018-07-05</td>\n",
       "      <td>2.0</td>\n",
       "      <td>0.0</td>\n",
       "      <td>257.0</td>\n",
       "    </tr>\n",
       "    <tr>\n",
       "      <th>19999999</th>\n",
       "      <td>9790</td>\n",
       "      <td>1127</td>\n",
       "      <td>2018-07-06</td>\n",
       "      <td>2.0</td>\n",
       "      <td>0.0</td>\n",
       "      <td>257.0</td>\n",
       "    </tr>\n",
       "  </tbody>\n",
       "</table>\n",
       "<p>19836905 rows × 6 columns</p>\n",
       "</div>"
      ],
      "text/plain": [
       "          SKU_ID  Store_ID        Date  Demand  Sales  Regular_Price\n",
       "0            114      1078  2018-07-01     2.0    2.0           30.0\n",
       "1            114      1078  2018-08-05     2.0    0.0           30.0\n",
       "2            114      1078  2018-08-06     2.0    0.0           30.0\n",
       "3            114      1078  2018-08-07     2.0    0.0           30.0\n",
       "4            114      1078  2018-08-08     2.0    0.0           30.0\n",
       "...          ...       ...         ...     ...    ...            ...\n",
       "19999995    9790      1127  2018-07-02     5.0    1.0          257.0\n",
       "19999996    9790      1127  2018-07-03     4.0    2.0          257.0\n",
       "19999997    9790      1127  2018-07-04     2.0    0.0          257.0\n",
       "19999998    9790      1127  2018-07-05     2.0    0.0          257.0\n",
       "19999999    9790      1127  2018-07-06     2.0    0.0          257.0\n",
       "\n",
       "[19836905 rows x 6 columns]"
      ]
     },
     "execution_count": 21,
     "metadata": {},
     "output_type": "execute_result"
    }
   ],
   "source": [
    "df = pd.read_csv('SALES_2018_2019.csv', sep=',', nrows = 20000000)\n",
    "df = df[df.stock > 0]\n",
    "df.rename(columns={'stock': 'Demand', 'store_id': 'Store_ID', 'Code_AP' : 'SKU_ID', 'curr_date': 'Date', 'sales_regular': 'Sales','price_regular':'Regular_Price'}, inplace=True)\n",
    "df.drop(columns = ['sales_promo','price_promo','flag_promo'])"
   ]
  },
  {
   "cell_type": "code",
   "execution_count": 24,
   "metadata": {
    "ExecuteTime": {
     "end_time": "2021-04-16T11:16:13.388754Z",
     "start_time": "2021-04-16T11:16:11.145243Z"
    }
   },
   "outputs": [],
   "source": [
    "df.Date = pd.to_datetime(df.Date)"
   ]
  },
  {
   "cell_type": "code",
   "execution_count": 28,
   "metadata": {
    "ExecuteTime": {
     "end_time": "2021-04-16T11:17:08.363550Z",
     "start_time": "2021-04-16T11:17:06.976640Z"
    }
   },
   "outputs": [
    {
     "data": {
      "text/plain": [
       "0          2018-07-01\n",
       "1          2018-08-05\n",
       "2          2018-08-06\n",
       "3          2018-08-07\n",
       "4          2018-08-08\n",
       "              ...    \n",
       "19999995   2018-07-02\n",
       "19999996   2018-07-03\n",
       "19999997   2018-07-04\n",
       "19999998   2018-07-05\n",
       "19999999   2018-07-06\n",
       "Name: Date, Length: 9591187, dtype: datetime64[ns]"
      ]
     },
     "execution_count": 28,
     "metadata": {},
     "output_type": "execute_result"
    }
   ],
   "source": [
    "df.Date[df.Date.dt.year == 2018] "
   ]
  },
  {
   "cell_type": "code",
   "execution_count": 23,
   "metadata": {
    "ExecuteTime": {
     "end_time": "2021-04-07T13:20:31.034713Z",
     "start_time": "2021-04-07T13:20:09.056516Z"
    },
    "scrolled": true
   },
   "outputs": [
    {
     "data": {
      "text/html": [
       "<div>\n",
       "<style scoped>\n",
       "    .dataframe tbody tr th:only-of-type {\n",
       "        vertical-align: middle;\n",
       "    }\n",
       "\n",
       "    .dataframe tbody tr th {\n",
       "        vertical-align: top;\n",
       "    }\n",
       "\n",
       "    .dataframe thead th {\n",
       "        text-align: right;\n",
       "    }\n",
       "</style>\n",
       "<table border=\"1\" class=\"dataframe\">\n",
       "  <thead>\n",
       "    <tr style=\"text-align: right;\">\n",
       "      <th></th>\n",
       "      <th>Store_ID</th>\n",
       "      <th>SKU_ID</th>\n",
       "      <th>Date</th>\n",
       "      <th>Sales</th>\n",
       "      <th>Demand</th>\n",
       "      <th>Regular_Price</th>\n",
       "    </tr>\n",
       "  </thead>\n",
       "  <tbody>\n",
       "    <tr>\n",
       "      <th>0</th>\n",
       "      <td>1100</td>\n",
       "      <td>114</td>\n",
       "      <td>01JAN2019</td>\n",
       "      <td>0.0</td>\n",
       "      <td>1.0</td>\n",
       "      <td>51.0</td>\n",
       "    </tr>\n",
       "    <tr>\n",
       "      <th>1</th>\n",
       "      <td>1078</td>\n",
       "      <td>114</td>\n",
       "      <td>01JAN2019</td>\n",
       "      <td>0.0</td>\n",
       "      <td>2.0</td>\n",
       "      <td>51.0</td>\n",
       "    </tr>\n",
       "    <tr>\n",
       "      <th>2</th>\n",
       "      <td>1191</td>\n",
       "      <td>114</td>\n",
       "      <td>01JAN2019</td>\n",
       "      <td>0.0</td>\n",
       "      <td>2.0</td>\n",
       "      <td>53.0</td>\n",
       "    </tr>\n",
       "    <tr>\n",
       "      <th>3</th>\n",
       "      <td>2230</td>\n",
       "      <td>114</td>\n",
       "      <td>01JAN2019</td>\n",
       "      <td>0.0</td>\n",
       "      <td>1.0</td>\n",
       "      <td>40.0</td>\n",
       "    </tr>\n",
       "    <tr>\n",
       "      <th>4</th>\n",
       "      <td>1120</td>\n",
       "      <td>114</td>\n",
       "      <td>01JAN2019</td>\n",
       "      <td>0.0</td>\n",
       "      <td>1.0</td>\n",
       "      <td>53.0</td>\n",
       "    </tr>\n",
       "  </tbody>\n",
       "</table>\n",
       "</div>"
      ],
      "text/plain": [
       "   Store_ID  SKU_ID       Date  Sales  Demand  Regular_Price\n",
       "0      1100     114  01JAN2019    0.0     1.0           51.0\n",
       "1      1078     114  01JAN2019    0.0     2.0           51.0\n",
       "2      1191     114  01JAN2019    0.0     2.0           53.0\n",
       "3      2230     114  01JAN2019    0.0     1.0           40.0\n",
       "4      1120     114  01JAN2019    0.0     1.0           53.0"
      ]
     },
     "execution_count": 23,
     "metadata": {},
     "output_type": "execute_result"
    }
   ],
   "source": [
    "df = pd.read_csv('DATA_WITH_SALES.csv', sep=';')\n",
    "df = df[df.Stock > 0]\n",
    "df.rename(columns={'Stock': 'Demand'}, inplace=True)\n",
    "\n",
    "df.head(n=5)"
   ]
  },
  {
   "cell_type": "code",
   "execution_count": 29,
   "metadata": {
    "ExecuteTime": {
     "end_time": "2021-04-16T11:19:20.777316Z",
     "start_time": "2021-04-16T11:19:16.193897Z"
    }
   },
   "outputs": [],
   "source": [
    "df1 = df[df.Date.dt.year == 2019] \n",
    "df = df[df.Date.dt.year == 2018] "
   ]
  },
  {
   "cell_type": "markdown",
   "metadata": {},
   "source": [
    "#### узнаем по каким парам товар-магазин больше всего информации"
   ]
  },
  {
   "cell_type": "code",
   "execution_count": 30,
   "metadata": {
    "ExecuteTime": {
     "end_time": "2021-04-16T11:20:02.086819Z",
     "start_time": "2021-04-16T11:20:01.571910Z"
    }
   },
   "outputs": [],
   "source": [
    "popular_pairs = df.groupby(['SKU_ID', 'Store_ID']).size().reset_index(name='counts').sort_values(by='counts', ascending=False).reset_index(drop=True)"
   ]
  },
  {
   "cell_type": "code",
   "execution_count": 31,
   "metadata": {
    "ExecuteTime": {
     "end_time": "2021-04-16T11:20:11.432685Z",
     "start_time": "2021-04-16T11:20:11.412593Z"
    }
   },
   "outputs": [
    {
     "data": {
      "text/html": [
       "<div>\n",
       "<style scoped>\n",
       "    .dataframe tbody tr th:only-of-type {\n",
       "        vertical-align: middle;\n",
       "    }\n",
       "\n",
       "    .dataframe tbody tr th {\n",
       "        vertical-align: top;\n",
       "    }\n",
       "\n",
       "    .dataframe thead th {\n",
       "        text-align: right;\n",
       "    }\n",
       "</style>\n",
       "<table border=\"1\" class=\"dataframe\">\n",
       "  <thead>\n",
       "    <tr style=\"text-align: right;\">\n",
       "      <th></th>\n",
       "      <th>SKU_ID</th>\n",
       "      <th>Store_ID</th>\n",
       "      <th>counts</th>\n",
       "    </tr>\n",
       "  </thead>\n",
       "  <tbody>\n",
       "    <tr>\n",
       "      <th>0</th>\n",
       "      <td>2681</td>\n",
       "      <td>1179</td>\n",
       "      <td>364</td>\n",
       "    </tr>\n",
       "    <tr>\n",
       "      <th>1</th>\n",
       "      <td>1063</td>\n",
       "      <td>1199</td>\n",
       "      <td>364</td>\n",
       "    </tr>\n",
       "    <tr>\n",
       "      <th>2</th>\n",
       "      <td>678</td>\n",
       "      <td>1178</td>\n",
       "      <td>364</td>\n",
       "    </tr>\n",
       "    <tr>\n",
       "      <th>3</th>\n",
       "      <td>7340</td>\n",
       "      <td>2834</td>\n",
       "      <td>364</td>\n",
       "    </tr>\n",
       "    <tr>\n",
       "      <th>4</th>\n",
       "      <td>678</td>\n",
       "      <td>1181</td>\n",
       "      <td>364</td>\n",
       "    </tr>\n",
       "    <tr>\n",
       "      <th>5</th>\n",
       "      <td>7450</td>\n",
       "      <td>2834</td>\n",
       "      <td>364</td>\n",
       "    </tr>\n",
       "    <tr>\n",
       "      <th>6</th>\n",
       "      <td>678</td>\n",
       "      <td>1200</td>\n",
       "      <td>364</td>\n",
       "    </tr>\n",
       "    <tr>\n",
       "      <th>7</th>\n",
       "      <td>4405</td>\n",
       "      <td>1172</td>\n",
       "      <td>364</td>\n",
       "    </tr>\n",
       "    <tr>\n",
       "      <th>8</th>\n",
       "      <td>1064</td>\n",
       "      <td>1181</td>\n",
       "      <td>364</td>\n",
       "    </tr>\n",
       "    <tr>\n",
       "      <th>9</th>\n",
       "      <td>1064</td>\n",
       "      <td>1175</td>\n",
       "      <td>364</td>\n",
       "    </tr>\n",
       "  </tbody>\n",
       "</table>\n",
       "</div>"
      ],
      "text/plain": [
       "   SKU_ID  Store_ID  counts\n",
       "0    2681      1179     364\n",
       "1    1063      1199     364\n",
       "2     678      1178     364\n",
       "3    7340      2834     364\n",
       "4     678      1181     364\n",
       "5    7450      2834     364\n",
       "6     678      1200     364\n",
       "7    4405      1172     364\n",
       "8    1064      1181     364\n",
       "9    1064      1175     364"
      ]
     },
     "execution_count": 31,
     "metadata": {},
     "output_type": "execute_result"
    }
   ],
   "source": [
    "popular_pairs.head(n=10)"
   ]
  },
  {
   "cell_type": "code",
   "execution_count": 35,
   "metadata": {
    "ExecuteTime": {
     "end_time": "2021-04-16T11:21:38.945545Z",
     "start_time": "2021-04-16T11:21:38.174852Z"
    }
   },
   "outputs": [],
   "source": [
    "pairs_for_experiment = []\n",
    "num_of_pairs = 10000\n",
    "for i, r in popular_pairs.iterrows():\n",
    "    if i == num_of_pairs:\n",
    "        break\n",
    "    pairs_for_experiment.append((r['SKU_ID'], r['Store_ID']))"
   ]
  },
  {
   "cell_type": "code",
   "execution_count": 36,
   "metadata": {
    "ExecuteTime": {
     "end_time": "2021-04-16T11:21:40.562143Z",
     "start_time": "2021-04-16T11:21:40.542153Z"
    }
   },
   "outputs": [],
   "source": [
    "def transform(x, ttype):\n",
    "    '''\n",
    "    Accepts vector and performs transformation on it based on ttype\n",
    "    '''\n",
    "    if ttype == 'log':\n",
    "        return np.log1p(x)\n",
    "    \n",
    "    return np.array(x)"
   ]
  },
  {
   "cell_type": "code",
   "execution_count": 37,
   "metadata": {
    "ExecuteTime": {
     "end_time": "2021-04-16T11:21:41.296169Z",
     "start_time": "2021-04-16T11:21:41.286339Z"
    }
   },
   "outputs": [],
   "source": [
    "def coef(model):\n",
    "    \"\"\"\n",
    "    return regression coefficient of model\n",
    "    \"\"\"\n",
    "    return model.params[1] if len(model.params) > 1 else model.params[0]\n",
    "\n",
    "def pvalue(model):\n",
    "    \"\"\"\n",
    "    return regression coefficient's t-test p-value of model\n",
    "    \"\"\"\n",
    "    return model.pvalues[1] if len(model.pvalues) > 1 else model.pvalues[0]"
   ]
  },
  {
   "cell_type": "code",
   "execution_count": 38,
   "metadata": {
    "ExecuteTime": {
     "end_time": "2021-04-16T11:21:41.703013Z",
     "start_time": "2021-04-16T11:21:41.697228Z"
    }
   },
   "outputs": [],
   "source": [
    "def elasticity(X, y, model, model_type):\n",
    "    '''\n",
    "    Computes elasticity of model based on X, y, model itself and model's type\n",
    "    '''\n",
    "    if model_type == 'lin-lin':\n",
    "        return coef(model) * np.mean(X) / np.mean(y)\n",
    "    elif model_type == 'log-lin':\n",
    "        return coef(model) * np.mean(X)\n",
    "    elif model_type == 'log-log':\n",
    "        return coef(model)"
   ]
  },
  {
   "cell_type": "code",
   "execution_count": 39,
   "metadata": {
    "ExecuteTime": {
     "end_time": "2021-04-16T11:21:42.092744Z",
     "start_time": "2021-04-16T11:21:42.079688Z"
    }
   },
   "outputs": [],
   "source": [
    "def PEDmodel(X, y, model_type='lin-lin'):\n",
    "    '''\n",
    "    Makes PED model based on input data X, y and model type\n",
    "    '''\n",
    "    _types = model_type.split('-')\n",
    "    \n",
    "    act_x = transform(X, _types[1])\n",
    "    act_x = sm.add_constant(act_x)\n",
    "    \n",
    "    act_y = transform(y, _types[0])\n",
    "    \n",
    "    return sm.OLS(act_y, act_x).fit()"
   ]
  },
  {
   "cell_type": "code",
   "execution_count": 40,
   "metadata": {
    "ExecuteTime": {
     "end_time": "2021-04-16T11:21:42.392086Z",
     "start_time": "2021-04-16T11:21:42.373459Z"
    }
   },
   "outputs": [],
   "source": [
    "def get_model_stats(X, y, model, model_type):\n",
    "    '''\n",
    "    returns model's statistics\n",
    "        regression coefficient,\n",
    "        R-squared,\n",
    "        T-test p-value,\n",
    "        elasticity\n",
    "    '''\n",
    "    elas = elasticity(X, y, model, model_type)\n",
    "    \n",
    "    return coef(model), model.rsquared, pvalue(model), elas"
   ]
  },
  {
   "cell_type": "code",
   "execution_count": 41,
   "metadata": {
    "ExecuteTime": {
     "end_time": "2021-04-16T11:21:42.844680Z",
     "start_time": "2021-04-16T11:21:42.831677Z"
    }
   },
   "outputs": [],
   "source": [
    "def GeneratePEDModels(dataset):\n",
    "    model_type = 'log-log'\n",
    "    sku_id, store_id, elas, qty, ttpvalue = [], [], [], [], []\n",
    "    iter_count = 0\n",
    "\n",
    "    for good_id, shop_id in pairs_for_experiment:\n",
    "        data = dataset[(dataset.Store_ID == shop_id) & (dataset.SKU_ID == good_id)]\n",
    "        model = PEDmodel(data.Regular_Price, data.Demand, model_type)\n",
    "        \n",
    "        c, r2, tp, e = get_model_stats(data.Regular_Price, data.Demand, model, model_type)\n",
    "\n",
    "        sku_id.append(good_id)\n",
    "        store_id.append(shop_id)\n",
    "        elas.append(e)\n",
    "        ttpvalue.append(tp)\n",
    "        qty.append(data.Demand.sum() / data.shape[0])\n",
    "    \n",
    "    return pd.DataFrame({\n",
    "        'SKU': sku_id,\n",
    "        'Store': store_id,\n",
    "        'Elasticity': elas,\n",
    "        'Qty': qty,\n",
    "        'P_value': ttpvalue\n",
    "    })"
   ]
  },
  {
   "cell_type": "markdown",
   "metadata": {},
   "source": [
    "#### посчитаем эластичность и статистики для пар товар-магазин"
   ]
  },
  {
   "cell_type": "code",
   "execution_count": 42,
   "metadata": {
    "ExecuteTime": {
     "end_time": "2021-04-16T11:27:34.363283Z",
     "start_time": "2021-04-16T11:21:46.872988Z"
    },
    "scrolled": true
   },
   "outputs": [
    {
     "name": "stderr",
     "output_type": "stream",
     "text": [
      "C:\\Users\\User\\anaconda3\\lib\\site-packages\\statsmodels\\regression\\linear_model.py:1685: RuntimeWarning: divide by zero encountered in double_scalars\n",
      "  return 1 - self.ssr/self.centered_tss\n"
     ]
    }
   ],
   "source": [
    "trained_data = GeneratePEDModels(df)"
   ]
  },
  {
   "cell_type": "code",
   "execution_count": 43,
   "metadata": {
    "ExecuteTime": {
     "end_time": "2021-04-16T11:52:18.875422Z",
     "start_time": "2021-04-16T11:52:18.771648Z"
    },
    "run_control": {
     "marked": false
    }
   },
   "outputs": [],
   "source": [
    "trained_data.to_csv('train_data.csv')\n"
   ]
  },
  {
   "cell_type": "code",
   "execution_count": 2,
   "metadata": {
    "ExecuteTime": {
     "end_time": "2021-05-06T08:08:00.359880Z",
     "start_time": "2021-05-06T08:08:00.293694Z"
    }
   },
   "outputs": [],
   "source": [
    "trained_data = pd.read_csv('train_data.csv')"
   ]
  },
  {
   "cell_type": "code",
   "execution_count": 3,
   "metadata": {
    "ExecuteTime": {
     "end_time": "2021-05-06T08:08:13.127443Z",
     "start_time": "2021-05-06T08:08:13.109197Z"
    }
   },
   "outputs": [],
   "source": [
    "df_train = trained_data[(trained_data.Elasticity > -10) & (trained_data.Elasticity < 0) & (trained_data.P_value < 0.05)]"
   ]
  },
  {
   "cell_type": "code",
   "execution_count": 6,
   "metadata": {
    "ExecuteTime": {
     "end_time": "2021-05-06T08:09:35.538947Z",
     "start_time": "2021-05-06T08:09:35.503379Z"
    }
   },
   "outputs": [
    {
     "name": "stderr",
     "output_type": "stream",
     "text": [
      "C:\\Users\\User\\anaconda3\\lib\\site-packages\\pandas\\core\\frame.py:3990: SettingWithCopyWarning: \n",
      "A value is trying to be set on a copy of a slice from a DataFrame\n",
      "\n",
      "See the caveats in the documentation: https://pandas.pydata.org/pandas-docs/stable/user_guide/indexing.html#returning-a-view-versus-a-copy\n",
      "  return super().drop(\n"
     ]
    },
    {
     "data": {
      "text/html": [
       "<div>\n",
       "<style scoped>\n",
       "    .dataframe tbody tr th:only-of-type {\n",
       "        vertical-align: middle;\n",
       "    }\n",
       "\n",
       "    .dataframe tbody tr th {\n",
       "        vertical-align: top;\n",
       "    }\n",
       "\n",
       "    .dataframe thead th {\n",
       "        text-align: right;\n",
       "    }\n",
       "</style>\n",
       "<table border=\"1\" class=\"dataframe\">\n",
       "  <thead>\n",
       "    <tr style=\"text-align: right;\">\n",
       "      <th></th>\n",
       "      <th>SKU</th>\n",
       "      <th>Store</th>\n",
       "      <th>Elasticity</th>\n",
       "      <th>Qty</th>\n",
       "      <th>P_value</th>\n",
       "    </tr>\n",
       "  </thead>\n",
       "  <tbody>\n",
       "    <tr>\n",
       "      <th>2</th>\n",
       "      <td>5320</td>\n",
       "      <td>2834</td>\n",
       "      <td>-1.711069</td>\n",
       "      <td>1030.051648</td>\n",
       "      <td>7.047693e-18</td>\n",
       "    </tr>\n",
       "    <tr>\n",
       "      <th>3</th>\n",
       "      <td>738</td>\n",
       "      <td>2834</td>\n",
       "      <td>-2.532597</td>\n",
       "      <td>640.582418</td>\n",
       "      <td>9.890574e-14</td>\n",
       "    </tr>\n",
       "    <tr>\n",
       "      <th>5</th>\n",
       "      <td>1948</td>\n",
       "      <td>2834</td>\n",
       "      <td>-2.078973</td>\n",
       "      <td>305.859890</td>\n",
       "      <td>1.233518e-64</td>\n",
       "    </tr>\n",
       "    <tr>\n",
       "      <th>6</th>\n",
       "      <td>5899</td>\n",
       "      <td>2834</td>\n",
       "      <td>-0.960302</td>\n",
       "      <td>580.002747</td>\n",
       "      <td>2.594262e-36</td>\n",
       "    </tr>\n",
       "    <tr>\n",
       "      <th>7</th>\n",
       "      <td>7396</td>\n",
       "      <td>2834</td>\n",
       "      <td>-0.888237</td>\n",
       "      <td>4414.964286</td>\n",
       "      <td>1.285520e-10</td>\n",
       "    </tr>\n",
       "  </tbody>\n",
       "</table>\n",
       "</div>"
      ],
      "text/plain": [
       "    SKU  Store  Elasticity          Qty       P_value\n",
       "2  5320   2834   -1.711069  1030.051648  7.047693e-18\n",
       "3   738   2834   -2.532597   640.582418  9.890574e-14\n",
       "5  1948   2834   -2.078973   305.859890  1.233518e-64\n",
       "6  5899   2834   -0.960302   580.002747  2.594262e-36\n",
       "7  7396   2834   -0.888237  4414.964286  1.285520e-10"
      ]
     },
     "execution_count": 6,
     "metadata": {},
     "output_type": "execute_result"
    }
   ],
   "source": [
    "df_train.drop(columns=['Unnamed: 0'], inplace=True)\n",
    "df_train.head()"
   ]
  },
  {
   "cell_type": "markdown",
   "metadata": {},
   "source": [
    "#### вытаскиваем фичи с данными о товарах"
   ]
  },
  {
   "cell_type": "code",
   "execution_count": 7,
   "metadata": {
    "ExecuteTime": {
     "end_time": "2021-05-06T08:12:05.792513Z",
     "start_time": "2021-05-06T08:10:31.333735Z"
    }
   },
   "outputs": [],
   "source": [
    "product_info = pd.read_excel('PRODUCT_INF.xlsx')\n",
    "product_info.rename(columns={'Code_AP': 'SKU'}, inplace=True)"
   ]
  },
  {
   "cell_type": "code",
   "execution_count": 8,
   "metadata": {
    "ExecuteTime": {
     "end_time": "2021-05-06T08:12:05.930858Z",
     "start_time": "2021-05-06T08:12:05.902190Z"
    }
   },
   "outputs": [
    {
     "data": {
      "text/html": [
       "<div>\n",
       "<style scoped>\n",
       "    .dataframe tbody tr th:only-of-type {\n",
       "        vertical-align: middle;\n",
       "    }\n",
       "\n",
       "    .dataframe tbody tr th {\n",
       "        vertical-align: top;\n",
       "    }\n",
       "\n",
       "    .dataframe thead th {\n",
       "        text-align: right;\n",
       "    }\n",
       "</style>\n",
       "<table border=\"1\" class=\"dataframe\">\n",
       "  <thead>\n",
       "    <tr style=\"text-align: right;\">\n",
       "      <th></th>\n",
       "      <th>ProductName</th>\n",
       "      <th>SKU</th>\n",
       "      <th>ClassId</th>\n",
       "      <th>GroupId</th>\n",
       "      <th>SubGroupId</th>\n",
       "      <th>CategoryId</th>\n",
       "      <th>ClusterId</th>\n",
       "      <th>Class</th>\n",
       "      <th>Groups</th>\n",
       "      <th>SubGroups</th>\n",
       "      <th>Category</th>\n",
       "      <th>Cluster</th>\n",
       "    </tr>\n",
       "  </thead>\n",
       "  <tbody>\n",
       "    <tr>\n",
       "      <th>192058</th>\n",
       "      <td>Контролок таб.п.кш.о.20мг №14</td>\n",
       "      <td>97140</td>\n",
       "      <td>2003</td>\n",
       "      <td>2047</td>\n",
       "      <td>2099</td>\n",
       "      <td>2532</td>\n",
       "      <td>994</td>\n",
       "      <td>Лекарственные и профилактические средства</td>\n",
       "      <td>Пищеварительный тракт</td>\n",
       "      <td>Для улучшения пищеварения</td>\n",
       "      <td>Ингибиторы протонной помпы</td>\n",
       "      <td>Пантопразол</td>\n",
       "    </tr>\n",
       "  </tbody>\n",
       "</table>\n",
       "</div>"
      ],
      "text/plain": [
       "                          ProductName    SKU  ClassId  GroupId  SubGroupId  \\\n",
       "192058  Контролок таб.п.кш.о.20мг №14  97140     2003     2047        2099   \n",
       "\n",
       "        CategoryId  ClusterId                                      Class  \\\n",
       "192058        2532        994  Лекарственные и профилактические средства   \n",
       "\n",
       "                       Groups                  SubGroups  \\\n",
       "192058  Пищеварительный тракт  Для улучшения пищеварения   \n",
       "\n",
       "                          Category      Cluster  \n",
       "192058  Ингибиторы протонной помпы  Пантопразол  "
      ]
     },
     "execution_count": 8,
     "metadata": {},
     "output_type": "execute_result"
    }
   ],
   "source": [
    "product_info[product_info.SKU == 97140]"
   ]
  },
  {
   "cell_type": "code",
   "execution_count": 9,
   "metadata": {
    "ExecuteTime": {
     "end_time": "2021-05-06T08:12:06.018059Z",
     "start_time": "2021-05-06T08:12:05.990921Z"
    }
   },
   "outputs": [],
   "source": [
    "product_info = product_info[['SKU', 'ClassId', 'CategoryId', 'ClusterId']]"
   ]
  },
  {
   "cell_type": "code",
   "execution_count": 10,
   "metadata": {
    "ExecuteTime": {
     "end_time": "2021-05-06T08:12:06.096380Z",
     "start_time": "2021-05-06T08:12:06.082416Z"
    }
   },
   "outputs": [
    {
     "data": {
      "text/html": [
       "<div>\n",
       "<style scoped>\n",
       "    .dataframe tbody tr th:only-of-type {\n",
       "        vertical-align: middle;\n",
       "    }\n",
       "\n",
       "    .dataframe tbody tr th {\n",
       "        vertical-align: top;\n",
       "    }\n",
       "\n",
       "    .dataframe thead th {\n",
       "        text-align: right;\n",
       "    }\n",
       "</style>\n",
       "<table border=\"1\" class=\"dataframe\">\n",
       "  <thead>\n",
       "    <tr style=\"text-align: right;\">\n",
       "      <th></th>\n",
       "      <th>SKU</th>\n",
       "      <th>ClassId</th>\n",
       "      <th>CategoryId</th>\n",
       "      <th>ClusterId</th>\n",
       "    </tr>\n",
       "  </thead>\n",
       "  <tbody>\n",
       "    <tr>\n",
       "      <th>0</th>\n",
       "      <td>9999999</td>\n",
       "      <td>-5</td>\n",
       "      <td>-2</td>\n",
       "      <td>-1</td>\n",
       "    </tr>\n",
       "    <tr>\n",
       "      <th>1</th>\n",
       "      <td>122139</td>\n",
       "      <td>-5</td>\n",
       "      <td>-2</td>\n",
       "      <td>-1</td>\n",
       "    </tr>\n",
       "    <tr>\n",
       "      <th>2</th>\n",
       "      <td>122140</td>\n",
       "      <td>-5</td>\n",
       "      <td>-2</td>\n",
       "      <td>-1</td>\n",
       "    </tr>\n",
       "    <tr>\n",
       "      <th>3</th>\n",
       "      <td>122141</td>\n",
       "      <td>-5</td>\n",
       "      <td>-2</td>\n",
       "      <td>-1</td>\n",
       "    </tr>\n",
       "    <tr>\n",
       "      <th>4</th>\n",
       "      <td>122142</td>\n",
       "      <td>-5</td>\n",
       "      <td>-2</td>\n",
       "      <td>-1</td>\n",
       "    </tr>\n",
       "  </tbody>\n",
       "</table>\n",
       "</div>"
      ],
      "text/plain": [
       "       SKU  ClassId  CategoryId  ClusterId\n",
       "0  9999999       -5          -2         -1\n",
       "1   122139       -5          -2         -1\n",
       "2   122140       -5          -2         -1\n",
       "3   122141       -5          -2         -1\n",
       "4   122142       -5          -2         -1"
      ]
     },
     "execution_count": 10,
     "metadata": {},
     "output_type": "execute_result"
    }
   ],
   "source": [
    "product_info.head()"
   ]
  },
  {
   "cell_type": "code",
   "execution_count": 11,
   "metadata": {
    "ExecuteTime": {
     "end_time": "2021-05-06T08:12:06.220395Z",
     "start_time": "2021-05-06T08:12:06.160635Z"
    }
   },
   "outputs": [],
   "source": [
    "df_sku = df_train.join(product_info.set_index('SKU'), on='SKU')"
   ]
  },
  {
   "cell_type": "code",
   "execution_count": 12,
   "metadata": {
    "ExecuteTime": {
     "end_time": "2021-05-06T08:12:06.328783Z",
     "start_time": "2021-05-06T08:12:06.315820Z"
    }
   },
   "outputs": [
    {
     "data": {
      "text/plain": [
       "SKU           0\n",
       "Store         0\n",
       "Elasticity    0\n",
       "Qty           0\n",
       "P_value       0\n",
       "ClassId       0\n",
       "CategoryId    0\n",
       "ClusterId     0\n",
       "dtype: int64"
      ]
     },
     "execution_count": 12,
     "metadata": {},
     "output_type": "execute_result"
    }
   ],
   "source": [
    "df_sku.isna().sum()"
   ]
  },
  {
   "cell_type": "code",
   "execution_count": 13,
   "metadata": {
    "ExecuteTime": {
     "end_time": "2021-05-06T08:12:06.452216Z",
     "start_time": "2021-05-06T08:12:06.423643Z"
    }
   },
   "outputs": [
    {
     "data": {
      "text/html": [
       "<div>\n",
       "<style scoped>\n",
       "    .dataframe tbody tr th:only-of-type {\n",
       "        vertical-align: middle;\n",
       "    }\n",
       "\n",
       "    .dataframe tbody tr th {\n",
       "        vertical-align: top;\n",
       "    }\n",
       "\n",
       "    .dataframe thead th {\n",
       "        text-align: right;\n",
       "    }\n",
       "</style>\n",
       "<table border=\"1\" class=\"dataframe\">\n",
       "  <thead>\n",
       "    <tr style=\"text-align: right;\">\n",
       "      <th></th>\n",
       "      <th>SKU</th>\n",
       "      <th>Store</th>\n",
       "      <th>Elasticity</th>\n",
       "      <th>Qty</th>\n",
       "      <th>P_value</th>\n",
       "      <th>ClassId</th>\n",
       "      <th>CategoryId</th>\n",
       "      <th>ClusterId</th>\n",
       "    </tr>\n",
       "  </thead>\n",
       "  <tbody>\n",
       "    <tr>\n",
       "      <th>2</th>\n",
       "      <td>5320</td>\n",
       "      <td>2834</td>\n",
       "      <td>-1.711069</td>\n",
       "      <td>1030.051648</td>\n",
       "      <td>7.047693e-18</td>\n",
       "      <td>2003</td>\n",
       "      <td>2491</td>\n",
       "      <td>1055</td>\n",
       "    </tr>\n",
       "    <tr>\n",
       "      <th>3</th>\n",
       "      <td>738</td>\n",
       "      <td>2834</td>\n",
       "      <td>-2.532597</td>\n",
       "      <td>640.582418</td>\n",
       "      <td>9.890574e-14</td>\n",
       "      <td>2003</td>\n",
       "      <td>2849</td>\n",
       "      <td>470</td>\n",
       "    </tr>\n",
       "    <tr>\n",
       "      <th>5</th>\n",
       "      <td>1948</td>\n",
       "      <td>2834</td>\n",
       "      <td>-2.078973</td>\n",
       "      <td>305.859890</td>\n",
       "      <td>1.233518e-64</td>\n",
       "      <td>2003</td>\n",
       "      <td>2489</td>\n",
       "      <td>466</td>\n",
       "    </tr>\n",
       "    <tr>\n",
       "      <th>6</th>\n",
       "      <td>5899</td>\n",
       "      <td>2834</td>\n",
       "      <td>-0.960302</td>\n",
       "      <td>580.002747</td>\n",
       "      <td>2.594262e-36</td>\n",
       "      <td>2003</td>\n",
       "      <td>2495</td>\n",
       "      <td>46</td>\n",
       "    </tr>\n",
       "    <tr>\n",
       "      <th>7</th>\n",
       "      <td>7396</td>\n",
       "      <td>2834</td>\n",
       "      <td>-0.888237</td>\n",
       "      <td>4414.964286</td>\n",
       "      <td>1.285520e-10</td>\n",
       "      <td>2003</td>\n",
       "      <td>2496</td>\n",
       "      <td>457</td>\n",
       "    </tr>\n",
       "  </tbody>\n",
       "</table>\n",
       "</div>"
      ],
      "text/plain": [
       "    SKU  Store  Elasticity          Qty       P_value  ClassId  CategoryId  \\\n",
       "2  5320   2834   -1.711069  1030.051648  7.047693e-18     2003        2491   \n",
       "3   738   2834   -2.532597   640.582418  9.890574e-14     2003        2849   \n",
       "5  1948   2834   -2.078973   305.859890  1.233518e-64     2003        2489   \n",
       "6  5899   2834   -0.960302   580.002747  2.594262e-36     2003        2495   \n",
       "7  7396   2834   -0.888237  4414.964286  1.285520e-10     2003        2496   \n",
       "\n",
       "   ClusterId  \n",
       "2       1055  \n",
       "3        470  \n",
       "5        466  \n",
       "6         46  \n",
       "7        457  "
      ]
     },
     "execution_count": 13,
     "metadata": {},
     "output_type": "execute_result"
    }
   ],
   "source": [
    "df_sku.head()"
   ]
  },
  {
   "cell_type": "markdown",
   "metadata": {},
   "source": [
    "#### вытаскиваем фичи магазинов"
   ]
  },
  {
   "cell_type": "code",
   "execution_count": 14,
   "metadata": {
    "ExecuteTime": {
     "end_time": "2021-05-06T08:12:06.682674Z",
     "start_time": "2021-05-06T08:12:06.548424Z"
    }
   },
   "outputs": [],
   "source": [
    "store_info = pd.read_excel('LOCATION_INF.xlsx')\n",
    "store_info.rename(columns={'TradePointId': 'Store'}, inplace=True)"
   ]
  },
  {
   "cell_type": "code",
   "execution_count": 15,
   "metadata": {
    "ExecuteTime": {
     "end_time": "2021-05-06T08:12:06.868132Z",
     "start_time": "2021-05-06T08:12:06.841750Z"
    }
   },
   "outputs": [
    {
     "data": {
      "text/plain": [
       "{'ВО', 'ВОЛОГДА', 'ИНТЕРНЕТМАГАЗИН', 'ЛО', 'СПБ', 'ЧЕРЕПОВЕЦ', 'ШУШАРЫ'}"
      ]
     },
     "execution_count": 15,
     "metadata": {},
     "output_type": "execute_result"
    }
   ],
   "source": [
    "import string\n",
    "store_info['TradePointName'] = store_info['TradePointName'].str.upper()\n",
    "store_info['TradePointName'] = store_info['TradePointName'].str.split(' ').str[0]\n",
    "store_info['TradePointName'] = store_info['TradePointName'].replace(r'[{}]'.format(string.punctuation), '', regex=True)\n",
    "set(store_info['TradePointName'])"
   ]
  },
  {
   "cell_type": "code",
   "execution_count": 16,
   "metadata": {
    "ExecuteTime": {
     "end_time": "2021-05-06T08:12:07.038050Z",
     "start_time": "2021-05-06T08:12:07.009451Z"
    }
   },
   "outputs": [],
   "source": [
    "df_sku = df_sku.join(store_info.set_index('Store'), on='Store')"
   ]
  },
  {
   "cell_type": "code",
   "execution_count": 17,
   "metadata": {
    "ExecuteTime": {
     "end_time": "2021-05-06T08:12:07.329641Z",
     "start_time": "2021-05-06T08:12:07.256120Z"
    }
   },
   "outputs": [
    {
     "data": {
      "text/html": [
       "<div>\n",
       "<style scoped>\n",
       "    .dataframe tbody tr th:only-of-type {\n",
       "        vertical-align: middle;\n",
       "    }\n",
       "\n",
       "    .dataframe tbody tr th {\n",
       "        vertical-align: top;\n",
       "    }\n",
       "\n",
       "    .dataframe thead th {\n",
       "        text-align: right;\n",
       "    }\n",
       "</style>\n",
       "<table border=\"1\" class=\"dataframe\">\n",
       "  <thead>\n",
       "    <tr style=\"text-align: right;\">\n",
       "      <th></th>\n",
       "      <th>SKU</th>\n",
       "      <th>Store</th>\n",
       "      <th>Elasticity</th>\n",
       "      <th>Qty</th>\n",
       "      <th>P_value</th>\n",
       "      <th>ClassId</th>\n",
       "      <th>CategoryId</th>\n",
       "      <th>ClusterId</th>\n",
       "      <th>TradePointCode</th>\n",
       "      <th>TradePointName</th>\n",
       "      <th>OpenDate</th>\n",
       "      <th>CloseDate</th>\n",
       "      <th>BrandName</th>\n",
       "      <th>BrandGroupId</th>\n",
       "      <th>Brands_GUID</th>\n",
       "      <th>BE_Id</th>\n",
       "      <th>BE_Name</th>\n",
       "      <th>BE_GUID</th>\n",
       "    </tr>\n",
       "  </thead>\n",
       "  <tbody>\n",
       "    <tr>\n",
       "      <th>2</th>\n",
       "      <td>5320</td>\n",
       "      <td>2834</td>\n",
       "      <td>-1.711069</td>\n",
       "      <td>1030.051648</td>\n",
       "      <td>7.047693e-18</td>\n",
       "      <td>2003</td>\n",
       "      <td>2491</td>\n",
       "      <td>1055</td>\n",
       "      <td>А02829</td>\n",
       "      <td>ИНТЕРНЕТМАГАЗИН</td>\n",
       "      <td>2019-01-01</td>\n",
       "      <td>2100-01-01</td>\n",
       "      <td>Озерки</td>\n",
       "      <td>3.0</td>\n",
       "      <td>E378FD87-0BB5-E984-11E8-54EE74216F5D</td>\n",
       "      <td>25.0</td>\n",
       "      <td>БЕ Озерки СЗ</td>\n",
       "      <td>5000DB80-9356-86BC-11E8-82B3A92564D8</td>\n",
       "    </tr>\n",
       "    <tr>\n",
       "      <th>3</th>\n",
       "      <td>738</td>\n",
       "      <td>2834</td>\n",
       "      <td>-2.532597</td>\n",
       "      <td>640.582418</td>\n",
       "      <td>9.890574e-14</td>\n",
       "      <td>2003</td>\n",
       "      <td>2849</td>\n",
       "      <td>470</td>\n",
       "      <td>А02829</td>\n",
       "      <td>ИНТЕРНЕТМАГАЗИН</td>\n",
       "      <td>2019-01-01</td>\n",
       "      <td>2100-01-01</td>\n",
       "      <td>Озерки</td>\n",
       "      <td>3.0</td>\n",
       "      <td>E378FD87-0BB5-E984-11E8-54EE74216F5D</td>\n",
       "      <td>25.0</td>\n",
       "      <td>БЕ Озерки СЗ</td>\n",
       "      <td>5000DB80-9356-86BC-11E8-82B3A92564D8</td>\n",
       "    </tr>\n",
       "    <tr>\n",
       "      <th>5</th>\n",
       "      <td>1948</td>\n",
       "      <td>2834</td>\n",
       "      <td>-2.078973</td>\n",
       "      <td>305.859890</td>\n",
       "      <td>1.233518e-64</td>\n",
       "      <td>2003</td>\n",
       "      <td>2489</td>\n",
       "      <td>466</td>\n",
       "      <td>А02829</td>\n",
       "      <td>ИНТЕРНЕТМАГАЗИН</td>\n",
       "      <td>2019-01-01</td>\n",
       "      <td>2100-01-01</td>\n",
       "      <td>Озерки</td>\n",
       "      <td>3.0</td>\n",
       "      <td>E378FD87-0BB5-E984-11E8-54EE74216F5D</td>\n",
       "      <td>25.0</td>\n",
       "      <td>БЕ Озерки СЗ</td>\n",
       "      <td>5000DB80-9356-86BC-11E8-82B3A92564D8</td>\n",
       "    </tr>\n",
       "    <tr>\n",
       "      <th>6</th>\n",
       "      <td>5899</td>\n",
       "      <td>2834</td>\n",
       "      <td>-0.960302</td>\n",
       "      <td>580.002747</td>\n",
       "      <td>2.594262e-36</td>\n",
       "      <td>2003</td>\n",
       "      <td>2495</td>\n",
       "      <td>46</td>\n",
       "      <td>А02829</td>\n",
       "      <td>ИНТЕРНЕТМАГАЗИН</td>\n",
       "      <td>2019-01-01</td>\n",
       "      <td>2100-01-01</td>\n",
       "      <td>Озерки</td>\n",
       "      <td>3.0</td>\n",
       "      <td>E378FD87-0BB5-E984-11E8-54EE74216F5D</td>\n",
       "      <td>25.0</td>\n",
       "      <td>БЕ Озерки СЗ</td>\n",
       "      <td>5000DB80-9356-86BC-11E8-82B3A92564D8</td>\n",
       "    </tr>\n",
       "    <tr>\n",
       "      <th>7</th>\n",
       "      <td>7396</td>\n",
       "      <td>2834</td>\n",
       "      <td>-0.888237</td>\n",
       "      <td>4414.964286</td>\n",
       "      <td>1.285520e-10</td>\n",
       "      <td>2003</td>\n",
       "      <td>2496</td>\n",
       "      <td>457</td>\n",
       "      <td>А02829</td>\n",
       "      <td>ИНТЕРНЕТМАГАЗИН</td>\n",
       "      <td>2019-01-01</td>\n",
       "      <td>2100-01-01</td>\n",
       "      <td>Озерки</td>\n",
       "      <td>3.0</td>\n",
       "      <td>E378FD87-0BB5-E984-11E8-54EE74216F5D</td>\n",
       "      <td>25.0</td>\n",
       "      <td>БЕ Озерки СЗ</td>\n",
       "      <td>5000DB80-9356-86BC-11E8-82B3A92564D8</td>\n",
       "    </tr>\n",
       "    <tr>\n",
       "      <th>...</th>\n",
       "      <td>...</td>\n",
       "      <td>...</td>\n",
       "      <td>...</td>\n",
       "      <td>...</td>\n",
       "      <td>...</td>\n",
       "      <td>...</td>\n",
       "      <td>...</td>\n",
       "      <td>...</td>\n",
       "      <td>...</td>\n",
       "      <td>...</td>\n",
       "      <td>...</td>\n",
       "      <td>...</td>\n",
       "      <td>...</td>\n",
       "      <td>...</td>\n",
       "      <td>...</td>\n",
       "      <td>...</td>\n",
       "      <td>...</td>\n",
       "      <td>...</td>\n",
       "    </tr>\n",
       "    <tr>\n",
       "      <th>9990</th>\n",
       "      <td>1946</td>\n",
       "      <td>1139</td>\n",
       "      <td>-1.020101</td>\n",
       "      <td>2.729577</td>\n",
       "      <td>4.219658e-09</td>\n",
       "      <td>2003</td>\n",
       "      <td>2489</td>\n",
       "      <td>466</td>\n",
       "      <td>А01138</td>\n",
       "      <td>СПБ</td>\n",
       "      <td>2017-02-28</td>\n",
       "      <td>2100-01-01</td>\n",
       "      <td>Озерки</td>\n",
       "      <td>3.0</td>\n",
       "      <td>E378FD87-0BB5-E984-11E8-54EE74216F5D</td>\n",
       "      <td>25.0</td>\n",
       "      <td>БЕ Озерки СЗ</td>\n",
       "      <td>5000DB80-9356-86BC-11E8-82B3A92564D8</td>\n",
       "    </tr>\n",
       "    <tr>\n",
       "      <th>9991</th>\n",
       "      <td>490</td>\n",
       "      <td>1108</td>\n",
       "      <td>-1.659158</td>\n",
       "      <td>11.201149</td>\n",
       "      <td>2.653524e-10</td>\n",
       "      <td>2003</td>\n",
       "      <td>2489</td>\n",
       "      <td>466</td>\n",
       "      <td>А01107</td>\n",
       "      <td>СПБ</td>\n",
       "      <td>2015-03-16</td>\n",
       "      <td>2100-01-01</td>\n",
       "      <td>Озерки</td>\n",
       "      <td>3.0</td>\n",
       "      <td>E378FD87-0BB5-E984-11E8-54EE74216F5D</td>\n",
       "      <td>25.0</td>\n",
       "      <td>БЕ Озерки СЗ</td>\n",
       "      <td>5000DB80-9356-86BC-11E8-82B3A92564D8</td>\n",
       "    </tr>\n",
       "    <tr>\n",
       "      <th>9994</th>\n",
       "      <td>7398</td>\n",
       "      <td>1173</td>\n",
       "      <td>-7.230105</td>\n",
       "      <td>3.211268</td>\n",
       "      <td>9.023607e-35</td>\n",
       "      <td>2003</td>\n",
       "      <td>2692</td>\n",
       "      <td>455</td>\n",
       "      <td>А01172</td>\n",
       "      <td>СПБ</td>\n",
       "      <td>2017-10-11</td>\n",
       "      <td>2100-01-01</td>\n",
       "      <td>Озерки</td>\n",
       "      <td>3.0</td>\n",
       "      <td>E378FD87-0BB5-E984-11E8-54EE74216F5D</td>\n",
       "      <td>25.0</td>\n",
       "      <td>БЕ Озерки СЗ</td>\n",
       "      <td>5000DB80-9356-86BC-11E8-82B3A92564D8</td>\n",
       "    </tr>\n",
       "    <tr>\n",
       "      <th>9995</th>\n",
       "      <td>7396</td>\n",
       "      <td>1089</td>\n",
       "      <td>-1.055770</td>\n",
       "      <td>26.873156</td>\n",
       "      <td>8.415907e-07</td>\n",
       "      <td>2003</td>\n",
       "      <td>2496</td>\n",
       "      <td>457</td>\n",
       "      <td>А01088</td>\n",
       "      <td>СПБ</td>\n",
       "      <td>2009-02-11</td>\n",
       "      <td>2100-01-01</td>\n",
       "      <td>Озерки</td>\n",
       "      <td>3.0</td>\n",
       "      <td>E378FD87-0BB5-E984-11E8-54EE74216F5D</td>\n",
       "      <td>25.0</td>\n",
       "      <td>БЕ Озерки СЗ</td>\n",
       "      <td>5000DB80-9356-86BC-11E8-82B3A92564D8</td>\n",
       "    </tr>\n",
       "    <tr>\n",
       "      <th>9997</th>\n",
       "      <td>1554</td>\n",
       "      <td>1091</td>\n",
       "      <td>-6.179434</td>\n",
       "      <td>6.421652</td>\n",
       "      <td>1.765484e-08</td>\n",
       "      <td>2003</td>\n",
       "      <td>2561</td>\n",
       "      <td>28</td>\n",
       "      <td>А01090</td>\n",
       "      <td>СПБ</td>\n",
       "      <td>2008-09-30</td>\n",
       "      <td>2100-01-01</td>\n",
       "      <td>Озерки</td>\n",
       "      <td>3.0</td>\n",
       "      <td>E378FD87-0BB5-E984-11E8-54EE74216F5D</td>\n",
       "      <td>25.0</td>\n",
       "      <td>БЕ Озерки СЗ</td>\n",
       "      <td>5000DB80-9356-86BC-11E8-82B3A92564D8</td>\n",
       "    </tr>\n",
       "  </tbody>\n",
       "</table>\n",
       "<p>5226 rows × 18 columns</p>\n",
       "</div>"
      ],
      "text/plain": [
       "       SKU  Store  Elasticity          Qty       P_value  ClassId  CategoryId  \\\n",
       "2     5320   2834   -1.711069  1030.051648  7.047693e-18     2003        2491   \n",
       "3      738   2834   -2.532597   640.582418  9.890574e-14     2003        2849   \n",
       "5     1948   2834   -2.078973   305.859890  1.233518e-64     2003        2489   \n",
       "6     5899   2834   -0.960302   580.002747  2.594262e-36     2003        2495   \n",
       "7     7396   2834   -0.888237  4414.964286  1.285520e-10     2003        2496   \n",
       "...    ...    ...         ...          ...           ...      ...         ...   \n",
       "9990  1946   1139   -1.020101     2.729577  4.219658e-09     2003        2489   \n",
       "9991   490   1108   -1.659158    11.201149  2.653524e-10     2003        2489   \n",
       "9994  7398   1173   -7.230105     3.211268  9.023607e-35     2003        2692   \n",
       "9995  7396   1089   -1.055770    26.873156  8.415907e-07     2003        2496   \n",
       "9997  1554   1091   -6.179434     6.421652  1.765484e-08     2003        2561   \n",
       "\n",
       "      ClusterId TradePointCode   TradePointName   OpenDate  CloseDate  \\\n",
       "2          1055         А02829  ИНТЕРНЕТМАГАЗИН 2019-01-01 2100-01-01   \n",
       "3           470         А02829  ИНТЕРНЕТМАГАЗИН 2019-01-01 2100-01-01   \n",
       "5           466         А02829  ИНТЕРНЕТМАГАЗИН 2019-01-01 2100-01-01   \n",
       "6            46         А02829  ИНТЕРНЕТМАГАЗИН 2019-01-01 2100-01-01   \n",
       "7           457         А02829  ИНТЕРНЕТМАГАЗИН 2019-01-01 2100-01-01   \n",
       "...         ...            ...              ...        ...        ...   \n",
       "9990        466         А01138              СПБ 2017-02-28 2100-01-01   \n",
       "9991        466         А01107              СПБ 2015-03-16 2100-01-01   \n",
       "9994        455         А01172              СПБ 2017-10-11 2100-01-01   \n",
       "9995        457         А01088              СПБ 2009-02-11 2100-01-01   \n",
       "9997         28         А01090              СПБ 2008-09-30 2100-01-01   \n",
       "\n",
       "     BrandName  BrandGroupId                           Brands_GUID  BE_Id  \\\n",
       "2       Озерки           3.0  E378FD87-0BB5-E984-11E8-54EE74216F5D   25.0   \n",
       "3       Озерки           3.0  E378FD87-0BB5-E984-11E8-54EE74216F5D   25.0   \n",
       "5       Озерки           3.0  E378FD87-0BB5-E984-11E8-54EE74216F5D   25.0   \n",
       "6       Озерки           3.0  E378FD87-0BB5-E984-11E8-54EE74216F5D   25.0   \n",
       "7       Озерки           3.0  E378FD87-0BB5-E984-11E8-54EE74216F5D   25.0   \n",
       "...        ...           ...                                   ...    ...   \n",
       "9990    Озерки           3.0  E378FD87-0BB5-E984-11E8-54EE74216F5D   25.0   \n",
       "9991    Озерки           3.0  E378FD87-0BB5-E984-11E8-54EE74216F5D   25.0   \n",
       "9994    Озерки           3.0  E378FD87-0BB5-E984-11E8-54EE74216F5D   25.0   \n",
       "9995    Озерки           3.0  E378FD87-0BB5-E984-11E8-54EE74216F5D   25.0   \n",
       "9997    Озерки           3.0  E378FD87-0BB5-E984-11E8-54EE74216F5D   25.0   \n",
       "\n",
       "           BE_Name                               BE_GUID  \n",
       "2     БЕ Озерки СЗ  5000DB80-9356-86BC-11E8-82B3A92564D8  \n",
       "3     БЕ Озерки СЗ  5000DB80-9356-86BC-11E8-82B3A92564D8  \n",
       "5     БЕ Озерки СЗ  5000DB80-9356-86BC-11E8-82B3A92564D8  \n",
       "6     БЕ Озерки СЗ  5000DB80-9356-86BC-11E8-82B3A92564D8  \n",
       "7     БЕ Озерки СЗ  5000DB80-9356-86BC-11E8-82B3A92564D8  \n",
       "...            ...                                   ...  \n",
       "9990  БЕ Озерки СЗ  5000DB80-9356-86BC-11E8-82B3A92564D8  \n",
       "9991  БЕ Озерки СЗ  5000DB80-9356-86BC-11E8-82B3A92564D8  \n",
       "9994  БЕ Озерки СЗ  5000DB80-9356-86BC-11E8-82B3A92564D8  \n",
       "9995  БЕ Озерки СЗ  5000DB80-9356-86BC-11E8-82B3A92564D8  \n",
       "9997  БЕ Озерки СЗ  5000DB80-9356-86BC-11E8-82B3A92564D8  \n",
       "\n",
       "[5226 rows x 18 columns]"
      ]
     },
     "execution_count": 17,
     "metadata": {},
     "output_type": "execute_result"
    }
   ],
   "source": [
    "df_sku"
   ]
  },
  {
   "cell_type": "code",
   "execution_count": 18,
   "metadata": {
    "ExecuteTime": {
     "end_time": "2021-05-06T08:14:55.644857Z",
     "start_time": "2021-05-06T08:14:55.618329Z"
    }
   },
   "outputs": [
    {
     "data": {
      "text/plain": [
       "SKU                0\n",
       "Store              0\n",
       "Elasticity         0\n",
       "Qty                0\n",
       "P_value            0\n",
       "ClassId            0\n",
       "CategoryId         0\n",
       "ClusterId          0\n",
       "TradePointCode    32\n",
       "TradePointName    32\n",
       "OpenDate          32\n",
       "CloseDate         32\n",
       "BrandName         32\n",
       "BrandGroupId      32\n",
       "Brands_GUID       32\n",
       "BE_Id             32\n",
       "BE_Name           32\n",
       "BE_GUID           32\n",
       "dtype: int64"
      ]
     },
     "execution_count": 18,
     "metadata": {},
     "output_type": "execute_result"
    }
   ],
   "source": [
    "df_sku.isna().sum()"
   ]
  },
  {
   "cell_type": "code",
   "execution_count": 19,
   "metadata": {
    "ExecuteTime": {
     "end_time": "2021-05-06T08:14:56.682804Z",
     "start_time": "2021-05-06T08:14:56.671080Z"
    }
   },
   "outputs": [],
   "source": [
    "df_sku = df_sku.rename(columns = {'TradePointName': 'Region'})"
   ]
  },
  {
   "cell_type": "code",
   "execution_count": 20,
   "metadata": {
    "ExecuteTime": {
     "end_time": "2021-05-06T08:14:58.478306Z",
     "start_time": "2021-05-06T08:14:58.457200Z"
    }
   },
   "outputs": [
    {
     "data": {
      "text/plain": [
       "3    184\n",
       "Name: BrandGroupId, dtype: int64"
      ]
     },
     "execution_count": 20,
     "metadata": {},
     "output_type": "execute_result"
    }
   ],
   "source": [
    "store_info.BrandGroupId.value_counts()"
   ]
  },
  {
   "cell_type": "code",
   "execution_count": 21,
   "metadata": {
    "ExecuteTime": {
     "end_time": "2021-05-06T08:14:59.113902Z",
     "start_time": "2021-05-06T08:14:59.100368Z"
    }
   },
   "outputs": [
    {
     "data": {
      "text/plain": [
       "25    184\n",
       "Name: BE_Id, dtype: int64"
      ]
     },
     "execution_count": 21,
     "metadata": {},
     "output_type": "execute_result"
    }
   ],
   "source": [
    "store_info.BE_Id.value_counts()"
   ]
  },
  {
   "cell_type": "code",
   "execution_count": 22,
   "metadata": {
    "ExecuteTime": {
     "end_time": "2021-05-06T08:14:59.610167Z",
     "start_time": "2021-05-06T08:14:59.589423Z"
    }
   },
   "outputs": [
    {
     "data": {
      "text/plain": [
       "E378FD87-0BB5-E984-11E8-54EE74216F5D    184\n",
       "Name: Brands_GUID, dtype: int64"
      ]
     },
     "execution_count": 22,
     "metadata": {},
     "output_type": "execute_result"
    }
   ],
   "source": [
    "store_info.Brands_GUID.value_counts()"
   ]
  },
  {
   "cell_type": "code",
   "execution_count": 23,
   "metadata": {
    "ExecuteTime": {
     "end_time": "2021-05-06T08:15:00.184340Z",
     "start_time": "2021-05-06T08:15:00.146810Z"
    }
   },
   "outputs": [],
   "source": [
    "import time\n",
    "df_sku['OpenDate'] = pd.to_datetime(df_sku.OpenDate)\n",
    "#cur_date = time.mktime(time.strptime('01/01/2019', \"%d/%m/%Y\"))\n",
    "df_sku['OpenDate'] = df_sku['OpenDate'].rsub(pd.Timestamp('today')).dt.days\n",
    "df_sku.rename(columns={'OpenDate' : 'DaysOpen'}, inplace = True)\n"
   ]
  },
  {
   "cell_type": "code",
   "execution_count": 24,
   "metadata": {
    "ExecuteTime": {
     "end_time": "2021-05-06T08:15:00.820603Z",
     "start_time": "2021-05-06T08:15:00.809342Z"
    }
   },
   "outputs": [],
   "source": [
    "df_sku.DaysOpen = df_sku['DaysOpen'].fillna(0)"
   ]
  },
  {
   "cell_type": "markdown",
   "metadata": {},
   "source": [
    "### какие признаки у нас будут для обучения"
   ]
  },
  {
   "cell_type": "code",
   "execution_count": 38,
   "metadata": {
    "ExecuteTime": {
     "end_time": "2021-05-06T08:27:52.991525Z",
     "start_time": "2021-05-06T08:27:52.953297Z"
    }
   },
   "outputs": [
    {
     "name": "stdout",
     "output_type": "stream",
     "text": [
      "       SKU  Store  CategoryId  ClusterId  DaysOpen  ВО  ВОЛОГДА  \\\n",
      "2     5320   2834        2491       1055     856.0   0        0   \n",
      "3      738   2834        2849        470     856.0   0        0   \n",
      "5     1948   2834        2489        466     856.0   0        0   \n",
      "6     5899   2834        2495         46     856.0   0        0   \n",
      "7     7396   2834        2496        457     856.0   0        0   \n",
      "...    ...    ...         ...        ...       ...  ..      ...   \n",
      "9990  1946   1139        2489        466    1528.0   0        0   \n",
      "9991   490   1108        2489        466    2243.0   0        0   \n",
      "9994  7398   1173        2692        455    1303.0   0        0   \n",
      "9995  7396   1089        2496        457    4467.0   0        0   \n",
      "9997  1554   1091        2561         28    4601.0   0        0   \n",
      "\n",
      "      ИНТЕРНЕТМАГАЗИН  ЛО  СПБ  ЧЕРЕПОВЕЦ  \n",
      "2                   1   0    0          0  \n",
      "3                   1   0    0          0  \n",
      "5                   1   0    0          0  \n",
      "6                   1   0    0          0  \n",
      "7                   1   0    0          0  \n",
      "...               ...  ..  ...        ...  \n",
      "9990                0   0    1          0  \n",
      "9991                0   0    1          0  \n",
      "9994                0   0    1          0  \n",
      "9995                0   0    1          0  \n",
      "9997                0   0    1          0  \n",
      "\n",
      "[5226 rows x 11 columns]\n"
     ]
    }
   ],
   "source": [
    "X = df_sku[['SKU', 'Store', 'CategoryId', 'ClusterId', 'Region', 'DaysOpen']]\n",
    "one_hot = pd.get_dummies(X['Region'])\n",
    "# Drop column B as it is now encoded\n",
    "X = X.drop('Region',axis = 1)\n",
    "# Join the encoded df\n",
    "X = X.join(one_hot)\n",
    "print(X)\n",
    "X = X.to_numpy()  \n",
    "y = df_sku['Elasticity'].to_numpy()"
   ]
  },
  {
   "cell_type": "code",
   "execution_count": 131,
   "metadata": {
    "ExecuteTime": {
     "end_time": "2021-05-07T01:28:27.022799Z",
     "start_time": "2021-05-07T01:28:27.007174Z"
    }
   },
   "outputs": [
    {
     "data": {
      "text/plain": [
       "74"
      ]
     },
     "execution_count": 131,
     "metadata": {},
     "output_type": "execute_result"
    }
   ],
   "source": [
    "len(df_sku['ClusterId'].unique())"
   ]
  },
  {
   "cell_type": "markdown",
   "metadata": {},
   "source": [
    "#### добавим признаки медианной эластичности по категории товара и город-магазина или интернтет магазина"
   ]
  },
  {
   "cell_type": "code",
   "execution_count": 135,
   "metadata": {
    "ExecuteTime": {
     "end_time": "2021-05-09T17:59:53.494995Z",
     "start_time": "2021-05-09T17:59:53.460250Z"
    }
   },
   "outputs": [
    {
     "name": "stderr",
     "output_type": "stream",
     "text": [
      "<ipython-input-135-8709daa0c61d>:7: SettingWithCopyWarning: \n",
      "A value is trying to be set on a copy of a slice from a DataFrame.\n",
      "Try using .loc[row_indexer,col_indexer] = value instead\n",
      "\n",
      "See the caveats in the documentation: https://pandas.pydata.org/pandas-docs/stable/user_guide/indexing.html#returning-a-view-versus-a-copy\n",
      "  Z['MedianElastCategory'] = 0\n",
      "<ipython-input-135-8709daa0c61d>:8: SettingWithCopyWarning: \n",
      "A value is trying to be set on a copy of a slice from a DataFrame.\n",
      "Try using .loc[row_indexer,col_indexer] = value instead\n",
      "\n",
      "See the caveats in the documentation: https://pandas.pydata.org/pandas-docs/stable/user_guide/indexing.html#returning-a-view-versus-a-copy\n",
      "  Z['MedianElastStores'] = 0\n"
     ]
    },
    {
     "data": {
      "text/html": [
       "<div>\n",
       "<style scoped>\n",
       "    .dataframe tbody tr th:only-of-type {\n",
       "        vertical-align: middle;\n",
       "    }\n",
       "\n",
       "    .dataframe tbody tr th {\n",
       "        vertical-align: top;\n",
       "    }\n",
       "\n",
       "    .dataframe thead th {\n",
       "        text-align: right;\n",
       "    }\n",
       "</style>\n",
       "<table border=\"1\" class=\"dataframe\">\n",
       "  <thead>\n",
       "    <tr style=\"text-align: right;\">\n",
       "      <th></th>\n",
       "      <th>SKU</th>\n",
       "      <th>Store</th>\n",
       "      <th>CategoryId</th>\n",
       "      <th>ClusterId</th>\n",
       "      <th>Region</th>\n",
       "      <th>DaysOpen</th>\n",
       "      <th>Elasticity</th>\n",
       "      <th>MedianElastCategory</th>\n",
       "      <th>MedianElastStores</th>\n",
       "    </tr>\n",
       "  </thead>\n",
       "  <tbody>\n",
       "    <tr>\n",
       "      <th>2</th>\n",
       "      <td>5320</td>\n",
       "      <td>2834</td>\n",
       "      <td>2491</td>\n",
       "      <td>1055</td>\n",
       "      <td>ИНТЕРНЕТМАГАЗИН</td>\n",
       "      <td>856.0</td>\n",
       "      <td>-1.711069</td>\n",
       "      <td>0</td>\n",
       "      <td>0</td>\n",
       "    </tr>\n",
       "    <tr>\n",
       "      <th>3</th>\n",
       "      <td>738</td>\n",
       "      <td>2834</td>\n",
       "      <td>2849</td>\n",
       "      <td>470</td>\n",
       "      <td>ИНТЕРНЕТМАГАЗИН</td>\n",
       "      <td>856.0</td>\n",
       "      <td>-2.532597</td>\n",
       "      <td>0</td>\n",
       "      <td>0</td>\n",
       "    </tr>\n",
       "    <tr>\n",
       "      <th>5</th>\n",
       "      <td>1948</td>\n",
       "      <td>2834</td>\n",
       "      <td>2489</td>\n",
       "      <td>466</td>\n",
       "      <td>ИНТЕРНЕТМАГАЗИН</td>\n",
       "      <td>856.0</td>\n",
       "      <td>-2.078973</td>\n",
       "      <td>0</td>\n",
       "      <td>0</td>\n",
       "    </tr>\n",
       "    <tr>\n",
       "      <th>6</th>\n",
       "      <td>5899</td>\n",
       "      <td>2834</td>\n",
       "      <td>2495</td>\n",
       "      <td>46</td>\n",
       "      <td>ИНТЕРНЕТМАГАЗИН</td>\n",
       "      <td>856.0</td>\n",
       "      <td>-0.960302</td>\n",
       "      <td>0</td>\n",
       "      <td>0</td>\n",
       "    </tr>\n",
       "    <tr>\n",
       "      <th>7</th>\n",
       "      <td>7396</td>\n",
       "      <td>2834</td>\n",
       "      <td>2496</td>\n",
       "      <td>457</td>\n",
       "      <td>ИНТЕРНЕТМАГАЗИН</td>\n",
       "      <td>856.0</td>\n",
       "      <td>-0.888237</td>\n",
       "      <td>0</td>\n",
       "      <td>0</td>\n",
       "    </tr>\n",
       "    <tr>\n",
       "      <th>...</th>\n",
       "      <td>...</td>\n",
       "      <td>...</td>\n",
       "      <td>...</td>\n",
       "      <td>...</td>\n",
       "      <td>...</td>\n",
       "      <td>...</td>\n",
       "      <td>...</td>\n",
       "      <td>...</td>\n",
       "      <td>...</td>\n",
       "    </tr>\n",
       "    <tr>\n",
       "      <th>9990</th>\n",
       "      <td>1946</td>\n",
       "      <td>1139</td>\n",
       "      <td>2489</td>\n",
       "      <td>466</td>\n",
       "      <td>СПБ</td>\n",
       "      <td>1528.0</td>\n",
       "      <td>-1.020101</td>\n",
       "      <td>0</td>\n",
       "      <td>0</td>\n",
       "    </tr>\n",
       "    <tr>\n",
       "      <th>9991</th>\n",
       "      <td>490</td>\n",
       "      <td>1108</td>\n",
       "      <td>2489</td>\n",
       "      <td>466</td>\n",
       "      <td>СПБ</td>\n",
       "      <td>2243.0</td>\n",
       "      <td>-1.659158</td>\n",
       "      <td>0</td>\n",
       "      <td>0</td>\n",
       "    </tr>\n",
       "    <tr>\n",
       "      <th>9994</th>\n",
       "      <td>7398</td>\n",
       "      <td>1173</td>\n",
       "      <td>2692</td>\n",
       "      <td>455</td>\n",
       "      <td>СПБ</td>\n",
       "      <td>1303.0</td>\n",
       "      <td>-7.230105</td>\n",
       "      <td>0</td>\n",
       "      <td>0</td>\n",
       "    </tr>\n",
       "    <tr>\n",
       "      <th>9995</th>\n",
       "      <td>7396</td>\n",
       "      <td>1089</td>\n",
       "      <td>2496</td>\n",
       "      <td>457</td>\n",
       "      <td>СПБ</td>\n",
       "      <td>4467.0</td>\n",
       "      <td>-1.055770</td>\n",
       "      <td>0</td>\n",
       "      <td>0</td>\n",
       "    </tr>\n",
       "    <tr>\n",
       "      <th>9997</th>\n",
       "      <td>1554</td>\n",
       "      <td>1091</td>\n",
       "      <td>2561</td>\n",
       "      <td>28</td>\n",
       "      <td>СПБ</td>\n",
       "      <td>4601.0</td>\n",
       "      <td>-6.179434</td>\n",
       "      <td>0</td>\n",
       "      <td>0</td>\n",
       "    </tr>\n",
       "  </tbody>\n",
       "</table>\n",
       "<p>5226 rows × 9 columns</p>\n",
       "</div>"
      ],
      "text/plain": [
       "       SKU  Store  CategoryId  ClusterId           Region  DaysOpen  \\\n",
       "2     5320   2834        2491       1055  ИНТЕРНЕТМАГАЗИН     856.0   \n",
       "3      738   2834        2849        470  ИНТЕРНЕТМАГАЗИН     856.0   \n",
       "5     1948   2834        2489        466  ИНТЕРНЕТМАГАЗИН     856.0   \n",
       "6     5899   2834        2495         46  ИНТЕРНЕТМАГАЗИН     856.0   \n",
       "7     7396   2834        2496        457  ИНТЕРНЕТМАГАЗИН     856.0   \n",
       "...    ...    ...         ...        ...              ...       ...   \n",
       "9990  1946   1139        2489        466              СПБ    1528.0   \n",
       "9991   490   1108        2489        466              СПБ    2243.0   \n",
       "9994  7398   1173        2692        455              СПБ    1303.0   \n",
       "9995  7396   1089        2496        457              СПБ    4467.0   \n",
       "9997  1554   1091        2561         28              СПБ    4601.0   \n",
       "\n",
       "      Elasticity  MedianElastCategory  MedianElastStores  \n",
       "2      -1.711069                    0                  0  \n",
       "3      -2.532597                    0                  0  \n",
       "5      -2.078973                    0                  0  \n",
       "6      -0.960302                    0                  0  \n",
       "7      -0.888237                    0                  0  \n",
       "...          ...                  ...                ...  \n",
       "9990   -1.020101                    0                  0  \n",
       "9991   -1.659158                    0                  0  \n",
       "9994   -7.230105                    0                  0  \n",
       "9995   -1.055770                    0                  0  \n",
       "9997   -6.179434                    0                  0  \n",
       "\n",
       "[5226 rows x 9 columns]"
      ]
     },
     "execution_count": 135,
     "metadata": {},
     "output_type": "execute_result"
    }
   ],
   "source": [
    "Z = df_sku[['SKU', 'Store', 'CategoryId', 'ClusterId', 'Region', 'DaysOpen','Elasticity']]\n",
    "Z['MedianElastCategory'] = 0\n",
    "Z['MedianElastStores'] = 0\n",
    "Z"
   ]
  },
  {
   "cell_type": "code",
   "execution_count": 140,
   "metadata": {
    "ExecuteTime": {
     "end_time": "2021-05-09T18:11:55.718002Z",
     "start_time": "2021-05-09T18:11:45.180592Z"
    }
   },
   "outputs": [
    {
     "name": "stderr",
     "output_type": "stream",
     "text": [
      "C:\\Users\\User\\anaconda3\\lib\\site-packages\\pandas\\core\\generic.py:5303: SettingWithCopyWarning: \n",
      "A value is trying to be set on a copy of a slice from a DataFrame.\n",
      "Try using .loc[row_indexer,col_indexer] = value instead\n",
      "\n",
      "See the caveats in the documentation: https://pandas.pydata.org/pandas-docs/stable/user_guide/indexing.html#returning-a-view-versus-a-copy\n",
      "  self[name] = value\n"
     ]
    },
    {
     "data": {
      "text/html": [
       "<div>\n",
       "<style scoped>\n",
       "    .dataframe tbody tr th:only-of-type {\n",
       "        vertical-align: middle;\n",
       "    }\n",
       "\n",
       "    .dataframe tbody tr th {\n",
       "        vertical-align: top;\n",
       "    }\n",
       "\n",
       "    .dataframe thead th {\n",
       "        text-align: right;\n",
       "    }\n",
       "</style>\n",
       "<table border=\"1\" class=\"dataframe\">\n",
       "  <thead>\n",
       "    <tr style=\"text-align: right;\">\n",
       "      <th></th>\n",
       "      <th>SKU</th>\n",
       "      <th>Store</th>\n",
       "      <th>CategoryId</th>\n",
       "      <th>ClusterId</th>\n",
       "      <th>Region</th>\n",
       "      <th>DaysOpen</th>\n",
       "      <th>Elasticity</th>\n",
       "      <th>MedianElastCategory</th>\n",
       "      <th>MedianElastStores</th>\n",
       "    </tr>\n",
       "  </thead>\n",
       "  <tbody>\n",
       "    <tr>\n",
       "      <th>2</th>\n",
       "      <td>5320</td>\n",
       "      <td>2834</td>\n",
       "      <td>2491</td>\n",
       "      <td>1055</td>\n",
       "      <td>ИНТЕРНЕТМАГАЗИН</td>\n",
       "      <td>856.0</td>\n",
       "      <td>-1.711069</td>\n",
       "      <td>-1.725599</td>\n",
       "      <td>-2.521124</td>\n",
       "    </tr>\n",
       "    <tr>\n",
       "      <th>3</th>\n",
       "      <td>738</td>\n",
       "      <td>2834</td>\n",
       "      <td>2849</td>\n",
       "      <td>470</td>\n",
       "      <td>ИНТЕРНЕТМАГАЗИН</td>\n",
       "      <td>856.0</td>\n",
       "      <td>-2.532597</td>\n",
       "      <td>-2.306946</td>\n",
       "      <td>-2.513789</td>\n",
       "    </tr>\n",
       "    <tr>\n",
       "      <th>5</th>\n",
       "      <td>1948</td>\n",
       "      <td>2834</td>\n",
       "      <td>2489</td>\n",
       "      <td>466</td>\n",
       "      <td>ИНТЕРНЕТМАГАЗИН</td>\n",
       "      <td>856.0</td>\n",
       "      <td>-2.078973</td>\n",
       "      <td>-3.315881</td>\n",
       "      <td>-2.517839</td>\n",
       "    </tr>\n",
       "    <tr>\n",
       "      <th>6</th>\n",
       "      <td>5899</td>\n",
       "      <td>2834</td>\n",
       "      <td>2495</td>\n",
       "      <td>46</td>\n",
       "      <td>ИНТЕРНЕТМАГАЗИН</td>\n",
       "      <td>856.0</td>\n",
       "      <td>-0.960302</td>\n",
       "      <td>-4.259721</td>\n",
       "      <td>-2.527827</td>\n",
       "    </tr>\n",
       "    <tr>\n",
       "      <th>7</th>\n",
       "      <td>7396</td>\n",
       "      <td>2834</td>\n",
       "      <td>2496</td>\n",
       "      <td>457</td>\n",
       "      <td>ИНТЕРНЕТМАГАЗИН</td>\n",
       "      <td>856.0</td>\n",
       "      <td>-0.888237</td>\n",
       "      <td>-3.381363</td>\n",
       "      <td>-2.528470</td>\n",
       "    </tr>\n",
       "    <tr>\n",
       "      <th>...</th>\n",
       "      <td>...</td>\n",
       "      <td>...</td>\n",
       "      <td>...</td>\n",
       "      <td>...</td>\n",
       "      <td>...</td>\n",
       "      <td>...</td>\n",
       "      <td>...</td>\n",
       "      <td>...</td>\n",
       "      <td>...</td>\n",
       "    </tr>\n",
       "    <tr>\n",
       "      <th>9990</th>\n",
       "      <td>1946</td>\n",
       "      <td>1139</td>\n",
       "      <td>2489</td>\n",
       "      <td>466</td>\n",
       "      <td>СПБ</td>\n",
       "      <td>1528.0</td>\n",
       "      <td>-1.020101</td>\n",
       "      <td>-3.316816</td>\n",
       "      <td>-3.086097</td>\n",
       "    </tr>\n",
       "    <tr>\n",
       "      <th>9991</th>\n",
       "      <td>490</td>\n",
       "      <td>1108</td>\n",
       "      <td>2489</td>\n",
       "      <td>466</td>\n",
       "      <td>СПБ</td>\n",
       "      <td>2243.0</td>\n",
       "      <td>-1.659158</td>\n",
       "      <td>-3.316252</td>\n",
       "      <td>-3.085956</td>\n",
       "    </tr>\n",
       "    <tr>\n",
       "      <th>9994</th>\n",
       "      <td>7398</td>\n",
       "      <td>1173</td>\n",
       "      <td>2692</td>\n",
       "      <td>455</td>\n",
       "      <td>СПБ</td>\n",
       "      <td>1303.0</td>\n",
       "      <td>-7.230105</td>\n",
       "      <td>-2.467494</td>\n",
       "      <td>-3.084730</td>\n",
       "    </tr>\n",
       "    <tr>\n",
       "      <th>9995</th>\n",
       "      <td>7396</td>\n",
       "      <td>1089</td>\n",
       "      <td>2496</td>\n",
       "      <td>457</td>\n",
       "      <td>СПБ</td>\n",
       "      <td>4467.0</td>\n",
       "      <td>-1.055770</td>\n",
       "      <td>-3.380149</td>\n",
       "      <td>-3.086089</td>\n",
       "    </tr>\n",
       "    <tr>\n",
       "      <th>9997</th>\n",
       "      <td>1554</td>\n",
       "      <td>1091</td>\n",
       "      <td>2561</td>\n",
       "      <td>28</td>\n",
       "      <td>СПБ</td>\n",
       "      <td>4601.0</td>\n",
       "      <td>-6.179434</td>\n",
       "      <td>-3.229436</td>\n",
       "      <td>-3.084962</td>\n",
       "    </tr>\n",
       "  </tbody>\n",
       "</table>\n",
       "<p>5226 rows × 9 columns</p>\n",
       "</div>"
      ],
      "text/plain": [
       "       SKU  Store  CategoryId  ClusterId           Region  DaysOpen  \\\n",
       "2     5320   2834        2491       1055  ИНТЕРНЕТМАГАЗИН     856.0   \n",
       "3      738   2834        2849        470  ИНТЕРНЕТМАГАЗИН     856.0   \n",
       "5     1948   2834        2489        466  ИНТЕРНЕТМАГАЗИН     856.0   \n",
       "6     5899   2834        2495         46  ИНТЕРНЕТМАГАЗИН     856.0   \n",
       "7     7396   2834        2496        457  ИНТЕРНЕТМАГАЗИН     856.0   \n",
       "...    ...    ...         ...        ...              ...       ...   \n",
       "9990  1946   1139        2489        466              СПБ    1528.0   \n",
       "9991   490   1108        2489        466              СПБ    2243.0   \n",
       "9994  7398   1173        2692        455              СПБ    1303.0   \n",
       "9995  7396   1089        2496        457              СПБ    4467.0   \n",
       "9997  1554   1091        2561         28              СПБ    4601.0   \n",
       "\n",
       "      Elasticity  MedianElastCategory  MedianElastStores  \n",
       "2      -1.711069            -1.725599          -2.521124  \n",
       "3      -2.532597            -2.306946          -2.513789  \n",
       "5      -2.078973            -3.315881          -2.517839  \n",
       "6      -0.960302            -4.259721          -2.527827  \n",
       "7      -0.888237            -3.381363          -2.528470  \n",
       "...          ...                  ...                ...  \n",
       "9990   -1.020101            -3.316816          -3.086097  \n",
       "9991   -1.659158            -3.316252          -3.085956  \n",
       "9994   -7.230105            -2.467494          -3.084730  \n",
       "9995   -1.055770            -3.380149          -3.086089  \n",
       "9997   -6.179434            -3.229436          -3.084962  \n",
       "\n",
       "[5226 rows x 9 columns]"
      ]
     },
     "execution_count": 140,
     "metadata": {},
     "output_type": "execute_result"
    }
   ],
   "source": [
    "mean_val_reg = []\n",
    "mean_val_categ = []\n",
    "for i, r in Z.iterrows():\n",
    "    x = r['Region'] \n",
    "    y = r['CategoryId'] \n",
    "    Y = Z.drop([i])\n",
    "    mean_val_reg.append(Y[Y.Region == x].Elasticity.mean())\n",
    "    mean_val_categ.append(Y[Y.CategoryId == y].Elasticity.mean())\n",
    "Z.MedianElastStores = mean_val_reg\n",
    "Z.MedianElastCategory = mean_val_categ\n",
    "Z"
   ]
  },
  {
   "cell_type": "code",
   "execution_count": 144,
   "metadata": {
    "ExecuteTime": {
     "end_time": "2021-05-09T18:15:52.288805Z",
     "start_time": "2021-05-09T18:15:52.276408Z"
    }
   },
   "outputs": [],
   "source": [
    "one_hot = pd.get_dummies(Z['Region'])\n",
    "# Drop column B as it is now encoded\n",
    "Z = Z.drop('Region',axis = 1)\n",
    "# Join the encoded df\n",
    "Z = Z.join(one_hot)"
   ]
  },
  {
   "cell_type": "code",
   "execution_count": 141,
   "metadata": {
    "ExecuteTime": {
     "end_time": "2021-05-09T18:14:13.638846Z",
     "start_time": "2021-05-09T18:14:13.621876Z"
    }
   },
   "outputs": [
    {
     "name": "stderr",
     "output_type": "stream",
     "text": [
      "C:\\Users\\User\\anaconda3\\lib\\site-packages\\pandas\\core\\generic.py:5303: SettingWithCopyWarning: \n",
      "A value is trying to be set on a copy of a slice from a DataFrame.\n",
      "Try using .loc[row_indexer,col_indexer] = value instead\n",
      "\n",
      "See the caveats in the documentation: https://pandas.pydata.org/pandas-docs/stable/user_guide/indexing.html#returning-a-view-versus-a-copy\n",
      "  self[name] = value\n"
     ]
    }
   ],
   "source": [
    "Z.MedianElastCategory = Z.MedianElastCategory.fillna(Z.MedianElastCategory.median())\n",
    "Z.MedianElastStores = Z.MedianElastStores.fillna(Z.MedianElastStores.median())"
   ]
  },
  {
   "cell_type": "code",
   "execution_count": 145,
   "metadata": {
    "ExecuteTime": {
     "end_time": "2021-05-09T18:16:14.316709Z",
     "start_time": "2021-05-09T18:16:14.289748Z"
    }
   },
   "outputs": [
    {
     "data": {
      "text/html": [
       "<div>\n",
       "<style scoped>\n",
       "    .dataframe tbody tr th:only-of-type {\n",
       "        vertical-align: middle;\n",
       "    }\n",
       "\n",
       "    .dataframe tbody tr th {\n",
       "        vertical-align: top;\n",
       "    }\n",
       "\n",
       "    .dataframe thead th {\n",
       "        text-align: right;\n",
       "    }\n",
       "</style>\n",
       "<table border=\"1\" class=\"dataframe\">\n",
       "  <thead>\n",
       "    <tr style=\"text-align: right;\">\n",
       "      <th></th>\n",
       "      <th>SKU</th>\n",
       "      <th>Store</th>\n",
       "      <th>CategoryId</th>\n",
       "      <th>ClusterId</th>\n",
       "      <th>DaysOpen</th>\n",
       "      <th>Elasticity</th>\n",
       "      <th>MedianElastCategory</th>\n",
       "      <th>MedianElastStores</th>\n",
       "      <th>ВО</th>\n",
       "      <th>ВОЛОГДА</th>\n",
       "      <th>ИНТЕРНЕТМАГАЗИН</th>\n",
       "      <th>ЛО</th>\n",
       "      <th>СПБ</th>\n",
       "      <th>ЧЕРЕПОВЕЦ</th>\n",
       "    </tr>\n",
       "  </thead>\n",
       "  <tbody>\n",
       "    <tr>\n",
       "      <th>2</th>\n",
       "      <td>5320</td>\n",
       "      <td>2834</td>\n",
       "      <td>2491</td>\n",
       "      <td>1055</td>\n",
       "      <td>856.0</td>\n",
       "      <td>-1.711069</td>\n",
       "      <td>-1.725599</td>\n",
       "      <td>-2.521124</td>\n",
       "      <td>0</td>\n",
       "      <td>0</td>\n",
       "      <td>1</td>\n",
       "      <td>0</td>\n",
       "      <td>0</td>\n",
       "      <td>0</td>\n",
       "    </tr>\n",
       "    <tr>\n",
       "      <th>3</th>\n",
       "      <td>738</td>\n",
       "      <td>2834</td>\n",
       "      <td>2849</td>\n",
       "      <td>470</td>\n",
       "      <td>856.0</td>\n",
       "      <td>-2.532597</td>\n",
       "      <td>-2.306946</td>\n",
       "      <td>-2.513789</td>\n",
       "      <td>0</td>\n",
       "      <td>0</td>\n",
       "      <td>1</td>\n",
       "      <td>0</td>\n",
       "      <td>0</td>\n",
       "      <td>0</td>\n",
       "    </tr>\n",
       "    <tr>\n",
       "      <th>5</th>\n",
       "      <td>1948</td>\n",
       "      <td>2834</td>\n",
       "      <td>2489</td>\n",
       "      <td>466</td>\n",
       "      <td>856.0</td>\n",
       "      <td>-2.078973</td>\n",
       "      <td>-3.315881</td>\n",
       "      <td>-2.517839</td>\n",
       "      <td>0</td>\n",
       "      <td>0</td>\n",
       "      <td>1</td>\n",
       "      <td>0</td>\n",
       "      <td>0</td>\n",
       "      <td>0</td>\n",
       "    </tr>\n",
       "    <tr>\n",
       "      <th>6</th>\n",
       "      <td>5899</td>\n",
       "      <td>2834</td>\n",
       "      <td>2495</td>\n",
       "      <td>46</td>\n",
       "      <td>856.0</td>\n",
       "      <td>-0.960302</td>\n",
       "      <td>-4.259721</td>\n",
       "      <td>-2.527827</td>\n",
       "      <td>0</td>\n",
       "      <td>0</td>\n",
       "      <td>1</td>\n",
       "      <td>0</td>\n",
       "      <td>0</td>\n",
       "      <td>0</td>\n",
       "    </tr>\n",
       "    <tr>\n",
       "      <th>7</th>\n",
       "      <td>7396</td>\n",
       "      <td>2834</td>\n",
       "      <td>2496</td>\n",
       "      <td>457</td>\n",
       "      <td>856.0</td>\n",
       "      <td>-0.888237</td>\n",
       "      <td>-3.381363</td>\n",
       "      <td>-2.528470</td>\n",
       "      <td>0</td>\n",
       "      <td>0</td>\n",
       "      <td>1</td>\n",
       "      <td>0</td>\n",
       "      <td>0</td>\n",
       "      <td>0</td>\n",
       "    </tr>\n",
       "    <tr>\n",
       "      <th>...</th>\n",
       "      <td>...</td>\n",
       "      <td>...</td>\n",
       "      <td>...</td>\n",
       "      <td>...</td>\n",
       "      <td>...</td>\n",
       "      <td>...</td>\n",
       "      <td>...</td>\n",
       "      <td>...</td>\n",
       "      <td>...</td>\n",
       "      <td>...</td>\n",
       "      <td>...</td>\n",
       "      <td>...</td>\n",
       "      <td>...</td>\n",
       "      <td>...</td>\n",
       "    </tr>\n",
       "    <tr>\n",
       "      <th>9990</th>\n",
       "      <td>1946</td>\n",
       "      <td>1139</td>\n",
       "      <td>2489</td>\n",
       "      <td>466</td>\n",
       "      <td>1528.0</td>\n",
       "      <td>-1.020101</td>\n",
       "      <td>-3.316816</td>\n",
       "      <td>-3.086097</td>\n",
       "      <td>0</td>\n",
       "      <td>0</td>\n",
       "      <td>0</td>\n",
       "      <td>0</td>\n",
       "      <td>1</td>\n",
       "      <td>0</td>\n",
       "    </tr>\n",
       "    <tr>\n",
       "      <th>9991</th>\n",
       "      <td>490</td>\n",
       "      <td>1108</td>\n",
       "      <td>2489</td>\n",
       "      <td>466</td>\n",
       "      <td>2243.0</td>\n",
       "      <td>-1.659158</td>\n",
       "      <td>-3.316252</td>\n",
       "      <td>-3.085956</td>\n",
       "      <td>0</td>\n",
       "      <td>0</td>\n",
       "      <td>0</td>\n",
       "      <td>0</td>\n",
       "      <td>1</td>\n",
       "      <td>0</td>\n",
       "    </tr>\n",
       "    <tr>\n",
       "      <th>9994</th>\n",
       "      <td>7398</td>\n",
       "      <td>1173</td>\n",
       "      <td>2692</td>\n",
       "      <td>455</td>\n",
       "      <td>1303.0</td>\n",
       "      <td>-7.230105</td>\n",
       "      <td>-2.467494</td>\n",
       "      <td>-3.084730</td>\n",
       "      <td>0</td>\n",
       "      <td>0</td>\n",
       "      <td>0</td>\n",
       "      <td>0</td>\n",
       "      <td>1</td>\n",
       "      <td>0</td>\n",
       "    </tr>\n",
       "    <tr>\n",
       "      <th>9995</th>\n",
       "      <td>7396</td>\n",
       "      <td>1089</td>\n",
       "      <td>2496</td>\n",
       "      <td>457</td>\n",
       "      <td>4467.0</td>\n",
       "      <td>-1.055770</td>\n",
       "      <td>-3.380149</td>\n",
       "      <td>-3.086089</td>\n",
       "      <td>0</td>\n",
       "      <td>0</td>\n",
       "      <td>0</td>\n",
       "      <td>0</td>\n",
       "      <td>1</td>\n",
       "      <td>0</td>\n",
       "    </tr>\n",
       "    <tr>\n",
       "      <th>9997</th>\n",
       "      <td>1554</td>\n",
       "      <td>1091</td>\n",
       "      <td>2561</td>\n",
       "      <td>28</td>\n",
       "      <td>4601.0</td>\n",
       "      <td>-6.179434</td>\n",
       "      <td>-3.229436</td>\n",
       "      <td>-3.084962</td>\n",
       "      <td>0</td>\n",
       "      <td>0</td>\n",
       "      <td>0</td>\n",
       "      <td>0</td>\n",
       "      <td>1</td>\n",
       "      <td>0</td>\n",
       "    </tr>\n",
       "  </tbody>\n",
       "</table>\n",
       "<p>5226 rows × 14 columns</p>\n",
       "</div>"
      ],
      "text/plain": [
       "       SKU  Store  CategoryId  ClusterId  DaysOpen  Elasticity  \\\n",
       "2     5320   2834        2491       1055     856.0   -1.711069   \n",
       "3      738   2834        2849        470     856.0   -2.532597   \n",
       "5     1948   2834        2489        466     856.0   -2.078973   \n",
       "6     5899   2834        2495         46     856.0   -0.960302   \n",
       "7     7396   2834        2496        457     856.0   -0.888237   \n",
       "...    ...    ...         ...        ...       ...         ...   \n",
       "9990  1946   1139        2489        466    1528.0   -1.020101   \n",
       "9991   490   1108        2489        466    2243.0   -1.659158   \n",
       "9994  7398   1173        2692        455    1303.0   -7.230105   \n",
       "9995  7396   1089        2496        457    4467.0   -1.055770   \n",
       "9997  1554   1091        2561         28    4601.0   -6.179434   \n",
       "\n",
       "      MedianElastCategory  MedianElastStores  ВО  ВОЛОГДА  ИНТЕРНЕТМАГАЗИН  \\\n",
       "2               -1.725599          -2.521124   0        0                1   \n",
       "3               -2.306946          -2.513789   0        0                1   \n",
       "5               -3.315881          -2.517839   0        0                1   \n",
       "6               -4.259721          -2.527827   0        0                1   \n",
       "7               -3.381363          -2.528470   0        0                1   \n",
       "...                   ...                ...  ..      ...              ...   \n",
       "9990            -3.316816          -3.086097   0        0                0   \n",
       "9991            -3.316252          -3.085956   0        0                0   \n",
       "9994            -2.467494          -3.084730   0        0                0   \n",
       "9995            -3.380149          -3.086089   0        0                0   \n",
       "9997            -3.229436          -3.084962   0        0                0   \n",
       "\n",
       "      ЛО  СПБ  ЧЕРЕПОВЕЦ  \n",
       "2      0    0          0  \n",
       "3      0    0          0  \n",
       "5      0    0          0  \n",
       "6      0    0          0  \n",
       "7      0    0          0  \n",
       "...   ..  ...        ...  \n",
       "9990   0    1          0  \n",
       "9991   0    1          0  \n",
       "9994   0    1          0  \n",
       "9995   0    1          0  \n",
       "9997   0    1          0  \n",
       "\n",
       "[5226 rows x 14 columns]"
      ]
     },
     "execution_count": 145,
     "metadata": {},
     "output_type": "execute_result"
    }
   ],
   "source": [
    "Z"
   ]
  },
  {
   "cell_type": "code",
   "execution_count": 146,
   "metadata": {
    "ExecuteTime": {
     "end_time": "2021-05-09T18:20:08.541914Z",
     "start_time": "2021-05-09T18:20:08.532940Z"
    }
   },
   "outputs": [],
   "source": [
    "y = Z['Elasticity'].to_numpy()\n",
    "X = Z.drop('Elasticity',axis = 1)\n",
    "X = X.to_numpy()  "
   ]
  },
  {
   "cell_type": "code",
   "execution_count": 147,
   "metadata": {
    "ExecuteTime": {
     "end_time": "2021-05-09T18:20:10.114740Z",
     "start_time": "2021-05-09T18:20:10.093759Z"
    }
   },
   "outputs": [],
   "source": [
    "from sklearn.model_selection import train_test_split\n",
    "\n",
    "X_train, X_test, y_train, y_test = train_test_split(X, y, test_size=0.1, random_state=42)"
   ]
  },
  {
   "cell_type": "code",
   "execution_count": 148,
   "metadata": {
    "ExecuteTime": {
     "end_time": "2021-05-09T18:20:12.892261Z",
     "start_time": "2021-05-09T18:20:11.429531Z"
    }
   },
   "outputs": [],
   "source": [
    "from sklearn.ensemble import RandomForestRegressor\n",
    "from sklearn.metrics import mean_squared_error\n",
    "rf = RandomForestRegressor()\n",
    "reg = rf.fit(X_train, y_train)"
   ]
  },
  {
   "cell_type": "code",
   "execution_count": 149,
   "metadata": {
    "ExecuteTime": {
     "end_time": "2021-05-09T18:20:27.454143Z",
     "start_time": "2021-05-09T18:20:27.419237Z"
    }
   },
   "outputs": [
    {
     "data": {
      "text/plain": [
       "0.024758782340093932"
      ]
     },
     "execution_count": 149,
     "metadata": {},
     "output_type": "execute_result"
    }
   ],
   "source": [
    "mean_squared_error(y_test, reg.predict(X_test))"
   ]
  },
  {
   "cell_type": "code",
   "execution_count": 150,
   "metadata": {
    "ExecuteTime": {
     "end_time": "2021-05-09T18:20:35.809459Z",
     "start_time": "2021-05-09T18:20:35.623006Z"
    }
   },
   "outputs": [
    {
     "data": {
      "text/plain": [
       "Text(0, 0.5, 'Predictions')"
      ]
     },
     "execution_count": 150,
     "metadata": {},
     "output_type": "execute_result"
    },
    {
     "data": {
      "image/png": "[encoded data removed]",
      "text/plain": [
       "<Figure size 432x288 with 1 Axes>"
      ]
     },
     "metadata": {
      "needs_background": "light"
     },
     "output_type": "display_data"
    }
   ],
   "source": [
    "plt.scatter(y_test, reg.predict(X_test))\n",
    "plt.xlabel(\"True Values\")\n",
    "plt.ylabel(\"Predictions\")"
   ]
  },
  {
   "cell_type": "markdown",
   "metadata": {},
   "source": [
    "# RandomForest"
   ]
  },
  {
   "cell_type": "markdown",
   "metadata": {},
   "source": [
    "## подбор гипер параметров"
   ]
  },
  {
   "cell_type": "code",
   "execution_count": 151,
   "metadata": {
    "ExecuteTime": {
     "end_time": "2021-05-09T18:43:25.284238Z",
     "start_time": "2021-05-09T18:39:57.201753Z"
    }
   },
   "outputs": [
    {
     "name": "stdout",
     "output_type": "stream",
     "text": [
      "Fitting 6 folds for each of 144 candidates, totalling 864 fits\n"
     ]
    },
    {
     "name": "stderr",
     "output_type": "stream",
     "text": [
      "[Parallel(n_jobs=-1)]: Using backend LokyBackend with 8 concurrent workers.\n",
      "[Parallel(n_jobs=-1)]: Done  25 tasks      | elapsed:    4.7s\n",
      "[Parallel(n_jobs=-1)]: Done 146 tasks      | elapsed:   23.7s\n",
      "[Parallel(n_jobs=-1)]: Done 349 tasks      | elapsed:  1.1min\n",
      "[Parallel(n_jobs=-1)]: Done 632 tasks      | elapsed:  2.3min\n",
      "[Parallel(n_jobs=-1)]: Done 864 out of 864 | elapsed:  3.4min finished\n"
     ]
    },
    {
     "name": "stdout",
     "output_type": "stream",
     "text": [
      "{'bootstrap': True, 'max_depth': 4, 'min_samples_leaf': 4, 'min_samples_split': 8, 'n_estimators': 150}\n",
      "0.18611924554069262\n"
     ]
    },
    {
     "data": {
      "image/png": "[encoded data removed]",
      "text/plain": [
       "<Figure size 792x576 with 1 Axes>"
      ]
     },
     "metadata": {
      "needs_background": "light"
     },
     "output_type": "display_data"
    }
   ],
   "source": [
    "from sklearn.model_selection import GridSearchCV\n",
    "import seaborn as sns\n",
    "import pandas as pd\n",
    "\n",
    "def plot_cv_results(cv_results, param_x, param_z, metric='mean_test_score'):\n",
    "    \"\"\"\n",
    "    cv_results - cv_results_ attribute of a GridSearchCV instance (or similar)\n",
    "    param_x - name of grid search parameter to plot on x axis\n",
    "    param_z - name of grid search parameter to plot by line color\n",
    "    \"\"\"\n",
    "    cv_results = pd.DataFrame(cv_results)\n",
    "    col_x = 'param_' + param_x\n",
    "    col_z = 'param_' + param_z\n",
    "    fig, ax = plt.subplots(1, 1, figsize=(11, 8))\n",
    "    sns.pointplot(x=col_x, y=metric, hue=col_z, data=cv_results, ci=99, n_boot=64, ax=ax)\n",
    "    ax.set_title(\"CV Grid Search Results\")\n",
    "    ax.set_xlabel(param_x)\n",
    "    ax.set_ylabel(metric)\n",
    "    ax.legend(title=param_z)\n",
    "    return fig\n",
    "\n",
    "param_grid = {\n",
    "    'bootstrap': [True],\n",
    "    'max_depth': [2, 3, 4], \n",
    "    'min_samples_leaf': [2,3,4],\n",
    "    'min_samples_split': [5, 6, 7, 8],\n",
    "    'n_estimators': [100,150,200,250]\n",
    "}\n",
    "# Create a based model\n",
    "\n",
    "# Instantiate the grid search model\n",
    "grid_search = GridSearchCV(estimator = rf, param_grid = param_grid, \n",
    "                          cv = 6, n_jobs = -1, verbose = 2)\n",
    "\n",
    "grid_search.fit(X_train, y_train)\n",
    "print(grid_search.best_params_)\n",
    "\n",
    "#fig, axs = plt.subplots(figsize=(16, 5), ncols=4)\n",
    "\n",
    "\n",
    "print(mean_squared_error(y_test, grid_search.predict(X_test)))\n",
    "fig = plot_cv_results(grid_search.cv_results_, 'n_estimators', 'min_samples_split')"
   ]
  },
  {
   "cell_type": "code",
   "execution_count": 152,
   "metadata": {
    "ExecuteTime": {
     "end_time": "2021-05-09T18:43:26.828968Z",
     "start_time": "2021-05-09T18:43:26.660551Z"
    }
   },
   "outputs": [
    {
     "data": {
      "text/plain": [
       "Text(0, 0.5, 'Predictions')"
      ]
     },
     "execution_count": 152,
     "metadata": {},
     "output_type": "execute_result"
    },
    {
     "data": {
      "image/png": "[encoded data removed]",
      "text/plain": [
       "<Figure size 432x288 with 1 Axes>"
      ]
     },
     "metadata": {
      "needs_background": "light"
     },
     "output_type": "display_data"
    }
   ],
   "source": [
    "plt.scatter(y_test, grid_search.predict(X_test))\n",
    "plt.xlabel(\"True Values\")\n",
    "plt.ylabel(\"Predictions\")"
   ]
  },
  {
   "cell_type": "markdown",
   "metadata": {},
   "source": [
    "## MSE, Графики на кросс-вале"
   ]
  },
  {
   "cell_type": "code",
   "execution_count": 153,
   "metadata": {
    "ExecuteTime": {
     "end_time": "2021-05-09T19:04:56.681622Z",
     "start_time": "2021-05-09T18:43:28.113994Z"
    }
   },
   "outputs": [
    {
     "name": "stdout",
     "output_type": "stream",
     "text": [
      "Fitting 6 folds for each of 144 candidates, totalling 864 fits\n"
     ]
    },
    {
     "name": "stderr",
     "output_type": "stream",
     "text": [
      "[Parallel(n_jobs=-1)]: Using backend LokyBackend with 8 concurrent workers.\n",
      "[Parallel(n_jobs=-1)]: Done  25 tasks      | elapsed:    4.9s\n",
      "[Parallel(n_jobs=-1)]: Done 146 tasks      | elapsed:   28.2s\n",
      "[Parallel(n_jobs=-1)]: Done 349 tasks      | elapsed:  1.2min\n",
      "[Parallel(n_jobs=-1)]: Done 632 tasks      | elapsed:  2.4min\n",
      "[Parallel(n_jobs=-1)]: Done 864 out of 864 | elapsed:  3.5min finished\n"
     ]
    },
    {
     "name": "stdout",
     "output_type": "stream",
     "text": [
      "MSE : 1\n",
      "1.3551551808481916\n",
      "Fitting 6 folds for each of 144 candidates, totalling 864 fits\n"
     ]
    },
    {
     "name": "stderr",
     "output_type": "stream",
     "text": [
      "[Parallel(n_jobs=-1)]: Using backend LokyBackend with 8 concurrent workers.\n",
      "[Parallel(n_jobs=-1)]: Done  25 tasks      | elapsed:    4.7s\n",
      "[Parallel(n_jobs=-1)]: Done 146 tasks      | elapsed:   26.6s\n",
      "[Parallel(n_jobs=-1)]: Done 349 tasks      | elapsed:  1.2min\n",
      "[Parallel(n_jobs=-1)]: Done 632 tasks      | elapsed:  2.4min\n",
      "[Parallel(n_jobs=-1)]: Done 864 out of 864 | elapsed:  3.6min finished\n"
     ]
    },
    {
     "name": "stdout",
     "output_type": "stream",
     "text": [
      "MSE : 2\n",
      "0.27122424288004954\n",
      "Fitting 6 folds for each of 144 candidates, totalling 864 fits\n"
     ]
    },
    {
     "name": "stderr",
     "output_type": "stream",
     "text": [
      "[Parallel(n_jobs=-1)]: Using backend LokyBackend with 8 concurrent workers.\n",
      "[Parallel(n_jobs=-1)]: Done  25 tasks      | elapsed:    5.4s\n",
      "[Parallel(n_jobs=-1)]: Done 146 tasks      | elapsed:   30.5s\n",
      "[Parallel(n_jobs=-1)]: Done 349 tasks      | elapsed:  1.3min\n",
      "[Parallel(n_jobs=-1)]: Done 632 tasks      | elapsed:  2.6min\n",
      "[Parallel(n_jobs=-1)]: Done 864 out of 864 | elapsed:  3.7min finished\n"
     ]
    },
    {
     "name": "stdout",
     "output_type": "stream",
     "text": [
      "MSE : 3\n",
      "0.23833117535957463\n",
      "Fitting 6 folds for each of 144 candidates, totalling 864 fits\n"
     ]
    },
    {
     "name": "stderr",
     "output_type": "stream",
     "text": [
      "[Parallel(n_jobs=-1)]: Using backend LokyBackend with 8 concurrent workers.\n",
      "[Parallel(n_jobs=-1)]: Done  25 tasks      | elapsed:    4.8s\n",
      "[Parallel(n_jobs=-1)]: Done 146 tasks      | elapsed:   30.2s\n",
      "[Parallel(n_jobs=-1)]: Done 349 tasks      | elapsed:  1.3min\n",
      "[Parallel(n_jobs=-1)]: Done 632 tasks      | elapsed:  2.4min\n",
      "[Parallel(n_jobs=-1)]: Done 864 out of 864 | elapsed:  3.6min finished\n"
     ]
    },
    {
     "name": "stdout",
     "output_type": "stream",
     "text": [
      "MSE : 4\n",
      "0.35137373374891273\n",
      "Fitting 6 folds for each of 144 candidates, totalling 864 fits\n"
     ]
    },
    {
     "name": "stderr",
     "output_type": "stream",
     "text": [
      "[Parallel(n_jobs=-1)]: Using backend LokyBackend with 8 concurrent workers.\n",
      "[Parallel(n_jobs=-1)]: Done  25 tasks      | elapsed:    4.8s\n",
      "[Parallel(n_jobs=-1)]: Done 146 tasks      | elapsed:   28.3s\n",
      "[Parallel(n_jobs=-1)]: Done 349 tasks      | elapsed:  1.2min\n",
      "[Parallel(n_jobs=-1)]: Done 632 tasks      | elapsed:  2.4min\n",
      "[Parallel(n_jobs=-1)]: Done 864 out of 864 | elapsed:  3.5min finished\n"
     ]
    },
    {
     "name": "stdout",
     "output_type": "stream",
     "text": [
      "MSE : 5\n",
      "0.3451690784828837\n",
      "Fitting 6 folds for each of 144 candidates, totalling 864 fits\n"
     ]
    },
    {
     "name": "stderr",
     "output_type": "stream",
     "text": [
      "[Parallel(n_jobs=-1)]: Using backend LokyBackend with 8 concurrent workers.\n",
      "[Parallel(n_jobs=-1)]: Done  25 tasks      | elapsed:    5.2s\n",
      "[Parallel(n_jobs=-1)]: Done 146 tasks      | elapsed:   29.7s\n",
      "[Parallel(n_jobs=-1)]: Done 349 tasks      | elapsed:  1.2min\n",
      "[Parallel(n_jobs=-1)]: Done 632 tasks      | elapsed:  2.4min\n",
      "[Parallel(n_jobs=-1)]: Done 864 out of 864 | elapsed:  3.5min finished\n"
     ]
    },
    {
     "name": "stdout",
     "output_type": "stream",
     "text": [
      "MSE : 6\n",
      "0.29701197607279006\n"
     ]
    },
    {
     "data": {
      "image/png": "[encoded data removed]",
      "text/plain": [
       "<Figure size 800x640 with 6 Axes>"
      ]
     },
     "metadata": {
      "needs_background": "light"
     },
     "output_type": "display_data"
    }
   ],
   "source": [
    "from sklearn.model_selection import KFold\n",
    "kf = KFold(n_splits=6)\n",
    "kf.get_n_splits(X)\n",
    "\n",
    "\n",
    "plt.figure(figsize=(10,8), dpi= 80)\n",
    "\n",
    "i = 0\n",
    "for train_index, test_index in kf.split(X):\n",
    "    #print(\"TRAIN:\", train_index, \"TEST:\", test_index)\n",
    "    X_cross, X_test = X[train_index], X[test_index]\n",
    "    y_cross, y_test = y[train_index], y[test_index]\n",
    "    grid_search.fit(X_cross, y_cross)\n",
    "    print(\"MSE :\", i+1)\n",
    "    print(mean_squared_error(y_test, grid_search.predict(X_test)))\n",
    "    plt.subplot(321 + i)\n",
    "    plt.scatter(y_test, grid_search.predict(X_test))\n",
    "    i += 1\n",
    "    plt.xlabel(\"True Values\")\n",
    "    plt.ylabel(\"Predictions\")\n",
    "\n",
    "plt.show()\n"
   ]
  },
  {
   "cell_type": "markdown",
   "metadata": {},
   "source": [
    "# Catboost"
   ]
  },
  {
   "cell_type": "markdown",
   "metadata": {},
   "source": [
    "## Подбор гиперпараметров"
   ]
  },
  {
   "cell_type": "code",
   "execution_count": 154,
   "metadata": {
    "ExecuteTime": {
     "end_time": "2021-05-09T19:07:38.887499Z",
     "start_time": "2021-05-09T19:04:58.161060Z"
    }
   },
   "outputs": [
    {
     "name": "stdout",
     "output_type": "stream",
     "text": [
      "Fitting 6 folds for each of 18 candidates, totalling 108 fits\n"
     ]
    },
    {
     "name": "stderr",
     "output_type": "stream",
     "text": [
      "[Parallel(n_jobs=-1)]: Using backend LokyBackend with 8 concurrent workers.\n",
      "[Parallel(n_jobs=-1)]: Done  25 tasks      | elapsed:   41.1s\n",
      "[Parallel(n_jobs=-1)]: Done 108 out of 108 | elapsed:  2.6min finished\n"
     ]
    },
    {
     "name": "stdout",
     "output_type": "stream",
     "text": [
      "{'bagging_temperature': 1, 'bootstrap_type': 'Bayesian', 'learning_rate': 0.03}\n",
      "0.02903012416536656\n"
     ]
    },
    {
     "data": {
      "image/png": "[encoded data removed]",
      "text/plain": [
       "<Figure size 792x576 with 1 Axes>"
      ]
     },
     "metadata": {
      "needs_background": "light"
     },
     "output_type": "display_data"
    }
   ],
   "source": [
    "from catboost import CatBoostRegressor\n",
    "from sklearn.model_selection import cross_val_score\n",
    "# Create a based model\n",
    "cb = CatBoostRegressor(verbose=False)\n",
    "# Instantiate the grid search model\n",
    "param_grid = {\n",
    "    'learning_rate': [0.001, 0.003, 0.01, 0.03, 0.1, 0.3],\n",
    "    'bootstrap_type':['Bayesian'],\n",
    "    'bagging_temperature': [0, 1, 10]\n",
    "}\n",
    "grid_search = GridSearchCV(estimator = cb, param_grid = param_grid, \n",
    "                          cv = 6, n_jobs = -1, verbose = 2)\n",
    "\n",
    "grid_search.fit(X_train, y_train)\n",
    "print(grid_search.best_params_)\n",
    "\n",
    "#fig, axs = plt.subplots(figsize=(16, 5), ncols=4)\n",
    "\n",
    "print(mean_squared_error(y_test, grid_search.predict(X_test)))\n",
    "\n",
    "\n",
    "fig = plot_cv_results(grid_search.cv_results_, 'learning_rate', 'bagging_temperature')"
   ]
  },
  {
   "cell_type": "markdown",
   "metadata": {},
   "source": [
    "## Сделаем честный кросс-вал"
   ]
  },
  {
   "cell_type": "code",
   "execution_count": 155,
   "metadata": {
    "ExecuteTime": {
     "end_time": "2021-05-09T19:21:46.684944Z",
     "start_time": "2021-05-09T19:07:40.885543Z"
    }
   },
   "outputs": [
    {
     "name": "stdout",
     "output_type": "stream",
     "text": [
      "Fitting 6 folds for each of 18 candidates, totalling 108 fits\n"
     ]
    },
    {
     "name": "stderr",
     "output_type": "stream",
     "text": [
      "[Parallel(n_jobs=-1)]: Using backend LokyBackend with 8 concurrent workers.\n",
      "[Parallel(n_jobs=-1)]: Done  25 tasks      | elapsed:   42.0s\n",
      "[Parallel(n_jobs=-1)]: Done 108 out of 108 | elapsed:  2.8min finished\n"
     ]
    },
    {
     "name": "stdout",
     "output_type": "stream",
     "text": [
      "MSE : 1\n",
      "0.9225748430257013\n",
      "Fitting 6 folds for each of 18 candidates, totalling 108 fits\n"
     ]
    },
    {
     "name": "stderr",
     "output_type": "stream",
     "text": [
      "[Parallel(n_jobs=-1)]: Using backend LokyBackend with 8 concurrent workers.\n",
      "[Parallel(n_jobs=-1)]: Done  25 tasks      | elapsed:   41.6s\n",
      "[Parallel(n_jobs=-1)]: Done 108 out of 108 | elapsed:  2.6min finished\n"
     ]
    },
    {
     "name": "stdout",
     "output_type": "stream",
     "text": [
      "MSE : 2\n",
      "0.0903265288360786\n",
      "Fitting 6 folds for each of 18 candidates, totalling 108 fits\n"
     ]
    },
    {
     "name": "stderr",
     "output_type": "stream",
     "text": [
      "[Parallel(n_jobs=-1)]: Using backend LokyBackend with 8 concurrent workers.\n",
      "[Parallel(n_jobs=-1)]: Done  25 tasks      | elapsed:   43.3s\n",
      "[Parallel(n_jobs=-1)]: Done 108 out of 108 | elapsed:  2.3min finished\n"
     ]
    },
    {
     "name": "stdout",
     "output_type": "stream",
     "text": [
      "MSE : 3\n",
      "0.045401726085920815\n",
      "Fitting 6 folds for each of 18 candidates, totalling 108 fits\n"
     ]
    },
    {
     "name": "stderr",
     "output_type": "stream",
     "text": [
      "[Parallel(n_jobs=-1)]: Using backend LokyBackend with 8 concurrent workers.\n",
      "[Parallel(n_jobs=-1)]: Done  25 tasks      | elapsed:   30.7s\n",
      "[Parallel(n_jobs=-1)]: Done 108 out of 108 | elapsed:  2.1min finished\n"
     ]
    },
    {
     "name": "stdout",
     "output_type": "stream",
     "text": [
      "MSE : 4\n",
      "0.036471253854502055\n",
      "Fitting 6 folds for each of 18 candidates, totalling 108 fits\n"
     ]
    },
    {
     "name": "stderr",
     "output_type": "stream",
     "text": [
      "[Parallel(n_jobs=-1)]: Using backend LokyBackend with 8 concurrent workers.\n",
      "[Parallel(n_jobs=-1)]: Done  25 tasks      | elapsed:   32.4s\n",
      "[Parallel(n_jobs=-1)]: Done 108 out of 108 | elapsed:  2.0min finished\n"
     ]
    },
    {
     "name": "stdout",
     "output_type": "stream",
     "text": [
      "MSE : 5\n",
      "0.039083046867482\n",
      "Fitting 6 folds for each of 18 candidates, totalling 108 fits\n"
     ]
    },
    {
     "name": "stderr",
     "output_type": "stream",
     "text": [
      "[Parallel(n_jobs=-1)]: Using backend LokyBackend with 8 concurrent workers.\n",
      "[Parallel(n_jobs=-1)]: Done  25 tasks      | elapsed:   32.2s\n",
      "[Parallel(n_jobs=-1)]: Done 108 out of 108 | elapsed:  2.0min finished\n"
     ]
    },
    {
     "name": "stdout",
     "output_type": "stream",
     "text": [
      "MSE : 6\n",
      "0.054047048886013645\n"
     ]
    },
    {
     "data": {
      "image/png": "[encoded data removed]",
      "text/plain": [
       "<Figure size 800x640 with 6 Axes>"
      ]
     },
     "metadata": {
      "needs_background": "light"
     },
     "output_type": "display_data"
    }
   ],
   "source": [
    "import seaborn as sns\n",
    "from catboost import CatBoostRegressor\n",
    "from sklearn.model_selection import cross_val_score, KFold\n",
    "\n",
    "\n",
    "# Instantiate the grid search model\n",
    "\n",
    "kf = KFold(n_splits=6)\n",
    "kf.get_n_splits(X)\n",
    "\n",
    "\n",
    "plt.figure(figsize=(10,8), dpi= 80)\n",
    "\n",
    "i = 0\n",
    "for train_index, test_index in kf.split(X):\n",
    "    #print(\"TRAIN:\", train_index, \"TEST:\", test_index)\n",
    "    X_cross, X_test = X[train_index], X[test_index]\n",
    "    y_cross, y_test = y[train_index], y[test_index]\n",
    "    grid_search.fit(X_cross, y_cross)\n",
    "    print(\"MSE :\", i+1)\n",
    "    print(mean_squared_error(y_test, grid_search.predict(X_test)))\n",
    "    plt.subplot(321 + i)\n",
    "    plt.scatter(y_test, grid_search.predict(X_test))\n",
    "    i += 1\n",
    "    plt.xlabel(\"True Values\")\n",
    "    plt.ylabel(\"Predictions\")\n",
    "\n",
    "plt.show()\n"
   ]
  },
  {
   "cell_type": "markdown",
   "metadata": {},
   "source": [
    "# XGBoost"
   ]
  },
  {
   "cell_type": "markdown",
   "metadata": {},
   "source": [
    "## Подбор гиперпараметров"
   ]
  },
  {
   "cell_type": "code",
   "execution_count": 156,
   "metadata": {
    "ExecuteTime": {
     "end_time": "2021-05-09T19:22:18.404913Z",
     "start_time": "2021-05-09T19:21:47.909722Z"
    }
   },
   "outputs": [
    {
     "name": "stdout",
     "output_type": "stream",
     "text": [
      "Fitting 6 folds for each of 54 candidates, totalling 324 fits\n"
     ]
    },
    {
     "name": "stderr",
     "output_type": "stream",
     "text": [
      "[Parallel(n_jobs=-1)]: Using backend LokyBackend with 8 concurrent workers.\n",
      "[Parallel(n_jobs=-1)]: Done  25 tasks      | elapsed:    2.7s\n",
      "[Parallel(n_jobs=-1)]: Done 146 tasks      | elapsed:   13.4s\n",
      "[Parallel(n_jobs=-1)]: Done 324 out of 324 | elapsed:   28.9s finished\n"
     ]
    },
    {
     "name": "stdout",
     "output_type": "stream",
     "text": [
      "{'gamma': 0.003, 'max_depth': 4, 'min_child_weight': 2}\n",
      "0.026373067651712444\n"
     ]
    },
    {
     "data": {
      "image/png": "[encoded data removed]",
      "text/plain": [
       "<Figure size 792x576 with 1 Axes>"
      ]
     },
     "metadata": {
      "needs_background": "light"
     },
     "output_type": "display_data"
    }
   ],
   "source": [
    "from xgboost import XGBRegressor\n",
    "\n",
    "\n",
    "xgb = XGBRegressor(nthread=-1)\n",
    "\n",
    "param_grid = {\n",
    "    'max_depth': [2, 3, 4],\n",
    "    'min_child_weight':[1,2,3],\n",
    "    'gamma':[0.001, 0.003, 0.01, 0.03, 0.1, 0.3],\n",
    "}\n",
    "\n",
    "\n",
    "grid_search = GridSearchCV(estimator = xgb, param_grid = param_grid, \n",
    "                          cv = 6, n_jobs = -1, verbose = 2)\n",
    "\n",
    "grid_search.fit(X_train, y_train)\n",
    "print(grid_search.best_params_)\n",
    "\n",
    "#fig, axs = plt.subplots(figsize=(16, 5), ncols=4)\n",
    "\n",
    "print(mean_squared_error(y_test, grid_search.predict(X_test)))\n",
    "\n",
    "\n",
    "fig = plot_cv_results(grid_search.cv_results_, 'gamma', 'min_child_weight')\n"
   ]
  },
  {
   "cell_type": "markdown",
   "metadata": {},
   "source": [
    "## MSE, Графики cross-val"
   ]
  },
  {
   "cell_type": "code",
   "execution_count": 157,
   "metadata": {
    "ExecuteTime": {
     "end_time": "2021-05-09T19:25:21.491736Z",
     "start_time": "2021-05-09T19:22:18.406818Z"
    }
   },
   "outputs": [
    {
     "name": "stdout",
     "output_type": "stream",
     "text": [
      "Fitting 6 folds for each of 54 candidates, totalling 324 fits\n"
     ]
    },
    {
     "name": "stderr",
     "output_type": "stream",
     "text": [
      "[Parallel(n_jobs=-1)]: Using backend LokyBackend with 8 concurrent workers.\n",
      "[Parallel(n_jobs=-1)]: Done  25 tasks      | elapsed:    2.1s\n",
      "[Parallel(n_jobs=-1)]: Done 146 tasks      | elapsed:   11.8s\n",
      "[Parallel(n_jobs=-1)]: Done 324 out of 324 | elapsed:   26.3s finished\n"
     ]
    },
    {
     "name": "stdout",
     "output_type": "stream",
     "text": [
      "MSE : 1\n",
      "0.4069641440331381\n",
      "Fitting 6 folds for each of 54 candidates, totalling 324 fits\n"
     ]
    },
    {
     "name": "stderr",
     "output_type": "stream",
     "text": [
      "[Parallel(n_jobs=-1)]: Using backend LokyBackend with 8 concurrent workers.\n",
      "[Parallel(n_jobs=-1)]: Done  25 tasks      | elapsed:    2.0s\n",
      "[Parallel(n_jobs=-1)]: Done 146 tasks      | elapsed:   12.3s\n",
      "[Parallel(n_jobs=-1)]: Done 324 out of 324 | elapsed:   27.3s finished\n"
     ]
    },
    {
     "name": "stdout",
     "output_type": "stream",
     "text": [
      "MSE : 2\n",
      "0.059758397639242906\n",
      "Fitting 6 folds for each of 54 candidates, totalling 324 fits\n"
     ]
    },
    {
     "name": "stderr",
     "output_type": "stream",
     "text": [
      "[Parallel(n_jobs=-1)]: Using backend LokyBackend with 8 concurrent workers.\n",
      "[Parallel(n_jobs=-1)]: Done  25 tasks      | elapsed:    2.0s\n",
      "[Parallel(n_jobs=-1)]: Done 146 tasks      | elapsed:   12.3s\n",
      "[Parallel(n_jobs=-1)]: Done 324 out of 324 | elapsed:   26.8s finished\n"
     ]
    },
    {
     "name": "stdout",
     "output_type": "stream",
     "text": [
      "MSE : 3\n",
      "0.030266871618944938\n",
      "Fitting 6 folds for each of 54 candidates, totalling 324 fits\n"
     ]
    },
    {
     "name": "stderr",
     "output_type": "stream",
     "text": [
      "[Parallel(n_jobs=-1)]: Using backend LokyBackend with 8 concurrent workers.\n",
      "[Parallel(n_jobs=-1)]: Done  25 tasks      | elapsed:    2.1s\n",
      "[Parallel(n_jobs=-1)]: Done 146 tasks      | elapsed:   12.0s\n",
      "[Parallel(n_jobs=-1)]: Done 324 out of 324 | elapsed:   30.0s finished\n"
     ]
    },
    {
     "name": "stdout",
     "output_type": "stream",
     "text": [
      "MSE : 4\n",
      "0.04139355306607748\n",
      "Fitting 6 folds for each of 54 candidates, totalling 324 fits\n"
     ]
    },
    {
     "name": "stderr",
     "output_type": "stream",
     "text": [
      "[Parallel(n_jobs=-1)]: Using backend LokyBackend with 8 concurrent workers.\n",
      "[Parallel(n_jobs=-1)]: Done  25 tasks      | elapsed:    3.4s\n",
      "[Parallel(n_jobs=-1)]: Done 146 tasks      | elapsed:   17.7s\n",
      "[Parallel(n_jobs=-1)]: Done 324 out of 324 | elapsed:   37.1s finished\n"
     ]
    },
    {
     "name": "stdout",
     "output_type": "stream",
     "text": [
      "MSE : 5\n",
      "0.013562050317203261\n",
      "Fitting 6 folds for each of 54 candidates, totalling 324 fits\n"
     ]
    },
    {
     "name": "stderr",
     "output_type": "stream",
     "text": [
      "[Parallel(n_jobs=-1)]: Using backend LokyBackend with 8 concurrent workers.\n",
      "[Parallel(n_jobs=-1)]: Done  25 tasks      | elapsed:    2.9s\n",
      "[Parallel(n_jobs=-1)]: Done 146 tasks      | elapsed:   14.4s\n",
      "[Parallel(n_jobs=-1)]: Done 324 out of 324 | elapsed:   32.1s finished\n"
     ]
    },
    {
     "name": "stdout",
     "output_type": "stream",
     "text": [
      "MSE : 6\n",
      "0.032095578747833774\n"
     ]
    },
    {
     "data": {
      "image/png": "[encoded data removed]",
      "text/plain": [
       "<Figure size 800x640 with 6 Axes>"
      ]
     },
     "metadata": {
      "needs_background": "light"
     },
     "output_type": "display_data"
    }
   ],
   "source": [
    "\n",
    "kf = KFold(n_splits=6)\n",
    "kf.get_n_splits(X)\n",
    "\n",
    "\n",
    "plt.figure(figsize=(10,8), dpi= 80)\n",
    "\n",
    "i = 0\n",
    "for train_index, test_index in kf.split(X):\n",
    "    #print(\"TRAIN:\", train_index, \"TEST:\", test_index)\n",
    "    X_cross, X_test = X[train_index], X[test_index]\n",
    "    y_cross, y_test = y[train_index], y[test_index]\n",
    "    grid_search.fit(X_cross, y_cross)\n",
    "    print(\"MSE :\", i+1)\n",
    "    print(mean_squared_error(y_test, grid_search.predict(X_test)))\n",
    "    plt.subplot(321 + i)\n",
    "    plt.scatter(y_test, grid_search.predict(X_test))\n",
    "    i += 1\n",
    "    plt.xlabel(\"True Values\")\n",
    "    plt.ylabel(\"Predictions\")\n",
    "\n",
    "plt.show()"
   ]
  }
 ],
 "metadata": {
  "kernelspec": {
   "display_name": "Python 3",
   "language": "python",
   "name": "python3"
  },
  "language_info": {
   "codemirror_mode": {
    "name": "ipython",
    "version": 3
   },
   "file_extension": ".py",
   "mimetype": "text/x-python",
   "name": "python",
   "nbconvert_exporter": "python",
   "pygments_lexer": "ipython3",
   "version": "3.8.3"
  },
  "nbTranslate": {
   "displayLangs": [
    "*"
   ],
   "hotkey": "alt-t",
   "langInMainMenu": true,
   "sourceLang": "en",
   "targetLang": "fr",
   "useGoogleTranslate": true
  },
  "varInspector": {
   "cols": {
    "lenName": 16,
    "lenType": 16,
    "lenVar": 40
   },
   "kernels_config": {
    "python": {
     "delete_cmd_postfix": "",
     "delete_cmd_prefix": "del ",
     "library": "var_list.py",
     "varRefreshCmd": "print(var_dic_list())"
    },
    "r": {
     "delete_cmd_postfix": ") ",
     "delete_cmd_prefix": "rm(",
     "library": "var_list.r",
     "varRefreshCmd": "cat(var_dic_list()) "
    }
   },
   "types_to_exclude": [
    "module",
    "function",
    "builtin_function_or_method",
    "instance",
    "_Feature"
   ],
   "window_display": false
  }
 },
 "nbformat": 4,
 "nbformat_minor": 4
}
