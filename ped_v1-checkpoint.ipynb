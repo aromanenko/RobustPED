{
 "cells": [
  {
   "cell_type": "code",
   "execution_count": 1,
   "metadata": {},
   "outputs": [],
   "source": [
    "import pandas as pd\n",
    "from pandas import *\n",
    "import statsmodels.api as sm\n",
    "import math\n",
    "from math import *\n",
    "import numpy as np"
   ]
  },
  {
   "cell_type": "code",
   "execution_count": 2,
   "metadata": {},
   "outputs": [],
   "source": [
    "def rule(x, y):\n",
    "    if np.isnan(y):\n",
    "         return x\n",
    "    else:\n",
    "         return y"
   ]
  },
  {
   "cell_type": "code",
   "execution_count": 5,
   "metadata": {},
   "outputs": [],
   "source": [
    "def ped_regression(X,y):\n",
    "    model = sm.OLS(y,X)\n",
    "    return model.fit()"
   ]
  },
  {
   "cell_type": "code",
   "execution_count": 6,
   "metadata": {},
   "outputs": [],
   "source": [
    "def calc_elasticity(m):\n",
    "    elasticity = m.params.copy()\n",
    "    return elasticity"
   ]
  },
  {
   "cell_type": "code",
   "execution_count": 9,
   "metadata": {},
   "outputs": [],
   "source": [
    "def run_experiment (dataset,a,b):\n",
    "    X=dataset[a]\n",
    "    i=0\n",
    "    for element in X:\n",
    "        X[i] = log(element)\n",
    "        i +=1\n",
    "    Y=dataset[b]\n",
    "    j=0\n",
    "    for element in Y:\n",
    "        Y[j] = log(element)\n",
    "        j +=1\n",
    "    m=ped_regression(X,Y)\n",
    "    e=calc_elasticity(m)\n",
    "    return e"
   ]
  },
  {
   "cell_type": "code",
   "execution_count": 11,
   "metadata": {},
   "outputs": [
    {
     "name": "stdout",
     "output_type": "stream",
     "text": [
      "   Store_id  SKU_id       Date  Promo  Demand  Regular_Price  Promo_Price\n",
      "0         1       1 2015-01-01    NaN      22         163.78          NaN\n",
      "1         1       1 2015-01-02    NaN      41         163.78          NaN\n",
      "2         1       1 2015-01-03    NaN      35         163.78          NaN\n",
      "3         1       1 2015-01-04    NaN      72         163.78          NaN\n",
      "4         1       1 2015-01-05    NaN      25         163.78          NaN\n",
      "5         1       1 2015-01-06    NaN      38         163.78          NaN\n",
      "6         1       1 2015-01-07    NaN      31         163.78          NaN\n",
      "7         1       1 2015-01-08    NaN      35         163.78          NaN\n",
      "8         1       1 2015-01-09    NaN      44         163.78          NaN\n",
      "9         1       1 2015-01-10    NaN      38         163.78          NaN\n",
      "   Store_id  SKU_id       Date  Demand   Price\n",
      "0         1       1 2015-01-01      22  163.78\n",
      "1         1       1 2015-01-02      41  163.78\n"
     ]
    }
   ],
   "source": [
    "data = pd.read_csv('C:/Users/ruseis/Desktop/Личное/УЧЕБА/ДИПЛОМ/data/train1.csv', sep=';',\n",
    "                 header=0,\n",
    "                 parse_dates=['Date'], dayfirst=True)\n",
    "\n",
    "print(data.head(10))\n",
    "\n",
    "data['Price'] = data.apply(lambda x: rule(x['Regular_Price'], x['Promo_Price']), axis =  1)\n",
    "del data['Regular_Price']\n",
    "del data['Promo_Price']\n",
    "del data['Promo']\n",
    "print(data.head(2))"
   ]
  },
  {
   "cell_type": "code",
   "execution_count": 12,
   "metadata": {},
   "outputs": [
    {
     "name": "stderr",
     "output_type": "stream",
     "text": [
      "<ipython-input-9-b1d52e432095>:5: SettingWithCopyWarning: \n",
      "A value is trying to be set on a copy of a slice from a DataFrame\n",
      "\n",
      "See the caveats in the documentation: https://pandas.pydata.org/pandas-docs/stable/user_guide/indexing.html#returning-a-view-versus-a-copy\n",
      "  X[i] = log(element)\n",
      "<ipython-input-9-b1d52e432095>:10: SettingWithCopyWarning: \n",
      "A value is trying to be set on a copy of a slice from a DataFrame\n",
      "\n",
      "See the caveats in the documentation: https://pandas.pydata.org/pandas-docs/stable/user_guide/indexing.html#returning-a-view-versus-a-copy\n",
      "  Y[j] = log(element)\n"
     ]
    },
    {
     "data": {
      "text/plain": [
       "Price    0.611442\n",
       "dtype: float64"
      ]
     },
     "execution_count": 12,
     "metadata": {},
     "output_type": "execute_result"
    }
   ],
   "source": [
    "run_experiment(data,'Price','Demand')"
   ]
  },
  {
   "cell_type": "code",
   "execution_count": null,
   "metadata": {},
   "outputs": [],
   "source": []
  }
 ],
 "metadata": {
  "kernelspec": {
   "display_name": "Python 3",
   "language": "python",
   "name": "python3"
  },
  "language_info": {
   "codemirror_mode": {
    "name": "ipython",
    "version": 3
   },
   "file_extension": ".py",
   "mimetype": "text/x-python",
   "name": "python",
   "nbconvert_exporter": "python",
   "pygments_lexer": "ipython3",
   "version": "3.8.3"
  }
 },
 "nbformat": 4,
 "nbformat_minor": 4
}
