{
 "cells": [
  {
   "cell_type": "code",
   "execution_count": 1,
   "metadata": {
    "ExecuteTime": {
     "end_time": "2021-04-07T11:18:20.783619Z",
     "start_time": "2021-04-07T11:18:14.596342Z"
    }
   },
   "outputs": [],
   "source": [
    "import pandas as pd\n",
    "import numpy as np\n",
    "import statsmodels.api as sm\n",
    "import matplotlib.pyplot as plt\n",
    "import gc\n",
    "import sys\n",
    "from statsmodels.formula.api import ols\n",
    "from IPython.display import clear_output\n",
    "from numba import njit, jit"
   ]
  },
  {
   "cell_type": "code",
   "execution_count": 23,
   "metadata": {
    "ExecuteTime": {
     "end_time": "2021-04-07T13:20:31.034713Z",
     "start_time": "2021-04-07T13:20:09.056516Z"
    },
    "scrolled": true
   },
   "outputs": [
    {
     "data": {
      "text/html": [
       "<div>\n",
       "<style scoped>\n",
       "    .dataframe tbody tr th:only-of-type {\n",
       "        vertical-align: middle;\n",
       "    }\n",
       "\n",
       "    .dataframe tbody tr th {\n",
       "        vertical-align: top;\n",
       "    }\n",
       "\n",
       "    .dataframe thead th {\n",
       "        text-align: right;\n",
       "    }\n",
       "</style>\n",
       "<table border=\"1\" class=\"dataframe\">\n",
       "  <thead>\n",
       "    <tr style=\"text-align: right;\">\n",
       "      <th></th>\n",
       "      <th>Store_ID</th>\n",
       "      <th>SKU_ID</th>\n",
       "      <th>Date</th>\n",
       "      <th>Sales</th>\n",
       "      <th>Demand</th>\n",
       "      <th>Regular_Price</th>\n",
       "    </tr>\n",
       "  </thead>\n",
       "  <tbody>\n",
       "    <tr>\n",
       "      <th>0</th>\n",
       "      <td>1100</td>\n",
       "      <td>114</td>\n",
       "      <td>01JAN2019</td>\n",
       "      <td>0.0</td>\n",
       "      <td>1.0</td>\n",
       "      <td>51.0</td>\n",
       "    </tr>\n",
       "    <tr>\n",
       "      <th>1</th>\n",
       "      <td>1078</td>\n",
       "      <td>114</td>\n",
       "      <td>01JAN2019</td>\n",
       "      <td>0.0</td>\n",
       "      <td>2.0</td>\n",
       "      <td>51.0</td>\n",
       "    </tr>\n",
       "    <tr>\n",
       "      <th>2</th>\n",
       "      <td>1191</td>\n",
       "      <td>114</td>\n",
       "      <td>01JAN2019</td>\n",
       "      <td>0.0</td>\n",
       "      <td>2.0</td>\n",
       "      <td>53.0</td>\n",
       "    </tr>\n",
       "    <tr>\n",
       "      <th>3</th>\n",
       "      <td>2230</td>\n",
       "      <td>114</td>\n",
       "      <td>01JAN2019</td>\n",
       "      <td>0.0</td>\n",
       "      <td>1.0</td>\n",
       "      <td>40.0</td>\n",
       "    </tr>\n",
       "    <tr>\n",
       "      <th>4</th>\n",
       "      <td>1120</td>\n",
       "      <td>114</td>\n",
       "      <td>01JAN2019</td>\n",
       "      <td>0.0</td>\n",
       "      <td>1.0</td>\n",
       "      <td>53.0</td>\n",
       "    </tr>\n",
       "  </tbody>\n",
       "</table>\n",
       "</div>"
      ],
      "text/plain": [
       "   Store_ID  SKU_ID       Date  Sales  Demand  Regular_Price\n",
       "0      1100     114  01JAN2019    0.0     1.0           51.0\n",
       "1      1078     114  01JAN2019    0.0     2.0           51.0\n",
       "2      1191     114  01JAN2019    0.0     2.0           53.0\n",
       "3      2230     114  01JAN2019    0.0     1.0           40.0\n",
       "4      1120     114  01JAN2019    0.0     1.0           53.0"
      ]
     },
     "execution_count": 23,
     "metadata": {},
     "output_type": "execute_result"
    }
   ],
   "source": [
    "df = pd.read_csv('DATA_WITH_SALES.csv', sep=';')\n",
    "df = df[df.Stock > 0]\n",
    "df.rename(columns={'Stock': 'Demand'}, inplace=True)\n",
    "\n",
    "df.head(n=5)"
   ]
  },
  {
   "cell_type": "code",
   "execution_count": 24,
   "metadata": {
    "ExecuteTime": {
     "end_time": "2021-04-07T13:20:33.389329Z",
     "start_time": "2021-04-07T13:20:31.407561Z"
    }
   },
   "outputs": [],
   "source": [
    "popular_pairs = df.groupby(['SKU_ID', 'Store_ID']).size().reset_index(name='counts').sort_values(by='counts', ascending=False).reset_index(drop=True)"
   ]
  },
  {
   "cell_type": "code",
   "execution_count": 25,
   "metadata": {
    "ExecuteTime": {
     "end_time": "2021-04-07T13:20:33.763827Z",
     "start_time": "2021-04-07T13:20:33.734870Z"
    }
   },
   "outputs": [
    {
     "data": {
      "text/html": [
       "<div>\n",
       "<style scoped>\n",
       "    .dataframe tbody tr th:only-of-type {\n",
       "        vertical-align: middle;\n",
       "    }\n",
       "\n",
       "    .dataframe tbody tr th {\n",
       "        vertical-align: top;\n",
       "    }\n",
       "\n",
       "    .dataframe thead th {\n",
       "        text-align: right;\n",
       "    }\n",
       "</style>\n",
       "<table border=\"1\" class=\"dataframe\">\n",
       "  <thead>\n",
       "    <tr style=\"text-align: right;\">\n",
       "      <th></th>\n",
       "      <th>SKU_ID</th>\n",
       "      <th>Store_ID</th>\n",
       "      <th>counts</th>\n",
       "    </tr>\n",
       "  </thead>\n",
       "  <tbody>\n",
       "    <tr>\n",
       "      <th>0</th>\n",
       "      <td>98692</td>\n",
       "      <td>1098</td>\n",
       "      <td>90</td>\n",
       "    </tr>\n",
       "    <tr>\n",
       "      <th>1</th>\n",
       "      <td>97140</td>\n",
       "      <td>1090</td>\n",
       "      <td>90</td>\n",
       "    </tr>\n",
       "    <tr>\n",
       "      <th>2</th>\n",
       "      <td>97140</td>\n",
       "      <td>1087</td>\n",
       "      <td>90</td>\n",
       "    </tr>\n",
       "    <tr>\n",
       "      <th>3</th>\n",
       "      <td>97140</td>\n",
       "      <td>1086</td>\n",
       "      <td>90</td>\n",
       "    </tr>\n",
       "    <tr>\n",
       "      <th>4</th>\n",
       "      <td>97140</td>\n",
       "      <td>1085</td>\n",
       "      <td>90</td>\n",
       "    </tr>\n",
       "    <tr>\n",
       "      <th>5</th>\n",
       "      <td>97140</td>\n",
       "      <td>1084</td>\n",
       "      <td>90</td>\n",
       "    </tr>\n",
       "    <tr>\n",
       "      <th>6</th>\n",
       "      <td>97140</td>\n",
       "      <td>1083</td>\n",
       "      <td>90</td>\n",
       "    </tr>\n",
       "    <tr>\n",
       "      <th>7</th>\n",
       "      <td>97140</td>\n",
       "      <td>1081</td>\n",
       "      <td>90</td>\n",
       "    </tr>\n",
       "    <tr>\n",
       "      <th>8</th>\n",
       "      <td>97128</td>\n",
       "      <td>2834</td>\n",
       "      <td>90</td>\n",
       "    </tr>\n",
       "    <tr>\n",
       "      <th>9</th>\n",
       "      <td>97128</td>\n",
       "      <td>2711</td>\n",
       "      <td>90</td>\n",
       "    </tr>\n",
       "  </tbody>\n",
       "</table>\n",
       "</div>"
      ],
      "text/plain": [
       "   SKU_ID  Store_ID  counts\n",
       "0   98692      1098      90\n",
       "1   97140      1090      90\n",
       "2   97140      1087      90\n",
       "3   97140      1086      90\n",
       "4   97140      1085      90\n",
       "5   97140      1084      90\n",
       "6   97140      1083      90\n",
       "7   97140      1081      90\n",
       "8   97128      2834      90\n",
       "9   97128      2711      90"
      ]
     },
     "execution_count": 25,
     "metadata": {},
     "output_type": "execute_result"
    }
   ],
   "source": [
    "popular_pairs.head(n=10)"
   ]
  },
  {
   "cell_type": "code",
   "execution_count": 26,
   "metadata": {
    "ExecuteTime": {
     "end_time": "2021-04-07T13:20:34.199817Z",
     "start_time": "2021-04-07T13:20:34.172226Z"
    }
   },
   "outputs": [
    {
     "data": {
      "text/html": [
       "<div>\n",
       "<style scoped>\n",
       "    .dataframe tbody tr th:only-of-type {\n",
       "        vertical-align: middle;\n",
       "    }\n",
       "\n",
       "    .dataframe tbody tr th {\n",
       "        vertical-align: top;\n",
       "    }\n",
       "\n",
       "    .dataframe thead th {\n",
       "        text-align: right;\n",
       "    }\n",
       "</style>\n",
       "<table border=\"1\" class=\"dataframe\">\n",
       "  <thead>\n",
       "    <tr style=\"text-align: right;\">\n",
       "      <th></th>\n",
       "      <th>SKU_ID</th>\n",
       "      <th>Store_ID</th>\n",
       "      <th>counts</th>\n",
       "    </tr>\n",
       "  </thead>\n",
       "  <tbody>\n",
       "    <tr>\n",
       "      <th>49999</th>\n",
       "      <td>13156</td>\n",
       "      <td>1086</td>\n",
       "      <td>90</td>\n",
       "    </tr>\n",
       "  </tbody>\n",
       "</table>\n",
       "</div>"
      ],
      "text/plain": [
       "       SKU_ID  Store_ID  counts\n",
       "49999   13156      1086      90"
      ]
     },
     "execution_count": 26,
     "metadata": {},
     "output_type": "execute_result"
    }
   ],
   "source": [
    "popular_pairs.head(n=50000).tail(n=1)"
   ]
  },
  {
   "cell_type": "code",
   "execution_count": 27,
   "metadata": {
    "ExecuteTime": {
     "end_time": "2021-04-07T13:20:43.289153Z",
     "start_time": "2021-04-07T13:20:34.565909Z"
    }
   },
   "outputs": [],
   "source": [
    "pairs_for_experiment = []\n",
    "num_of_pairs = 50000\n",
    "for i, r in popular_pairs.iterrows():\n",
    "    if i == num_of_pairs:\n",
    "        break\n",
    "    pairs_for_experiment.append((r['SKU_ID'], r['Store_ID']))"
   ]
  },
  {
   "cell_type": "code",
   "execution_count": 28,
   "metadata": {
    "ExecuteTime": {
     "end_time": "2021-04-07T13:20:43.616464Z",
     "start_time": "2021-04-07T13:20:43.603253Z"
    }
   },
   "outputs": [],
   "source": [
    "def transform(x, ttype):\n",
    "    '''\n",
    "    Accepts vector and performs transformation on it based on ttype\n",
    "    '''\n",
    "    if ttype == 'log':\n",
    "        return np.log1p(x)\n",
    "    \n",
    "    return np.array(x)"
   ]
  },
  {
   "cell_type": "code",
   "execution_count": 29,
   "metadata": {
    "ExecuteTime": {
     "end_time": "2021-04-07T13:20:43.991807Z",
     "start_time": "2021-04-07T13:20:43.982760Z"
    }
   },
   "outputs": [],
   "source": [
    "def coef(model):\n",
    "    \"\"\"\n",
    "    return regression coefficient of model\n",
    "    \"\"\"\n",
    "    return model.params[1] if len(model.params) > 1 else model.params[0]\n",
    "\n",
    "def pvalue(model):\n",
    "    \"\"\"\n",
    "    return regression coefficient's t-test p-value of model\n",
    "    \"\"\"\n",
    "    return model.pvalues[1] if len(model.pvalues) > 1 else model.pvalues[0]"
   ]
  },
  {
   "cell_type": "code",
   "execution_count": 30,
   "metadata": {
    "ExecuteTime": {
     "end_time": "2021-04-07T13:20:44.395752Z",
     "start_time": "2021-04-07T13:20:44.381864Z"
    }
   },
   "outputs": [],
   "source": [
    "def elasticity(X, y, model, model_type):\n",
    "    '''\n",
    "    Computes elasticity of model based on X, y, model itself and model's type\n",
    "    '''\n",
    "    if model_type == 'lin-lin':\n",
    "        return coef(model) * np.mean(X) / np.mean(y)\n",
    "    elif model_type == 'log-lin':\n",
    "        return coef(model) * np.mean(X)\n",
    "    elif model_type == 'log-log':\n",
    "        return coef(model)"
   ]
  },
  {
   "cell_type": "code",
   "execution_count": 31,
   "metadata": {
    "ExecuteTime": {
     "end_time": "2021-04-07T13:20:44.754418Z",
     "start_time": "2021-04-07T13:20:44.743058Z"
    }
   },
   "outputs": [],
   "source": [
    "def PEDmodel(X, y, model_type='lin-lin'):\n",
    "    '''\n",
    "    Makes PED model based on input data X, y and model type\n",
    "    '''\n",
    "    _types = model_type.split('-')\n",
    "    \n",
    "    act_x = transform(X, _types[1])\n",
    "    act_x = sm.add_constant(act_x)\n",
    "    \n",
    "    act_y = transform(y, _types[0])\n",
    "    \n",
    "    return sm.OLS(act_y, act_x).fit()"
   ]
  },
  {
   "cell_type": "code",
   "execution_count": 32,
   "metadata": {
    "ExecuteTime": {
     "end_time": "2021-04-07T13:20:45.146028Z",
     "start_time": "2021-04-07T13:20:45.134183Z"
    }
   },
   "outputs": [],
   "source": [
    "def get_model_stats(X, y, model, model_type):\n",
    "    '''\n",
    "    returns model's statistics\n",
    "        regression coefficient,\n",
    "        R-squared,\n",
    "        T-test p-value,\n",
    "        elasticity\n",
    "    '''\n",
    "    elas = elasticity(X, y, model, model_type)\n",
    "    \n",
    "    return coef(model), model.rsquared, pvalue(model), elas"
   ]
  },
  {
   "cell_type": "code",
   "execution_count": 33,
   "metadata": {
    "ExecuteTime": {
     "end_time": "2021-04-07T13:20:45.521000Z",
     "start_time": "2021-04-07T13:20:45.494065Z"
    }
   },
   "outputs": [],
   "source": [
    "def GeneratePEDModels(dataset):\n",
    "    model_type = 'log-log'\n",
    "    sku_id, store_id, elas, qty, ttpvalue = [], [], [], [], []\n",
    "    iter_count = 0\n",
    "\n",
    "    for good_id, shop_id in pairs_for_experiment:\n",
    "        data = dataset[(dataset.Store_ID == shop_id) & (dataset.SKU_ID == good_id)]\n",
    "        model = PEDmodel(data.Regular_Price, data.Demand, model_type)\n",
    "        \n",
    "        c, r2, tp, e = get_model_stats(data.Regular_Price, data.Demand, model, model_type)\n",
    "\n",
    "        sku_id.append(good_id)\n",
    "        store_id.append(shop_id)\n",
    "        elas.append(e)\n",
    "        ttpvalue.append(tp)\n",
    "        qty.append(data.Demand.sum() / data.shape[0])\n",
    "    \n",
    "    return pd.DataFrame({\n",
    "        'SKU': sku_id,\n",
    "        'Store': store_id,\n",
    "        'Elasticity': elas,\n",
    "        'Qty': qty,\n",
    "        'P_value': ttpvalue\n",
    "    })"
   ]
  },
  {
   "cell_type": "code",
   "execution_count": 34,
   "metadata": {
    "ExecuteTime": {
     "end_time": "2021-04-07T14:21:01.420321Z",
     "start_time": "2021-04-07T13:20:45.901572Z"
    },
    "scrolled": true
   },
   "outputs": [
    {
     "name": "stderr",
     "output_type": "stream",
     "text": [
      "C:\\Users\\User\\anaconda3\\lib\\site-packages\\statsmodels\\regression\\linear_model.py:1685: RuntimeWarning: divide by zero encountered in double_scalars\n",
      "  return 1 - self.ssr/self.centered_tss\n",
      "C:\\Users\\User\\anaconda3\\lib\\site-packages\\statsmodels\\base\\model.py:1362: RuntimeWarning: divide by zero encountered in true_divide\n",
      "  return self.params / self.bse\n",
      "C:\\Users\\User\\anaconda3\\lib\\site-packages\\statsmodels\\regression\\linear_model.py:1685: RuntimeWarning: invalid value encountered in double_scalars\n",
      "  return 1 - self.ssr/self.centered_tss\n"
     ]
    }
   ],
   "source": [
    "trained_data = GeneratePEDModels(df)"
   ]
  },
  {
   "cell_type": "code",
   "execution_count": 176,
   "metadata": {
    "ExecuteTime": {
     "end_time": "2021-04-07T16:35:13.439975Z",
     "start_time": "2021-04-07T16:35:13.102050Z"
    },
    "run_control": {
     "marked": false
    }
   },
   "outputs": [],
   "source": [
    "trained_data.to_csv('train_data.csv')"
   ]
  },
  {
   "cell_type": "code",
   "execution_count": 177,
   "metadata": {
    "ExecuteTime": {
     "end_time": "2021-04-07T16:35:13.693174Z",
     "start_time": "2021-04-07T16:35:13.678792Z"
    }
   },
   "outputs": [],
   "source": [
    "df_train = trained_data[(trained_data.Elasticity > -10) & (trained_data.Elasticity < 0) & (trained_data.P_value < 0.05)]"
   ]
  },
  {
   "cell_type": "code",
   "execution_count": 178,
   "metadata": {
    "ExecuteTime": {
     "end_time": "2021-04-07T16:35:14.068782Z",
     "start_time": "2021-04-07T16:35:14.056814Z"
    }
   },
   "outputs": [
    {
     "data": {
      "text/html": [
       "<div>\n",
       "<style scoped>\n",
       "    .dataframe tbody tr th:only-of-type {\n",
       "        vertical-align: middle;\n",
       "    }\n",
       "\n",
       "    .dataframe tbody tr th {\n",
       "        vertical-align: top;\n",
       "    }\n",
       "\n",
       "    .dataframe thead th {\n",
       "        text-align: right;\n",
       "    }\n",
       "</style>\n",
       "<table border=\"1\" class=\"dataframe\">\n",
       "  <thead>\n",
       "    <tr style=\"text-align: right;\">\n",
       "      <th></th>\n",
       "      <th>SKU</th>\n",
       "      <th>Store</th>\n",
       "      <th>Elasticity</th>\n",
       "      <th>Qty</th>\n",
       "      <th>P_value</th>\n",
       "    </tr>\n",
       "  </thead>\n",
       "  <tbody>\n",
       "    <tr>\n",
       "      <th>3</th>\n",
       "      <td>97140</td>\n",
       "      <td>1086</td>\n",
       "      <td>-2.682751</td>\n",
       "      <td>3.911111</td>\n",
       "      <td>5.429218e-04</td>\n",
       "    </tr>\n",
       "    <tr>\n",
       "      <th>4</th>\n",
       "      <td>97140</td>\n",
       "      <td>1085</td>\n",
       "      <td>-5.769920</td>\n",
       "      <td>5.633333</td>\n",
       "      <td>3.125485e-41</td>\n",
       "    </tr>\n",
       "    <tr>\n",
       "      <th>7</th>\n",
       "      <td>97140</td>\n",
       "      <td>1081</td>\n",
       "      <td>-6.747417</td>\n",
       "      <td>7.255556</td>\n",
       "      <td>3.004648e-03</td>\n",
       "    </tr>\n",
       "    <tr>\n",
       "      <th>8</th>\n",
       "      <td>97128</td>\n",
       "      <td>2834</td>\n",
       "      <td>-2.938277</td>\n",
       "      <td>398.411111</td>\n",
       "      <td>4.927807e-04</td>\n",
       "    </tr>\n",
       "    <tr>\n",
       "      <th>11</th>\n",
       "      <td>97128</td>\n",
       "      <td>1954</td>\n",
       "      <td>-8.201317</td>\n",
       "      <td>1.322222</td>\n",
       "      <td>2.705127e-33</td>\n",
       "    </tr>\n",
       "  </tbody>\n",
       "</table>\n",
       "</div>"
      ],
      "text/plain": [
       "      SKU  Store  Elasticity         Qty       P_value\n",
       "3   97140   1086   -2.682751    3.911111  5.429218e-04\n",
       "4   97140   1085   -5.769920    5.633333  3.125485e-41\n",
       "7   97140   1081   -6.747417    7.255556  3.004648e-03\n",
       "8   97128   2834   -2.938277  398.411111  4.927807e-04\n",
       "11  97128   1954   -8.201317    1.322222  2.705127e-33"
      ]
     },
     "execution_count": 178,
     "metadata": {},
     "output_type": "execute_result"
    }
   ],
   "source": [
    "df_train.head()"
   ]
  },
  {
   "cell_type": "code",
   "execution_count": 179,
   "metadata": {
    "ExecuteTime": {
     "end_time": "2021-04-07T16:35:54.598435Z",
     "start_time": "2021-04-07T16:35:14.412884Z"
    }
   },
   "outputs": [],
   "source": [
    "product_info = pd.read_excel('PRODUCT_INF.xlsx')\n",
    "product_info.rename(columns={'Code_AP': 'SKU'}, inplace=True)"
   ]
  },
  {
   "cell_type": "code",
   "execution_count": 180,
   "metadata": {
    "ExecuteTime": {
     "end_time": "2021-04-07T16:35:54.988654Z",
     "start_time": "2021-04-07T16:35:54.960729Z"
    }
   },
   "outputs": [
    {
     "data": {
      "text/html": [
       "<div>\n",
       "<style scoped>\n",
       "    .dataframe tbody tr th:only-of-type {\n",
       "        vertical-align: middle;\n",
       "    }\n",
       "\n",
       "    .dataframe tbody tr th {\n",
       "        vertical-align: top;\n",
       "    }\n",
       "\n",
       "    .dataframe thead th {\n",
       "        text-align: right;\n",
       "    }\n",
       "</style>\n",
       "<table border=\"1\" class=\"dataframe\">\n",
       "  <thead>\n",
       "    <tr style=\"text-align: right;\">\n",
       "      <th></th>\n",
       "      <th>ProductName</th>\n",
       "      <th>SKU</th>\n",
       "      <th>ClassId</th>\n",
       "      <th>GroupId</th>\n",
       "      <th>SubGroupId</th>\n",
       "      <th>CategoryId</th>\n",
       "      <th>ClusterId</th>\n",
       "      <th>Class</th>\n",
       "      <th>Groups</th>\n",
       "      <th>SubGroups</th>\n",
       "      <th>Category</th>\n",
       "      <th>Cluster</th>\n",
       "    </tr>\n",
       "  </thead>\n",
       "  <tbody>\n",
       "    <tr>\n",
       "      <th>192058</th>\n",
       "      <td>Контролок таб.п.кш.о.20мг №14</td>\n",
       "      <td>97140</td>\n",
       "      <td>2003</td>\n",
       "      <td>2047</td>\n",
       "      <td>2099</td>\n",
       "      <td>2532</td>\n",
       "      <td>994</td>\n",
       "      <td>Лекарственные и профилактические средства</td>\n",
       "      <td>Пищеварительный тракт</td>\n",
       "      <td>Для улучшения пищеварения</td>\n",
       "      <td>Ингибиторы протонной помпы</td>\n",
       "      <td>Пантопразол</td>\n",
       "    </tr>\n",
       "  </tbody>\n",
       "</table>\n",
       "</div>"
      ],
      "text/plain": [
       "                          ProductName    SKU  ClassId  GroupId  SubGroupId  \\\n",
       "192058  Контролок таб.п.кш.о.20мг №14  97140     2003     2047        2099   \n",
       "\n",
       "        CategoryId  ClusterId                                      Class  \\\n",
       "192058        2532        994  Лекарственные и профилактические средства   \n",
       "\n",
       "                       Groups                  SubGroups  \\\n",
       "192058  Пищеварительный тракт  Для улучшения пищеварения   \n",
       "\n",
       "                          Category      Cluster  \n",
       "192058  Ингибиторы протонной помпы  Пантопразол  "
      ]
     },
     "execution_count": 180,
     "metadata": {},
     "output_type": "execute_result"
    }
   ],
   "source": [
    "product_info[product_info.SKU == 97140]"
   ]
  },
  {
   "cell_type": "code",
   "execution_count": 181,
   "metadata": {
    "ExecuteTime": {
     "end_time": "2021-04-07T16:35:55.317569Z",
     "start_time": "2021-04-07T16:35:55.287855Z"
    }
   },
   "outputs": [],
   "source": [
    "product_info = product_info[['SKU', 'ClassId', 'CategoryId', 'ClusterId']]"
   ]
  },
  {
   "cell_type": "code",
   "execution_count": 182,
   "metadata": {
    "ExecuteTime": {
     "end_time": "2021-04-07T16:35:55.597160Z",
     "start_time": "2021-04-07T16:35:55.583198Z"
    }
   },
   "outputs": [
    {
     "data": {
      "text/html": [
       "<div>\n",
       "<style scoped>\n",
       "    .dataframe tbody tr th:only-of-type {\n",
       "        vertical-align: middle;\n",
       "    }\n",
       "\n",
       "    .dataframe tbody tr th {\n",
       "        vertical-align: top;\n",
       "    }\n",
       "\n",
       "    .dataframe thead th {\n",
       "        text-align: right;\n",
       "    }\n",
       "</style>\n",
       "<table border=\"1\" class=\"dataframe\">\n",
       "  <thead>\n",
       "    <tr style=\"text-align: right;\">\n",
       "      <th></th>\n",
       "      <th>SKU</th>\n",
       "      <th>ClassId</th>\n",
       "      <th>CategoryId</th>\n",
       "      <th>ClusterId</th>\n",
       "    </tr>\n",
       "  </thead>\n",
       "  <tbody>\n",
       "    <tr>\n",
       "      <th>0</th>\n",
       "      <td>9999999</td>\n",
       "      <td>-5</td>\n",
       "      <td>-2</td>\n",
       "      <td>-1</td>\n",
       "    </tr>\n",
       "    <tr>\n",
       "      <th>1</th>\n",
       "      <td>122139</td>\n",
       "      <td>-5</td>\n",
       "      <td>-2</td>\n",
       "      <td>-1</td>\n",
       "    </tr>\n",
       "    <tr>\n",
       "      <th>2</th>\n",
       "      <td>122140</td>\n",
       "      <td>-5</td>\n",
       "      <td>-2</td>\n",
       "      <td>-1</td>\n",
       "    </tr>\n",
       "    <tr>\n",
       "      <th>3</th>\n",
       "      <td>122141</td>\n",
       "      <td>-5</td>\n",
       "      <td>-2</td>\n",
       "      <td>-1</td>\n",
       "    </tr>\n",
       "    <tr>\n",
       "      <th>4</th>\n",
       "      <td>122142</td>\n",
       "      <td>-5</td>\n",
       "      <td>-2</td>\n",
       "      <td>-1</td>\n",
       "    </tr>\n",
       "  </tbody>\n",
       "</table>\n",
       "</div>"
      ],
      "text/plain": [
       "       SKU  ClassId  CategoryId  ClusterId\n",
       "0  9999999       -5          -2         -1\n",
       "1   122139       -5          -2         -1\n",
       "2   122140       -5          -2         -1\n",
       "3   122141       -5          -2         -1\n",
       "4   122142       -5          -2         -1"
      ]
     },
     "execution_count": 182,
     "metadata": {},
     "output_type": "execute_result"
    }
   ],
   "source": [
    "product_info.head()"
   ]
  },
  {
   "cell_type": "code",
   "execution_count": 183,
   "metadata": {
    "ExecuteTime": {
     "end_time": "2021-04-07T16:35:55.913378Z",
     "start_time": "2021-04-07T16:35:55.867467Z"
    }
   },
   "outputs": [],
   "source": [
    "df_sku = df_train.join(product_info.set_index('SKU'), on='SKU')"
   ]
  },
  {
   "cell_type": "code",
   "execution_count": 184,
   "metadata": {
    "ExecuteTime": {
     "end_time": "2021-04-07T16:35:56.212774Z",
     "start_time": "2021-04-07T16:35:56.184887Z"
    }
   },
   "outputs": [
    {
     "data": {
      "text/plain": [
       "SKU           0\n",
       "Store         0\n",
       "Elasticity    0\n",
       "Qty           0\n",
       "P_value       0\n",
       "ClassId       0\n",
       "CategoryId    0\n",
       "ClusterId     0\n",
       "dtype: int64"
      ]
     },
     "execution_count": 184,
     "metadata": {},
     "output_type": "execute_result"
    }
   ],
   "source": [
    "df_sku.isna().sum()"
   ]
  },
  {
   "cell_type": "code",
   "execution_count": 185,
   "metadata": {
    "ExecuteTime": {
     "end_time": "2021-04-07T16:35:56.510064Z",
     "start_time": "2021-04-07T16:35:56.497064Z"
    }
   },
   "outputs": [
    {
     "data": {
      "text/html": [
       "<div>\n",
       "<style scoped>\n",
       "    .dataframe tbody tr th:only-of-type {\n",
       "        vertical-align: middle;\n",
       "    }\n",
       "\n",
       "    .dataframe tbody tr th {\n",
       "        vertical-align: top;\n",
       "    }\n",
       "\n",
       "    .dataframe thead th {\n",
       "        text-align: right;\n",
       "    }\n",
       "</style>\n",
       "<table border=\"1\" class=\"dataframe\">\n",
       "  <thead>\n",
       "    <tr style=\"text-align: right;\">\n",
       "      <th></th>\n",
       "      <th>SKU</th>\n",
       "      <th>Store</th>\n",
       "      <th>Elasticity</th>\n",
       "      <th>Qty</th>\n",
       "      <th>P_value</th>\n",
       "      <th>ClassId</th>\n",
       "      <th>CategoryId</th>\n",
       "      <th>ClusterId</th>\n",
       "    </tr>\n",
       "  </thead>\n",
       "  <tbody>\n",
       "    <tr>\n",
       "      <th>3</th>\n",
       "      <td>97140</td>\n",
       "      <td>1086</td>\n",
       "      <td>-2.682751</td>\n",
       "      <td>3.911111</td>\n",
       "      <td>5.429218e-04</td>\n",
       "      <td>2003</td>\n",
       "      <td>2532</td>\n",
       "      <td>994</td>\n",
       "    </tr>\n",
       "    <tr>\n",
       "      <th>4</th>\n",
       "      <td>97140</td>\n",
       "      <td>1085</td>\n",
       "      <td>-5.769920</td>\n",
       "      <td>5.633333</td>\n",
       "      <td>3.125485e-41</td>\n",
       "      <td>2003</td>\n",
       "      <td>2532</td>\n",
       "      <td>994</td>\n",
       "    </tr>\n",
       "    <tr>\n",
       "      <th>7</th>\n",
       "      <td>97140</td>\n",
       "      <td>1081</td>\n",
       "      <td>-6.747417</td>\n",
       "      <td>7.255556</td>\n",
       "      <td>3.004648e-03</td>\n",
       "      <td>2003</td>\n",
       "      <td>2532</td>\n",
       "      <td>994</td>\n",
       "    </tr>\n",
       "    <tr>\n",
       "      <th>8</th>\n",
       "      <td>97128</td>\n",
       "      <td>2834</td>\n",
       "      <td>-2.938277</td>\n",
       "      <td>398.411111</td>\n",
       "      <td>4.927807e-04</td>\n",
       "      <td>2003</td>\n",
       "      <td>2711</td>\n",
       "      <td>39</td>\n",
       "    </tr>\n",
       "    <tr>\n",
       "      <th>11</th>\n",
       "      <td>97128</td>\n",
       "      <td>1954</td>\n",
       "      <td>-8.201317</td>\n",
       "      <td>1.322222</td>\n",
       "      <td>2.705127e-33</td>\n",
       "      <td>2003</td>\n",
       "      <td>2711</td>\n",
       "      <td>39</td>\n",
       "    </tr>\n",
       "  </tbody>\n",
       "</table>\n",
       "</div>"
      ],
      "text/plain": [
       "      SKU  Store  Elasticity         Qty       P_value  ClassId  CategoryId  \\\n",
       "3   97140   1086   -2.682751    3.911111  5.429218e-04     2003        2532   \n",
       "4   97140   1085   -5.769920    5.633333  3.125485e-41     2003        2532   \n",
       "7   97140   1081   -6.747417    7.255556  3.004648e-03     2003        2532   \n",
       "8   97128   2834   -2.938277  398.411111  4.927807e-04     2003        2711   \n",
       "11  97128   1954   -8.201317    1.322222  2.705127e-33     2003        2711   \n",
       "\n",
       "    ClusterId  \n",
       "3         994  \n",
       "4         994  \n",
       "7         994  \n",
       "8          39  \n",
       "11         39  "
      ]
     },
     "execution_count": 185,
     "metadata": {},
     "output_type": "execute_result"
    }
   ],
   "source": [
    "df_sku.head()"
   ]
  },
  {
   "cell_type": "code",
   "execution_count": null,
   "metadata": {
    "ExecuteTime": {
     "end_time": "2021-04-07T15:19:26.266949Z",
     "start_time": "2021-04-07T15:19:26.235864Z"
    }
   },
   "outputs": [],
   "source": []
  },
  {
   "cell_type": "code",
   "execution_count": 186,
   "metadata": {
    "ExecuteTime": {
     "end_time": "2021-04-07T16:35:56.820992Z",
     "start_time": "2021-04-07T16:35:56.760165Z"
    }
   },
   "outputs": [],
   "source": [
    "store_info = pd.read_excel('LOCATION_INF.xlsx')\n",
    "store_info.rename(columns={'TradePointId': 'Store'}, inplace=True)"
   ]
  },
  {
   "cell_type": "code",
   "execution_count": 187,
   "metadata": {
    "ExecuteTime": {
     "end_time": "2021-04-07T16:35:57.090663Z",
     "start_time": "2021-04-07T16:35:57.076701Z"
    }
   },
   "outputs": [
    {
     "data": {
      "text/plain": [
       "{'ВО', 'ВОЛОГДА', 'ИНТЕРНЕТМАГАЗИН', 'ЛО', 'СПБ', 'ЧЕРЕПОВЕЦ', 'ШУШАРЫ'}"
      ]
     },
     "execution_count": 187,
     "metadata": {},
     "output_type": "execute_result"
    }
   ],
   "source": [
    "import string\n",
    "store_info['TradePointName'] = store_info['TradePointName'].str.upper()\n",
    "store_info['TradePointName'] = store_info['TradePointName'].str.split(' ').str[0]\n",
    "store_info['TradePointName'] = store_info['TradePointName'].replace(r'[{}]'.format(string.punctuation), '', regex=True)\n",
    "set(store_info['TradePointName'])"
   ]
  },
  {
   "cell_type": "code",
   "execution_count": 188,
   "metadata": {
    "ExecuteTime": {
     "end_time": "2021-04-07T16:35:57.374138Z",
     "start_time": "2021-04-07T16:35:57.344592Z"
    }
   },
   "outputs": [],
   "source": [
    "df_sku = df_sku.join(store_info.set_index('Store'), on='Store')"
   ]
  },
  {
   "cell_type": "code",
   "execution_count": 189,
   "metadata": {
    "ExecuteTime": {
     "end_time": "2021-04-07T16:35:57.690476Z",
     "start_time": "2021-04-07T16:35:57.645455Z"
    }
   },
   "outputs": [
    {
     "data": {
      "text/html": [
       "<div>\n",
       "<style scoped>\n",
       "    .dataframe tbody tr th:only-of-type {\n",
       "        vertical-align: middle;\n",
       "    }\n",
       "\n",
       "    .dataframe tbody tr th {\n",
       "        vertical-align: top;\n",
       "    }\n",
       "\n",
       "    .dataframe thead th {\n",
       "        text-align: right;\n",
       "    }\n",
       "</style>\n",
       "<table border=\"1\" class=\"dataframe\">\n",
       "  <thead>\n",
       "    <tr style=\"text-align: right;\">\n",
       "      <th></th>\n",
       "      <th>SKU</th>\n",
       "      <th>Store</th>\n",
       "      <th>Elasticity</th>\n",
       "      <th>Qty</th>\n",
       "      <th>P_value</th>\n",
       "      <th>ClassId</th>\n",
       "      <th>CategoryId</th>\n",
       "      <th>ClusterId</th>\n",
       "      <th>TradePointCode</th>\n",
       "      <th>TradePointName</th>\n",
       "      <th>OpenDate</th>\n",
       "      <th>CloseDate</th>\n",
       "      <th>BrandName</th>\n",
       "      <th>BrandGroupId</th>\n",
       "      <th>Brands_GUID</th>\n",
       "      <th>BE_Id</th>\n",
       "      <th>BE_Name</th>\n",
       "      <th>BE_GUID</th>\n",
       "    </tr>\n",
       "  </thead>\n",
       "  <tbody>\n",
       "    <tr>\n",
       "      <th>3</th>\n",
       "      <td>97140</td>\n",
       "      <td>1086</td>\n",
       "      <td>-2.682751</td>\n",
       "      <td>3.911111</td>\n",
       "      <td>5.429218e-04</td>\n",
       "      <td>2003</td>\n",
       "      <td>2532</td>\n",
       "      <td>994</td>\n",
       "      <td>А01085</td>\n",
       "      <td>СПБ</td>\n",
       "      <td>2008-09-28</td>\n",
       "      <td>2100-01-01</td>\n",
       "      <td>Озерки</td>\n",
       "      <td>3</td>\n",
       "      <td>E378FD87-0BB5-E984-11E8-54EE74216F5D</td>\n",
       "      <td>25</td>\n",
       "      <td>БЕ Озерки СЗ</td>\n",
       "      <td>5000DB80-9356-86BC-11E8-82B3A92564D8</td>\n",
       "    </tr>\n",
       "    <tr>\n",
       "      <th>4</th>\n",
       "      <td>97140</td>\n",
       "      <td>1085</td>\n",
       "      <td>-5.769920</td>\n",
       "      <td>5.633333</td>\n",
       "      <td>3.125485e-41</td>\n",
       "      <td>2003</td>\n",
       "      <td>2532</td>\n",
       "      <td>994</td>\n",
       "      <td>А01084</td>\n",
       "      <td>СПБ</td>\n",
       "      <td>2010-09-21</td>\n",
       "      <td>2100-01-01</td>\n",
       "      <td>Озерки</td>\n",
       "      <td>3</td>\n",
       "      <td>E378FD87-0BB5-E984-11E8-54EE74216F5D</td>\n",
       "      <td>25</td>\n",
       "      <td>БЕ Озерки СЗ</td>\n",
       "      <td>5000DB80-9356-86BC-11E8-82B3A92564D8</td>\n",
       "    </tr>\n",
       "    <tr>\n",
       "      <th>7</th>\n",
       "      <td>97140</td>\n",
       "      <td>1081</td>\n",
       "      <td>-6.747417</td>\n",
       "      <td>7.255556</td>\n",
       "      <td>3.004648e-03</td>\n",
       "      <td>2003</td>\n",
       "      <td>2532</td>\n",
       "      <td>994</td>\n",
       "      <td>А01080</td>\n",
       "      <td>СПБ</td>\n",
       "      <td>2008-06-16</td>\n",
       "      <td>2100-01-01</td>\n",
       "      <td>Озерки</td>\n",
       "      <td>3</td>\n",
       "      <td>E378FD87-0BB5-E984-11E8-54EE74216F5D</td>\n",
       "      <td>25</td>\n",
       "      <td>БЕ Озерки СЗ</td>\n",
       "      <td>5000DB80-9356-86BC-11E8-82B3A92564D8</td>\n",
       "    </tr>\n",
       "    <tr>\n",
       "      <th>8</th>\n",
       "      <td>97128</td>\n",
       "      <td>2834</td>\n",
       "      <td>-2.938277</td>\n",
       "      <td>398.411111</td>\n",
       "      <td>4.927807e-04</td>\n",
       "      <td>2003</td>\n",
       "      <td>2711</td>\n",
       "      <td>39</td>\n",
       "      <td>А02829</td>\n",
       "      <td>ИНТЕРНЕТМАГАЗИН</td>\n",
       "      <td>2019-01-01</td>\n",
       "      <td>2100-01-01</td>\n",
       "      <td>Озерки</td>\n",
       "      <td>3</td>\n",
       "      <td>E378FD87-0BB5-E984-11E8-54EE74216F5D</td>\n",
       "      <td>25</td>\n",
       "      <td>БЕ Озерки СЗ</td>\n",
       "      <td>5000DB80-9356-86BC-11E8-82B3A92564D8</td>\n",
       "    </tr>\n",
       "    <tr>\n",
       "      <th>11</th>\n",
       "      <td>97128</td>\n",
       "      <td>1954</td>\n",
       "      <td>-8.201317</td>\n",
       "      <td>1.322222</td>\n",
       "      <td>2.705127e-33</td>\n",
       "      <td>2003</td>\n",
       "      <td>2711</td>\n",
       "      <td>39</td>\n",
       "      <td>А01953</td>\n",
       "      <td>ВО</td>\n",
       "      <td>2014-09-16</td>\n",
       "      <td>2100-01-01</td>\n",
       "      <td>Озерки</td>\n",
       "      <td>3</td>\n",
       "      <td>E378FD87-0BB5-E984-11E8-54EE74216F5D</td>\n",
       "      <td>25</td>\n",
       "      <td>БЕ Озерки СЗ</td>\n",
       "      <td>5000DB80-9356-86BC-11E8-82B3A92564D8</td>\n",
       "    </tr>\n",
       "    <tr>\n",
       "      <th>...</th>\n",
       "      <td>...</td>\n",
       "      <td>...</td>\n",
       "      <td>...</td>\n",
       "      <td>...</td>\n",
       "      <td>...</td>\n",
       "      <td>...</td>\n",
       "      <td>...</td>\n",
       "      <td>...</td>\n",
       "      <td>...</td>\n",
       "      <td>...</td>\n",
       "      <td>...</td>\n",
       "      <td>...</td>\n",
       "      <td>...</td>\n",
       "      <td>...</td>\n",
       "      <td>...</td>\n",
       "      <td>...</td>\n",
       "      <td>...</td>\n",
       "      <td>...</td>\n",
       "    </tr>\n",
       "    <tr>\n",
       "      <th>49960</th>\n",
       "      <td>13172</td>\n",
       "      <td>1768</td>\n",
       "      <td>-3.749650</td>\n",
       "      <td>4.788889</td>\n",
       "      <td>1.376729e-81</td>\n",
       "      <td>2003</td>\n",
       "      <td>2561</td>\n",
       "      <td>28</td>\n",
       "      <td>А01767</td>\n",
       "      <td>СПБ</td>\n",
       "      <td>2001-01-01</td>\n",
       "      <td>2100-01-01</td>\n",
       "      <td>Озерки</td>\n",
       "      <td>3</td>\n",
       "      <td>E378FD87-0BB5-E984-11E8-54EE74216F5D</td>\n",
       "      <td>25</td>\n",
       "      <td>БЕ Озерки СЗ</td>\n",
       "      <td>5000DB80-9356-86BC-11E8-82B3A92564D8</td>\n",
       "    </tr>\n",
       "    <tr>\n",
       "      <th>49973</th>\n",
       "      <td>13156</td>\n",
       "      <td>1118</td>\n",
       "      <td>-1.819591</td>\n",
       "      <td>26.166667</td>\n",
       "      <td>2.276186e-02</td>\n",
       "      <td>2003</td>\n",
       "      <td>2489</td>\n",
       "      <td>467</td>\n",
       "      <td>А01117</td>\n",
       "      <td>СПБ</td>\n",
       "      <td>2016-06-08</td>\n",
       "      <td>2100-01-01</td>\n",
       "      <td>Озерки</td>\n",
       "      <td>3</td>\n",
       "      <td>E378FD87-0BB5-E984-11E8-54EE74216F5D</td>\n",
       "      <td>25</td>\n",
       "      <td>БЕ Озерки СЗ</td>\n",
       "      <td>5000DB80-9356-86BC-11E8-82B3A92564D8</td>\n",
       "    </tr>\n",
       "    <tr>\n",
       "      <th>49987</th>\n",
       "      <td>13154</td>\n",
       "      <td>1953</td>\n",
       "      <td>-4.151737</td>\n",
       "      <td>4.766667</td>\n",
       "      <td>6.777473e-55</td>\n",
       "      <td>2003</td>\n",
       "      <td>2489</td>\n",
       "      <td>467</td>\n",
       "      <td>А01952</td>\n",
       "      <td>ЧЕРЕПОВЕЦ</td>\n",
       "      <td>2014-07-30</td>\n",
       "      <td>2020-05-29</td>\n",
       "      <td>Озерки</td>\n",
       "      <td>3</td>\n",
       "      <td>E378FD87-0BB5-E984-11E8-54EE74216F5D</td>\n",
       "      <td>25</td>\n",
       "      <td>БЕ Озерки СЗ</td>\n",
       "      <td>5000DB80-9356-86BC-11E8-82B3A92564D8</td>\n",
       "    </tr>\n",
       "    <tr>\n",
       "      <th>49988</th>\n",
       "      <td>13154</td>\n",
       "      <td>1954</td>\n",
       "      <td>-5.134763</td>\n",
       "      <td>4.855556</td>\n",
       "      <td>4.737847e-28</td>\n",
       "      <td>2003</td>\n",
       "      <td>2489</td>\n",
       "      <td>467</td>\n",
       "      <td>А01953</td>\n",
       "      <td>ВО</td>\n",
       "      <td>2014-09-16</td>\n",
       "      <td>2100-01-01</td>\n",
       "      <td>Озерки</td>\n",
       "      <td>3</td>\n",
       "      <td>E378FD87-0BB5-E984-11E8-54EE74216F5D</td>\n",
       "      <td>25</td>\n",
       "      <td>БЕ Озерки СЗ</td>\n",
       "      <td>5000DB80-9356-86BC-11E8-82B3A92564D8</td>\n",
       "    </tr>\n",
       "    <tr>\n",
       "      <th>49992</th>\n",
       "      <td>13156</td>\n",
       "      <td>1077</td>\n",
       "      <td>-2.010084</td>\n",
       "      <td>34.922222</td>\n",
       "      <td>1.492815e-02</td>\n",
       "      <td>2003</td>\n",
       "      <td>2489</td>\n",
       "      <td>467</td>\n",
       "      <td>А01076</td>\n",
       "      <td>СПБ</td>\n",
       "      <td>2005-06-01</td>\n",
       "      <td>2100-01-01</td>\n",
       "      <td>Озерки</td>\n",
       "      <td>3</td>\n",
       "      <td>E378FD87-0BB5-E984-11E8-54EE74216F5D</td>\n",
       "      <td>25</td>\n",
       "      <td>БЕ Озерки СЗ</td>\n",
       "      <td>5000DB80-9356-86BC-11E8-82B3A92564D8</td>\n",
       "    </tr>\n",
       "  </tbody>\n",
       "</table>\n",
       "<p>10887 rows × 18 columns</p>\n",
       "</div>"
      ],
      "text/plain": [
       "         SKU  Store  Elasticity         Qty       P_value  ClassId  \\\n",
       "3      97140   1086   -2.682751    3.911111  5.429218e-04     2003   \n",
       "4      97140   1085   -5.769920    5.633333  3.125485e-41     2003   \n",
       "7      97140   1081   -6.747417    7.255556  3.004648e-03     2003   \n",
       "8      97128   2834   -2.938277  398.411111  4.927807e-04     2003   \n",
       "11     97128   1954   -8.201317    1.322222  2.705127e-33     2003   \n",
       "...      ...    ...         ...         ...           ...      ...   \n",
       "49960  13172   1768   -3.749650    4.788889  1.376729e-81     2003   \n",
       "49973  13156   1118   -1.819591   26.166667  2.276186e-02     2003   \n",
       "49987  13154   1953   -4.151737    4.766667  6.777473e-55     2003   \n",
       "49988  13154   1954   -5.134763    4.855556  4.737847e-28     2003   \n",
       "49992  13156   1077   -2.010084   34.922222  1.492815e-02     2003   \n",
       "\n",
       "       CategoryId  ClusterId TradePointCode   TradePointName   OpenDate  \\\n",
       "3            2532        994         А01085              СПБ 2008-09-28   \n",
       "4            2532        994         А01084              СПБ 2010-09-21   \n",
       "7            2532        994         А01080              СПБ 2008-06-16   \n",
       "8            2711         39         А02829  ИНТЕРНЕТМАГАЗИН 2019-01-01   \n",
       "11           2711         39         А01953               ВО 2014-09-16   \n",
       "...           ...        ...            ...              ...        ...   \n",
       "49960        2561         28         А01767              СПБ 2001-01-01   \n",
       "49973        2489        467         А01117              СПБ 2016-06-08   \n",
       "49987        2489        467         А01952        ЧЕРЕПОВЕЦ 2014-07-30   \n",
       "49988        2489        467         А01953               ВО 2014-09-16   \n",
       "49992        2489        467         А01076              СПБ 2005-06-01   \n",
       "\n",
       "       CloseDate BrandName  BrandGroupId  \\\n",
       "3     2100-01-01    Озерки             3   \n",
       "4     2100-01-01    Озерки             3   \n",
       "7     2100-01-01    Озерки             3   \n",
       "8     2100-01-01    Озерки             3   \n",
       "11    2100-01-01    Озерки             3   \n",
       "...          ...       ...           ...   \n",
       "49960 2100-01-01    Озерки             3   \n",
       "49973 2100-01-01    Озерки             3   \n",
       "49987 2020-05-29    Озерки             3   \n",
       "49988 2100-01-01    Озерки             3   \n",
       "49992 2100-01-01    Озерки             3   \n",
       "\n",
       "                                Brands_GUID  BE_Id       BE_Name  \\\n",
       "3      E378FD87-0BB5-E984-11E8-54EE74216F5D     25  БЕ Озерки СЗ   \n",
       "4      E378FD87-0BB5-E984-11E8-54EE74216F5D     25  БЕ Озерки СЗ   \n",
       "7      E378FD87-0BB5-E984-11E8-54EE74216F5D     25  БЕ Озерки СЗ   \n",
       "8      E378FD87-0BB5-E984-11E8-54EE74216F5D     25  БЕ Озерки СЗ   \n",
       "11     E378FD87-0BB5-E984-11E8-54EE74216F5D     25  БЕ Озерки СЗ   \n",
       "...                                     ...    ...           ...   \n",
       "49960  E378FD87-0BB5-E984-11E8-54EE74216F5D     25  БЕ Озерки СЗ   \n",
       "49973  E378FD87-0BB5-E984-11E8-54EE74216F5D     25  БЕ Озерки СЗ   \n",
       "49987  E378FD87-0BB5-E984-11E8-54EE74216F5D     25  БЕ Озерки СЗ   \n",
       "49988  E378FD87-0BB5-E984-11E8-54EE74216F5D     25  БЕ Озерки СЗ   \n",
       "49992  E378FD87-0BB5-E984-11E8-54EE74216F5D     25  БЕ Озерки СЗ   \n",
       "\n",
       "                                    BE_GUID  \n",
       "3      5000DB80-9356-86BC-11E8-82B3A92564D8  \n",
       "4      5000DB80-9356-86BC-11E8-82B3A92564D8  \n",
       "7      5000DB80-9356-86BC-11E8-82B3A92564D8  \n",
       "8      5000DB80-9356-86BC-11E8-82B3A92564D8  \n",
       "11     5000DB80-9356-86BC-11E8-82B3A92564D8  \n",
       "...                                     ...  \n",
       "49960  5000DB80-9356-86BC-11E8-82B3A92564D8  \n",
       "49973  5000DB80-9356-86BC-11E8-82B3A92564D8  \n",
       "49987  5000DB80-9356-86BC-11E8-82B3A92564D8  \n",
       "49988  5000DB80-9356-86BC-11E8-82B3A92564D8  \n",
       "49992  5000DB80-9356-86BC-11E8-82B3A92564D8  \n",
       "\n",
       "[10887 rows x 18 columns]"
      ]
     },
     "execution_count": 189,
     "metadata": {},
     "output_type": "execute_result"
    }
   ],
   "source": [
    "df_sku"
   ]
  },
  {
   "cell_type": "code",
   "execution_count": 190,
   "metadata": {
    "ExecuteTime": {
     "end_time": "2021-04-07T16:35:57.983245Z",
     "start_time": "2021-04-07T16:35:57.970169Z"
    }
   },
   "outputs": [
    {
     "data": {
      "text/plain": [
       "SKU               0\n",
       "Store             0\n",
       "Elasticity        0\n",
       "Qty               0\n",
       "P_value           0\n",
       "ClassId           0\n",
       "CategoryId        0\n",
       "ClusterId         0\n",
       "TradePointCode    0\n",
       "TradePointName    0\n",
       "OpenDate          0\n",
       "CloseDate         0\n",
       "BrandName         0\n",
       "BrandGroupId      0\n",
       "Brands_GUID       0\n",
       "BE_Id             0\n",
       "BE_Name           0\n",
       "BE_GUID           0\n",
       "dtype: int64"
      ]
     },
     "execution_count": 190,
     "metadata": {},
     "output_type": "execute_result"
    }
   ],
   "source": [
    "df_sku.isna().sum()"
   ]
  },
  {
   "cell_type": "code",
   "execution_count": 191,
   "metadata": {
    "ExecuteTime": {
     "end_time": "2021-04-07T16:35:58.315439Z",
     "start_time": "2021-04-07T16:35:58.301479Z"
    }
   },
   "outputs": [],
   "source": [
    "df_sku = df_sku.rename(columns = {'TradePointName': 'Region'})"
   ]
  },
  {
   "cell_type": "code",
   "execution_count": 192,
   "metadata": {
    "ExecuteTime": {
     "end_time": "2021-04-07T16:35:58.613394Z",
     "start_time": "2021-04-07T16:35:58.598435Z"
    }
   },
   "outputs": [
    {
     "data": {
      "text/plain": [
       "3    184\n",
       "Name: BrandGroupId, dtype: int64"
      ]
     },
     "execution_count": 192,
     "metadata": {},
     "output_type": "execute_result"
    }
   ],
   "source": [
    "store_info.BrandGroupId.value_counts()"
   ]
  },
  {
   "cell_type": "code",
   "execution_count": 193,
   "metadata": {
    "ExecuteTime": {
     "end_time": "2021-04-07T16:35:58.898307Z",
     "start_time": "2021-04-07T16:35:58.883383Z"
    }
   },
   "outputs": [
    {
     "data": {
      "text/plain": [
       "25    184\n",
       "Name: BE_Id, dtype: int64"
      ]
     },
     "execution_count": 193,
     "metadata": {},
     "output_type": "execute_result"
    }
   ],
   "source": [
    "store_info.BE_Id.value_counts()"
   ]
  },
  {
   "cell_type": "code",
   "execution_count": 194,
   "metadata": {
    "ExecuteTime": {
     "end_time": "2021-04-07T16:35:59.181060Z",
     "start_time": "2021-04-07T16:35:59.167589Z"
    }
   },
   "outputs": [
    {
     "data": {
      "text/plain": [
       "E378FD87-0BB5-E984-11E8-54EE74216F5D    184\n",
       "Name: Brands_GUID, dtype: int64"
      ]
     },
     "execution_count": 194,
     "metadata": {},
     "output_type": "execute_result"
    }
   ],
   "source": [
    "store_info.Brands_GUID.value_counts()"
   ]
  },
  {
   "cell_type": "code",
   "execution_count": 195,
   "metadata": {
    "ExecuteTime": {
     "end_time": "2021-04-07T16:35:59.495104Z",
     "start_time": "2021-04-07T16:35:59.450377Z"
    }
   },
   "outputs": [
    {
     "data": {
      "text/html": [
       "<div>\n",
       "<style scoped>\n",
       "    .dataframe tbody tr th:only-of-type {\n",
       "        vertical-align: middle;\n",
       "    }\n",
       "\n",
       "    .dataframe tbody tr th {\n",
       "        vertical-align: top;\n",
       "    }\n",
       "\n",
       "    .dataframe thead th {\n",
       "        text-align: right;\n",
       "    }\n",
       "</style>\n",
       "<table border=\"1\" class=\"dataframe\">\n",
       "  <thead>\n",
       "    <tr style=\"text-align: right;\">\n",
       "      <th></th>\n",
       "      <th>SKU</th>\n",
       "      <th>Store</th>\n",
       "      <th>Elasticity</th>\n",
       "      <th>Qty</th>\n",
       "      <th>P_value</th>\n",
       "      <th>ClassId</th>\n",
       "      <th>CategoryId</th>\n",
       "      <th>ClusterId</th>\n",
       "      <th>TradePointCode</th>\n",
       "      <th>Region</th>\n",
       "      <th>DaysOpen</th>\n",
       "      <th>CloseDate</th>\n",
       "      <th>BrandName</th>\n",
       "      <th>BrandGroupId</th>\n",
       "      <th>Brands_GUID</th>\n",
       "      <th>BE_Id</th>\n",
       "      <th>BE_Name</th>\n",
       "      <th>BE_GUID</th>\n",
       "    </tr>\n",
       "  </thead>\n",
       "  <tbody>\n",
       "    <tr>\n",
       "      <th>3</th>\n",
       "      <td>97140</td>\n",
       "      <td>1086</td>\n",
       "      <td>-2.682751</td>\n",
       "      <td>3.911111</td>\n",
       "      <td>5.429218e-04</td>\n",
       "      <td>2003</td>\n",
       "      <td>2532</td>\n",
       "      <td>994</td>\n",
       "      <td>А01085</td>\n",
       "      <td>СПБ</td>\n",
       "      <td>4574</td>\n",
       "      <td>2100-01-01</td>\n",
       "      <td>Озерки</td>\n",
       "      <td>3</td>\n",
       "      <td>E378FD87-0BB5-E984-11E8-54EE74216F5D</td>\n",
       "      <td>25</td>\n",
       "      <td>БЕ Озерки СЗ</td>\n",
       "      <td>5000DB80-9356-86BC-11E8-82B3A92564D8</td>\n",
       "    </tr>\n",
       "    <tr>\n",
       "      <th>4</th>\n",
       "      <td>97140</td>\n",
       "      <td>1085</td>\n",
       "      <td>-5.769920</td>\n",
       "      <td>5.633333</td>\n",
       "      <td>3.125485e-41</td>\n",
       "      <td>2003</td>\n",
       "      <td>2532</td>\n",
       "      <td>994</td>\n",
       "      <td>А01084</td>\n",
       "      <td>СПБ</td>\n",
       "      <td>3851</td>\n",
       "      <td>2100-01-01</td>\n",
       "      <td>Озерки</td>\n",
       "      <td>3</td>\n",
       "      <td>E378FD87-0BB5-E984-11E8-54EE74216F5D</td>\n",
       "      <td>25</td>\n",
       "      <td>БЕ Озерки СЗ</td>\n",
       "      <td>5000DB80-9356-86BC-11E8-82B3A92564D8</td>\n",
       "    </tr>\n",
       "    <tr>\n",
       "      <th>7</th>\n",
       "      <td>97140</td>\n",
       "      <td>1081</td>\n",
       "      <td>-6.747417</td>\n",
       "      <td>7.255556</td>\n",
       "      <td>3.004648e-03</td>\n",
       "      <td>2003</td>\n",
       "      <td>2532</td>\n",
       "      <td>994</td>\n",
       "      <td>А01080</td>\n",
       "      <td>СПБ</td>\n",
       "      <td>4678</td>\n",
       "      <td>2100-01-01</td>\n",
       "      <td>Озерки</td>\n",
       "      <td>3</td>\n",
       "      <td>E378FD87-0BB5-E984-11E8-54EE74216F5D</td>\n",
       "      <td>25</td>\n",
       "      <td>БЕ Озерки СЗ</td>\n",
       "      <td>5000DB80-9356-86BC-11E8-82B3A92564D8</td>\n",
       "    </tr>\n",
       "    <tr>\n",
       "      <th>8</th>\n",
       "      <td>97128</td>\n",
       "      <td>2834</td>\n",
       "      <td>-2.938277</td>\n",
       "      <td>398.411111</td>\n",
       "      <td>4.927807e-04</td>\n",
       "      <td>2003</td>\n",
       "      <td>2711</td>\n",
       "      <td>39</td>\n",
       "      <td>А02829</td>\n",
       "      <td>ИНТЕРНЕТМАГАЗИН</td>\n",
       "      <td>827</td>\n",
       "      <td>2100-01-01</td>\n",
       "      <td>Озерки</td>\n",
       "      <td>3</td>\n",
       "      <td>E378FD87-0BB5-E984-11E8-54EE74216F5D</td>\n",
       "      <td>25</td>\n",
       "      <td>БЕ Озерки СЗ</td>\n",
       "      <td>5000DB80-9356-86BC-11E8-82B3A92564D8</td>\n",
       "    </tr>\n",
       "    <tr>\n",
       "      <th>11</th>\n",
       "      <td>97128</td>\n",
       "      <td>1954</td>\n",
       "      <td>-8.201317</td>\n",
       "      <td>1.322222</td>\n",
       "      <td>2.705127e-33</td>\n",
       "      <td>2003</td>\n",
       "      <td>2711</td>\n",
       "      <td>39</td>\n",
       "      <td>А01953</td>\n",
       "      <td>ВО</td>\n",
       "      <td>2395</td>\n",
       "      <td>2100-01-01</td>\n",
       "      <td>Озерки</td>\n",
       "      <td>3</td>\n",
       "      <td>E378FD87-0BB5-E984-11E8-54EE74216F5D</td>\n",
       "      <td>25</td>\n",
       "      <td>БЕ Озерки СЗ</td>\n",
       "      <td>5000DB80-9356-86BC-11E8-82B3A92564D8</td>\n",
       "    </tr>\n",
       "    <tr>\n",
       "      <th>...</th>\n",
       "      <td>...</td>\n",
       "      <td>...</td>\n",
       "      <td>...</td>\n",
       "      <td>...</td>\n",
       "      <td>...</td>\n",
       "      <td>...</td>\n",
       "      <td>...</td>\n",
       "      <td>...</td>\n",
       "      <td>...</td>\n",
       "      <td>...</td>\n",
       "      <td>...</td>\n",
       "      <td>...</td>\n",
       "      <td>...</td>\n",
       "      <td>...</td>\n",
       "      <td>...</td>\n",
       "      <td>...</td>\n",
       "      <td>...</td>\n",
       "      <td>...</td>\n",
       "    </tr>\n",
       "    <tr>\n",
       "      <th>49960</th>\n",
       "      <td>13172</td>\n",
       "      <td>1768</td>\n",
       "      <td>-3.749650</td>\n",
       "      <td>4.788889</td>\n",
       "      <td>1.376729e-81</td>\n",
       "      <td>2003</td>\n",
       "      <td>2561</td>\n",
       "      <td>28</td>\n",
       "      <td>А01767</td>\n",
       "      <td>СПБ</td>\n",
       "      <td>7401</td>\n",
       "      <td>2100-01-01</td>\n",
       "      <td>Озерки</td>\n",
       "      <td>3</td>\n",
       "      <td>E378FD87-0BB5-E984-11E8-54EE74216F5D</td>\n",
       "      <td>25</td>\n",
       "      <td>БЕ Озерки СЗ</td>\n",
       "      <td>5000DB80-9356-86BC-11E8-82B3A92564D8</td>\n",
       "    </tr>\n",
       "    <tr>\n",
       "      <th>49973</th>\n",
       "      <td>13156</td>\n",
       "      <td>1118</td>\n",
       "      <td>-1.819591</td>\n",
       "      <td>26.166667</td>\n",
       "      <td>2.276186e-02</td>\n",
       "      <td>2003</td>\n",
       "      <td>2489</td>\n",
       "      <td>467</td>\n",
       "      <td>А01117</td>\n",
       "      <td>СПБ</td>\n",
       "      <td>1764</td>\n",
       "      <td>2100-01-01</td>\n",
       "      <td>Озерки</td>\n",
       "      <td>3</td>\n",
       "      <td>E378FD87-0BB5-E984-11E8-54EE74216F5D</td>\n",
       "      <td>25</td>\n",
       "      <td>БЕ Озерки СЗ</td>\n",
       "      <td>5000DB80-9356-86BC-11E8-82B3A92564D8</td>\n",
       "    </tr>\n",
       "    <tr>\n",
       "      <th>49987</th>\n",
       "      <td>13154</td>\n",
       "      <td>1953</td>\n",
       "      <td>-4.151737</td>\n",
       "      <td>4.766667</td>\n",
       "      <td>6.777473e-55</td>\n",
       "      <td>2003</td>\n",
       "      <td>2489</td>\n",
       "      <td>467</td>\n",
       "      <td>А01952</td>\n",
       "      <td>ЧЕРЕПОВЕЦ</td>\n",
       "      <td>2443</td>\n",
       "      <td>2020-05-29</td>\n",
       "      <td>Озерки</td>\n",
       "      <td>3</td>\n",
       "      <td>E378FD87-0BB5-E984-11E8-54EE74216F5D</td>\n",
       "      <td>25</td>\n",
       "      <td>БЕ Озерки СЗ</td>\n",
       "      <td>5000DB80-9356-86BC-11E8-82B3A92564D8</td>\n",
       "    </tr>\n",
       "    <tr>\n",
       "      <th>49988</th>\n",
       "      <td>13154</td>\n",
       "      <td>1954</td>\n",
       "      <td>-5.134763</td>\n",
       "      <td>4.855556</td>\n",
       "      <td>4.737847e-28</td>\n",
       "      <td>2003</td>\n",
       "      <td>2489</td>\n",
       "      <td>467</td>\n",
       "      <td>А01953</td>\n",
       "      <td>ВО</td>\n",
       "      <td>2395</td>\n",
       "      <td>2100-01-01</td>\n",
       "      <td>Озерки</td>\n",
       "      <td>3</td>\n",
       "      <td>E378FD87-0BB5-E984-11E8-54EE74216F5D</td>\n",
       "      <td>25</td>\n",
       "      <td>БЕ Озерки СЗ</td>\n",
       "      <td>5000DB80-9356-86BC-11E8-82B3A92564D8</td>\n",
       "    </tr>\n",
       "    <tr>\n",
       "      <th>49992</th>\n",
       "      <td>13156</td>\n",
       "      <td>1077</td>\n",
       "      <td>-2.010084</td>\n",
       "      <td>34.922222</td>\n",
       "      <td>1.492815e-02</td>\n",
       "      <td>2003</td>\n",
       "      <td>2489</td>\n",
       "      <td>467</td>\n",
       "      <td>А01076</td>\n",
       "      <td>СПБ</td>\n",
       "      <td>5789</td>\n",
       "      <td>2100-01-01</td>\n",
       "      <td>Озерки</td>\n",
       "      <td>3</td>\n",
       "      <td>E378FD87-0BB5-E984-11E8-54EE74216F5D</td>\n",
       "      <td>25</td>\n",
       "      <td>БЕ Озерки СЗ</td>\n",
       "      <td>5000DB80-9356-86BC-11E8-82B3A92564D8</td>\n",
       "    </tr>\n",
       "  </tbody>\n",
       "</table>\n",
       "<p>10887 rows × 18 columns</p>\n",
       "</div>"
      ],
      "text/plain": [
       "         SKU  Store  Elasticity         Qty       P_value  ClassId  \\\n",
       "3      97140   1086   -2.682751    3.911111  5.429218e-04     2003   \n",
       "4      97140   1085   -5.769920    5.633333  3.125485e-41     2003   \n",
       "7      97140   1081   -6.747417    7.255556  3.004648e-03     2003   \n",
       "8      97128   2834   -2.938277  398.411111  4.927807e-04     2003   \n",
       "11     97128   1954   -8.201317    1.322222  2.705127e-33     2003   \n",
       "...      ...    ...         ...         ...           ...      ...   \n",
       "49960  13172   1768   -3.749650    4.788889  1.376729e-81     2003   \n",
       "49973  13156   1118   -1.819591   26.166667  2.276186e-02     2003   \n",
       "49987  13154   1953   -4.151737    4.766667  6.777473e-55     2003   \n",
       "49988  13154   1954   -5.134763    4.855556  4.737847e-28     2003   \n",
       "49992  13156   1077   -2.010084   34.922222  1.492815e-02     2003   \n",
       "\n",
       "       CategoryId  ClusterId TradePointCode           Region  DaysOpen  \\\n",
       "3            2532        994         А01085              СПБ      4574   \n",
       "4            2532        994         А01084              СПБ      3851   \n",
       "7            2532        994         А01080              СПБ      4678   \n",
       "8            2711         39         А02829  ИНТЕРНЕТМАГАЗИН       827   \n",
       "11           2711         39         А01953               ВО      2395   \n",
       "...           ...        ...            ...              ...       ...   \n",
       "49960        2561         28         А01767              СПБ      7401   \n",
       "49973        2489        467         А01117              СПБ      1764   \n",
       "49987        2489        467         А01952        ЧЕРЕПОВЕЦ      2443   \n",
       "49988        2489        467         А01953               ВО      2395   \n",
       "49992        2489        467         А01076              СПБ      5789   \n",
       "\n",
       "       CloseDate BrandName  BrandGroupId  \\\n",
       "3     2100-01-01    Озерки             3   \n",
       "4     2100-01-01    Озерки             3   \n",
       "7     2100-01-01    Озерки             3   \n",
       "8     2100-01-01    Озерки             3   \n",
       "11    2100-01-01    Озерки             3   \n",
       "...          ...       ...           ...   \n",
       "49960 2100-01-01    Озерки             3   \n",
       "49973 2100-01-01    Озерки             3   \n",
       "49987 2020-05-29    Озерки             3   \n",
       "49988 2100-01-01    Озерки             3   \n",
       "49992 2100-01-01    Озерки             3   \n",
       "\n",
       "                                Brands_GUID  BE_Id       BE_Name  \\\n",
       "3      E378FD87-0BB5-E984-11E8-54EE74216F5D     25  БЕ Озерки СЗ   \n",
       "4      E378FD87-0BB5-E984-11E8-54EE74216F5D     25  БЕ Озерки СЗ   \n",
       "7      E378FD87-0BB5-E984-11E8-54EE74216F5D     25  БЕ Озерки СЗ   \n",
       "8      E378FD87-0BB5-E984-11E8-54EE74216F5D     25  БЕ Озерки СЗ   \n",
       "11     E378FD87-0BB5-E984-11E8-54EE74216F5D     25  БЕ Озерки СЗ   \n",
       "...                                     ...    ...           ...   \n",
       "49960  E378FD87-0BB5-E984-11E8-54EE74216F5D     25  БЕ Озерки СЗ   \n",
       "49973  E378FD87-0BB5-E984-11E8-54EE74216F5D     25  БЕ Озерки СЗ   \n",
       "49987  E378FD87-0BB5-E984-11E8-54EE74216F5D     25  БЕ Озерки СЗ   \n",
       "49988  E378FD87-0BB5-E984-11E8-54EE74216F5D     25  БЕ Озерки СЗ   \n",
       "49992  E378FD87-0BB5-E984-11E8-54EE74216F5D     25  БЕ Озерки СЗ   \n",
       "\n",
       "                                    BE_GUID  \n",
       "3      5000DB80-9356-86BC-11E8-82B3A92564D8  \n",
       "4      5000DB80-9356-86BC-11E8-82B3A92564D8  \n",
       "7      5000DB80-9356-86BC-11E8-82B3A92564D8  \n",
       "8      5000DB80-9356-86BC-11E8-82B3A92564D8  \n",
       "11     5000DB80-9356-86BC-11E8-82B3A92564D8  \n",
       "...                                     ...  \n",
       "49960  5000DB80-9356-86BC-11E8-82B3A92564D8  \n",
       "49973  5000DB80-9356-86BC-11E8-82B3A92564D8  \n",
       "49987  5000DB80-9356-86BC-11E8-82B3A92564D8  \n",
       "49988  5000DB80-9356-86BC-11E8-82B3A92564D8  \n",
       "49992  5000DB80-9356-86BC-11E8-82B3A92564D8  \n",
       "\n",
       "[10887 rows x 18 columns]"
      ]
     },
     "execution_count": 195,
     "metadata": {},
     "output_type": "execute_result"
    }
   ],
   "source": [
    "import time\n",
    "df_sku['OpenDate'] = pd.to_datetime(df_sku.OpenDate)\n",
    "#cur_date = time.mktime(time.strptime('01/01/2019', \"%d/%m/%Y\"))\n",
    "df_sku['OpenDate'] = df_sku['OpenDate'].rsub(pd.Timestamp('today')).dt.days\n",
    "df_sku.rename(columns={'OpenDate' : 'DaysOpen'}, inplace = True)\n"
   ]
  },
  {
   "cell_type": "code",
   "execution_count": 200,
   "metadata": {
    "ExecuteTime": {
     "end_time": "2021-04-07T16:38:53.081567Z",
     "start_time": "2021-04-07T16:38:53.059538Z"
    }
   },
   "outputs": [
    {
     "data": {
      "text/html": [
       "<div>\n",
       "<style scoped>\n",
       "    .dataframe tbody tr th:only-of-type {\n",
       "        vertical-align: middle;\n",
       "    }\n",
       "\n",
       "    .dataframe tbody tr th {\n",
       "        vertical-align: top;\n",
       "    }\n",
       "\n",
       "    .dataframe thead th {\n",
       "        text-align: right;\n",
       "    }\n",
       "</style>\n",
       "<table border=\"1\" class=\"dataframe\">\n",
       "  <thead>\n",
       "    <tr style=\"text-align: right;\">\n",
       "      <th></th>\n",
       "      <th>SKU</th>\n",
       "      <th>Store</th>\n",
       "      <th>Elasticity</th>\n",
       "      <th>Qty</th>\n",
       "      <th>P_value</th>\n",
       "      <th>ClassId</th>\n",
       "      <th>CategoryId</th>\n",
       "      <th>ClusterId</th>\n",
       "      <th>TradePointCode</th>\n",
       "      <th>Region</th>\n",
       "      <th>DaysOpen</th>\n",
       "      <th>CloseDate</th>\n",
       "      <th>BrandName</th>\n",
       "      <th>BrandGroupId</th>\n",
       "      <th>Brands_GUID</th>\n",
       "      <th>BE_Id</th>\n",
       "      <th>BE_Name</th>\n",
       "      <th>BE_GUID</th>\n",
       "    </tr>\n",
       "  </thead>\n",
       "  <tbody>\n",
       "    <tr>\n",
       "      <th>3</th>\n",
       "      <td>97140</td>\n",
       "      <td>1086</td>\n",
       "      <td>-2.682751</td>\n",
       "      <td>3.911111</td>\n",
       "      <td>0.000543</td>\n",
       "      <td>2003</td>\n",
       "      <td>2532</td>\n",
       "      <td>994</td>\n",
       "      <td>А01085</td>\n",
       "      <td>СПБ</td>\n",
       "      <td>4574</td>\n",
       "      <td>2100-01-01</td>\n",
       "      <td>Озерки</td>\n",
       "      <td>3</td>\n",
       "      <td>E378FD87-0BB5-E984-11E8-54EE74216F5D</td>\n",
       "      <td>25</td>\n",
       "      <td>БЕ Озерки СЗ</td>\n",
       "      <td>5000DB80-9356-86BC-11E8-82B3A92564D8</td>\n",
       "    </tr>\n",
       "  </tbody>\n",
       "</table>\n",
       "</div>"
      ],
      "text/plain": [
       "     SKU  Store  Elasticity       Qty   P_value  ClassId  CategoryId  \\\n",
       "3  97140   1086   -2.682751  3.911111  0.000543     2003        2532   \n",
       "\n",
       "   ClusterId TradePointCode Region  DaysOpen  CloseDate BrandName  \\\n",
       "3        994         А01085    СПБ      4574 2100-01-01    Озерки   \n",
       "\n",
       "   BrandGroupId                           Brands_GUID  BE_Id       BE_Name  \\\n",
       "3             3  E378FD87-0BB5-E984-11E8-54EE74216F5D     25  БЕ Озерки СЗ   \n",
       "\n",
       "                                BE_GUID  \n",
       "3  5000DB80-9356-86BC-11E8-82B3A92564D8  "
      ]
     },
     "execution_count": 200,
     "metadata": {},
     "output_type": "execute_result"
    }
   ],
   "source": [
    "df_sku.head(n=1)"
   ]
  },
  {
   "cell_type": "code",
   "execution_count": 202,
   "metadata": {
    "ExecuteTime": {
     "end_time": "2021-04-07T16:39:45.608757Z",
     "start_time": "2021-04-07T16:39:45.581245Z"
    }
   },
   "outputs": [
    {
     "name": "stdout",
     "output_type": "stream",
     "text": [
      "         SKU  Store  ClassId  CategoryId  ClusterId  DaysOpen  ВО  ВОЛОГДА  \\\n",
      "3      97140   1086     2003        2532        994      4574   0        0   \n",
      "4      97140   1085     2003        2532        994      3851   0        0   \n",
      "7      97140   1081     2003        2532        994      4678   0        0   \n",
      "8      97128   2834     2003        2711         39       827   0        0   \n",
      "11     97128   1954     2003        2711         39      2395   1        0   \n",
      "...      ...    ...      ...         ...        ...       ...  ..      ...   \n",
      "49960  13172   1768     2003        2561         28      7401   0        0   \n",
      "49973  13156   1118     2003        2489        467      1764   0        0   \n",
      "49987  13154   1953     2003        2489        467      2443   0        0   \n",
      "49988  13154   1954     2003        2489        467      2395   1        0   \n",
      "49992  13156   1077     2003        2489        467      5789   0        0   \n",
      "\n",
      "       ИНТЕРНЕТМАГАЗИН  ЛО  СПБ  ЧЕРЕПОВЕЦ  ШУШАРЫ  \n",
      "3                    0   0    1          0       0  \n",
      "4                    0   0    1          0       0  \n",
      "7                    0   0    1          0       0  \n",
      "8                    1   0    0          0       0  \n",
      "11                   0   0    0          0       0  \n",
      "...                ...  ..  ...        ...     ...  \n",
      "49960                0   0    1          0       0  \n",
      "49973                0   0    1          0       0  \n",
      "49987                0   0    0          1       0  \n",
      "49988                0   0    0          0       0  \n",
      "49992                0   0    1          0       0  \n",
      "\n",
      "[10887 rows x 13 columns]\n"
     ]
    }
   ],
   "source": [
    "X = df_sku[['SKU', 'Store', 'ClassId', 'CategoryId', 'ClusterId', 'Region', 'DaysOpen']]\n",
    "one_hot = pd.get_dummies(X['Region'])\n",
    "# Drop column B as it is now encoded\n",
    "X = X.drop('Region',axis = 1)\n",
    "# Join the encoded df\n",
    "X = X.join(one_hot)\n",
    "print(X)\n",
    "X = X.to_numpy()  \n",
    "y = df_sku['Elasticity'].to_numpy()"
   ]
  },
  {
   "cell_type": "code",
   "execution_count": 203,
   "metadata": {
    "ExecuteTime": {
     "end_time": "2021-04-07T16:39:46.422299Z",
     "start_time": "2021-04-07T16:39:46.400234Z"
    }
   },
   "outputs": [],
   "source": [
    "from sklearn.model_selection import train_test_split\n",
    "\n",
    "X_train, X_test, y_train, y_test = train_test_split(X, y, test_size=0.1, random_state=42)"
   ]
  },
  {
   "cell_type": "code",
   "execution_count": 207,
   "metadata": {
    "ExecuteTime": {
     "end_time": "2021-04-07T16:40:11.513978Z",
     "start_time": "2021-04-07T16:40:08.197179Z"
    }
   },
   "outputs": [],
   "source": [
    "from sklearn.ensemble import RandomForestRegressor\n",
    "from sklearn.metrics import mean_squared_error\n",
    "\n",
    "reg = RandomForestRegressor().fit(X_train, y_train)"
   ]
  },
  {
   "cell_type": "code",
   "execution_count": 208,
   "metadata": {
    "ExecuteTime": {
     "end_time": "2021-04-07T16:40:11.799818Z",
     "start_time": "2021-04-07T16:40:11.739335Z"
    }
   },
   "outputs": [
    {
     "data": {
      "text/plain": [
       "6.055363941308769"
      ]
     },
     "execution_count": 208,
     "metadata": {},
     "output_type": "execute_result"
    }
   ],
   "source": [
    "mean_squared_error(y_test, reg.predict(X_test))"
   ]
  },
  {
   "cell_type": "code",
   "execution_count": 209,
   "metadata": {
    "ExecuteTime": {
     "end_time": "2021-04-07T16:40:12.616063Z",
     "start_time": "2021-04-07T16:40:12.448103Z"
    }
   },
   "outputs": [
    {
     "data": {
      "text/plain": [
       "Text(0, 0.5, 'Predictions')"
      ]
     },
     "execution_count": 209,
     "metadata": {},
     "output_type": "execute_result"
    },
    {
     "data": {
      "image/png": "[encoded data removed]",
      "text/plain": [
       "<Figure size 432x288 with 1 Axes>"
      ]
     },
     "metadata": {
      "needs_background": "light"
     },
     "output_type": "display_data"
    }
   ],
   "source": [
    "plt.scatter(y_test, reg.predict(X_test))\n",
    "plt.xlabel(\"True Values\")\n",
    "plt.ylabel(\"Predictions\")"
   ]
  },
  {
   "cell_type": "code",
   "execution_count": 219,
   "metadata": {
    "ExecuteTime": {
     "end_time": "2021-04-07T18:02:17.087024Z",
     "start_time": "2021-04-07T18:02:16.580503Z"
    }
   },
   "outputs": [
    {
     "data": {
      "text/plain": [
       "6.055363941308769"
      ]
     },
     "execution_count": 219,
     "metadata": {},
     "output_type": "execute_result"
    }
   ],
   "source": []
  },
  {
   "cell_type": "markdown",
   "metadata": {},
   "source": [
    "# RandomForest"
   ]
  },
  {
   "cell_type": "markdown",
   "metadata": {},
   "source": [
    "## подбор гипер параметров"
   ]
  },
  {
   "cell_type": "code",
   "execution_count": 306,
   "metadata": {
    "ExecuteTime": {
     "end_time": "2021-04-09T12:12:08.288163Z",
     "start_time": "2021-04-09T12:07:38.287061Z"
    }
   },
   "outputs": [
    {
     "name": "stdout",
     "output_type": "stream",
     "text": [
      "Fitting 6 folds for each of 144 candidates, totalling 864 fits\n"
     ]
    },
    {
     "name": "stderr",
     "output_type": "stream",
     "text": [
      "[Parallel(n_jobs=-1)]: Using backend LokyBackend with 8 concurrent workers.\n",
      "[Parallel(n_jobs=-1)]: Done  25 tasks      | elapsed:    5.8s\n",
      "[Parallel(n_jobs=-1)]: Done 146 tasks      | elapsed:   33.4s\n",
      "[Parallel(n_jobs=-1)]: Done 349 tasks      | elapsed:  1.4min\n",
      "[Parallel(n_jobs=-1)]: Done 632 tasks      | elapsed:  3.0min\n",
      "[Parallel(n_jobs=-1)]: Done 864 out of 864 | elapsed:  4.4min finished\n"
     ]
    },
    {
     "name": "stdout",
     "output_type": "stream",
     "text": [
      "{'bootstrap': True, 'max_depth': 2, 'min_samples_leaf': 4, 'min_samples_split': 6, 'n_estimators': 250}\n",
      "5.94449647408008\n"
     ]
    },
    {
     "data": {
      "image/png": "[encoded data removed]",
      "text/plain": [
       "<Figure size 792x576 with 1 Axes>"
      ]
     },
     "metadata": {
      "needs_background": "light"
     },
     "output_type": "display_data"
    }
   ],
   "source": [
    "from sklearn.model_selection import GridSearchCV\n",
    "import seaborn as sns\n",
    "import pandas as pd\n",
    "\n",
    "def plot_cv_results(cv_results, param_x, param_z, metric='mean_test_score'):\n",
    "    \"\"\"\n",
    "    cv_results - cv_results_ attribute of a GridSearchCV instance (or similar)\n",
    "    param_x - name of grid search parameter to plot on x axis\n",
    "    param_z - name of grid search parameter to plot by line color\n",
    "    \"\"\"\n",
    "    cv_results = pd.DataFrame(cv_results)\n",
    "    col_x = 'param_' + param_x\n",
    "    col_z = 'param_' + param_z\n",
    "    fig, ax = plt.subplots(1, 1, figsize=(11, 8))\n",
    "    sns.pointplot(x=col_x, y=metric, hue=col_z, data=cv_results, ci=99, n_boot=64, ax=ax)\n",
    "    ax.set_title(\"CV Grid Search Results\")\n",
    "    ax.set_xlabel(param_x)\n",
    "    ax.set_ylabel(metric)\n",
    "    ax.legend(title=param_z)\n",
    "    return fig\n",
    "\n",
    "param_grid = {\n",
    "    'bootstrap': [True],\n",
    "    'max_depth': [2, 3, 4], \n",
    "    'min_samples_leaf': [2,3,4],\n",
    "    'min_samples_split': [5, 6, 7, 8],\n",
    "    'n_estimators': [100,150,200,250]\n",
    "}\n",
    "# Create a based model\n",
    "\n",
    "# Instantiate the grid search model\n",
    "grid_search = GridSearchCV(estimator = rf, param_grid = param_grid, \n",
    "                          cv = 6, n_jobs = -1, verbose = 2)\n",
    "\n",
    "grid_search.fit(X_train, y_train)\n",
    "print(grid_search.best_params_)\n",
    "\n",
    "#fig, axs = plt.subplots(figsize=(16, 5), ncols=4)\n",
    "\n",
    "\n",
    "print(mean_squared_error(y_test, grid_search.predict(X_test)))\n",
    "fig = plot_cv_results(grid_search.cv_results_, 'n_estimators', 'min_samples_split')"
   ]
  },
  {
   "cell_type": "code",
   "execution_count": 307,
   "metadata": {
    "ExecuteTime": {
     "end_time": "2021-04-09T12:12:10.100672Z",
     "start_time": "2021-04-09T12:12:09.788951Z"
    }
   },
   "outputs": [
    {
     "data": {
      "text/plain": [
       "Text(0, 0.5, 'Predictions')"
      ]
     },
     "execution_count": 307,
     "metadata": {},
     "output_type": "execute_result"
    },
    {
     "data": {
      "image/png": "[encoded data removed]",
      "text/plain": [
       "<Figure size 432x288 with 1 Axes>"
      ]
     },
     "metadata": {
      "needs_background": "light"
     },
     "output_type": "display_data"
    }
   ],
   "source": [
    "plt.scatter(y_test, grid_search.predict(X_test))\n",
    "plt.xlabel(\"True Values\")\n",
    "plt.ylabel(\"Predictions\")"
   ]
  },
  {
   "cell_type": "markdown",
   "metadata": {},
   "source": [
    "## MSE, Графики на кросс-вале"
   ]
  },
  {
   "cell_type": "code",
   "execution_count": 308,
   "metadata": {
    "ExecuteTime": {
     "end_time": "2021-04-09T12:34:09.428305Z",
     "start_time": "2021-04-09T12:12:11.010570Z"
    }
   },
   "outputs": [
    {
     "name": "stdout",
     "output_type": "stream",
     "text": [
      "Fitting 6 folds for each of 144 candidates, totalling 864 fits\n"
     ]
    },
    {
     "name": "stderr",
     "output_type": "stream",
     "text": [
      "[Parallel(n_jobs=-1)]: Using backend LokyBackend with 8 concurrent workers.\n",
      "[Parallel(n_jobs=-1)]: Done  25 tasks      | elapsed:    5.1s\n",
      "[Parallel(n_jobs=-1)]: Done 146 tasks      | elapsed:   29.2s\n",
      "[Parallel(n_jobs=-1)]: Done 349 tasks      | elapsed:  1.2min\n",
      "[Parallel(n_jobs=-1)]: Done 632 tasks      | elapsed:  2.5min\n",
      "[Parallel(n_jobs=-1)]: Done 864 out of 864 | elapsed:  3.7min finished\n"
     ]
    },
    {
     "name": "stdout",
     "output_type": "stream",
     "text": [
      "MSE : 1\n",
      "5.400781395360579\n",
      "Fitting 6 folds for each of 144 candidates, totalling 864 fits\n"
     ]
    },
    {
     "name": "stderr",
     "output_type": "stream",
     "text": [
      "[Parallel(n_jobs=-1)]: Using backend LokyBackend with 8 concurrent workers.\n",
      "[Parallel(n_jobs=-1)]: Done  25 tasks      | elapsed:    5.2s\n",
      "[Parallel(n_jobs=-1)]: Done 146 tasks      | elapsed:   29.5s\n",
      "[Parallel(n_jobs=-1)]: Done 349 tasks      | elapsed:  1.2min\n",
      "[Parallel(n_jobs=-1)]: Done 632 tasks      | elapsed:  2.5min\n",
      "[Parallel(n_jobs=-1)]: Done 864 out of 864 | elapsed:  3.7min finished\n"
     ]
    },
    {
     "name": "stdout",
     "output_type": "stream",
     "text": [
      "MSE : 2\n",
      "5.763819736902018\n",
      "Fitting 6 folds for each of 144 candidates, totalling 864 fits\n"
     ]
    },
    {
     "name": "stderr",
     "output_type": "stream",
     "text": [
      "[Parallel(n_jobs=-1)]: Using backend LokyBackend with 8 concurrent workers.\n",
      "[Parallel(n_jobs=-1)]: Done  25 tasks      | elapsed:    5.2s\n",
      "[Parallel(n_jobs=-1)]: Done 146 tasks      | elapsed:   29.0s\n",
      "[Parallel(n_jobs=-1)]: Done 349 tasks      | elapsed:  1.2min\n",
      "[Parallel(n_jobs=-1)]: Done 632 tasks      | elapsed:  2.5min\n",
      "[Parallel(n_jobs=-1)]: Done 864 out of 864 | elapsed:  3.7min finished\n"
     ]
    },
    {
     "name": "stdout",
     "output_type": "stream",
     "text": [
      "MSE : 3\n",
      "5.6662322397945415\n",
      "Fitting 6 folds for each of 144 candidates, totalling 864 fits\n"
     ]
    },
    {
     "name": "stderr",
     "output_type": "stream",
     "text": [
      "[Parallel(n_jobs=-1)]: Using backend LokyBackend with 8 concurrent workers.\n",
      "[Parallel(n_jobs=-1)]: Done  25 tasks      | elapsed:    4.9s\n",
      "[Parallel(n_jobs=-1)]: Done 146 tasks      | elapsed:   28.5s\n",
      "[Parallel(n_jobs=-1)]: Done 349 tasks      | elapsed:  1.2min\n",
      "[Parallel(n_jobs=-1)]: Done 632 tasks      | elapsed:  2.4min\n",
      "[Parallel(n_jobs=-1)]: Done 864 out of 864 | elapsed:  3.6min finished\n"
     ]
    },
    {
     "name": "stdout",
     "output_type": "stream",
     "text": [
      "MSE : 4\n",
      "6.705020096710664\n",
      "Fitting 6 folds for each of 144 candidates, totalling 864 fits\n"
     ]
    },
    {
     "name": "stderr",
     "output_type": "stream",
     "text": [
      "[Parallel(n_jobs=-1)]: Using backend LokyBackend with 8 concurrent workers.\n",
      "[Parallel(n_jobs=-1)]: Done  25 tasks      | elapsed:    5.0s\n",
      "[Parallel(n_jobs=-1)]: Done 146 tasks      | elapsed:   28.3s\n",
      "[Parallel(n_jobs=-1)]: Done 349 tasks      | elapsed:  1.2min\n",
      "[Parallel(n_jobs=-1)]: Done 632 tasks      | elapsed:  2.4min\n",
      "[Parallel(n_jobs=-1)]: Done 864 out of 864 | elapsed:  3.6min finished\n"
     ]
    },
    {
     "name": "stdout",
     "output_type": "stream",
     "text": [
      "MSE : 5\n",
      "6.228723804603773\n",
      "Fitting 6 folds for each of 144 candidates, totalling 864 fits\n"
     ]
    },
    {
     "name": "stderr",
     "output_type": "stream",
     "text": [
      "[Parallel(n_jobs=-1)]: Using backend LokyBackend with 8 concurrent workers.\n",
      "[Parallel(n_jobs=-1)]: Done  25 tasks      | elapsed:    5.1s\n",
      "[Parallel(n_jobs=-1)]: Done 146 tasks      | elapsed:   28.6s\n",
      "[Parallel(n_jobs=-1)]: Done 349 tasks      | elapsed:  1.2min\n",
      "[Parallel(n_jobs=-1)]: Done 632 tasks      | elapsed:  2.4min\n",
      "[Parallel(n_jobs=-1)]: Done 864 out of 864 | elapsed:  3.6min finished\n"
     ]
    },
    {
     "name": "stdout",
     "output_type": "stream",
     "text": [
      "MSE : 6\n",
      "5.940137932196188\n"
     ]
    },
    {
     "data": {
      "image/png": "[encoded data removed]",
      "text/plain": [
       "<Figure size 800x640 with 6 Axes>"
      ]
     },
     "metadata": {
      "needs_background": "light"
     },
     "output_type": "display_data"
    }
   ],
   "source": [
    "kf = KFold(n_splits=6)\n",
    "kf.get_n_splits(X)\n",
    "\n",
    "\n",
    "plt.figure(figsize=(10,8), dpi= 80)\n",
    "\n",
    "i = 0\n",
    "for train_index, test_index in kf.split(X):\n",
    "    #print(\"TRAIN:\", train_index, \"TEST:\", test_index)\n",
    "    X_cross, X_test = X[train_index], X[test_index]\n",
    "    y_cross, y_test = y[train_index], y[test_index]\n",
    "    grid_search.fit(X_cross, y_cross)\n",
    "    print(\"MSE :\", i+1)\n",
    "    print(mean_squared_error(y_test, grid_search.predict(X_test)))\n",
    "    plt.subplot(321 + i)\n",
    "    plt.scatter(y_test, grid_search.predict(X_test))\n",
    "    i += 1\n",
    "    plt.xlabel(\"True Values\")\n",
    "    plt.ylabel(\"Predictions\")\n",
    "\n",
    "plt.show()\n"
   ]
  },
  {
   "cell_type": "markdown",
   "metadata": {},
   "source": [
    "# Catboost"
   ]
  },
  {
   "cell_type": "markdown",
   "metadata": {},
   "source": [
    "## Подбор гиперпараметров"
   ]
  },
  {
   "cell_type": "code",
   "execution_count": 309,
   "metadata": {
    "ExecuteTime": {
     "end_time": "2021-04-09T12:36:29.031906Z",
     "start_time": "2021-04-09T12:34:09.978157Z"
    }
   },
   "outputs": [
    {
     "name": "stdout",
     "output_type": "stream",
     "text": [
      "Fitting 6 folds for each of 18 candidates, totalling 108 fits\n"
     ]
    },
    {
     "name": "stderr",
     "output_type": "stream",
     "text": [
      "[Parallel(n_jobs=-1)]: Using backend LokyBackend with 8 concurrent workers.\n",
      "[Parallel(n_jobs=-1)]: Done  25 tasks      | elapsed:   36.5s\n",
      "[Parallel(n_jobs=-1)]: Done 108 out of 108 | elapsed:  2.3min finished\n"
     ]
    },
    {
     "name": "stdout",
     "output_type": "stream",
     "text": [
      "{'bagging_temperature': 0, 'bootstrap_type': 'Bayesian', 'learning_rate': 0.003}\n",
      "5.979481663139325\n"
     ]
    },
    {
     "data": {
      "image/png": "[encoded data removed]",
      "text/plain": [
       "<Figure size 792x576 with 1 Axes>"
      ]
     },
     "metadata": {
      "needs_background": "light"
     },
     "output_type": "display_data"
    }
   ],
   "source": [
    "from catboost import CatBoostRegressor\n",
    "from sklearn.model_selection import cross_val_score\n",
    "# Create a based model\n",
    "cb = CatBoostRegressor(verbose=False)\n",
    "# Instantiate the grid search model\n",
    "param_grid = {\n",
    "    'learning_rate': [0.001, 0.003, 0.01, 0.03, 0.1, 0.3],\n",
    "    'bootstrap_type':['Bayesian'],\n",
    "    'bagging_temperature': [0, 1, 10]\n",
    "}\n",
    "grid_search = GridSearchCV(estimator = cb, param_grid = param_grid, \n",
    "                          cv = 6, n_jobs = -1, verbose = 2)\n",
    "\n",
    "grid_search.fit(X_train, y_train)\n",
    "print(grid_search.best_params_)\n",
    "\n",
    "#fig, axs = plt.subplots(figsize=(16, 5), ncols=4)\n",
    "\n",
    "print(mean_squared_error(y_test, grid_search.predict(X_test)))\n",
    "\n",
    "\n",
    "fig = plot_cv_results(grid_search.cv_results_, 'learning_rate', 'bagging_temperature')"
   ]
  },
  {
   "cell_type": "markdown",
   "metadata": {},
   "source": [
    "## Сделаем честный кросс-вал"
   ]
  },
  {
   "cell_type": "code",
   "execution_count": 310,
   "metadata": {
    "ExecuteTime": {
     "end_time": "2021-04-09T12:50:37.059152Z",
     "start_time": "2021-04-09T12:36:29.679246Z"
    }
   },
   "outputs": [
    {
     "name": "stdout",
     "output_type": "stream",
     "text": [
      "Fitting 6 folds for each of 18 candidates, totalling 108 fits\n"
     ]
    },
    {
     "name": "stderr",
     "output_type": "stream",
     "text": [
      "[Parallel(n_jobs=-1)]: Using backend LokyBackend with 8 concurrent workers.\n",
      "[Parallel(n_jobs=-1)]: Done  25 tasks      | elapsed:   33.3s\n",
      "[Parallel(n_jobs=-1)]: Done 108 out of 108 | elapsed:  2.2min finished\n"
     ]
    },
    {
     "name": "stdout",
     "output_type": "stream",
     "text": [
      "MSE : 1\n",
      "5.417017877715273\n",
      "Fitting 6 folds for each of 18 candidates, totalling 108 fits\n"
     ]
    },
    {
     "name": "stderr",
     "output_type": "stream",
     "text": [
      "[Parallel(n_jobs=-1)]: Using backend LokyBackend with 8 concurrent workers.\n",
      "[Parallel(n_jobs=-1)]: Done  25 tasks      | elapsed:   31.8s\n",
      "[Parallel(n_jobs=-1)]: Done 108 out of 108 | elapsed:  2.3min finished\n"
     ]
    },
    {
     "name": "stdout",
     "output_type": "stream",
     "text": [
      "MSE : 2\n",
      "5.773032911459423\n",
      "Fitting 6 folds for each of 18 candidates, totalling 108 fits\n"
     ]
    },
    {
     "name": "stderr",
     "output_type": "stream",
     "text": [
      "[Parallel(n_jobs=-1)]: Using backend LokyBackend with 8 concurrent workers.\n",
      "[Parallel(n_jobs=-1)]: Done  25 tasks      | elapsed:   34.8s\n",
      "[Parallel(n_jobs=-1)]: Done 108 out of 108 | elapsed:  2.3min finished\n"
     ]
    },
    {
     "name": "stdout",
     "output_type": "stream",
     "text": [
      "MSE : 3\n",
      "5.692630908471006\n",
      "Fitting 6 folds for each of 18 candidates, totalling 108 fits\n"
     ]
    },
    {
     "name": "stderr",
     "output_type": "stream",
     "text": [
      "[Parallel(n_jobs=-1)]: Using backend LokyBackend with 8 concurrent workers.\n",
      "[Parallel(n_jobs=-1)]: Done  25 tasks      | elapsed:   37.1s\n",
      "[Parallel(n_jobs=-1)]: Done 108 out of 108 | elapsed:  2.3min finished\n"
     ]
    },
    {
     "name": "stdout",
     "output_type": "stream",
     "text": [
      "MSE : 4\n",
      "6.229661073605404\n",
      "Fitting 6 folds for each of 18 candidates, totalling 108 fits\n"
     ]
    },
    {
     "name": "stderr",
     "output_type": "stream",
     "text": [
      "[Parallel(n_jobs=-1)]: Using backend LokyBackend with 8 concurrent workers.\n",
      "[Parallel(n_jobs=-1)]: Done  25 tasks      | elapsed:   32.0s\n",
      "[Parallel(n_jobs=-1)]: Done 108 out of 108 | elapsed:  2.4min finished\n"
     ]
    },
    {
     "name": "stdout",
     "output_type": "stream",
     "text": [
      "MSE : 5\n",
      "6.229077673509643\n",
      "Fitting 6 folds for each of 18 candidates, totalling 108 fits\n"
     ]
    },
    {
     "name": "stderr",
     "output_type": "stream",
     "text": [
      "[Parallel(n_jobs=-1)]: Using backend LokyBackend with 8 concurrent workers.\n",
      "[Parallel(n_jobs=-1)]: Done  25 tasks      | elapsed:   36.2s\n",
      "[Parallel(n_jobs=-1)]: Done 108 out of 108 | elapsed:  2.3min finished\n"
     ]
    },
    {
     "name": "stdout",
     "output_type": "stream",
     "text": [
      "MSE : 6\n",
      "5.979481663139325\n"
     ]
    },
    {
     "data": {
      "image/png": "[encoded data removed]",
      "text/plain": [
       "<Figure size 800x640 with 6 Axes>"
      ]
     },
     "metadata": {
      "needs_background": "light"
     },
     "output_type": "display_data"
    }
   ],
   "source": [
    "import seaborn as sns\n",
    "from catboost import CatBoostRegressor\n",
    "from sklearn.model_selection import cross_val_score, KFold\n",
    "\n",
    "\n",
    "# Instantiate the grid search model\n",
    "\n",
    "kf = KFold(n_splits=6)\n",
    "kf.get_n_splits(X)\n",
    "\n",
    "\n",
    "plt.figure(figsize=(10,8), dpi= 80)\n",
    "\n",
    "i = 0\n",
    "for train_index, test_index in kf.split(X):\n",
    "    #print(\"TRAIN:\", train_index, \"TEST:\", test_index)\n",
    "    X_cross, X_test = X[train_index], X[test_index]\n",
    "    y_cross, y_test = y[train_index], y[test_index]\n",
    "    grid_search.fit(X_cross, y_cross)\n",
    "    print(\"MSE :\", i+1)\n",
    "    print(mean_squared_error(y_test, grid_search.predict(X_test)))\n",
    "    plt.subplot(321 + i)\n",
    "    plt.scatter(y_test, grid_search.predict(X_test))\n",
    "    i += 1\n",
    "    plt.xlabel(\"True Values\")\n",
    "    plt.ylabel(\"Predictions\")\n",
    "\n",
    "plt.show()\n"
   ]
  },
  {
   "cell_type": "markdown",
   "metadata": {},
   "source": [
    "# XGBoost"
   ]
  },
  {
   "cell_type": "markdown",
   "metadata": {},
   "source": [
    "## Подбор гиперпараметров"
   ]
  },
  {
   "cell_type": "code",
   "execution_count": 311,
   "metadata": {
    "ExecuteTime": {
     "end_time": "2021-04-09T12:51:17.725737Z",
     "start_time": "2021-04-09T12:50:37.764313Z"
    }
   },
   "outputs": [
    {
     "name": "stdout",
     "output_type": "stream",
     "text": [
      "Fitting 6 folds for each of 54 candidates, totalling 324 fits\n"
     ]
    },
    {
     "name": "stderr",
     "output_type": "stream",
     "text": [
      "[Parallel(n_jobs=-1)]: Using backend LokyBackend with 8 concurrent workers.\n",
      "[Parallel(n_jobs=-1)]: Done  25 tasks      | elapsed:    2.6s\n",
      "[Parallel(n_jobs=-1)]: Done 146 tasks      | elapsed:   18.1s\n",
      "[Parallel(n_jobs=-1)]: Done 324 out of 324 | elapsed:   39.0s finished\n"
     ]
    },
    {
     "name": "stdout",
     "output_type": "stream",
     "text": [
      "{'gamma': 0.001, 'max_depth': 2, 'min_child_weight': 1}\n",
      "6.045960294265376\n"
     ]
    },
    {
     "data": {
      "image/png": "[encoded data removed]",
      "text/plain": [
       "<Figure size 792x576 with 1 Axes>"
      ]
     },
     "metadata": {
      "needs_background": "light"
     },
     "output_type": "display_data"
    }
   ],
   "source": [
    "from xgboost import XGBRegressor\n",
    "\n",
    "\n",
    "xgb = XGBRegressor(nthread=-1)\n",
    "\n",
    "param_grid = {\n",
    "    'max_depth': [2, 3, 4],\n",
    "    'min_child_weight':[1,2,3],\n",
    "    'gamma':[0.001, 0.003, 0.01, 0.03, 0.1, 0.3],\n",
    "}\n",
    "\n",
    "\n",
    "grid_search = GridSearchCV(estimator = xgb, param_grid = param_grid, \n",
    "                          cv = 6, n_jobs = -1, verbose = 2)\n",
    "\n",
    "grid_search.fit(X_train, y_train)\n",
    "print(grid_search.best_params_)\n",
    "\n",
    "#fig, axs = plt.subplots(figsize=(16, 5), ncols=4)\n",
    "\n",
    "print(mean_squared_error(y_test, grid_search.predict(X_test)))\n",
    "\n",
    "\n",
    "fig = plot_cv_results(grid_search.cv_results_, 'gamma', 'min_child_weight')\n"
   ]
  },
  {
   "cell_type": "markdown",
   "metadata": {},
   "source": [
    "## MSE, Графики cross-val"
   ]
  },
  {
   "cell_type": "code",
   "execution_count": 312,
   "metadata": {
    "ExecuteTime": {
     "end_time": "2021-04-09T12:55:13.981153Z",
     "start_time": "2021-04-09T12:51:18.836768Z"
    }
   },
   "outputs": [
    {
     "name": "stdout",
     "output_type": "stream",
     "text": [
      "Fitting 6 folds for each of 54 candidates, totalling 324 fits\n"
     ]
    },
    {
     "name": "stderr",
     "output_type": "stream",
     "text": [
      "[Parallel(n_jobs=-1)]: Using backend LokyBackend with 8 concurrent workers.\n",
      "[Parallel(n_jobs=-1)]: Done  25 tasks      | elapsed:    2.9s\n",
      "[Parallel(n_jobs=-1)]: Done 146 tasks      | elapsed:   16.7s\n",
      "[Parallel(n_jobs=-1)]: Done 324 out of 324 | elapsed:   37.4s finished\n"
     ]
    },
    {
     "name": "stdout",
     "output_type": "stream",
     "text": [
      "MSE : 1\n",
      "5.550754248044458\n",
      "Fitting 6 folds for each of 54 candidates, totalling 324 fits\n"
     ]
    },
    {
     "name": "stderr",
     "output_type": "stream",
     "text": [
      "[Parallel(n_jobs=-1)]: Using backend LokyBackend with 8 concurrent workers.\n",
      "[Parallel(n_jobs=-1)]: Done  25 tasks      | elapsed:    2.8s\n",
      "[Parallel(n_jobs=-1)]: Done 146 tasks      | elapsed:   16.6s\n",
      "[Parallel(n_jobs=-1)]: Done 324 out of 324 | elapsed:   47.5s finished\n"
     ]
    },
    {
     "name": "stdout",
     "output_type": "stream",
     "text": [
      "MSE : 2\n",
      "5.840384783463487\n",
      "Fitting 6 folds for each of 54 candidates, totalling 324 fits\n"
     ]
    },
    {
     "name": "stderr",
     "output_type": "stream",
     "text": [
      "[Parallel(n_jobs=-1)]: Using backend LokyBackend with 8 concurrent workers.\n",
      "[Parallel(n_jobs=-1)]: Done  25 tasks      | elapsed:    2.8s\n",
      "[Parallel(n_jobs=-1)]: Done 146 tasks      | elapsed:   16.7s\n",
      "[Parallel(n_jobs=-1)]: Done 324 out of 324 | elapsed:   37.0s finished\n"
     ]
    },
    {
     "name": "stdout",
     "output_type": "stream",
     "text": [
      "MSE : 3\n",
      "5.828972361297329\n",
      "Fitting 6 folds for each of 54 candidates, totalling 324 fits\n"
     ]
    },
    {
     "name": "stderr",
     "output_type": "stream",
     "text": [
      "[Parallel(n_jobs=-1)]: Using backend LokyBackend with 8 concurrent workers.\n",
      "[Parallel(n_jobs=-1)]: Done  25 tasks      | elapsed:    2.7s\n",
      "[Parallel(n_jobs=-1)]: Done 146 tasks      | elapsed:   16.6s\n",
      "[Parallel(n_jobs=-1)]: Done 324 out of 324 | elapsed:   36.5s finished\n"
     ]
    },
    {
     "name": "stdout",
     "output_type": "stream",
     "text": [
      "MSE : 4\n",
      "6.856771224889763\n",
      "Fitting 6 folds for each of 54 candidates, totalling 324 fits\n"
     ]
    },
    {
     "name": "stderr",
     "output_type": "stream",
     "text": [
      "[Parallel(n_jobs=-1)]: Using backend LokyBackend with 8 concurrent workers.\n",
      "[Parallel(n_jobs=-1)]: Done  25 tasks      | elapsed:    2.9s\n",
      "[Parallel(n_jobs=-1)]: Done 146 tasks      | elapsed:   16.5s\n",
      "[Parallel(n_jobs=-1)]: Done 324 out of 324 | elapsed:   36.8s finished\n"
     ]
    },
    {
     "name": "stdout",
     "output_type": "stream",
     "text": [
      "MSE : 5\n",
      "6.337456313474379\n",
      "Fitting 6 folds for each of 54 candidates, totalling 324 fits\n"
     ]
    },
    {
     "name": "stderr",
     "output_type": "stream",
     "text": [
      "[Parallel(n_jobs=-1)]: Using backend LokyBackend with 8 concurrent workers.\n",
      "[Parallel(n_jobs=-1)]: Done  25 tasks      | elapsed:    2.7s\n",
      "[Parallel(n_jobs=-1)]: Done 146 tasks      | elapsed:   16.4s\n",
      "[Parallel(n_jobs=-1)]: Done 324 out of 324 | elapsed:   36.7s finished\n"
     ]
    },
    {
     "name": "stdout",
     "output_type": "stream",
     "text": [
      "MSE : 6\n",
      "6.045960294265376\n"
     ]
    },
    {
     "data": {
      "image/png": "[encoded data removed]",
      "text/plain": [
       "<Figure size 800x640 with 6 Axes>"
      ]
     },
     "metadata": {
      "needs_background": "light"
     },
     "output_type": "display_data"
    }
   ],
   "source": [
    "\n",
    "kf = KFold(n_splits=6)\n",
    "kf.get_n_splits(X)\n",
    "\n",
    "\n",
    "plt.figure(figsize=(10,8), dpi= 80)\n",
    "\n",
    "i = 0\n",
    "for train_index, test_index in kf.split(X):\n",
    "    #print(\"TRAIN:\", train_index, \"TEST:\", test_index)\n",
    "    X_cross, X_test = X[train_index], X[test_index]\n",
    "    y_cross, y_test = y[train_index], y[test_index]\n",
    "    grid_search.fit(X_cross, y_cross)\n",
    "    print(\"MSE :\", i+1)\n",
    "    print(mean_squared_error(y_test, grid_search.predict(X_test)))\n",
    "    plt.subplot(321 + i)\n",
    "    plt.scatter(y_test, grid_search.predict(X_test))\n",
    "    i += 1\n",
    "    plt.xlabel(\"True Values\")\n",
    "    plt.ylabel(\"Predictions\")\n",
    "\n",
    "plt.show()"
   ]
  },
  {
   "cell_type": "code",
   "execution_count": null,
   "metadata": {},
   "outputs": [],
   "source": []
  }
 ],
 "metadata": {
  "kernelspec": {
   "display_name": "Python 3",
   "language": "python",
   "name": "python3"
  },
  "language_info": {
   "codemirror_mode": {
    "name": "ipython",
    "version": 3
   },
   "file_extension": ".py",
   "mimetype": "text/x-python",
   "name": "python",
   "nbconvert_exporter": "python",
   "pygments_lexer": "ipython3",
   "version": "3.8.3"
  },
  "nbTranslate": {
   "displayLangs": [
    "*"
   ],
   "hotkey": "alt-t",
   "langInMainMenu": true,
   "sourceLang": "en",
   "targetLang": "fr",
   "useGoogleTranslate": true
  },
  "varInspector": {
   "cols": {
    "lenName": 16,
    "lenType": 16,
    "lenVar": 40
   },
   "kernels_config": {
    "python": {
     "delete_cmd_postfix": "",
     "delete_cmd_prefix": "del ",
     "library": "var_list.py",
     "varRefreshCmd": "print(var_dic_list())"
    },
    "r": {
     "delete_cmd_postfix": ") ",
     "delete_cmd_prefix": "rm(",
     "library": "var_list.r",
     "varRefreshCmd": "cat(var_dic_list()) "
    }
   },
   "types_to_exclude": [
    "module",
    "function",
    "builtin_function_or_method",
    "instance",
    "_Feature"
   ],
   "window_display": false
  }
 },
 "nbformat": 4,
 "nbformat_minor": 4
}
