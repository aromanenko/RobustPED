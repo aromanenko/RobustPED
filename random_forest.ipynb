{
 "cells": [
  {
   "cell_type": "code",
   "execution_count": 1,
   "metadata": {
    "ExecuteTime": {
     "end_time": "2021-04-15T16:29:28.721345Z",
     "start_time": "2021-04-15T16:29:25.793739Z"
    }
   },
   "outputs": [],
   "source": [
    "import pandas as pd\n",
    "import numpy as np\n",
    "import statsmodels.api as sm\n",
    "import matplotlib.pyplot as plt\n",
    "import gc\n",
    "import sys\n",
    "from statsmodels.formula.api import ols\n",
    "from IPython.display import clear_output\n",
    "from numba import njit, jit"
   ]
  },
  {
   "cell_type": "code",
   "execution_count": 2,
   "metadata": {
    "ExecuteTime": {
     "end_time": "2021-04-15T16:30:38.323213Z",
     "start_time": "2021-04-15T16:29:48.614214Z"
    }
   },
   "outputs": [],
   "source": [
    "df = pd.read_csv('SALES_2019.csv', parse_dates=['Date'])"
   ]
  },
  {
   "cell_type": "code",
   "execution_count": 3,
   "metadata": {
    "ExecuteTime": {
     "end_time": "2021-04-15T16:30:49.227942Z",
     "start_time": "2021-04-15T16:30:49.205811Z"
    }
   },
   "outputs": [
    {
     "data": {
      "text/html": [
       "<div>\n",
       "<style scoped>\n",
       "    .dataframe tbody tr th:only-of-type {\n",
       "        vertical-align: middle;\n",
       "    }\n",
       "\n",
       "    .dataframe tbody tr th {\n",
       "        vertical-align: top;\n",
       "    }\n",
       "\n",
       "    .dataframe thead th {\n",
       "        text-align: right;\n",
       "    }\n",
       "</style>\n",
       "<table border=\"1\" class=\"dataframe\">\n",
       "  <thead>\n",
       "    <tr style=\"text-align: right;\">\n",
       "      <th></th>\n",
       "      <th>SKU_ID</th>\n",
       "      <th>Store_ID</th>\n",
       "      <th>Date</th>\n",
       "      <th>Demand</th>\n",
       "      <th>Regular_Price</th>\n",
       "    </tr>\n",
       "  </thead>\n",
       "  <tbody>\n",
       "    <tr>\n",
       "      <th>0</th>\n",
       "      <td>114</td>\n",
       "      <td>1078</td>\n",
       "      <td>2019-01-01</td>\n",
       "      <td>2.0</td>\n",
       "      <td>51.0</td>\n",
       "    </tr>\n",
       "    <tr>\n",
       "      <th>1</th>\n",
       "      <td>114</td>\n",
       "      <td>1078</td>\n",
       "      <td>2019-01-02</td>\n",
       "      <td>2.0</td>\n",
       "      <td>51.0</td>\n",
       "    </tr>\n",
       "    <tr>\n",
       "      <th>2</th>\n",
       "      <td>114</td>\n",
       "      <td>1078</td>\n",
       "      <td>2019-01-03</td>\n",
       "      <td>2.0</td>\n",
       "      <td>51.0</td>\n",
       "    </tr>\n",
       "    <tr>\n",
       "      <th>3</th>\n",
       "      <td>114</td>\n",
       "      <td>1078</td>\n",
       "      <td>2019-01-04</td>\n",
       "      <td>2.0</td>\n",
       "      <td>51.0</td>\n",
       "    </tr>\n",
       "    <tr>\n",
       "      <th>4</th>\n",
       "      <td>114</td>\n",
       "      <td>1078</td>\n",
       "      <td>2019-01-05</td>\n",
       "      <td>2.0</td>\n",
       "      <td>51.0</td>\n",
       "    </tr>\n",
       "    <tr>\n",
       "      <th>...</th>\n",
       "      <td>...</td>\n",
       "      <td>...</td>\n",
       "      <td>...</td>\n",
       "      <td>...</td>\n",
       "      <td>...</td>\n",
       "    </tr>\n",
       "    <tr>\n",
       "      <th>75549757</th>\n",
       "      <td>363971</td>\n",
       "      <td>2866</td>\n",
       "      <td>2019-12-25</td>\n",
       "      <td>2.0</td>\n",
       "      <td>104.0</td>\n",
       "    </tr>\n",
       "    <tr>\n",
       "      <th>75549758</th>\n",
       "      <td>363971</td>\n",
       "      <td>2866</td>\n",
       "      <td>2019-12-26</td>\n",
       "      <td>2.0</td>\n",
       "      <td>104.0</td>\n",
       "    </tr>\n",
       "    <tr>\n",
       "      <th>75549759</th>\n",
       "      <td>363971</td>\n",
       "      <td>2866</td>\n",
       "      <td>2019-12-27</td>\n",
       "      <td>2.0</td>\n",
       "      <td>104.0</td>\n",
       "    </tr>\n",
       "    <tr>\n",
       "      <th>75549760</th>\n",
       "      <td>363971</td>\n",
       "      <td>2866</td>\n",
       "      <td>2019-12-28</td>\n",
       "      <td>2.0</td>\n",
       "      <td>104.0</td>\n",
       "    </tr>\n",
       "    <tr>\n",
       "      <th>75549761</th>\n",
       "      <td>363971</td>\n",
       "      <td>2866</td>\n",
       "      <td>2019-12-29</td>\n",
       "      <td>2.0</td>\n",
       "      <td>104.0</td>\n",
       "    </tr>\n",
       "  </tbody>\n",
       "</table>\n",
       "<p>75549762 rows × 5 columns</p>\n",
       "</div>"
      ],
      "text/plain": [
       "          SKU_ID  Store_ID       Date  Demand  Regular_Price\n",
       "0            114      1078 2019-01-01     2.0           51.0\n",
       "1            114      1078 2019-01-02     2.0           51.0\n",
       "2            114      1078 2019-01-03     2.0           51.0\n",
       "3            114      1078 2019-01-04     2.0           51.0\n",
       "4            114      1078 2019-01-05     2.0           51.0\n",
       "...          ...       ...        ...     ...            ...\n",
       "75549757  363971      2866 2019-12-25     2.0          104.0\n",
       "75549758  363971      2866 2019-12-26     2.0          104.0\n",
       "75549759  363971      2866 2019-12-27     2.0          104.0\n",
       "75549760  363971      2866 2019-12-28     2.0          104.0\n",
       "75549761  363971      2866 2019-12-29     2.0          104.0\n",
       "\n",
       "[75549762 rows x 5 columns]"
      ]
     },
     "execution_count": 3,
     "metadata": {},
     "output_type": "execute_result"
    }
   ],
   "source": [
    "df"
   ]
  },
  {
   "cell_type": "code",
   "execution_count": 66,
   "metadata": {
    "ExecuteTime": {
     "end_time": "2021-04-15T21:19:10.280154Z",
     "start_time": "2021-04-15T21:19:04.338780Z"
    }
   },
   "outputs": [
    {
     "data": {
      "text/plain": [
       "<AxesSubplot:xlabel='Date'>"
      ]
     },
     "execution_count": 66,
     "metadata": {},
     "output_type": "execute_result"
    },
    {
     "data": {
      "image/png": "[encoded data removed]",
      "text/plain": [
       "<Figure size 1800x360 with 1 Axes>"
      ]
     },
     "metadata": {
      "needs_background": "light"
     },
     "output_type": "display_data"
    }
   ],
   "source": [
    "df.groupby('Date').mean()['Demand'].plot(figsize=(25, 5))"
   ]
  },
  {
   "cell_type": "code",
   "execution_count": 4,
   "metadata": {
    "ExecuteTime": {
     "end_time": "2021-04-15T16:31:00.377217Z",
     "start_time": "2021-04-15T16:30:55.104565Z"
    }
   },
   "outputs": [
    {
     "data": {
      "text/html": [
       "<div>\n",
       "<style scoped>\n",
       "    .dataframe tbody tr th:only-of-type {\n",
       "        vertical-align: middle;\n",
       "    }\n",
       "\n",
       "    .dataframe tbody tr th {\n",
       "        vertical-align: top;\n",
       "    }\n",
       "\n",
       "    .dataframe thead th {\n",
       "        text-align: right;\n",
       "    }\n",
       "</style>\n",
       "<table border=\"1\" class=\"dataframe\">\n",
       "  <thead>\n",
       "    <tr style=\"text-align: right;\">\n",
       "      <th></th>\n",
       "      <th>SKU_ID</th>\n",
       "      <th>Store_ID</th>\n",
       "      <th>Date</th>\n",
       "      <th>Demand</th>\n",
       "      <th>Regular_Price</th>\n",
       "    </tr>\n",
       "  </thead>\n",
       "  <tbody>\n",
       "    <tr>\n",
       "      <th>0</th>\n",
       "      <td>114</td>\n",
       "      <td>1078</td>\n",
       "      <td>2019-01-01</td>\n",
       "      <td>2.0</td>\n",
       "      <td>51.0</td>\n",
       "    </tr>\n",
       "    <tr>\n",
       "      <th>1</th>\n",
       "      <td>114</td>\n",
       "      <td>1078</td>\n",
       "      <td>2019-01-02</td>\n",
       "      <td>2.0</td>\n",
       "      <td>51.0</td>\n",
       "    </tr>\n",
       "    <tr>\n",
       "      <th>2</th>\n",
       "      <td>114</td>\n",
       "      <td>1078</td>\n",
       "      <td>2019-01-03</td>\n",
       "      <td>2.0</td>\n",
       "      <td>51.0</td>\n",
       "    </tr>\n",
       "    <tr>\n",
       "      <th>3</th>\n",
       "      <td>114</td>\n",
       "      <td>1078</td>\n",
       "      <td>2019-01-04</td>\n",
       "      <td>2.0</td>\n",
       "      <td>51.0</td>\n",
       "    </tr>\n",
       "    <tr>\n",
       "      <th>4</th>\n",
       "      <td>114</td>\n",
       "      <td>1078</td>\n",
       "      <td>2019-01-05</td>\n",
       "      <td>2.0</td>\n",
       "      <td>51.0</td>\n",
       "    </tr>\n",
       "    <tr>\n",
       "      <th>...</th>\n",
       "      <td>...</td>\n",
       "      <td>...</td>\n",
       "      <td>...</td>\n",
       "      <td>...</td>\n",
       "      <td>...</td>\n",
       "    </tr>\n",
       "    <tr>\n",
       "      <th>75549757</th>\n",
       "      <td>363971</td>\n",
       "      <td>2866</td>\n",
       "      <td>2019-12-25</td>\n",
       "      <td>2.0</td>\n",
       "      <td>104.0</td>\n",
       "    </tr>\n",
       "    <tr>\n",
       "      <th>75549758</th>\n",
       "      <td>363971</td>\n",
       "      <td>2866</td>\n",
       "      <td>2019-12-26</td>\n",
       "      <td>2.0</td>\n",
       "      <td>104.0</td>\n",
       "    </tr>\n",
       "    <tr>\n",
       "      <th>75549759</th>\n",
       "      <td>363971</td>\n",
       "      <td>2866</td>\n",
       "      <td>2019-12-27</td>\n",
       "      <td>2.0</td>\n",
       "      <td>104.0</td>\n",
       "    </tr>\n",
       "    <tr>\n",
       "      <th>75549760</th>\n",
       "      <td>363971</td>\n",
       "      <td>2866</td>\n",
       "      <td>2019-12-28</td>\n",
       "      <td>2.0</td>\n",
       "      <td>104.0</td>\n",
       "    </tr>\n",
       "    <tr>\n",
       "      <th>75549761</th>\n",
       "      <td>363971</td>\n",
       "      <td>2866</td>\n",
       "      <td>2019-12-29</td>\n",
       "      <td>2.0</td>\n",
       "      <td>104.0</td>\n",
       "    </tr>\n",
       "  </tbody>\n",
       "</table>\n",
       "<p>74803345 rows × 5 columns</p>\n",
       "</div>"
      ],
      "text/plain": [
       "          SKU_ID  Store_ID       Date  Demand  Regular_Price\n",
       "0            114      1078 2019-01-01     2.0           51.0\n",
       "1            114      1078 2019-01-02     2.0           51.0\n",
       "2            114      1078 2019-01-03     2.0           51.0\n",
       "3            114      1078 2019-01-04     2.0           51.0\n",
       "4            114      1078 2019-01-05     2.0           51.0\n",
       "...          ...       ...        ...     ...            ...\n",
       "75549757  363971      2866 2019-12-25     2.0          104.0\n",
       "75549758  363971      2866 2019-12-26     2.0          104.0\n",
       "75549759  363971      2866 2019-12-27     2.0          104.0\n",
       "75549760  363971      2866 2019-12-28     2.0          104.0\n",
       "75549761  363971      2866 2019-12-29     2.0          104.0\n",
       "\n",
       "[74803345 rows x 5 columns]"
      ]
     },
     "execution_count": 4,
     "metadata": {},
     "output_type": "execute_result"
    }
   ],
   "source": [
    "df = df[df.Demand > 0]\n",
    "df"
   ]
  },
  {
   "cell_type": "code",
   "execution_count": 5,
   "metadata": {
    "ExecuteTime": {
     "end_time": "2021-04-15T16:31:23.213279Z",
     "start_time": "2021-04-15T16:31:15.824915Z"
    }
   },
   "outputs": [],
   "source": [
    "popular_pairs = df.groupby(['SKU_ID', 'Store_ID']).size().reset_index(name='counts').sort_values(by='counts', ascending=False).reset_index(drop=True)"
   ]
  },
  {
   "cell_type": "code",
   "execution_count": 6,
   "metadata": {
    "ExecuteTime": {
     "end_time": "2021-04-15T16:31:25.581743Z",
     "start_time": "2021-04-15T16:31:25.573046Z"
    }
   },
   "outputs": [
    {
     "data": {
      "text/html": [
       "<div>\n",
       "<style scoped>\n",
       "    .dataframe tbody tr th:only-of-type {\n",
       "        vertical-align: middle;\n",
       "    }\n",
       "\n",
       "    .dataframe tbody tr th {\n",
       "        vertical-align: top;\n",
       "    }\n",
       "\n",
       "    .dataframe thead th {\n",
       "        text-align: right;\n",
       "    }\n",
       "</style>\n",
       "<table border=\"1\" class=\"dataframe\">\n",
       "  <thead>\n",
       "    <tr style=\"text-align: right;\">\n",
       "      <th></th>\n",
       "      <th>SKU_ID</th>\n",
       "      <th>Store_ID</th>\n",
       "      <th>counts</th>\n",
       "    </tr>\n",
       "  </thead>\n",
       "  <tbody>\n",
       "    <tr>\n",
       "      <th>0</th>\n",
       "      <td>121403</td>\n",
       "      <td>2834</td>\n",
       "      <td>361</td>\n",
       "    </tr>\n",
       "    <tr>\n",
       "      <th>1</th>\n",
       "      <td>14408</td>\n",
       "      <td>2834</td>\n",
       "      <td>361</td>\n",
       "    </tr>\n",
       "    <tr>\n",
       "      <th>2</th>\n",
       "      <td>150862</td>\n",
       "      <td>2834</td>\n",
       "      <td>361</td>\n",
       "    </tr>\n",
       "    <tr>\n",
       "      <th>3</th>\n",
       "      <td>213851</td>\n",
       "      <td>2834</td>\n",
       "      <td>361</td>\n",
       "    </tr>\n",
       "    <tr>\n",
       "      <th>4</th>\n",
       "      <td>93788</td>\n",
       "      <td>2834</td>\n",
       "      <td>361</td>\n",
       "    </tr>\n",
       "    <tr>\n",
       "      <th>5</th>\n",
       "      <td>137749</td>\n",
       "      <td>1855</td>\n",
       "      <td>361</td>\n",
       "    </tr>\n",
       "    <tr>\n",
       "      <th>6</th>\n",
       "      <td>149856</td>\n",
       "      <td>2676</td>\n",
       "      <td>361</td>\n",
       "    </tr>\n",
       "    <tr>\n",
       "      <th>7</th>\n",
       "      <td>93788</td>\n",
       "      <td>2711</td>\n",
       "      <td>361</td>\n",
       "    </tr>\n",
       "    <tr>\n",
       "      <th>8</th>\n",
       "      <td>4240</td>\n",
       "      <td>1498</td>\n",
       "      <td>361</td>\n",
       "    </tr>\n",
       "    <tr>\n",
       "      <th>9</th>\n",
       "      <td>93788</td>\n",
       "      <td>2710</td>\n",
       "      <td>361</td>\n",
       "    </tr>\n",
       "  </tbody>\n",
       "</table>\n",
       "</div>"
      ],
      "text/plain": [
       "   SKU_ID  Store_ID  counts\n",
       "0  121403      2834     361\n",
       "1   14408      2834     361\n",
       "2  150862      2834     361\n",
       "3  213851      2834     361\n",
       "4   93788      2834     361\n",
       "5  137749      1855     361\n",
       "6  149856      2676     361\n",
       "7   93788      2711     361\n",
       "8    4240      1498     361\n",
       "9   93788      2710     361"
      ]
     },
     "execution_count": 6,
     "metadata": {},
     "output_type": "execute_result"
    }
   ],
   "source": [
    "popular_pairs.head(n=10)"
   ]
  },
  {
   "cell_type": "code",
   "execution_count": 8,
   "metadata": {
    "ExecuteTime": {
     "end_time": "2021-04-15T16:31:58.394893Z",
     "start_time": "2021-04-15T16:31:58.386311Z"
    }
   },
   "outputs": [
    {
     "data": {
      "text/html": [
       "<div>\n",
       "<style scoped>\n",
       "    .dataframe tbody tr th:only-of-type {\n",
       "        vertical-align: middle;\n",
       "    }\n",
       "\n",
       "    .dataframe tbody tr th {\n",
       "        vertical-align: top;\n",
       "    }\n",
       "\n",
       "    .dataframe thead th {\n",
       "        text-align: right;\n",
       "    }\n",
       "</style>\n",
       "<table border=\"1\" class=\"dataframe\">\n",
       "  <thead>\n",
       "    <tr style=\"text-align: right;\">\n",
       "      <th></th>\n",
       "      <th>SKU_ID</th>\n",
       "      <th>Store_ID</th>\n",
       "      <th>counts</th>\n",
       "    </tr>\n",
       "  </thead>\n",
       "  <tbody>\n",
       "    <tr>\n",
       "      <th>99999</th>\n",
       "      <td>23080</td>\n",
       "      <td>1504</td>\n",
       "      <td>340</td>\n",
       "    </tr>\n",
       "  </tbody>\n",
       "</table>\n",
       "</div>"
      ],
      "text/plain": [
       "       SKU_ID  Store_ID  counts\n",
       "99999   23080      1504     340"
      ]
     },
     "execution_count": 8,
     "metadata": {},
     "output_type": "execute_result"
    }
   ],
   "source": [
    "popular_pairs.head(n=100000).tail(n=1)"
   ]
  },
  {
   "cell_type": "code",
   "execution_count": 9,
   "metadata": {
    "ExecuteTime": {
     "end_time": "2021-04-15T16:32:14.648109Z",
     "start_time": "2021-04-15T16:32:05.219405Z"
    }
   },
   "outputs": [],
   "source": [
    "num_of_pairs = 100000\n",
    "pairs_for_experiment = [0 for _ in range(num_of_pairs)]\n",
    "for i, r in popular_pairs.iterrows():\n",
    "    if i == num_of_pairs:\n",
    "        break\n",
    "    pairs_for_experiment[i] = (r['SKU_ID'], r['Store_ID'])"
   ]
  },
  {
   "cell_type": "code",
   "execution_count": 15,
   "metadata": {
    "ExecuteTime": {
     "end_time": "2021-04-15T16:33:17.172673Z",
     "start_time": "2021-04-15T16:33:17.169295Z"
    }
   },
   "outputs": [],
   "source": [
    "def transform(x, ttype):\n",
    "    '''\n",
    "    Accepts vector and performs transformation on it based on ttype\n",
    "    '''\n",
    "    if ttype == 'log':\n",
    "        return np.log1p(x)\n",
    "    \n",
    "    return np.array(x)"
   ]
  },
  {
   "cell_type": "code",
   "execution_count": 16,
   "metadata": {
    "ExecuteTime": {
     "end_time": "2021-04-15T16:33:17.374320Z",
     "start_time": "2021-04-15T16:33:17.370347Z"
    }
   },
   "outputs": [],
   "source": [
    "def coef(model):\n",
    "    \"\"\"\n",
    "    return regression coefficient of model\n",
    "    \"\"\"\n",
    "    return model.params[1] if len(model.params) > 1 else model.params[0]\n",
    "\n",
    "def pvalue(model):\n",
    "    \"\"\"\n",
    "    return regression coefficient's t-test p-value of model\n",
    "    \"\"\"\n",
    "    return model.pvalues[1] if len(model.pvalues) > 1 else model.pvalues[0]"
   ]
  },
  {
   "cell_type": "code",
   "execution_count": 17,
   "metadata": {
    "ExecuteTime": {
     "end_time": "2021-04-15T16:33:17.845740Z",
     "start_time": "2021-04-15T16:33:17.841627Z"
    }
   },
   "outputs": [],
   "source": [
    "def elasticity(X, y, model, model_type):\n",
    "    '''\n",
    "    Computes elasticity of model based on X, y, model itself and model's type\n",
    "    '''\n",
    "    if model_type == 'lin-lin':\n",
    "        return coef(model) * np.mean(X) / np.mean(y)\n",
    "    elif model_type == 'log-lin':\n",
    "        return coef(model) * np.mean(X)\n",
    "    elif model_type == 'log-log':\n",
    "        return coef(model)"
   ]
  },
  {
   "cell_type": "code",
   "execution_count": 18,
   "metadata": {
    "ExecuteTime": {
     "end_time": "2021-04-15T16:33:19.388945Z",
     "start_time": "2021-04-15T16:33:19.384883Z"
    }
   },
   "outputs": [],
   "source": [
    "def PEDmodel(X, y, model_type='lin-lin'):\n",
    "    '''\n",
    "    Makes PED model based on input data X, y and model type\n",
    "    '''\n",
    "    _types = model_type.split('-')\n",
    "    \n",
    "    act_x = transform(X, _types[1])\n",
    "    act_x = sm.add_constant(act_x)\n",
    "    \n",
    "    act_y = transform(y, _types[0])\n",
    "    \n",
    "    return sm.OLS(act_y, act_x).fit()"
   ]
  },
  {
   "cell_type": "code",
   "execution_count": 19,
   "metadata": {
    "ExecuteTime": {
     "end_time": "2021-04-15T16:33:23.195031Z",
     "start_time": "2021-04-15T16:33:23.191283Z"
    }
   },
   "outputs": [],
   "source": [
    "def get_model_stats(X, y, model, model_type):\n",
    "    '''\n",
    "    returns model's statistics\n",
    "        regression coefficient,\n",
    "        R-squared,\n",
    "        T-test p-value,\n",
    "        elasticity\n",
    "    '''\n",
    "    elas = elasticity(X, y, model, model_type)\n",
    "    \n",
    "    return coef(model), model.rsquared, pvalue(model), elas"
   ]
  },
  {
   "cell_type": "code",
   "execution_count": 34,
   "metadata": {
    "ExecuteTime": {
     "end_time": "2021-04-15T16:46:15.259719Z",
     "start_time": "2021-04-15T16:46:15.250532Z"
    }
   },
   "outputs": [],
   "source": [
    "def GeneratePEDModels(dataset):\n",
    "    model_type = 'log-log'\n",
    "    sku_id, store_id, elas, qty, ttpvalue, price, q1_elas = [], [], [], [], [], [], []\n",
    "    iter_count = 0\n",
    "\n",
    "    for good_id, shop_id in pairs_for_experiment:\n",
    "        data = dataset[(dataset.Store_ID == shop_id) & (dataset.SKU_ID == good_id)]\n",
    "        model = PEDmodel(data.Regular_Price, data.Demand, model_type)\n",
    "        \n",
    "        c, r2, tp, e = get_model_stats(data.Regular_Price, data.Demand, model, model_type)\n",
    "\n",
    "        sku_id.append(good_id)\n",
    "        store_id.append(shop_id)\n",
    "        elas.append(e)\n",
    "        ttpvalue.append(tp)\n",
    "        \n",
    "        # 2019 Q1\n",
    "        data = data[(data.Date >= '2019-01-01') & (data.Date <= '2019-03-31')]\n",
    "        model = PEDmodel(data.Regular_Price, data.Demand, model_type)\n",
    "        c, r2, tp, e = get_model_stats(data.Regular_Price, data.Demand, model, model_type)\n",
    "        \n",
    "        qty.append(data.Demand.sum() / data.shape[0])\n",
    "        price.append(data.Regular_Price.sum() / data.shape[0])\n",
    "        q1_elas.append(e)\n",
    "        \n",
    "        clear_output()\n",
    "        print(iter_count)\n",
    "        iter_count += 1\n",
    "        \n",
    "        if iter_count == 30000:\n",
    "            break\n",
    "        \n",
    "    \n",
    "    return pd.DataFrame({\n",
    "        'SKU': sku_id,\n",
    "        'Store': store_id,\n",
    "        'Elasticity': elas,\n",
    "        'P_value': ttpvalue,\n",
    "        'Q1_Qty': qty,\n",
    "        'Q1_Price': price,\n",
    "        'Q1_Elasticity': q1_elas,\n",
    "    })"
   ]
  },
  {
   "cell_type": "code",
   "execution_count": 35,
   "metadata": {
    "ExecuteTime": {
     "end_time": "2021-04-15T21:01:47.733204Z",
     "start_time": "2021-04-15T16:46:17.537199Z"
    },
    "scrolled": true
   },
   "outputs": [
    {
     "name": "stdout",
     "output_type": "stream",
     "text": [
      "29999\n"
     ]
    }
   ],
   "source": [
    "trained_data = GeneratePEDModels(df)"
   ]
  },
  {
   "cell_type": "code",
   "execution_count": 36,
   "metadata": {
    "ExecuteTime": {
     "end_time": "2021-04-15T21:10:05.213416Z",
     "start_time": "2021-04-15T21:10:05.183514Z"
    }
   },
   "outputs": [
    {
     "data": {
      "text/html": [
       "<div>\n",
       "<style scoped>\n",
       "    .dataframe tbody tr th:only-of-type {\n",
       "        vertical-align: middle;\n",
       "    }\n",
       "\n",
       "    .dataframe tbody tr th {\n",
       "        vertical-align: top;\n",
       "    }\n",
       "\n",
       "    .dataframe thead th {\n",
       "        text-align: right;\n",
       "    }\n",
       "</style>\n",
       "<table border=\"1\" class=\"dataframe\">\n",
       "  <thead>\n",
       "    <tr style=\"text-align: right;\">\n",
       "      <th></th>\n",
       "      <th>SKU</th>\n",
       "      <th>Store</th>\n",
       "      <th>Elasticity</th>\n",
       "      <th>P_value</th>\n",
       "      <th>Q1_Qty</th>\n",
       "      <th>Q1_Price</th>\n",
       "      <th>Q1_Elasticity</th>\n",
       "    </tr>\n",
       "  </thead>\n",
       "  <tbody>\n",
       "    <tr>\n",
       "      <th>0</th>\n",
       "      <td>121403</td>\n",
       "      <td>2834</td>\n",
       "      <td>4.947777e+00</td>\n",
       "      <td>1.387119e-91</td>\n",
       "      <td>203.211111</td>\n",
       "      <td>219.056926</td>\n",
       "      <td>2.499524e-01</td>\n",
       "    </tr>\n",
       "    <tr>\n",
       "      <th>1</th>\n",
       "      <td>14408</td>\n",
       "      <td>2834</td>\n",
       "      <td>-1.248910e+00</td>\n",
       "      <td>2.932442e-61</td>\n",
       "      <td>202.344444</td>\n",
       "      <td>60.457444</td>\n",
       "      <td>-3.693639e+00</td>\n",
       "    </tr>\n",
       "    <tr>\n",
       "      <th>2</th>\n",
       "      <td>150862</td>\n",
       "      <td>2834</td>\n",
       "      <td>-1.006074e+00</td>\n",
       "      <td>2.219744e-64</td>\n",
       "      <td>266.366667</td>\n",
       "      <td>301.042889</td>\n",
       "      <td>-1.490706e+00</td>\n",
       "    </tr>\n",
       "    <tr>\n",
       "      <th>3</th>\n",
       "      <td>213851</td>\n",
       "      <td>2834</td>\n",
       "      <td>-1.328601e+00</td>\n",
       "      <td>5.668468e-03</td>\n",
       "      <td>4141.500000</td>\n",
       "      <td>90.424887</td>\n",
       "      <td>-5.872169e-01</td>\n",
       "    </tr>\n",
       "    <tr>\n",
       "      <th>4</th>\n",
       "      <td>93788</td>\n",
       "      <td>2834</td>\n",
       "      <td>1.314355e+00</td>\n",
       "      <td>9.124566e-86</td>\n",
       "      <td>206.511111</td>\n",
       "      <td>495.959667</td>\n",
       "      <td>1.156394e+00</td>\n",
       "    </tr>\n",
       "    <tr>\n",
       "      <th>...</th>\n",
       "      <td>...</td>\n",
       "      <td>...</td>\n",
       "      <td>...</td>\n",
       "      <td>...</td>\n",
       "      <td>...</td>\n",
       "      <td>...</td>\n",
       "      <td>...</td>\n",
       "    </tr>\n",
       "    <tr>\n",
       "      <th>29995</th>\n",
       "      <td>2010</td>\n",
       "      <td>1104</td>\n",
       "      <td>8.609657e+00</td>\n",
       "      <td>1.382582e-10</td>\n",
       "      <td>2.930233</td>\n",
       "      <td>389.313953</td>\n",
       "      <td>3.194009e+00</td>\n",
       "    </tr>\n",
       "    <tr>\n",
       "      <th>29996</th>\n",
       "      <td>14978</td>\n",
       "      <td>2231</td>\n",
       "      <td>9.933930e-02</td>\n",
       "      <td>1.456373e-06</td>\n",
       "      <td>1.905882</td>\n",
       "      <td>281.152941</td>\n",
       "      <td>-7.351222e-02</td>\n",
       "    </tr>\n",
       "    <tr>\n",
       "      <th>29997</th>\n",
       "      <td>147136</td>\n",
       "      <td>2232</td>\n",
       "      <td>-1.346145e-15</td>\n",
       "      <td>9.605337e-01</td>\n",
       "      <td>1.000000</td>\n",
       "      <td>146.640449</td>\n",
       "      <td>7.771561e-15</td>\n",
       "    </tr>\n",
       "    <tr>\n",
       "      <th>29998</th>\n",
       "      <td>118617</td>\n",
       "      <td>1118</td>\n",
       "      <td>9.419250e-02</td>\n",
       "      <td>6.148370e-01</td>\n",
       "      <td>1.377778</td>\n",
       "      <td>283.422222</td>\n",
       "      <td>1.273333e+01</td>\n",
       "    </tr>\n",
       "    <tr>\n",
       "      <th>29999</th>\n",
       "      <td>127659</td>\n",
       "      <td>1173</td>\n",
       "      <td>-3.017595e+00</td>\n",
       "      <td>2.184020e-24</td>\n",
       "      <td>1.900000</td>\n",
       "      <td>485.222222</td>\n",
       "      <td>-1.918458e+00</td>\n",
       "    </tr>\n",
       "  </tbody>\n",
       "</table>\n",
       "<p>30000 rows × 7 columns</p>\n",
       "</div>"
      ],
      "text/plain": [
       "          SKU  Store    Elasticity       P_value       Q1_Qty    Q1_Price  \\\n",
       "0      121403   2834  4.947777e+00  1.387119e-91   203.211111  219.056926   \n",
       "1       14408   2834 -1.248910e+00  2.932442e-61   202.344444   60.457444   \n",
       "2      150862   2834 -1.006074e+00  2.219744e-64   266.366667  301.042889   \n",
       "3      213851   2834 -1.328601e+00  5.668468e-03  4141.500000   90.424887   \n",
       "4       93788   2834  1.314355e+00  9.124566e-86   206.511111  495.959667   \n",
       "...       ...    ...           ...           ...          ...         ...   \n",
       "29995    2010   1104  8.609657e+00  1.382582e-10     2.930233  389.313953   \n",
       "29996   14978   2231  9.933930e-02  1.456373e-06     1.905882  281.152941   \n",
       "29997  147136   2232 -1.346145e-15  9.605337e-01     1.000000  146.640449   \n",
       "29998  118617   1118  9.419250e-02  6.148370e-01     1.377778  283.422222   \n",
       "29999  127659   1173 -3.017595e+00  2.184020e-24     1.900000  485.222222   \n",
       "\n",
       "       Q1_Elasticity  \n",
       "0       2.499524e-01  \n",
       "1      -3.693639e+00  \n",
       "2      -1.490706e+00  \n",
       "3      -5.872169e-01  \n",
       "4       1.156394e+00  \n",
       "...              ...  \n",
       "29995   3.194009e+00  \n",
       "29996  -7.351222e-02  \n",
       "29997   7.771561e-15  \n",
       "29998   1.273333e+01  \n",
       "29999  -1.918458e+00  \n",
       "\n",
       "[30000 rows x 7 columns]"
      ]
     },
     "execution_count": 36,
     "metadata": {},
     "output_type": "execute_result"
    }
   ],
   "source": [
    "trained_data"
   ]
  },
  {
   "cell_type": "code",
   "execution_count": 37,
   "metadata": {
    "ExecuteTime": {
     "end_time": "2021-04-15T21:10:46.190761Z",
     "start_time": "2021-04-15T21:10:45.838485Z"
    },
    "run_control": {
     "marked": false
    }
   },
   "outputs": [],
   "source": [
    "trained_data.to_csv('DF_TRAIN.csv', index=False)"
   ]
  },
  {
   "cell_type": "code",
   "execution_count": 2,
   "metadata": {
    "ExecuteTime": {
     "end_time": "2021-04-01T16:02:06.421544Z",
     "start_time": "2021-04-01T16:02:06.366408Z"
    }
   },
   "outputs": [],
   "source": [
    "trained_data = pd.read_csv('DF_TRAIN.csv')"
   ]
  },
  {
   "cell_type": "code",
   "execution_count": 38,
   "metadata": {
    "ExecuteTime": {
     "end_time": "2021-04-15T21:10:58.852484Z",
     "start_time": "2021-04-15T21:10:58.843367Z"
    }
   },
   "outputs": [],
   "source": [
    "df_train = trained_data[(trained_data.Elasticity > -10) & (trained_data.Elasticity < 0) & (trained_data.P_value < 0.05)]"
   ]
  },
  {
   "cell_type": "code",
   "execution_count": 39,
   "metadata": {
    "ExecuteTime": {
     "end_time": "2021-04-15T21:10:59.367195Z",
     "start_time": "2021-04-15T21:10:59.348845Z"
    }
   },
   "outputs": [
    {
     "data": {
      "text/html": [
       "<div>\n",
       "<style scoped>\n",
       "    .dataframe tbody tr th:only-of-type {\n",
       "        vertical-align: middle;\n",
       "    }\n",
       "\n",
       "    .dataframe tbody tr th {\n",
       "        vertical-align: top;\n",
       "    }\n",
       "\n",
       "    .dataframe thead th {\n",
       "        text-align: right;\n",
       "    }\n",
       "</style>\n",
       "<table border=\"1\" class=\"dataframe\">\n",
       "  <thead>\n",
       "    <tr style=\"text-align: right;\">\n",
       "      <th></th>\n",
       "      <th>SKU</th>\n",
       "      <th>Store</th>\n",
       "      <th>Elasticity</th>\n",
       "      <th>P_value</th>\n",
       "      <th>Q1_Qty</th>\n",
       "      <th>Q1_Price</th>\n",
       "      <th>Q1_Elasticity</th>\n",
       "    </tr>\n",
       "  </thead>\n",
       "  <tbody>\n",
       "    <tr>\n",
       "      <th>1</th>\n",
       "      <td>14408</td>\n",
       "      <td>2834</td>\n",
       "      <td>-1.248910</td>\n",
       "      <td>2.932442e-61</td>\n",
       "      <td>202.344444</td>\n",
       "      <td>60.457444</td>\n",
       "      <td>-3.693639e+00</td>\n",
       "    </tr>\n",
       "    <tr>\n",
       "      <th>2</th>\n",
       "      <td>150862</td>\n",
       "      <td>2834</td>\n",
       "      <td>-1.006074</td>\n",
       "      <td>2.219744e-64</td>\n",
       "      <td>266.366667</td>\n",
       "      <td>301.042889</td>\n",
       "      <td>-1.490706e+00</td>\n",
       "    </tr>\n",
       "    <tr>\n",
       "      <th>3</th>\n",
       "      <td>213851</td>\n",
       "      <td>2834</td>\n",
       "      <td>-1.328601</td>\n",
       "      <td>5.668468e-03</td>\n",
       "      <td>4141.500000</td>\n",
       "      <td>90.424887</td>\n",
       "      <td>-5.872169e-01</td>\n",
       "    </tr>\n",
       "    <tr>\n",
       "      <th>6</th>\n",
       "      <td>149856</td>\n",
       "      <td>2676</td>\n",
       "      <td>-0.960983</td>\n",
       "      <td>2.450502e-20</td>\n",
       "      <td>2.000000</td>\n",
       "      <td>336.777778</td>\n",
       "      <td>-1.075529e-15</td>\n",
       "    </tr>\n",
       "    <tr>\n",
       "      <th>8</th>\n",
       "      <td>4240</td>\n",
       "      <td>1498</td>\n",
       "      <td>-0.561682</td>\n",
       "      <td>3.082433e-02</td>\n",
       "      <td>2.000000</td>\n",
       "      <td>79.000000</td>\n",
       "      <td>2.507087e-01</td>\n",
       "    </tr>\n",
       "    <tr>\n",
       "      <th>...</th>\n",
       "      <td>...</td>\n",
       "      <td>...</td>\n",
       "      <td>...</td>\n",
       "      <td>...</td>\n",
       "      <td>...</td>\n",
       "      <td>...</td>\n",
       "      <td>...</td>\n",
       "    </tr>\n",
       "    <tr>\n",
       "      <th>29988</th>\n",
       "      <td>13154</td>\n",
       "      <td>1093</td>\n",
       "      <td>-4.951978</td>\n",
       "      <td>4.565353e-53</td>\n",
       "      <td>11.733333</td>\n",
       "      <td>80.611111</td>\n",
       "      <td>-6.440381e+00</td>\n",
       "    </tr>\n",
       "    <tr>\n",
       "      <th>29989</th>\n",
       "      <td>18086</td>\n",
       "      <td>1110</td>\n",
       "      <td>-4.119013</td>\n",
       "      <td>2.907439e-35</td>\n",
       "      <td>20.844444</td>\n",
       "      <td>289.488889</td>\n",
       "      <td>-6.259203e+00</td>\n",
       "    </tr>\n",
       "    <tr>\n",
       "      <th>29991</th>\n",
       "      <td>97331</td>\n",
       "      <td>1132</td>\n",
       "      <td>-0.203404</td>\n",
       "      <td>1.443094e-06</td>\n",
       "      <td>1.188889</td>\n",
       "      <td>345.000000</td>\n",
       "      <td>1.316588e-01</td>\n",
       "    </tr>\n",
       "    <tr>\n",
       "      <th>29994</th>\n",
       "      <td>18086</td>\n",
       "      <td>1108</td>\n",
       "      <td>-6.240736</td>\n",
       "      <td>1.938132e-24</td>\n",
       "      <td>29.639535</td>\n",
       "      <td>323.627907</td>\n",
       "      <td>1.860400e+01</td>\n",
       "    </tr>\n",
       "    <tr>\n",
       "      <th>29999</th>\n",
       "      <td>127659</td>\n",
       "      <td>1173</td>\n",
       "      <td>-3.017595</td>\n",
       "      <td>2.184020e-24</td>\n",
       "      <td>1.900000</td>\n",
       "      <td>485.222222</td>\n",
       "      <td>-1.918458e+00</td>\n",
       "    </tr>\n",
       "  </tbody>\n",
       "</table>\n",
       "<p>13620 rows × 7 columns</p>\n",
       "</div>"
      ],
      "text/plain": [
       "          SKU  Store  Elasticity       P_value       Q1_Qty    Q1_Price  \\\n",
       "1       14408   2834   -1.248910  2.932442e-61   202.344444   60.457444   \n",
       "2      150862   2834   -1.006074  2.219744e-64   266.366667  301.042889   \n",
       "3      213851   2834   -1.328601  5.668468e-03  4141.500000   90.424887   \n",
       "6      149856   2676   -0.960983  2.450502e-20     2.000000  336.777778   \n",
       "8        4240   1498   -0.561682  3.082433e-02     2.000000   79.000000   \n",
       "...       ...    ...         ...           ...          ...         ...   \n",
       "29988   13154   1093   -4.951978  4.565353e-53    11.733333   80.611111   \n",
       "29989   18086   1110   -4.119013  2.907439e-35    20.844444  289.488889   \n",
       "29991   97331   1132   -0.203404  1.443094e-06     1.188889  345.000000   \n",
       "29994   18086   1108   -6.240736  1.938132e-24    29.639535  323.627907   \n",
       "29999  127659   1173   -3.017595  2.184020e-24     1.900000  485.222222   \n",
       "\n",
       "       Q1_Elasticity  \n",
       "1      -3.693639e+00  \n",
       "2      -1.490706e+00  \n",
       "3      -5.872169e-01  \n",
       "6      -1.075529e-15  \n",
       "8       2.507087e-01  \n",
       "...              ...  \n",
       "29988  -6.440381e+00  \n",
       "29989  -6.259203e+00  \n",
       "29991   1.316588e-01  \n",
       "29994   1.860400e+01  \n",
       "29999  -1.918458e+00  \n",
       "\n",
       "[13620 rows x 7 columns]"
      ]
     },
     "execution_count": 39,
     "metadata": {},
     "output_type": "execute_result"
    }
   ],
   "source": [
    "df_train"
   ]
  },
  {
   "cell_type": "code",
   "execution_count": 158,
   "metadata": {
    "ExecuteTime": {
     "end_time": "2021-04-15T21:50:44.678336Z",
     "start_time": "2021-04-15T21:50:43.090604Z"
    }
   },
   "outputs": [],
   "source": [
    "product_info = pd.read_csv('PRODUCT_INF.csv')"
   ]
  },
  {
   "cell_type": "code",
   "execution_count": 159,
   "metadata": {
    "ExecuteTime": {
     "end_time": "2021-04-15T21:50:45.373435Z",
     "start_time": "2021-04-15T21:50:45.347908Z"
    }
   },
   "outputs": [
    {
     "data": {
      "text/html": [
       "<div>\n",
       "<style scoped>\n",
       "    .dataframe tbody tr th:only-of-type {\n",
       "        vertical-align: middle;\n",
       "    }\n",
       "\n",
       "    .dataframe tbody tr th {\n",
       "        vertical-align: top;\n",
       "    }\n",
       "\n",
       "    .dataframe thead th {\n",
       "        text-align: right;\n",
       "    }\n",
       "</style>\n",
       "<table border=\"1\" class=\"dataframe\">\n",
       "  <thead>\n",
       "    <tr style=\"text-align: right;\">\n",
       "      <th></th>\n",
       "      <th>ProductName</th>\n",
       "      <th>SKU</th>\n",
       "      <th>ClassId</th>\n",
       "      <th>GroupId</th>\n",
       "      <th>SubGroupId</th>\n",
       "      <th>CategoryId</th>\n",
       "      <th>ClusterId</th>\n",
       "      <th>Class</th>\n",
       "      <th>Groups</th>\n",
       "      <th>SubGroups</th>\n",
       "      <th>Category</th>\n",
       "      <th>Cluster</th>\n",
       "    </tr>\n",
       "  </thead>\n",
       "  <tbody>\n",
       "    <tr>\n",
       "      <th>0</th>\n",
       "      <td>UN</td>\n",
       "      <td>9999999</td>\n",
       "      <td>-5</td>\n",
       "      <td>-4</td>\n",
       "      <td>-3</td>\n",
       "      <td>-2</td>\n",
       "      <td>-1</td>\n",
       "      <td>UN</td>\n",
       "      <td>UN</td>\n",
       "      <td>UN</td>\n",
       "      <td>UN</td>\n",
       "      <td>UN</td>\n",
       "    </tr>\n",
       "    <tr>\n",
       "      <th>1</th>\n",
       "      <td>Очки_x0020_корригирующие_x0020_Ocean_x0020_пла...</td>\n",
       "      <td>122139</td>\n",
       "      <td>-5</td>\n",
       "      <td>-4</td>\n",
       "      <td>-3</td>\n",
       "      <td>-2</td>\n",
       "      <td>-1</td>\n",
       "      <td>UN</td>\n",
       "      <td>UN</td>\n",
       "      <td>UN</td>\n",
       "      <td>UN</td>\n",
       "      <td>UN</td>\n",
       "    </tr>\n",
       "    <tr>\n",
       "      <th>2</th>\n",
       "      <td>Очки_x0020_корригирующие_x0020_Ocean_x0020_пла...</td>\n",
       "      <td>122140</td>\n",
       "      <td>-5</td>\n",
       "      <td>-4</td>\n",
       "      <td>-3</td>\n",
       "      <td>-2</td>\n",
       "      <td>-1</td>\n",
       "      <td>UN</td>\n",
       "      <td>UN</td>\n",
       "      <td>UN</td>\n",
       "      <td>UN</td>\n",
       "      <td>UN</td>\n",
       "    </tr>\n",
       "    <tr>\n",
       "      <th>3</th>\n",
       "      <td>Очки_x0020_корригирующие_x0020_Ocean_x0020_пла...</td>\n",
       "      <td>122141</td>\n",
       "      <td>-5</td>\n",
       "      <td>-4</td>\n",
       "      <td>-3</td>\n",
       "      <td>-2</td>\n",
       "      <td>-1</td>\n",
       "      <td>UN</td>\n",
       "      <td>UN</td>\n",
       "      <td>UN</td>\n",
       "      <td>UN</td>\n",
       "      <td>UN</td>\n",
       "    </tr>\n",
       "    <tr>\n",
       "      <th>4</th>\n",
       "      <td>Очки_x0020_корригирующие_x0020_Dali_x0020_плас...</td>\n",
       "      <td>122142</td>\n",
       "      <td>-5</td>\n",
       "      <td>-4</td>\n",
       "      <td>-3</td>\n",
       "      <td>-2</td>\n",
       "      <td>-1</td>\n",
       "      <td>UN</td>\n",
       "      <td>UN</td>\n",
       "      <td>UN</td>\n",
       "      <td>UN</td>\n",
       "      <td>UN</td>\n",
       "    </tr>\n",
       "    <tr>\n",
       "      <th>...</th>\n",
       "      <td>...</td>\n",
       "      <td>...</td>\n",
       "      <td>...</td>\n",
       "      <td>...</td>\n",
       "      <td>...</td>\n",
       "      <td>...</td>\n",
       "      <td>...</td>\n",
       "      <td>...</td>\n",
       "      <td>...</td>\n",
       "      <td>...</td>\n",
       "      <td>...</td>\n",
       "      <td>...</td>\n",
       "    </tr>\n",
       "    <tr>\n",
       "      <th>296388</th>\n",
       "      <td>Лактамил_x0020_смесь_x0020_сухая_x0020_молочна...</td>\n",
       "      <td>112785</td>\n",
       "      <td>2000</td>\n",
       "      <td>2010</td>\n",
       "      <td>2133</td>\n",
       "      <td>2915</td>\n",
       "      <td>834</td>\n",
       "      <td>Товары_x0020_для_x0020_матери_x0020_и_x0020_ре...</td>\n",
       "      <td>Товары_x0020_для_x0020_беременных_x0020_и_x002...</td>\n",
       "      <td>Питание_x0020_для_x0020_мам</td>\n",
       "      <td>Питание_x0020_для_x0020_мам</td>\n",
       "      <td>Питание_x0020_для_x0020_мам</td>\n",
       "    </tr>\n",
       "    <tr>\n",
       "      <th>296389</th>\n",
       "      <td>Чай_x0020__x0022_Хипп_x0022__x0020_с_x0020_вит...</td>\n",
       "      <td>112789</td>\n",
       "      <td>2000</td>\n",
       "      <td>2010</td>\n",
       "      <td>2133</td>\n",
       "      <td>2915</td>\n",
       "      <td>834</td>\n",
       "      <td>Товары_x0020_для_x0020_матери_x0020_и_x0020_ре...</td>\n",
       "      <td>Товары_x0020_для_x0020_беременных_x0020_и_x002...</td>\n",
       "      <td>Питание_x0020_для_x0020_мам</td>\n",
       "      <td>Питание_x0020_для_x0020_мам</td>\n",
       "      <td>Питание_x0020_для_x0020_мам</td>\n",
       "    </tr>\n",
       "    <tr>\n",
       "      <th>296390</th>\n",
       "      <td>Чай_x0020_Хипп_x0020_био_x0020_для_x0020_корм....</td>\n",
       "      <td>76810</td>\n",
       "      <td>2000</td>\n",
       "      <td>2010</td>\n",
       "      <td>2133</td>\n",
       "      <td>2915</td>\n",
       "      <td>834</td>\n",
       "      <td>Товары_x0020_для_x0020_матери_x0020_и_x0020_ре...</td>\n",
       "      <td>Товары_x0020_для_x0020_беременных_x0020_и_x002...</td>\n",
       "      <td>Питание_x0020_для_x0020_мам</td>\n",
       "      <td>Питание_x0020_для_x0020_мам</td>\n",
       "      <td>Питание_x0020_для_x0020_мам</td>\n",
       "    </tr>\n",
       "    <tr>\n",
       "      <th>296391</th>\n",
       "      <td>Фемилак_x0020_для_x0020_беременных_x0020_и_x00...</td>\n",
       "      <td>75619</td>\n",
       "      <td>2000</td>\n",
       "      <td>2010</td>\n",
       "      <td>2133</td>\n",
       "      <td>2915</td>\n",
       "      <td>834</td>\n",
       "      <td>Товары_x0020_для_x0020_матери_x0020_и_x0020_ре...</td>\n",
       "      <td>Товары_x0020_для_x0020_беременных_x0020_и_x002...</td>\n",
       "      <td>Питание_x0020_для_x0020_мам</td>\n",
       "      <td>Питание_x0020_для_x0020_мам</td>\n",
       "      <td>Питание_x0020_для_x0020_мам</td>\n",
       "    </tr>\n",
       "    <tr>\n",
       "      <th>296392</th>\n",
       "      <td>Чай_x0020_Даниа_x0020_для_x0020_кормящих_x0020...</td>\n",
       "      <td>24589</td>\n",
       "      <td>2000</td>\n",
       "      <td>2010</td>\n",
       "      <td>2133</td>\n",
       "      <td>2915</td>\n",
       "      <td>834</td>\n",
       "      <td>Товары_x0020_для_x0020_матери_x0020_и_x0020_ре...</td>\n",
       "      <td>Товары_x0020_для_x0020_беременных_x0020_и_x002...</td>\n",
       "      <td>Питание_x0020_для_x0020_мам</td>\n",
       "      <td>Питание_x0020_для_x0020_мам</td>\n",
       "      <td>Питание_x0020_для_x0020_мам</td>\n",
       "    </tr>\n",
       "  </tbody>\n",
       "</table>\n",
       "<p>296393 rows × 12 columns</p>\n",
       "</div>"
      ],
      "text/plain": [
       "                                              ProductName      SKU  ClassId  \\\n",
       "0                                                      UN  9999999       -5   \n",
       "1       Очки_x0020_корригирующие_x0020_Ocean_x0020_пла...   122139       -5   \n",
       "2       Очки_x0020_корригирующие_x0020_Ocean_x0020_пла...   122140       -5   \n",
       "3       Очки_x0020_корригирующие_x0020_Ocean_x0020_пла...   122141       -5   \n",
       "4       Очки_x0020_корригирующие_x0020_Dali_x0020_плас...   122142       -5   \n",
       "...                                                   ...      ...      ...   \n",
       "296388  Лактамил_x0020_смесь_x0020_сухая_x0020_молочна...   112785     2000   \n",
       "296389  Чай_x0020__x0022_Хипп_x0022__x0020_с_x0020_вит...   112789     2000   \n",
       "296390  Чай_x0020_Хипп_x0020_био_x0020_для_x0020_корм....    76810     2000   \n",
       "296391  Фемилак_x0020_для_x0020_беременных_x0020_и_x00...    75619     2000   \n",
       "296392  Чай_x0020_Даниа_x0020_для_x0020_кормящих_x0020...    24589     2000   \n",
       "\n",
       "        GroupId  SubGroupId  CategoryId  ClusterId  \\\n",
       "0            -4          -3          -2         -1   \n",
       "1            -4          -3          -2         -1   \n",
       "2            -4          -3          -2         -1   \n",
       "3            -4          -3          -2         -1   \n",
       "4            -4          -3          -2         -1   \n",
       "...         ...         ...         ...        ...   \n",
       "296388     2010        2133        2915        834   \n",
       "296389     2010        2133        2915        834   \n",
       "296390     2010        2133        2915        834   \n",
       "296391     2010        2133        2915        834   \n",
       "296392     2010        2133        2915        834   \n",
       "\n",
       "                                                    Class  \\\n",
       "0                                                      UN   \n",
       "1                                                      UN   \n",
       "2                                                      UN   \n",
       "3                                                      UN   \n",
       "4                                                      UN   \n",
       "...                                                   ...   \n",
       "296388  Товары_x0020_для_x0020_матери_x0020_и_x0020_ре...   \n",
       "296389  Товары_x0020_для_x0020_матери_x0020_и_x0020_ре...   \n",
       "296390  Товары_x0020_для_x0020_матери_x0020_и_x0020_ре...   \n",
       "296391  Товары_x0020_для_x0020_матери_x0020_и_x0020_ре...   \n",
       "296392  Товары_x0020_для_x0020_матери_x0020_и_x0020_ре...   \n",
       "\n",
       "                                                   Groups  \\\n",
       "0                                                      UN   \n",
       "1                                                      UN   \n",
       "2                                                      UN   \n",
       "3                                                      UN   \n",
       "4                                                      UN   \n",
       "...                                                   ...   \n",
       "296388  Товары_x0020_для_x0020_беременных_x0020_и_x002...   \n",
       "296389  Товары_x0020_для_x0020_беременных_x0020_и_x002...   \n",
       "296390  Товары_x0020_для_x0020_беременных_x0020_и_x002...   \n",
       "296391  Товары_x0020_для_x0020_беременных_x0020_и_x002...   \n",
       "296392  Товары_x0020_для_x0020_беременных_x0020_и_x002...   \n",
       "\n",
       "                          SubGroups                     Category  \\\n",
       "0                                UN                           UN   \n",
       "1                                UN                           UN   \n",
       "2                                UN                           UN   \n",
       "3                                UN                           UN   \n",
       "4                                UN                           UN   \n",
       "...                             ...                          ...   \n",
       "296388  Питание_x0020_для_x0020_мам  Питание_x0020_для_x0020_мам   \n",
       "296389  Питание_x0020_для_x0020_мам  Питание_x0020_для_x0020_мам   \n",
       "296390  Питание_x0020_для_x0020_мам  Питание_x0020_для_x0020_мам   \n",
       "296391  Питание_x0020_для_x0020_мам  Питание_x0020_для_x0020_мам   \n",
       "296392  Питание_x0020_для_x0020_мам  Питание_x0020_для_x0020_мам   \n",
       "\n",
       "                            Cluster  \n",
       "0                                UN  \n",
       "1                                UN  \n",
       "2                                UN  \n",
       "3                                UN  \n",
       "4                                UN  \n",
       "...                             ...  \n",
       "296388  Питание_x0020_для_x0020_мам  \n",
       "296389  Питание_x0020_для_x0020_мам  \n",
       "296390  Питание_x0020_для_x0020_мам  \n",
       "296391  Питание_x0020_для_x0020_мам  \n",
       "296392  Питание_x0020_для_x0020_мам  \n",
       "\n",
       "[296393 rows x 12 columns]"
      ]
     },
     "execution_count": 159,
     "metadata": {},
     "output_type": "execute_result"
    }
   ],
   "source": [
    "product_info"
   ]
  },
  {
   "cell_type": "code",
   "execution_count": 160,
   "metadata": {
    "ExecuteTime": {
     "end_time": "2021-04-15T21:51:27.514874Z",
     "start_time": "2021-04-15T21:51:27.499820Z"
    }
   },
   "outputs": [],
   "source": [
    "product_info = product_info[['SKU', 'ClassId', 'CategoryId', 'ClusterId', 'GroupId', 'SubGroupId']]"
   ]
  },
  {
   "cell_type": "code",
   "execution_count": 161,
   "metadata": {
    "ExecuteTime": {
     "end_time": "2021-04-15T21:51:28.085058Z",
     "start_time": "2021-04-15T21:51:28.022653Z"
    }
   },
   "outputs": [],
   "source": [
    "df_sku = df_train.join(product_info.set_index('SKU'), on='SKU')"
   ]
  },
  {
   "cell_type": "code",
   "execution_count": 162,
   "metadata": {
    "ExecuteTime": {
     "end_time": "2021-04-15T21:51:28.691098Z",
     "start_time": "2021-04-15T21:51:28.683306Z"
    }
   },
   "outputs": [
    {
     "data": {
      "text/plain": [
       "SKU               0\n",
       "Store             0\n",
       "Elasticity        0\n",
       "P_value           0\n",
       "Q1_Qty            0\n",
       "Q1_Price          0\n",
       "Q1_Elasticity     0\n",
       "ClassId          55\n",
       "CategoryId       55\n",
       "ClusterId        55\n",
       "GroupId          55\n",
       "SubGroupId       55\n",
       "dtype: int64"
      ]
     },
     "execution_count": 162,
     "metadata": {},
     "output_type": "execute_result"
    }
   ],
   "source": [
    "df_sku.isna().sum()"
   ]
  },
  {
   "cell_type": "code",
   "execution_count": 163,
   "metadata": {
    "ExecuteTime": {
     "end_time": "2021-04-15T21:51:30.348049Z",
     "start_time": "2021-04-15T21:51:30.339794Z"
    }
   },
   "outputs": [],
   "source": [
    "df_sku.dropna(inplace=True)"
   ]
  },
  {
   "cell_type": "code",
   "execution_count": 164,
   "metadata": {
    "ExecuteTime": {
     "end_time": "2021-04-15T21:51:31.907144Z",
     "start_time": "2021-04-15T21:51:31.899004Z"
    }
   },
   "outputs": [
    {
     "data": {
      "text/plain": [
       "SKU              0\n",
       "Store            0\n",
       "Elasticity       0\n",
       "P_value          0\n",
       "Q1_Qty           0\n",
       "Q1_Price         0\n",
       "Q1_Elasticity    0\n",
       "ClassId          0\n",
       "CategoryId       0\n",
       "ClusterId        0\n",
       "GroupId          0\n",
       "SubGroupId       0\n",
       "dtype: int64"
      ]
     },
     "execution_count": 164,
     "metadata": {},
     "output_type": "execute_result"
    }
   ],
   "source": [
    "df_sku.isna().sum()"
   ]
  },
  {
   "cell_type": "code",
   "execution_count": 165,
   "metadata": {
    "ExecuteTime": {
     "end_time": "2021-04-15T21:51:33.196318Z",
     "start_time": "2021-04-15T21:51:33.170379Z"
    }
   },
   "outputs": [
    {
     "data": {
      "text/html": [
       "<div>\n",
       "<style scoped>\n",
       "    .dataframe tbody tr th:only-of-type {\n",
       "        vertical-align: middle;\n",
       "    }\n",
       "\n",
       "    .dataframe tbody tr th {\n",
       "        vertical-align: top;\n",
       "    }\n",
       "\n",
       "    .dataframe thead th {\n",
       "        text-align: right;\n",
       "    }\n",
       "</style>\n",
       "<table border=\"1\" class=\"dataframe\">\n",
       "  <thead>\n",
       "    <tr style=\"text-align: right;\">\n",
       "      <th></th>\n",
       "      <th>SKU</th>\n",
       "      <th>Store</th>\n",
       "      <th>Elasticity</th>\n",
       "      <th>P_value</th>\n",
       "      <th>Q1_Qty</th>\n",
       "      <th>Q1_Price</th>\n",
       "      <th>Q1_Elasticity</th>\n",
       "      <th>ClassId</th>\n",
       "      <th>CategoryId</th>\n",
       "      <th>ClusterId</th>\n",
       "      <th>GroupId</th>\n",
       "      <th>SubGroupId</th>\n",
       "    </tr>\n",
       "  </thead>\n",
       "  <tbody>\n",
       "    <tr>\n",
       "      <th>1</th>\n",
       "      <td>14408</td>\n",
       "      <td>2834</td>\n",
       "      <td>-1.248910</td>\n",
       "      <td>2.932442e-61</td>\n",
       "      <td>202.344444</td>\n",
       "      <td>60.457444</td>\n",
       "      <td>-3.693639e+00</td>\n",
       "      <td>2003.0</td>\n",
       "      <td>2561.0</td>\n",
       "      <td>27.0</td>\n",
       "      <td>2047.0</td>\n",
       "      <td>2356.0</td>\n",
       "    </tr>\n",
       "    <tr>\n",
       "      <th>2</th>\n",
       "      <td>150862</td>\n",
       "      <td>2834</td>\n",
       "      <td>-1.006074</td>\n",
       "      <td>2.219744e-64</td>\n",
       "      <td>266.366667</td>\n",
       "      <td>301.042889</td>\n",
       "      <td>-1.490706e+00</td>\n",
       "      <td>2003.0</td>\n",
       "      <td>2547.0</td>\n",
       "      <td>4.0</td>\n",
       "      <td>2047.0</td>\n",
       "      <td>2099.0</td>\n",
       "    </tr>\n",
       "    <tr>\n",
       "      <th>3</th>\n",
       "      <td>213851</td>\n",
       "      <td>2834</td>\n",
       "      <td>-1.328601</td>\n",
       "      <td>5.668468e-03</td>\n",
       "      <td>4141.500000</td>\n",
       "      <td>90.424887</td>\n",
       "      <td>-5.872169e-01</td>\n",
       "      <td>2003.0</td>\n",
       "      <td>2496.0</td>\n",
       "      <td>456.0</td>\n",
       "      <td>2037.0</td>\n",
       "      <td>2105.0</td>\n",
       "    </tr>\n",
       "    <tr>\n",
       "      <th>6</th>\n",
       "      <td>149856</td>\n",
       "      <td>2676</td>\n",
       "      <td>-0.960983</td>\n",
       "      <td>2.450502e-20</td>\n",
       "      <td>2.000000</td>\n",
       "      <td>336.777778</td>\n",
       "      <td>-1.075529e-15</td>\n",
       "      <td>2003.0</td>\n",
       "      <td>3023.0</td>\n",
       "      <td>458.0</td>\n",
       "      <td>2037.0</td>\n",
       "      <td>2105.0</td>\n",
       "    </tr>\n",
       "    <tr>\n",
       "      <th>8</th>\n",
       "      <td>4240</td>\n",
       "      <td>1498</td>\n",
       "      <td>-0.561682</td>\n",
       "      <td>3.082433e-02</td>\n",
       "      <td>2.000000</td>\n",
       "      <td>79.000000</td>\n",
       "      <td>2.507087e-01</td>\n",
       "      <td>2003.0</td>\n",
       "      <td>2692.0</td>\n",
       "      <td>455.0</td>\n",
       "      <td>2037.0</td>\n",
       "      <td>2105.0</td>\n",
       "    </tr>\n",
       "    <tr>\n",
       "      <th>...</th>\n",
       "      <td>...</td>\n",
       "      <td>...</td>\n",
       "      <td>...</td>\n",
       "      <td>...</td>\n",
       "      <td>...</td>\n",
       "      <td>...</td>\n",
       "      <td>...</td>\n",
       "      <td>...</td>\n",
       "      <td>...</td>\n",
       "      <td>...</td>\n",
       "      <td>...</td>\n",
       "      <td>...</td>\n",
       "    </tr>\n",
       "    <tr>\n",
       "      <th>29988</th>\n",
       "      <td>13154</td>\n",
       "      <td>1093</td>\n",
       "      <td>-4.951978</td>\n",
       "      <td>4.565353e-53</td>\n",
       "      <td>11.733333</td>\n",
       "      <td>80.611111</td>\n",
       "      <td>-6.440381e+00</td>\n",
       "      <td>2003.0</td>\n",
       "      <td>2489.0</td>\n",
       "      <td>467.0</td>\n",
       "      <td>2037.0</td>\n",
       "      <td>2111.0</td>\n",
       "    </tr>\n",
       "    <tr>\n",
       "      <th>29989</th>\n",
       "      <td>18086</td>\n",
       "      <td>1110</td>\n",
       "      <td>-4.119013</td>\n",
       "      <td>2.907439e-35</td>\n",
       "      <td>20.844444</td>\n",
       "      <td>289.488889</td>\n",
       "      <td>-6.259203e+00</td>\n",
       "      <td>2003.0</td>\n",
       "      <td>2711.0</td>\n",
       "      <td>39.0</td>\n",
       "      <td>2047.0</td>\n",
       "      <td>2151.0</td>\n",
       "    </tr>\n",
       "    <tr>\n",
       "      <th>29991</th>\n",
       "      <td>97331</td>\n",
       "      <td>1132</td>\n",
       "      <td>-0.203404</td>\n",
       "      <td>1.443094e-06</td>\n",
       "      <td>1.188889</td>\n",
       "      <td>345.000000</td>\n",
       "      <td>1.316588e-01</td>\n",
       "      <td>2003.0</td>\n",
       "      <td>2528.0</td>\n",
       "      <td>34.0</td>\n",
       "      <td>2047.0</td>\n",
       "      <td>2212.0</td>\n",
       "    </tr>\n",
       "    <tr>\n",
       "      <th>29994</th>\n",
       "      <td>18086</td>\n",
       "      <td>1108</td>\n",
       "      <td>-6.240736</td>\n",
       "      <td>1.938132e-24</td>\n",
       "      <td>29.639535</td>\n",
       "      <td>323.627907</td>\n",
       "      <td>1.860400e+01</td>\n",
       "      <td>2003.0</td>\n",
       "      <td>2711.0</td>\n",
       "      <td>39.0</td>\n",
       "      <td>2047.0</td>\n",
       "      <td>2151.0</td>\n",
       "    </tr>\n",
       "    <tr>\n",
       "      <th>29999</th>\n",
       "      <td>127659</td>\n",
       "      <td>1173</td>\n",
       "      <td>-3.017595</td>\n",
       "      <td>2.184020e-24</td>\n",
       "      <td>1.900000</td>\n",
       "      <td>485.222222</td>\n",
       "      <td>-1.918458e+00</td>\n",
       "      <td>2003.0</td>\n",
       "      <td>4001.0</td>\n",
       "      <td>45.0</td>\n",
       "      <td>2047.0</td>\n",
       "      <td>2334.0</td>\n",
       "    </tr>\n",
       "  </tbody>\n",
       "</table>\n",
       "<p>13565 rows × 12 columns</p>\n",
       "</div>"
      ],
      "text/plain": [
       "          SKU  Store  Elasticity       P_value       Q1_Qty    Q1_Price  \\\n",
       "1       14408   2834   -1.248910  2.932442e-61   202.344444   60.457444   \n",
       "2      150862   2834   -1.006074  2.219744e-64   266.366667  301.042889   \n",
       "3      213851   2834   -1.328601  5.668468e-03  4141.500000   90.424887   \n",
       "6      149856   2676   -0.960983  2.450502e-20     2.000000  336.777778   \n",
       "8        4240   1498   -0.561682  3.082433e-02     2.000000   79.000000   \n",
       "...       ...    ...         ...           ...          ...         ...   \n",
       "29988   13154   1093   -4.951978  4.565353e-53    11.733333   80.611111   \n",
       "29989   18086   1110   -4.119013  2.907439e-35    20.844444  289.488889   \n",
       "29991   97331   1132   -0.203404  1.443094e-06     1.188889  345.000000   \n",
       "29994   18086   1108   -6.240736  1.938132e-24    29.639535  323.627907   \n",
       "29999  127659   1173   -3.017595  2.184020e-24     1.900000  485.222222   \n",
       "\n",
       "       Q1_Elasticity  ClassId  CategoryId  ClusterId  GroupId  SubGroupId  \n",
       "1      -3.693639e+00   2003.0      2561.0       27.0   2047.0      2356.0  \n",
       "2      -1.490706e+00   2003.0      2547.0        4.0   2047.0      2099.0  \n",
       "3      -5.872169e-01   2003.0      2496.0      456.0   2037.0      2105.0  \n",
       "6      -1.075529e-15   2003.0      3023.0      458.0   2037.0      2105.0  \n",
       "8       2.507087e-01   2003.0      2692.0      455.0   2037.0      2105.0  \n",
       "...              ...      ...         ...        ...      ...         ...  \n",
       "29988  -6.440381e+00   2003.0      2489.0      467.0   2037.0      2111.0  \n",
       "29989  -6.259203e+00   2003.0      2711.0       39.0   2047.0      2151.0  \n",
       "29991   1.316588e-01   2003.0      2528.0       34.0   2047.0      2212.0  \n",
       "29994   1.860400e+01   2003.0      2711.0       39.0   2047.0      2151.0  \n",
       "29999  -1.918458e+00   2003.0      4001.0       45.0   2047.0      2334.0  \n",
       "\n",
       "[13565 rows x 12 columns]"
      ]
     },
     "execution_count": 165,
     "metadata": {},
     "output_type": "execute_result"
    }
   ],
   "source": [
    "df_sku"
   ]
  },
  {
   "cell_type": "code",
   "execution_count": 167,
   "metadata": {
    "ExecuteTime": {
     "end_time": "2021-04-15T21:51:44.735686Z",
     "start_time": "2021-04-15T21:51:44.630123Z"
    }
   },
   "outputs": [],
   "source": [
    "store_info = pd.read_excel('LOCATION_INF.xlsx', parse_dates=['OpenDate', 'CloseDate'])\n",
    "store_info.rename(columns={'TradePointId': 'Store'}, inplace=True)"
   ]
  },
  {
   "cell_type": "code",
   "execution_count": 168,
   "metadata": {
    "ExecuteTime": {
     "end_time": "2021-04-15T21:51:45.336073Z",
     "start_time": "2021-04-15T21:51:45.326220Z"
    }
   },
   "outputs": [],
   "source": [
    "import datetime\n",
    "\n",
    "age_func = lambda r: datetime.datetime.today().year - datetime.datetime.date(r).year\n",
    "store_info['StoreAge'] = store_info.OpenDate.apply(age_func)"
   ]
  },
  {
   "cell_type": "code",
   "execution_count": 169,
   "metadata": {
    "ExecuteTime": {
     "end_time": "2021-04-15T21:51:45.985357Z",
     "start_time": "2021-04-15T21:51:45.976819Z"
    }
   },
   "outputs": [],
   "source": [
    "def city_func(r):\n",
    "    city = r.split('_x0020_')[0]\n",
    "    if city.endswith('_x002C_'):\n",
    "        city = city.split('_x002C_')[0]\n",
    "\n",
    "    return city\n",
    "\n",
    "store_info['StoreCity'] = store_info.TradePointName.apply(city_func)"
   ]
  },
  {
   "cell_type": "code",
   "execution_count": 170,
   "metadata": {
    "ExecuteTime": {
     "end_time": "2021-04-15T21:51:46.675587Z",
     "start_time": "2021-04-15T21:51:46.668422Z"
    }
   },
   "outputs": [],
   "source": [
    "store_info = store_info[['Store', 'StoreAge', 'StoreCity']]"
   ]
  },
  {
   "cell_type": "code",
   "execution_count": 171,
   "metadata": {
    "ExecuteTime": {
     "end_time": "2021-04-15T21:51:47.366018Z",
     "start_time": "2021-04-15T21:51:47.350749Z"
    }
   },
   "outputs": [
    {
     "data": {
      "text/html": [
       "<div>\n",
       "<style scoped>\n",
       "    .dataframe tbody tr th:only-of-type {\n",
       "        vertical-align: middle;\n",
       "    }\n",
       "\n",
       "    .dataframe tbody tr th {\n",
       "        vertical-align: top;\n",
       "    }\n",
       "\n",
       "    .dataframe thead th {\n",
       "        text-align: right;\n",
       "    }\n",
       "</style>\n",
       "<table border=\"1\" class=\"dataframe\">\n",
       "  <thead>\n",
       "    <tr style=\"text-align: right;\">\n",
       "      <th></th>\n",
       "      <th>Store</th>\n",
       "      <th>StoreAge</th>\n",
       "      <th>StoreCity</th>\n",
       "    </tr>\n",
       "  </thead>\n",
       "  <tbody>\n",
       "    <tr>\n",
       "      <th>0</th>\n",
       "      <td>1076</td>\n",
       "      <td>12</td>\n",
       "      <td>СПб</td>\n",
       "    </tr>\n",
       "    <tr>\n",
       "      <th>1</th>\n",
       "      <td>1077</td>\n",
       "      <td>16</td>\n",
       "      <td>СПб</td>\n",
       "    </tr>\n",
       "    <tr>\n",
       "      <th>2</th>\n",
       "      <td>1078</td>\n",
       "      <td>14</td>\n",
       "      <td>СПб</td>\n",
       "    </tr>\n",
       "    <tr>\n",
       "      <th>3</th>\n",
       "      <td>1079</td>\n",
       "      <td>19</td>\n",
       "      <td>СПб</td>\n",
       "    </tr>\n",
       "    <tr>\n",
       "      <th>4</th>\n",
       "      <td>1080</td>\n",
       "      <td>13</td>\n",
       "      <td>СПб</td>\n",
       "    </tr>\n",
       "    <tr>\n",
       "      <th>...</th>\n",
       "      <td>...</td>\n",
       "      <td>...</td>\n",
       "      <td>...</td>\n",
       "    </tr>\n",
       "    <tr>\n",
       "      <th>179</th>\n",
       "      <td>2926</td>\n",
       "      <td>1</td>\n",
       "      <td>СПб</td>\n",
       "    </tr>\n",
       "    <tr>\n",
       "      <th>180</th>\n",
       "      <td>2928</td>\n",
       "      <td>1</td>\n",
       "      <td>СПб</td>\n",
       "    </tr>\n",
       "    <tr>\n",
       "      <th>181</th>\n",
       "      <td>2930</td>\n",
       "      <td>1</td>\n",
       "      <td>Интернет-магазин</td>\n",
       "    </tr>\n",
       "    <tr>\n",
       "      <th>182</th>\n",
       "      <td>2952</td>\n",
       "      <td>1</td>\n",
       "      <td>СПб</td>\n",
       "    </tr>\n",
       "    <tr>\n",
       "      <th>183</th>\n",
       "      <td>2953</td>\n",
       "      <td>1</td>\n",
       "      <td>СПб</td>\n",
       "    </tr>\n",
       "  </tbody>\n",
       "</table>\n",
       "<p>184 rows × 3 columns</p>\n",
       "</div>"
      ],
      "text/plain": [
       "     Store  StoreAge         StoreCity\n",
       "0     1076        12               СПб\n",
       "1     1077        16               СПб\n",
       "2     1078        14               СПб\n",
       "3     1079        19               СПб\n",
       "4     1080        13               СПб\n",
       "..     ...       ...               ...\n",
       "179   2926         1               СПб\n",
       "180   2928         1               СПб\n",
       "181   2930         1  Интернет-магазин\n",
       "182   2952         1               СПб\n",
       "183   2953         1               СПб\n",
       "\n",
       "[184 rows x 3 columns]"
      ]
     },
     "execution_count": 171,
     "metadata": {},
     "output_type": "execute_result"
    }
   ],
   "source": [
    "store_info"
   ]
  },
  {
   "cell_type": "code",
   "execution_count": 172,
   "metadata": {
    "ExecuteTime": {
     "end_time": "2021-04-15T21:51:49.732308Z",
     "start_time": "2021-04-15T21:51:49.722088Z"
    }
   },
   "outputs": [],
   "source": [
    "df_store_sku = df_sku.join(store_info.set_index('Store'), on='Store')"
   ]
  },
  {
   "cell_type": "code",
   "execution_count": 173,
   "metadata": {
    "ExecuteTime": {
     "end_time": "2021-04-15T21:51:50.040210Z",
     "start_time": "2021-04-15T21:51:50.028662Z"
    }
   },
   "outputs": [
    {
     "data": {
      "text/plain": [
       "SKU               0\n",
       "Store             0\n",
       "Elasticity        0\n",
       "P_value           0\n",
       "Q1_Qty            0\n",
       "Q1_Price          0\n",
       "Q1_Elasticity     0\n",
       "ClassId           0\n",
       "CategoryId        0\n",
       "ClusterId         0\n",
       "GroupId           0\n",
       "SubGroupId        0\n",
       "StoreAge         57\n",
       "StoreCity        57\n",
       "dtype: int64"
      ]
     },
     "execution_count": 173,
     "metadata": {},
     "output_type": "execute_result"
    }
   ],
   "source": [
    "df_store_sku.isna().sum()"
   ]
  },
  {
   "cell_type": "code",
   "execution_count": 174,
   "metadata": {
    "ExecuteTime": {
     "end_time": "2021-04-15T21:51:50.488228Z",
     "start_time": "2021-04-15T21:51:50.477224Z"
    }
   },
   "outputs": [],
   "source": [
    "df_store_sku.dropna(inplace=True)"
   ]
  },
  {
   "cell_type": "code",
   "execution_count": 175,
   "metadata": {
    "ExecuteTime": {
     "end_time": "2021-04-15T21:51:52.660575Z",
     "start_time": "2021-04-15T21:51:52.646574Z"
    }
   },
   "outputs": [
    {
     "data": {
      "text/plain": [
       "SKU              0\n",
       "Store            0\n",
       "Elasticity       0\n",
       "P_value          0\n",
       "Q1_Qty           0\n",
       "Q1_Price         0\n",
       "Q1_Elasticity    0\n",
       "ClassId          0\n",
       "CategoryId       0\n",
       "ClusterId        0\n",
       "GroupId          0\n",
       "SubGroupId       0\n",
       "StoreAge         0\n",
       "StoreCity        0\n",
       "dtype: int64"
      ]
     },
     "execution_count": 175,
     "metadata": {},
     "output_type": "execute_result"
    }
   ],
   "source": [
    "df_store_sku.isna().sum()"
   ]
  },
  {
   "cell_type": "code",
   "execution_count": 176,
   "metadata": {
    "ExecuteTime": {
     "end_time": "2021-04-15T21:51:54.979963Z",
     "start_time": "2021-04-15T21:51:54.968334Z"
    }
   },
   "outputs": [],
   "source": [
    "from sklearn.preprocessing import LabelEncoder\n",
    "\n",
    "df_store_sku.StoreCity = LabelEncoder().fit_transform(df_store_sku.StoreCity)"
   ]
  },
  {
   "cell_type": "code",
   "execution_count": 177,
   "metadata": {
    "ExecuteTime": {
     "end_time": "2021-04-15T21:51:55.869708Z",
     "start_time": "2021-04-15T21:51:55.819003Z"
    }
   },
   "outputs": [
    {
     "data": {
      "text/html": [
       "<div>\n",
       "<style scoped>\n",
       "    .dataframe tbody tr th:only-of-type {\n",
       "        vertical-align: middle;\n",
       "    }\n",
       "\n",
       "    .dataframe tbody tr th {\n",
       "        vertical-align: top;\n",
       "    }\n",
       "\n",
       "    .dataframe thead th {\n",
       "        text-align: right;\n",
       "    }\n",
       "</style>\n",
       "<table border=\"1\" class=\"dataframe\">\n",
       "  <thead>\n",
       "    <tr style=\"text-align: right;\">\n",
       "      <th></th>\n",
       "      <th>SKU</th>\n",
       "      <th>Store</th>\n",
       "      <th>Elasticity</th>\n",
       "      <th>P_value</th>\n",
       "      <th>Q1_Qty</th>\n",
       "      <th>Q1_Price</th>\n",
       "      <th>Q1_Elasticity</th>\n",
       "      <th>ClassId</th>\n",
       "      <th>CategoryId</th>\n",
       "      <th>ClusterId</th>\n",
       "      <th>GroupId</th>\n",
       "      <th>SubGroupId</th>\n",
       "      <th>StoreAge</th>\n",
       "      <th>StoreCity</th>\n",
       "    </tr>\n",
       "  </thead>\n",
       "  <tbody>\n",
       "    <tr>\n",
       "      <th>1</th>\n",
       "      <td>14408</td>\n",
       "      <td>2834</td>\n",
       "      <td>-1.248910</td>\n",
       "      <td>2.932442e-61</td>\n",
       "      <td>202.344444</td>\n",
       "      <td>60.457444</td>\n",
       "      <td>-3.693639e+00</td>\n",
       "      <td>2003.0</td>\n",
       "      <td>2561.0</td>\n",
       "      <td>27.0</td>\n",
       "      <td>2047.0</td>\n",
       "      <td>2356.0</td>\n",
       "      <td>2.0</td>\n",
       "      <td>2</td>\n",
       "    </tr>\n",
       "    <tr>\n",
       "      <th>2</th>\n",
       "      <td>150862</td>\n",
       "      <td>2834</td>\n",
       "      <td>-1.006074</td>\n",
       "      <td>2.219744e-64</td>\n",
       "      <td>266.366667</td>\n",
       "      <td>301.042889</td>\n",
       "      <td>-1.490706e+00</td>\n",
       "      <td>2003.0</td>\n",
       "      <td>2547.0</td>\n",
       "      <td>4.0</td>\n",
       "      <td>2047.0</td>\n",
       "      <td>2099.0</td>\n",
       "      <td>2.0</td>\n",
       "      <td>2</td>\n",
       "    </tr>\n",
       "    <tr>\n",
       "      <th>3</th>\n",
       "      <td>213851</td>\n",
       "      <td>2834</td>\n",
       "      <td>-1.328601</td>\n",
       "      <td>5.668468e-03</td>\n",
       "      <td>4141.500000</td>\n",
       "      <td>90.424887</td>\n",
       "      <td>-5.872169e-01</td>\n",
       "      <td>2003.0</td>\n",
       "      <td>2496.0</td>\n",
       "      <td>456.0</td>\n",
       "      <td>2037.0</td>\n",
       "      <td>2105.0</td>\n",
       "      <td>2.0</td>\n",
       "      <td>2</td>\n",
       "    </tr>\n",
       "    <tr>\n",
       "      <th>6</th>\n",
       "      <td>149856</td>\n",
       "      <td>2676</td>\n",
       "      <td>-0.960983</td>\n",
       "      <td>2.450502e-20</td>\n",
       "      <td>2.000000</td>\n",
       "      <td>336.777778</td>\n",
       "      <td>-1.075529e-15</td>\n",
       "      <td>2003.0</td>\n",
       "      <td>3023.0</td>\n",
       "      <td>458.0</td>\n",
       "      <td>2037.0</td>\n",
       "      <td>2105.0</td>\n",
       "      <td>3.0</td>\n",
       "      <td>3</td>\n",
       "    </tr>\n",
       "    <tr>\n",
       "      <th>8</th>\n",
       "      <td>4240</td>\n",
       "      <td>1498</td>\n",
       "      <td>-0.561682</td>\n",
       "      <td>3.082433e-02</td>\n",
       "      <td>2.000000</td>\n",
       "      <td>79.000000</td>\n",
       "      <td>2.507087e-01</td>\n",
       "      <td>2003.0</td>\n",
       "      <td>2692.0</td>\n",
       "      <td>455.0</td>\n",
       "      <td>2037.0</td>\n",
       "      <td>2105.0</td>\n",
       "      <td>17.0</td>\n",
       "      <td>5</td>\n",
       "    </tr>\n",
       "    <tr>\n",
       "      <th>...</th>\n",
       "      <td>...</td>\n",
       "      <td>...</td>\n",
       "      <td>...</td>\n",
       "      <td>...</td>\n",
       "      <td>...</td>\n",
       "      <td>...</td>\n",
       "      <td>...</td>\n",
       "      <td>...</td>\n",
       "      <td>...</td>\n",
       "      <td>...</td>\n",
       "      <td>...</td>\n",
       "      <td>...</td>\n",
       "      <td>...</td>\n",
       "      <td>...</td>\n",
       "    </tr>\n",
       "    <tr>\n",
       "      <th>29988</th>\n",
       "      <td>13154</td>\n",
       "      <td>1093</td>\n",
       "      <td>-4.951978</td>\n",
       "      <td>4.565353e-53</td>\n",
       "      <td>11.733333</td>\n",
       "      <td>80.611111</td>\n",
       "      <td>-6.440381e+00</td>\n",
       "      <td>2003.0</td>\n",
       "      <td>2489.0</td>\n",
       "      <td>467.0</td>\n",
       "      <td>2037.0</td>\n",
       "      <td>2111.0</td>\n",
       "      <td>9.0</td>\n",
       "      <td>5</td>\n",
       "    </tr>\n",
       "    <tr>\n",
       "      <th>29989</th>\n",
       "      <td>18086</td>\n",
       "      <td>1110</td>\n",
       "      <td>-4.119013</td>\n",
       "      <td>2.907439e-35</td>\n",
       "      <td>20.844444</td>\n",
       "      <td>289.488889</td>\n",
       "      <td>-6.259203e+00</td>\n",
       "      <td>2003.0</td>\n",
       "      <td>2711.0</td>\n",
       "      <td>39.0</td>\n",
       "      <td>2047.0</td>\n",
       "      <td>2151.0</td>\n",
       "      <td>6.0</td>\n",
       "      <td>5</td>\n",
       "    </tr>\n",
       "    <tr>\n",
       "      <th>29991</th>\n",
       "      <td>97331</td>\n",
       "      <td>1132</td>\n",
       "      <td>-0.203404</td>\n",
       "      <td>1.443094e-06</td>\n",
       "      <td>1.188889</td>\n",
       "      <td>345.000000</td>\n",
       "      <td>1.316588e-01</td>\n",
       "      <td>2003.0</td>\n",
       "      <td>2528.0</td>\n",
       "      <td>34.0</td>\n",
       "      <td>2047.0</td>\n",
       "      <td>2212.0</td>\n",
       "      <td>4.0</td>\n",
       "      <td>5</td>\n",
       "    </tr>\n",
       "    <tr>\n",
       "      <th>29994</th>\n",
       "      <td>18086</td>\n",
       "      <td>1108</td>\n",
       "      <td>-6.240736</td>\n",
       "      <td>1.938132e-24</td>\n",
       "      <td>29.639535</td>\n",
       "      <td>323.627907</td>\n",
       "      <td>1.860400e+01</td>\n",
       "      <td>2003.0</td>\n",
       "      <td>2711.0</td>\n",
       "      <td>39.0</td>\n",
       "      <td>2047.0</td>\n",
       "      <td>2151.0</td>\n",
       "      <td>6.0</td>\n",
       "      <td>5</td>\n",
       "    </tr>\n",
       "    <tr>\n",
       "      <th>29999</th>\n",
       "      <td>127659</td>\n",
       "      <td>1173</td>\n",
       "      <td>-3.017595</td>\n",
       "      <td>2.184020e-24</td>\n",
       "      <td>1.900000</td>\n",
       "      <td>485.222222</td>\n",
       "      <td>-1.918458e+00</td>\n",
       "      <td>2003.0</td>\n",
       "      <td>4001.0</td>\n",
       "      <td>45.0</td>\n",
       "      <td>2047.0</td>\n",
       "      <td>2334.0</td>\n",
       "      <td>4.0</td>\n",
       "      <td>5</td>\n",
       "    </tr>\n",
       "  </tbody>\n",
       "</table>\n",
       "<p>13508 rows × 14 columns</p>\n",
       "</div>"
      ],
      "text/plain": [
       "          SKU  Store  Elasticity       P_value       Q1_Qty    Q1_Price  \\\n",
       "1       14408   2834   -1.248910  2.932442e-61   202.344444   60.457444   \n",
       "2      150862   2834   -1.006074  2.219744e-64   266.366667  301.042889   \n",
       "3      213851   2834   -1.328601  5.668468e-03  4141.500000   90.424887   \n",
       "6      149856   2676   -0.960983  2.450502e-20     2.000000  336.777778   \n",
       "8        4240   1498   -0.561682  3.082433e-02     2.000000   79.000000   \n",
       "...       ...    ...         ...           ...          ...         ...   \n",
       "29988   13154   1093   -4.951978  4.565353e-53    11.733333   80.611111   \n",
       "29989   18086   1110   -4.119013  2.907439e-35    20.844444  289.488889   \n",
       "29991   97331   1132   -0.203404  1.443094e-06     1.188889  345.000000   \n",
       "29994   18086   1108   -6.240736  1.938132e-24    29.639535  323.627907   \n",
       "29999  127659   1173   -3.017595  2.184020e-24     1.900000  485.222222   \n",
       "\n",
       "       Q1_Elasticity  ClassId  CategoryId  ClusterId  GroupId  SubGroupId  \\\n",
       "1      -3.693639e+00   2003.0      2561.0       27.0   2047.0      2356.0   \n",
       "2      -1.490706e+00   2003.0      2547.0        4.0   2047.0      2099.0   \n",
       "3      -5.872169e-01   2003.0      2496.0      456.0   2037.0      2105.0   \n",
       "6      -1.075529e-15   2003.0      3023.0      458.0   2037.0      2105.0   \n",
       "8       2.507087e-01   2003.0      2692.0      455.0   2037.0      2105.0   \n",
       "...              ...      ...         ...        ...      ...         ...   \n",
       "29988  -6.440381e+00   2003.0      2489.0      467.0   2037.0      2111.0   \n",
       "29989  -6.259203e+00   2003.0      2711.0       39.0   2047.0      2151.0   \n",
       "29991   1.316588e-01   2003.0      2528.0       34.0   2047.0      2212.0   \n",
       "29994   1.860400e+01   2003.0      2711.0       39.0   2047.0      2151.0   \n",
       "29999  -1.918458e+00   2003.0      4001.0       45.0   2047.0      2334.0   \n",
       "\n",
       "       StoreAge  StoreCity  \n",
       "1           2.0          2  \n",
       "2           2.0          2  \n",
       "3           2.0          2  \n",
       "6           3.0          3  \n",
       "8          17.0          5  \n",
       "...         ...        ...  \n",
       "29988       9.0          5  \n",
       "29989       6.0          5  \n",
       "29991       4.0          5  \n",
       "29994       6.0          5  \n",
       "29999       4.0          5  \n",
       "\n",
       "[13508 rows x 14 columns]"
      ]
     },
     "execution_count": 177,
     "metadata": {},
     "output_type": "execute_result"
    }
   ],
   "source": [
    "df_store_sku"
   ]
  },
  {
   "cell_type": "code",
   "execution_count": 183,
   "metadata": {
    "ExecuteTime": {
     "end_time": "2021-04-15T21:52:34.624475Z",
     "start_time": "2021-04-15T21:52:34.618485Z"
    }
   },
   "outputs": [],
   "source": [
    "X = df_store_sku[['SKU', 'Store', 'ClassId', 'CategoryId', 'ClusterId', 'StoreAge', 'StoreCity', 'Q1_Qty', 'Q1_Price', 'Q1_Elasticity']].to_numpy()\n",
    "y = df_store_sku['Elasticity'].to_numpy()"
   ]
  },
  {
   "cell_type": "code",
   "execution_count": 184,
   "metadata": {
    "ExecuteTime": {
     "end_time": "2021-04-15T21:52:35.270015Z",
     "start_time": "2021-04-15T21:52:35.262989Z"
    }
   },
   "outputs": [],
   "source": [
    "from sklearn.model_selection import train_test_split\n",
    "\n",
    "X_train, X_test, y_train, y_test = train_test_split(X, y, test_size=0.1, random_state=42)"
   ]
  },
  {
   "cell_type": "code",
   "execution_count": 185,
   "metadata": {
    "ExecuteTime": {
     "end_time": "2021-04-15T21:52:43.778672Z",
     "start_time": "2021-04-15T21:52:35.787757Z"
    }
   },
   "outputs": [],
   "source": [
    "from sklearn.ensemble import RandomForestRegressor\n",
    "from sklearn.metrics import mean_squared_error\n",
    "\n",
    "reg = RandomForestRegressor().fit(X_train, y_train)"
   ]
  },
  {
   "cell_type": "code",
   "execution_count": 186,
   "metadata": {
    "ExecuteTime": {
     "end_time": "2021-04-15T21:52:44.767274Z",
     "start_time": "2021-04-15T21:52:44.679341Z"
    }
   },
   "outputs": [
    {
     "data": {
      "text/plain": [
       "3.0398959023505774"
      ]
     },
     "execution_count": 186,
     "metadata": {},
     "output_type": "execute_result"
    }
   ],
   "source": [
    "mean_squared_error(y_test, reg.predict(X_test))"
   ]
  },
  {
   "cell_type": "code",
   "execution_count": 187,
   "metadata": {
    "ExecuteTime": {
     "end_time": "2021-04-15T21:52:46.460239Z",
     "start_time": "2021-04-15T21:52:46.216241Z"
    }
   },
   "outputs": [
    {
     "data": {
      "text/plain": [
       "Text(0, 0.5, 'True value')"
      ]
     },
     "execution_count": 187,
     "metadata": {},
     "output_type": "execute_result"
    },
    {
     "data": {
      "image/png": "[encoded data removed]",
      "text/plain": [
       "<Figure size 720x576 with 1 Axes>"
      ]
     },
     "metadata": {
      "needs_background": "light"
     },
     "output_type": "display_data"
    }
   ],
   "source": [
    "plt.figure(figsize=(10, 8))\n",
    "plt.plot(reg.predict(X_test), y_test, 'o')\n",
    "plt.xlabel('Prediction')\n",
    "plt.ylabel('True value')"
   ]
  },
  {
   "cell_type": "code",
   "execution_count": 188,
   "metadata": {
    "ExecuteTime": {
     "end_time": "2021-04-15T21:53:02.218588Z",
     "start_time": "2021-04-15T21:53:02.212572Z"
    }
   },
   "outputs": [
    {
     "data": {
      "text/plain": [
       "(12157, 10)"
      ]
     },
     "execution_count": 188,
     "metadata": {},
     "output_type": "execute_result"
    }
   ],
   "source": [
    "X_train.shape"
   ]
  },
  {
   "cell_type": "code",
   "execution_count": null,
   "metadata": {},
   "outputs": [],
   "source": []
  }
 ],
 "metadata": {
  "kernelspec": {
   "display_name": "Python 3",
   "language": "python",
   "name": "python3"
  },
  "language_info": {
   "codemirror_mode": {
    "name": "ipython",
    "version": 3
   },
   "file_extension": ".py",
   "mimetype": "text/x-python",
   "name": "python",
   "nbconvert_exporter": "python",
   "pygments_lexer": "ipython3",
   "version": "3.7.5"
  }
 },
 "nbformat": 4,
 "nbformat_minor": 4
}
