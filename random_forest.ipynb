{
 "cells": [
  {
   "cell_type": "code",
   "execution_count": 108,
   "metadata": {
    "ExecuteTime": {
     "end_time": "2021-04-16T13:28:48.507013Z",
     "start_time": "2021-04-16T13:28:48.496342Z"
    }
   },
   "outputs": [],
   "source": [
    "import pandas as pd\n",
    "import numpy as np\n",
    "import statsmodels.api as sm\n",
    "import matplotlib.pyplot as plt\n",
    "import gc\n",
    "import sys\n",
    "from statsmodels.formula.api import ols\n",
    "from IPython.display import clear_output\n",
    "from numba import njit, jit"
   ]
  },
  {
   "cell_type": "code",
   "execution_count": 109,
   "metadata": {
    "ExecuteTime": {
     "end_time": "2021-04-16T13:29:08.076331Z",
     "start_time": "2021-04-16T13:28:54.720572Z"
    }
   },
   "outputs": [
    {
     "data": {
      "text/html": [
       "<div>\n",
       "<style scoped>\n",
       "    .dataframe tbody tr th:only-of-type {\n",
       "        vertical-align: middle;\n",
       "    }\n",
       "\n",
       "    .dataframe tbody tr th {\n",
       "        vertical-align: top;\n",
       "    }\n",
       "\n",
       "    .dataframe thead th {\n",
       "        text-align: right;\n",
       "    }\n",
       "</style>\n",
       "<table border=\"1\" class=\"dataframe\">\n",
       "  <thead>\n",
       "    <tr style=\"text-align: right;\">\n",
       "      <th></th>\n",
       "      <th>SKU_ID</th>\n",
       "      <th>Store_ID</th>\n",
       "      <th>Date</th>\n",
       "      <th>Demand</th>\n",
       "      <th>Sales</th>\n",
       "      <th>Regular_Price</th>\n",
       "    </tr>\n",
       "  </thead>\n",
       "  <tbody>\n",
       "    <tr>\n",
       "      <th>0</th>\n",
       "      <td>114</td>\n",
       "      <td>1078</td>\n",
       "      <td>2018-07-01</td>\n",
       "      <td>2.0</td>\n",
       "      <td>2.0</td>\n",
       "      <td>30.0</td>\n",
       "    </tr>\n",
       "    <tr>\n",
       "      <th>1</th>\n",
       "      <td>114</td>\n",
       "      <td>1078</td>\n",
       "      <td>2018-08-05</td>\n",
       "      <td>2.0</td>\n",
       "      <td>0.0</td>\n",
       "      <td>30.0</td>\n",
       "    </tr>\n",
       "    <tr>\n",
       "      <th>2</th>\n",
       "      <td>114</td>\n",
       "      <td>1078</td>\n",
       "      <td>2018-08-06</td>\n",
       "      <td>2.0</td>\n",
       "      <td>0.0</td>\n",
       "      <td>30.0</td>\n",
       "    </tr>\n",
       "    <tr>\n",
       "      <th>3</th>\n",
       "      <td>114</td>\n",
       "      <td>1078</td>\n",
       "      <td>2018-08-07</td>\n",
       "      <td>2.0</td>\n",
       "      <td>0.0</td>\n",
       "      <td>30.0</td>\n",
       "    </tr>\n",
       "    <tr>\n",
       "      <th>4</th>\n",
       "      <td>114</td>\n",
       "      <td>1078</td>\n",
       "      <td>2018-08-08</td>\n",
       "      <td>2.0</td>\n",
       "      <td>0.0</td>\n",
       "      <td>30.0</td>\n",
       "    </tr>\n",
       "    <tr>\n",
       "      <th>...</th>\n",
       "      <td>...</td>\n",
       "      <td>...</td>\n",
       "      <td>...</td>\n",
       "      <td>...</td>\n",
       "      <td>...</td>\n",
       "      <td>...</td>\n",
       "    </tr>\n",
       "    <tr>\n",
       "      <th>19999995</th>\n",
       "      <td>9790</td>\n",
       "      <td>1127</td>\n",
       "      <td>2018-07-02</td>\n",
       "      <td>5.0</td>\n",
       "      <td>1.0</td>\n",
       "      <td>257.0</td>\n",
       "    </tr>\n",
       "    <tr>\n",
       "      <th>19999996</th>\n",
       "      <td>9790</td>\n",
       "      <td>1127</td>\n",
       "      <td>2018-07-03</td>\n",
       "      <td>4.0</td>\n",
       "      <td>2.0</td>\n",
       "      <td>257.0</td>\n",
       "    </tr>\n",
       "    <tr>\n",
       "      <th>19999997</th>\n",
       "      <td>9790</td>\n",
       "      <td>1127</td>\n",
       "      <td>2018-07-04</td>\n",
       "      <td>2.0</td>\n",
       "      <td>0.0</td>\n",
       "      <td>257.0</td>\n",
       "    </tr>\n",
       "    <tr>\n",
       "      <th>19999998</th>\n",
       "      <td>9790</td>\n",
       "      <td>1127</td>\n",
       "      <td>2018-07-05</td>\n",
       "      <td>2.0</td>\n",
       "      <td>0.0</td>\n",
       "      <td>257.0</td>\n",
       "    </tr>\n",
       "    <tr>\n",
       "      <th>19999999</th>\n",
       "      <td>9790</td>\n",
       "      <td>1127</td>\n",
       "      <td>2018-07-06</td>\n",
       "      <td>2.0</td>\n",
       "      <td>0.0</td>\n",
       "      <td>257.0</td>\n",
       "    </tr>\n",
       "  </tbody>\n",
       "</table>\n",
       "<p>19836905 rows × 6 columns</p>\n",
       "</div>"
      ],
      "text/plain": [
       "          SKU_ID  Store_ID        Date  Demand  Sales  Regular_Price\n",
       "0            114      1078  2018-07-01     2.0    2.0           30.0\n",
       "1            114      1078  2018-08-05     2.0    0.0           30.0\n",
       "2            114      1078  2018-08-06     2.0    0.0           30.0\n",
       "3            114      1078  2018-08-07     2.0    0.0           30.0\n",
       "4            114      1078  2018-08-08     2.0    0.0           30.0\n",
       "...          ...       ...         ...     ...    ...            ...\n",
       "19999995    9790      1127  2018-07-02     5.0    1.0          257.0\n",
       "19999996    9790      1127  2018-07-03     4.0    2.0          257.0\n",
       "19999997    9790      1127  2018-07-04     2.0    0.0          257.0\n",
       "19999998    9790      1127  2018-07-05     2.0    0.0          257.0\n",
       "19999999    9790      1127  2018-07-06     2.0    0.0          257.0\n",
       "\n",
       "[19836905 rows x 6 columns]"
      ]
     },
     "execution_count": 109,
     "metadata": {},
     "output_type": "execute_result"
    }
   ],
   "source": [
    "df = pd.read_csv('SALES_2018_2019.csv', sep=',', nrows = 20000000)\n",
    "df = df[df.stock > 0]\n",
    "df.rename(columns={'stock': 'Demand', 'store_id': 'Store_ID', 'Code_AP' : 'SKU_ID', 'curr_date': 'Date', 'sales_regular': 'Sales','price_regular':'Regular_Price'}, inplace=True)\n",
    "df.drop(columns = ['sales_promo','price_promo','flag_promo'])"
   ]
  },
  {
   "cell_type": "code",
   "execution_count": 112,
   "metadata": {
    "ExecuteTime": {
     "end_time": "2021-04-16T13:34:41.226061Z",
     "start_time": "2021-04-16T13:34:40.576477Z"
    }
   },
   "outputs": [],
   "source": [
    "df.Date = pd.to_datetime(df.Date)"
   ]
  },
  {
   "cell_type": "code",
   "execution_count": 113,
   "metadata": {
    "ExecuteTime": {
     "end_time": "2021-04-16T13:34:43.856364Z",
     "start_time": "2021-04-16T13:34:42.081752Z"
    }
   },
   "outputs": [
    {
     "data": {
      "text/plain": [
       "0          2018-07-01\n",
       "1          2018-08-05\n",
       "2          2018-08-06\n",
       "3          2018-08-07\n",
       "4          2018-08-08\n",
       "              ...    \n",
       "19999995   2018-07-02\n",
       "19999996   2018-07-03\n",
       "19999997   2018-07-04\n",
       "19999998   2018-07-05\n",
       "19999999   2018-07-06\n",
       "Name: Date, Length: 9591187, dtype: datetime64[ns]"
      ]
     },
     "execution_count": 113,
     "metadata": {},
     "output_type": "execute_result"
    }
   ],
   "source": [
    "df.Date[df.Date.dt.year == 2018] "
   ]
  },
  {
   "cell_type": "code",
   "execution_count": 23,
   "metadata": {
    "ExecuteTime": {
     "end_time": "2021-04-07T13:20:31.034713Z",
     "start_time": "2021-04-07T13:20:09.056516Z"
    },
    "scrolled": true
   },
   "outputs": [
    {
     "data": {
      "text/html": [
       "<div>\n",
       "<style scoped>\n",
       "    .dataframe tbody tr th:only-of-type {\n",
       "        vertical-align: middle;\n",
       "    }\n",
       "\n",
       "    .dataframe tbody tr th {\n",
       "        vertical-align: top;\n",
       "    }\n",
       "\n",
       "    .dataframe thead th {\n",
       "        text-align: right;\n",
       "    }\n",
       "</style>\n",
       "<table border=\"1\" class=\"dataframe\">\n",
       "  <thead>\n",
       "    <tr style=\"text-align: right;\">\n",
       "      <th></th>\n",
       "      <th>Store_ID</th>\n",
       "      <th>SKU_ID</th>\n",
       "      <th>Date</th>\n",
       "      <th>Sales</th>\n",
       "      <th>Demand</th>\n",
       "      <th>Regular_Price</th>\n",
       "    </tr>\n",
       "  </thead>\n",
       "  <tbody>\n",
       "    <tr>\n",
       "      <th>0</th>\n",
       "      <td>1100</td>\n",
       "      <td>114</td>\n",
       "      <td>01JAN2019</td>\n",
       "      <td>0.0</td>\n",
       "      <td>1.0</td>\n",
       "      <td>51.0</td>\n",
       "    </tr>\n",
       "    <tr>\n",
       "      <th>1</th>\n",
       "      <td>1078</td>\n",
       "      <td>114</td>\n",
       "      <td>01JAN2019</td>\n",
       "      <td>0.0</td>\n",
       "      <td>2.0</td>\n",
       "      <td>51.0</td>\n",
       "    </tr>\n",
       "    <tr>\n",
       "      <th>2</th>\n",
       "      <td>1191</td>\n",
       "      <td>114</td>\n",
       "      <td>01JAN2019</td>\n",
       "      <td>0.0</td>\n",
       "      <td>2.0</td>\n",
       "      <td>53.0</td>\n",
       "    </tr>\n",
       "    <tr>\n",
       "      <th>3</th>\n",
       "      <td>2230</td>\n",
       "      <td>114</td>\n",
       "      <td>01JAN2019</td>\n",
       "      <td>0.0</td>\n",
       "      <td>1.0</td>\n",
       "      <td>40.0</td>\n",
       "    </tr>\n",
       "    <tr>\n",
       "      <th>4</th>\n",
       "      <td>1120</td>\n",
       "      <td>114</td>\n",
       "      <td>01JAN2019</td>\n",
       "      <td>0.0</td>\n",
       "      <td>1.0</td>\n",
       "      <td>53.0</td>\n",
       "    </tr>\n",
       "  </tbody>\n",
       "</table>\n",
       "</div>"
      ],
      "text/plain": [
       "   Store_ID  SKU_ID       Date  Sales  Demand  Regular_Price\n",
       "0      1100     114  01JAN2019    0.0     1.0           51.0\n",
       "1      1078     114  01JAN2019    0.0     2.0           51.0\n",
       "2      1191     114  01JAN2019    0.0     2.0           53.0\n",
       "3      2230     114  01JAN2019    0.0     1.0           40.0\n",
       "4      1120     114  01JAN2019    0.0     1.0           53.0"
      ]
     },
     "execution_count": 23,
     "metadata": {},
     "output_type": "execute_result"
    }
   ],
   "source": [
    "df = pd.read_csv('DATA_WITH_SALES.csv', sep=';')\n",
    "df = df[df.Stock > 0]\n",
    "df.rename(columns={'Stock': 'Demand'}, inplace=True)\n",
    "\n",
    "df.head(n=5)"
   ]
  },
  {
   "cell_type": "code",
   "execution_count": 114,
   "metadata": {
    "ExecuteTime": {
     "end_time": "2021-04-16T13:34:50.609995Z",
     "start_time": "2021-04-16T13:34:49.223178Z"
    }
   },
   "outputs": [],
   "source": [
    "popular_pairs = df.groupby(['SKU_ID', 'Store_ID']).size().reset_index(name='counts').sort_values(by='counts', ascending=False).reset_index(drop=True)"
   ]
  },
  {
   "cell_type": "code",
   "execution_count": 115,
   "metadata": {
    "ExecuteTime": {
     "end_time": "2021-04-16T13:34:51.227451Z",
     "start_time": "2021-04-16T13:34:51.214952Z"
    }
   },
   "outputs": [
    {
     "data": {
      "text/html": [
       "<div>\n",
       "<style scoped>\n",
       "    .dataframe tbody tr th:only-of-type {\n",
       "        vertical-align: middle;\n",
       "    }\n",
       "\n",
       "    .dataframe tbody tr th {\n",
       "        vertical-align: top;\n",
       "    }\n",
       "\n",
       "    .dataframe thead th {\n",
       "        text-align: right;\n",
       "    }\n",
       "</style>\n",
       "<table border=\"1\" class=\"dataframe\">\n",
       "  <thead>\n",
       "    <tr style=\"text-align: right;\">\n",
       "      <th></th>\n",
       "      <th>SKU_ID</th>\n",
       "      <th>Store_ID</th>\n",
       "      <th>counts</th>\n",
       "    </tr>\n",
       "  </thead>\n",
       "  <tbody>\n",
       "    <tr>\n",
       "      <th>0</th>\n",
       "      <td>691</td>\n",
       "      <td>2834</td>\n",
       "      <td>725</td>\n",
       "    </tr>\n",
       "    <tr>\n",
       "      <th>1</th>\n",
       "      <td>1483</td>\n",
       "      <td>2834</td>\n",
       "      <td>725</td>\n",
       "    </tr>\n",
       "    <tr>\n",
       "      <th>2</th>\n",
       "      <td>5320</td>\n",
       "      <td>2834</td>\n",
       "      <td>725</td>\n",
       "    </tr>\n",
       "    <tr>\n",
       "      <th>3</th>\n",
       "      <td>738</td>\n",
       "      <td>2834</td>\n",
       "      <td>725</td>\n",
       "    </tr>\n",
       "    <tr>\n",
       "      <th>4</th>\n",
       "      <td>4240</td>\n",
       "      <td>1191</td>\n",
       "      <td>725</td>\n",
       "    </tr>\n",
       "    <tr>\n",
       "      <th>5</th>\n",
       "      <td>1948</td>\n",
       "      <td>2834</td>\n",
       "      <td>725</td>\n",
       "    </tr>\n",
       "    <tr>\n",
       "      <th>6</th>\n",
       "      <td>5899</td>\n",
       "      <td>2834</td>\n",
       "      <td>725</td>\n",
       "    </tr>\n",
       "    <tr>\n",
       "      <th>7</th>\n",
       "      <td>7396</td>\n",
       "      <td>2834</td>\n",
       "      <td>725</td>\n",
       "    </tr>\n",
       "    <tr>\n",
       "      <th>8</th>\n",
       "      <td>8215</td>\n",
       "      <td>2834</td>\n",
       "      <td>725</td>\n",
       "    </tr>\n",
       "    <tr>\n",
       "      <th>9</th>\n",
       "      <td>8681</td>\n",
       "      <td>2834</td>\n",
       "      <td>725</td>\n",
       "    </tr>\n",
       "  </tbody>\n",
       "</table>\n",
       "</div>"
      ],
      "text/plain": [
       "   SKU_ID  Store_ID  counts\n",
       "0     691      2834     725\n",
       "1    1483      2834     725\n",
       "2    5320      2834     725\n",
       "3     738      2834     725\n",
       "4    4240      1191     725\n",
       "5    1948      2834     725\n",
       "6    5899      2834     725\n",
       "7    7396      2834     725\n",
       "8    8215      2834     725\n",
       "9    8681      2834     725"
      ]
     },
     "execution_count": 115,
     "metadata": {},
     "output_type": "execute_result"
    }
   ],
   "source": [
    "popular_pairs.head(n=10)"
   ]
  },
  {
   "cell_type": "code",
   "execution_count": 116,
   "metadata": {
    "ExecuteTime": {
     "end_time": "2021-04-16T13:34:59.715676Z",
     "start_time": "2021-04-16T13:34:54.609886Z"
    }
   },
   "outputs": [],
   "source": [
    "df1 = df[df.Date.dt.year == 2019] \n",
    "df = df[df.Date.dt.year == 2018] "
   ]
  },
  {
   "cell_type": "code",
   "execution_count": 117,
   "metadata": {
    "ExecuteTime": {
     "end_time": "2021-04-16T13:35:01.144007Z",
     "start_time": "2021-04-16T13:35:00.234883Z"
    }
   },
   "outputs": [],
   "source": [
    "pairs_for_experiment = []\n",
    "num_of_pairs = 10000\n",
    "for i, r in popular_pairs.iterrows():\n",
    "    if i == num_of_pairs:\n",
    "        break\n",
    "    pairs_for_experiment.append((r['SKU_ID'], r['Store_ID']))"
   ]
  },
  {
   "cell_type": "code",
   "execution_count": 118,
   "metadata": {
    "ExecuteTime": {
     "end_time": "2021-04-16T13:35:01.693082Z",
     "start_time": "2021-04-16T13:35:01.669567Z"
    }
   },
   "outputs": [],
   "source": [
    "def transform(x, ttype):\n",
    "    '''\n",
    "    Accepts vector and performs transformation on it based on ttype\n",
    "    '''\n",
    "    if ttype == 'log':\n",
    "        return np.log1p(x)\n",
    "    \n",
    "    return np.array(x)"
   ]
  },
  {
   "cell_type": "code",
   "execution_count": 119,
   "metadata": {
    "ExecuteTime": {
     "end_time": "2021-04-16T13:35:02.347809Z",
     "start_time": "2021-04-16T13:35:02.333754Z"
    }
   },
   "outputs": [],
   "source": [
    "def coef(model):\n",
    "    \"\"\"\n",
    "    return regression coefficient of model\n",
    "    \"\"\"\n",
    "    return model.params[1] if len(model.params) > 1 else model.params[0]\n",
    "\n",
    "def pvalue(model):\n",
    "    \"\"\"\n",
    "    return regression coefficient's t-test p-value of model\n",
    "    \"\"\"\n",
    "    return model.pvalues[1] if len(model.pvalues) > 1 else model.pvalues[0]"
   ]
  },
  {
   "cell_type": "code",
   "execution_count": 120,
   "metadata": {
    "ExecuteTime": {
     "end_time": "2021-04-16T13:35:02.939632Z",
     "start_time": "2021-04-16T13:35:02.925915Z"
    }
   },
   "outputs": [],
   "source": [
    "def elasticity(X, y, model, model_type):\n",
    "    '''\n",
    "    Computes elasticity of model based on X, y, model itself and model's type\n",
    "    '''\n",
    "    if model_type == 'lin-lin':\n",
    "        return coef(model) * np.mean(X) / np.mean(y)\n",
    "    elif model_type == 'log-lin':\n",
    "        return coef(model) * np.mean(X)\n",
    "    elif model_type == 'log-log':\n",
    "        return coef(model)"
   ]
  },
  {
   "cell_type": "code",
   "execution_count": 121,
   "metadata": {
    "ExecuteTime": {
     "end_time": "2021-04-16T13:35:03.592408Z",
     "start_time": "2021-04-16T13:35:03.581002Z"
    }
   },
   "outputs": [],
   "source": [
    "def PEDmodel(X, y, model_type='lin-lin'):\n",
    "    '''\n",
    "    Makes PED model based on input data X, y and model type\n",
    "    '''\n",
    "    _types = model_type.split('-')\n",
    "    \n",
    "    act_x = transform(X, _types[1])\n",
    "    act_x = sm.add_constant(act_x)\n",
    "    \n",
    "    act_y = transform(y, _types[0])\n",
    "    \n",
    "    return sm.OLS(act_y, act_x).fit()"
   ]
  },
  {
   "cell_type": "code",
   "execution_count": 122,
   "metadata": {
    "ExecuteTime": {
     "end_time": "2021-04-16T13:35:04.169210Z",
     "start_time": "2021-04-16T13:35:04.140659Z"
    }
   },
   "outputs": [],
   "source": [
    "def get_model_stats(X, y, model, model_type):\n",
    "    '''\n",
    "    returns model's statistics\n",
    "        regression coefficient,\n",
    "        R-squared,\n",
    "        T-test p-value,\n",
    "        elasticity\n",
    "    '''\n",
    "    elas = elasticity(X, y, model, model_type)\n",
    "    \n",
    "    return coef(model), model.rsquared, pvalue(model), elas"
   ]
  },
  {
   "cell_type": "code",
   "execution_count": 123,
   "metadata": {
    "ExecuteTime": {
     "end_time": "2021-04-16T13:35:04.903446Z",
     "start_time": "2021-04-16T13:35:04.889679Z"
    }
   },
   "outputs": [],
   "source": [
    "def GeneratePEDModels(dataset):\n",
    "    model_type = 'log-log'\n",
    "    sku_id, store_id, elas, qty, ttpvalue = [], [], [], [], []\n",
    "    iter_count = 0\n",
    "\n",
    "    for good_id, shop_id in pairs_for_experiment:\n",
    "        data = dataset[(dataset.Store_ID == shop_id) & (dataset.SKU_ID == good_id)]\n",
    "        model = PEDmodel(data.Regular_Price, data.Demand, model_type)\n",
    "        \n",
    "        c, r2, tp, e = get_model_stats(data.Regular_Price, data.Demand, model, model_type)\n",
    "\n",
    "        sku_id.append(good_id)\n",
    "        store_id.append(shop_id)\n",
    "        elas.append(e)\n",
    "        ttpvalue.append(tp)\n",
    "        qty.append(data.Demand.sum() / data.shape[0])\n",
    "    \n",
    "    return pd.DataFrame({\n",
    "        'SKU': sku_id,\n",
    "        'Store': store_id,\n",
    "        'Elasticity': elas,\n",
    "        'Qty': qty,\n",
    "        'P_value': ttpvalue\n",
    "    })"
   ]
  },
  {
   "cell_type": "code",
   "execution_count": 124,
   "metadata": {
    "ExecuteTime": {
     "end_time": "2021-04-16T13:42:53.031839Z",
     "start_time": "2021-04-16T13:35:05.412014Z"
    },
    "scrolled": true
   },
   "outputs": [
    {
     "name": "stderr",
     "output_type": "stream",
     "text": [
      "C:\\Users\\User\\anaconda3\\lib\\site-packages\\statsmodels\\regression\\linear_model.py:1685: RuntimeWarning: divide by zero encountered in double_scalars\n",
      "  return 1 - self.ssr/self.centered_tss\n"
     ]
    }
   ],
   "source": [
    "trained_data = GeneratePEDModels(df)"
   ]
  },
  {
   "cell_type": "code",
   "execution_count": 125,
   "metadata": {
    "ExecuteTime": {
     "end_time": "2021-04-16T13:49:50.622964Z",
     "start_time": "2021-04-16T13:42:53.623560Z"
    }
   },
   "outputs": [
    {
     "name": "stderr",
     "output_type": "stream",
     "text": [
      "C:\\Users\\User\\anaconda3\\lib\\site-packages\\statsmodels\\regression\\linear_model.py:1685: RuntimeWarning: divide by zero encountered in double_scalars\n",
      "  return 1 - self.ssr/self.centered_tss\n"
     ]
    }
   ],
   "source": [
    "tested_data = GeneratePEDModels(df1)"
   ]
  },
  {
   "cell_type": "code",
   "execution_count": 126,
   "metadata": {
    "ExecuteTime": {
     "end_time": "2021-04-16T13:49:51.236160Z",
     "start_time": "2021-04-16T13:49:51.081470Z"
    },
    "run_control": {
     "marked": false
    }
   },
   "outputs": [],
   "source": [
    "trained_data.to_csv('train_data.csv')\n",
    "tested_data.to_csv('tested_data.csv')"
   ]
  },
  {
   "cell_type": "code",
   "execution_count": 127,
   "metadata": {
    "ExecuteTime": {
     "end_time": "2021-04-16T13:51:44.459707Z",
     "start_time": "2021-04-16T13:51:44.439057Z"
    }
   },
   "outputs": [],
   "source": [
    "df_train = trained_data[(trained_data.Elasticity > -10) & (trained_data.Elasticity < 0) & (trained_data.P_value < 0.05)]"
   ]
  },
  {
   "cell_type": "code",
   "execution_count": 128,
   "metadata": {
    "ExecuteTime": {
     "end_time": "2021-04-16T13:51:44.977190Z",
     "start_time": "2021-04-16T13:51:44.963995Z"
    }
   },
   "outputs": [],
   "source": [
    "df_test = tested_data[(tested_data.Elasticity > -10) & (tested_data.Elasticity < 0) & (tested_data.P_value < 0.05)]"
   ]
  },
  {
   "cell_type": "code",
   "execution_count": 129,
   "metadata": {
    "ExecuteTime": {
     "end_time": "2021-04-16T13:51:45.570124Z",
     "start_time": "2021-04-16T13:51:45.528627Z"
    }
   },
   "outputs": [
    {
     "data": {
      "text/html": [
       "<div>\n",
       "<style scoped>\n",
       "    .dataframe tbody tr th:only-of-type {\n",
       "        vertical-align: middle;\n",
       "    }\n",
       "\n",
       "    .dataframe tbody tr th {\n",
       "        vertical-align: top;\n",
       "    }\n",
       "\n",
       "    .dataframe thead th {\n",
       "        text-align: right;\n",
       "    }\n",
       "</style>\n",
       "<table border=\"1\" class=\"dataframe\">\n",
       "  <thead>\n",
       "    <tr style=\"text-align: right;\">\n",
       "      <th></th>\n",
       "      <th>SKU</th>\n",
       "      <th>Store</th>\n",
       "      <th>Elasticity</th>\n",
       "      <th>Qty</th>\n",
       "      <th>P_value</th>\n",
       "    </tr>\n",
       "  </thead>\n",
       "  <tbody>\n",
       "    <tr>\n",
       "      <th>2</th>\n",
       "      <td>5320</td>\n",
       "      <td>2834</td>\n",
       "      <td>-1.711069</td>\n",
       "      <td>1030.051648</td>\n",
       "      <td>7.047693e-18</td>\n",
       "    </tr>\n",
       "    <tr>\n",
       "      <th>3</th>\n",
       "      <td>738</td>\n",
       "      <td>2834</td>\n",
       "      <td>-2.532597</td>\n",
       "      <td>640.582418</td>\n",
       "      <td>9.890574e-14</td>\n",
       "    </tr>\n",
       "    <tr>\n",
       "      <th>5</th>\n",
       "      <td>1948</td>\n",
       "      <td>2834</td>\n",
       "      <td>-2.078973</td>\n",
       "      <td>305.859890</td>\n",
       "      <td>1.233518e-64</td>\n",
       "    </tr>\n",
       "    <tr>\n",
       "      <th>6</th>\n",
       "      <td>5899</td>\n",
       "      <td>2834</td>\n",
       "      <td>-0.960302</td>\n",
       "      <td>580.002747</td>\n",
       "      <td>2.594262e-36</td>\n",
       "    </tr>\n",
       "    <tr>\n",
       "      <th>7</th>\n",
       "      <td>7396</td>\n",
       "      <td>2834</td>\n",
       "      <td>-0.888237</td>\n",
       "      <td>4414.964286</td>\n",
       "      <td>1.285520e-10</td>\n",
       "    </tr>\n",
       "  </tbody>\n",
       "</table>\n",
       "</div>"
      ],
      "text/plain": [
       "    SKU  Store  Elasticity          Qty       P_value\n",
       "2  5320   2834   -1.711069  1030.051648  7.047693e-18\n",
       "3   738   2834   -2.532597   640.582418  9.890574e-14\n",
       "5  1948   2834   -2.078973   305.859890  1.233518e-64\n",
       "6  5899   2834   -0.960302   580.002747  2.594262e-36\n",
       "7  7396   2834   -0.888237  4414.964286  1.285520e-10"
      ]
     },
     "execution_count": 129,
     "metadata": {},
     "output_type": "execute_result"
    }
   ],
   "source": [
    "df_train.head()"
   ]
  },
  {
   "cell_type": "code",
   "execution_count": 130,
   "metadata": {
    "ExecuteTime": {
     "end_time": "2021-04-16T13:51:47.255194Z",
     "start_time": "2021-04-16T13:51:47.232585Z"
    }
   },
   "outputs": [
    {
     "data": {
      "text/html": [
       "<div>\n",
       "<style scoped>\n",
       "    .dataframe tbody tr th:only-of-type {\n",
       "        vertical-align: middle;\n",
       "    }\n",
       "\n",
       "    .dataframe tbody tr th {\n",
       "        vertical-align: top;\n",
       "    }\n",
       "\n",
       "    .dataframe thead th {\n",
       "        text-align: right;\n",
       "    }\n",
       "</style>\n",
       "<table border=\"1\" class=\"dataframe\">\n",
       "  <thead>\n",
       "    <tr style=\"text-align: right;\">\n",
       "      <th></th>\n",
       "      <th>SKU</th>\n",
       "      <th>Store</th>\n",
       "      <th>Elasticity</th>\n",
       "      <th>Qty</th>\n",
       "      <th>P_value</th>\n",
       "    </tr>\n",
       "  </thead>\n",
       "  <tbody>\n",
       "    <tr>\n",
       "      <th>0</th>\n",
       "      <td>691</td>\n",
       "      <td>2834</td>\n",
       "      <td>-6.446472</td>\n",
       "      <td>57.340720</td>\n",
       "      <td>4.524572e-07</td>\n",
       "    </tr>\n",
       "    <tr>\n",
       "      <th>1</th>\n",
       "      <td>1483</td>\n",
       "      <td>2834</td>\n",
       "      <td>-0.457565</td>\n",
       "      <td>539.592798</td>\n",
       "      <td>8.548480e-18</td>\n",
       "    </tr>\n",
       "    <tr>\n",
       "      <th>3</th>\n",
       "      <td>738</td>\n",
       "      <td>2834</td>\n",
       "      <td>-2.307756</td>\n",
       "      <td>567.664820</td>\n",
       "      <td>2.097424e-21</td>\n",
       "    </tr>\n",
       "    <tr>\n",
       "      <th>4</th>\n",
       "      <td>4240</td>\n",
       "      <td>1191</td>\n",
       "      <td>-5.119616</td>\n",
       "      <td>5.013850</td>\n",
       "      <td>3.489532e-14</td>\n",
       "    </tr>\n",
       "    <tr>\n",
       "      <th>8</th>\n",
       "      <td>8215</td>\n",
       "      <td>2834</td>\n",
       "      <td>-0.066233</td>\n",
       "      <td>374.954737</td>\n",
       "      <td>3.541982e-02</td>\n",
       "    </tr>\n",
       "  </tbody>\n",
       "</table>\n",
       "</div>"
      ],
      "text/plain": [
       "    SKU  Store  Elasticity         Qty       P_value\n",
       "0   691   2834   -6.446472   57.340720  4.524572e-07\n",
       "1  1483   2834   -0.457565  539.592798  8.548480e-18\n",
       "3   738   2834   -2.307756  567.664820  2.097424e-21\n",
       "4  4240   1191   -5.119616    5.013850  3.489532e-14\n",
       "8  8215   2834   -0.066233  374.954737  3.541982e-02"
      ]
     },
     "execution_count": 130,
     "metadata": {},
     "output_type": "execute_result"
    }
   ],
   "source": [
    "df_test.head()"
   ]
  },
  {
   "cell_type": "code",
   "execution_count": 182,
   "metadata": {
    "ExecuteTime": {
     "end_time": "2021-04-16T14:14:07.530336Z",
     "start_time": "2021-04-16T14:14:07.512237Z"
    }
   },
   "outputs": [],
   "source": [
    "feat1 = df_train.groupby('SKU').mean().Elasticity\n",
    "feat2 = df_train.groupby('Store').mean().Elasticity"
   ]
  },
  {
   "cell_type": "code",
   "execution_count": 183,
   "metadata": {
    "ExecuteTime": {
     "end_time": "2021-04-16T14:14:56.200379Z",
     "start_time": "2021-04-16T14:14:19.264848Z"
    }
   },
   "outputs": [],
   "source": [
    "product_info = pd.read_excel('PRODUCT_INF.xlsx')\n",
    "product_info.rename(columns={'Code_AP': 'SKU'}, inplace=True)"
   ]
  },
  {
   "cell_type": "code",
   "execution_count": 184,
   "metadata": {
    "ExecuteTime": {
     "end_time": "2021-04-16T14:14:56.830311Z",
     "start_time": "2021-04-16T14:14:56.800425Z"
    }
   },
   "outputs": [
    {
     "data": {
      "text/html": [
       "<div>\n",
       "<style scoped>\n",
       "    .dataframe tbody tr th:only-of-type {\n",
       "        vertical-align: middle;\n",
       "    }\n",
       "\n",
       "    .dataframe tbody tr th {\n",
       "        vertical-align: top;\n",
       "    }\n",
       "\n",
       "    .dataframe thead th {\n",
       "        text-align: right;\n",
       "    }\n",
       "</style>\n",
       "<table border=\"1\" class=\"dataframe\">\n",
       "  <thead>\n",
       "    <tr style=\"text-align: right;\">\n",
       "      <th></th>\n",
       "      <th>ProductName</th>\n",
       "      <th>SKU</th>\n",
       "      <th>ClassId</th>\n",
       "      <th>GroupId</th>\n",
       "      <th>SubGroupId</th>\n",
       "      <th>CategoryId</th>\n",
       "      <th>ClusterId</th>\n",
       "      <th>Class</th>\n",
       "      <th>Groups</th>\n",
       "      <th>SubGroups</th>\n",
       "      <th>Category</th>\n",
       "      <th>Cluster</th>\n",
       "    </tr>\n",
       "  </thead>\n",
       "  <tbody>\n",
       "    <tr>\n",
       "      <th>192058</th>\n",
       "      <td>Контролок таб.п.кш.о.20мг №14</td>\n",
       "      <td>97140</td>\n",
       "      <td>2003</td>\n",
       "      <td>2047</td>\n",
       "      <td>2099</td>\n",
       "      <td>2532</td>\n",
       "      <td>994</td>\n",
       "      <td>Лекарственные и профилактические средства</td>\n",
       "      <td>Пищеварительный тракт</td>\n",
       "      <td>Для улучшения пищеварения</td>\n",
       "      <td>Ингибиторы протонной помпы</td>\n",
       "      <td>Пантопразол</td>\n",
       "    </tr>\n",
       "  </tbody>\n",
       "</table>\n",
       "</div>"
      ],
      "text/plain": [
       "                          ProductName    SKU  ClassId  GroupId  SubGroupId  \\\n",
       "192058  Контролок таб.п.кш.о.20мг №14  97140     2003     2047        2099   \n",
       "\n",
       "        CategoryId  ClusterId                                      Class  \\\n",
       "192058        2532        994  Лекарственные и профилактические средства   \n",
       "\n",
       "                       Groups                  SubGroups  \\\n",
       "192058  Пищеварительный тракт  Для улучшения пищеварения   \n",
       "\n",
       "                          Category      Cluster  \n",
       "192058  Ингибиторы протонной помпы  Пантопразол  "
      ]
     },
     "execution_count": 184,
     "metadata": {},
     "output_type": "execute_result"
    }
   ],
   "source": [
    "product_info[product_info.SKU == 97140]"
   ]
  },
  {
   "cell_type": "code",
   "execution_count": 185,
   "metadata": {
    "ExecuteTime": {
     "end_time": "2021-04-16T14:14:57.462268Z",
     "start_time": "2021-04-16T14:14:57.403885Z"
    }
   },
   "outputs": [],
   "source": [
    "product_info = product_info[['SKU', 'ClassId', 'CategoryId', 'ClusterId']]"
   ]
  },
  {
   "cell_type": "code",
   "execution_count": 186,
   "metadata": {
    "ExecuteTime": {
     "end_time": "2021-04-16T14:14:57.962955Z",
     "start_time": "2021-04-16T14:14:57.948157Z"
    }
   },
   "outputs": [
    {
     "data": {
      "text/html": [
       "<div>\n",
       "<style scoped>\n",
       "    .dataframe tbody tr th:only-of-type {\n",
       "        vertical-align: middle;\n",
       "    }\n",
       "\n",
       "    .dataframe tbody tr th {\n",
       "        vertical-align: top;\n",
       "    }\n",
       "\n",
       "    .dataframe thead th {\n",
       "        text-align: right;\n",
       "    }\n",
       "</style>\n",
       "<table border=\"1\" class=\"dataframe\">\n",
       "  <thead>\n",
       "    <tr style=\"text-align: right;\">\n",
       "      <th></th>\n",
       "      <th>SKU</th>\n",
       "      <th>ClassId</th>\n",
       "      <th>CategoryId</th>\n",
       "      <th>ClusterId</th>\n",
       "    </tr>\n",
       "  </thead>\n",
       "  <tbody>\n",
       "    <tr>\n",
       "      <th>0</th>\n",
       "      <td>9999999</td>\n",
       "      <td>-5</td>\n",
       "      <td>-2</td>\n",
       "      <td>-1</td>\n",
       "    </tr>\n",
       "    <tr>\n",
       "      <th>1</th>\n",
       "      <td>122139</td>\n",
       "      <td>-5</td>\n",
       "      <td>-2</td>\n",
       "      <td>-1</td>\n",
       "    </tr>\n",
       "    <tr>\n",
       "      <th>2</th>\n",
       "      <td>122140</td>\n",
       "      <td>-5</td>\n",
       "      <td>-2</td>\n",
       "      <td>-1</td>\n",
       "    </tr>\n",
       "    <tr>\n",
       "      <th>3</th>\n",
       "      <td>122141</td>\n",
       "      <td>-5</td>\n",
       "      <td>-2</td>\n",
       "      <td>-1</td>\n",
       "    </tr>\n",
       "    <tr>\n",
       "      <th>4</th>\n",
       "      <td>122142</td>\n",
       "      <td>-5</td>\n",
       "      <td>-2</td>\n",
       "      <td>-1</td>\n",
       "    </tr>\n",
       "  </tbody>\n",
       "</table>\n",
       "</div>"
      ],
      "text/plain": [
       "       SKU  ClassId  CategoryId  ClusterId\n",
       "0  9999999       -5          -2         -1\n",
       "1   122139       -5          -2         -1\n",
       "2   122140       -5          -2         -1\n",
       "3   122141       -5          -2         -1\n",
       "4   122142       -5          -2         -1"
      ]
     },
     "execution_count": 186,
     "metadata": {},
     "output_type": "execute_result"
    }
   ],
   "source": [
    "product_info.head()"
   ]
  },
  {
   "cell_type": "code",
   "execution_count": 187,
   "metadata": {
    "ExecuteTime": {
     "end_time": "2021-04-16T14:14:58.511370Z",
     "start_time": "2021-04-16T14:14:58.465450Z"
    }
   },
   "outputs": [],
   "source": [
    "df_sku = df_test.join(product_info.set_index('SKU'), on='SKU')"
   ]
  },
  {
   "cell_type": "code",
   "execution_count": 188,
   "metadata": {
    "ExecuteTime": {
     "end_time": "2021-04-16T14:14:59.136416Z",
     "start_time": "2021-04-16T14:14:59.110984Z"
    }
   },
   "outputs": [
    {
     "data": {
      "text/plain": [
       "SKU           0\n",
       "Store         0\n",
       "Elasticity    0\n",
       "Qty           0\n",
       "P_value       0\n",
       "ClassId       0\n",
       "CategoryId    0\n",
       "ClusterId     0\n",
       "dtype: int64"
      ]
     },
     "execution_count": 188,
     "metadata": {},
     "output_type": "execute_result"
    }
   ],
   "source": [
    "df_sku.isna().sum()"
   ]
  },
  {
   "cell_type": "code",
   "execution_count": 189,
   "metadata": {
    "ExecuteTime": {
     "end_time": "2021-04-16T14:14:59.699698Z",
     "start_time": "2021-04-16T14:14:59.662506Z"
    }
   },
   "outputs": [
    {
     "data": {
      "text/html": [
       "<div>\n",
       "<style scoped>\n",
       "    .dataframe tbody tr th:only-of-type {\n",
       "        vertical-align: middle;\n",
       "    }\n",
       "\n",
       "    .dataframe tbody tr th {\n",
       "        vertical-align: top;\n",
       "    }\n",
       "\n",
       "    .dataframe thead th {\n",
       "        text-align: right;\n",
       "    }\n",
       "</style>\n",
       "<table border=\"1\" class=\"dataframe\">\n",
       "  <thead>\n",
       "    <tr style=\"text-align: right;\">\n",
       "      <th></th>\n",
       "      <th>SKU</th>\n",
       "      <th>Store</th>\n",
       "      <th>Elasticity</th>\n",
       "      <th>Qty</th>\n",
       "      <th>P_value</th>\n",
       "      <th>ClassId</th>\n",
       "      <th>CategoryId</th>\n",
       "      <th>ClusterId</th>\n",
       "    </tr>\n",
       "  </thead>\n",
       "  <tbody>\n",
       "    <tr>\n",
       "      <th>0</th>\n",
       "      <td>691</td>\n",
       "      <td>2834</td>\n",
       "      <td>-6.446472</td>\n",
       "      <td>57.340720</td>\n",
       "      <td>4.524572e-07</td>\n",
       "      <td>2003</td>\n",
       "      <td>2489</td>\n",
       "      <td>467</td>\n",
       "    </tr>\n",
       "    <tr>\n",
       "      <th>1</th>\n",
       "      <td>1483</td>\n",
       "      <td>2834</td>\n",
       "      <td>-0.457565</td>\n",
       "      <td>539.592798</td>\n",
       "      <td>8.548480e-18</td>\n",
       "      <td>2003</td>\n",
       "      <td>2855</td>\n",
       "      <td>43</td>\n",
       "    </tr>\n",
       "    <tr>\n",
       "      <th>3</th>\n",
       "      <td>738</td>\n",
       "      <td>2834</td>\n",
       "      <td>-2.307756</td>\n",
       "      <td>567.664820</td>\n",
       "      <td>2.097424e-21</td>\n",
       "      <td>2003</td>\n",
       "      <td>2849</td>\n",
       "      <td>470</td>\n",
       "    </tr>\n",
       "    <tr>\n",
       "      <th>4</th>\n",
       "      <td>4240</td>\n",
       "      <td>1191</td>\n",
       "      <td>-5.119616</td>\n",
       "      <td>5.013850</td>\n",
       "      <td>3.489532e-14</td>\n",
       "      <td>2003</td>\n",
       "      <td>2692</td>\n",
       "      <td>455</td>\n",
       "    </tr>\n",
       "    <tr>\n",
       "      <th>8</th>\n",
       "      <td>8215</td>\n",
       "      <td>2834</td>\n",
       "      <td>-0.066233</td>\n",
       "      <td>374.954737</td>\n",
       "      <td>3.541982e-02</td>\n",
       "      <td>2003</td>\n",
       "      <td>2547</td>\n",
       "      <td>5</td>\n",
       "    </tr>\n",
       "  </tbody>\n",
       "</table>\n",
       "</div>"
      ],
      "text/plain": [
       "    SKU  Store  Elasticity         Qty       P_value  ClassId  CategoryId  \\\n",
       "0   691   2834   -6.446472   57.340720  4.524572e-07     2003        2489   \n",
       "1  1483   2834   -0.457565  539.592798  8.548480e-18     2003        2855   \n",
       "3   738   2834   -2.307756  567.664820  2.097424e-21     2003        2849   \n",
       "4  4240   1191   -5.119616    5.013850  3.489532e-14     2003        2692   \n",
       "8  8215   2834   -0.066233  374.954737  3.541982e-02     2003        2547   \n",
       "\n",
       "   ClusterId  \n",
       "0        467  \n",
       "1         43  \n",
       "3        470  \n",
       "4        455  \n",
       "8          5  "
      ]
     },
     "execution_count": 189,
     "metadata": {},
     "output_type": "execute_result"
    }
   ],
   "source": [
    "df_sku.head()"
   ]
  },
  {
   "cell_type": "code",
   "execution_count": 190,
   "metadata": {
    "ExecuteTime": {
     "end_time": "2021-04-16T14:15:00.214312Z",
     "start_time": "2021-04-16T14:15:00.153445Z"
    }
   },
   "outputs": [],
   "source": [
    "store_info = pd.read_excel('LOCATION_INF.xlsx')\n",
    "store_info.rename(columns={'TradePointId': 'Store'}, inplace=True)"
   ]
  },
  {
   "cell_type": "code",
   "execution_count": 191,
   "metadata": {
    "ExecuteTime": {
     "end_time": "2021-04-16T14:15:00.669152Z",
     "start_time": "2021-04-16T14:15:00.655189Z"
    }
   },
   "outputs": [
    {
     "data": {
      "text/plain": [
       "{'ВО', 'ВОЛОГДА', 'ИНТЕРНЕТМАГАЗИН', 'ЛО', 'СПБ', 'ЧЕРЕПОВЕЦ', 'ШУШАРЫ'}"
      ]
     },
     "execution_count": 191,
     "metadata": {},
     "output_type": "execute_result"
    }
   ],
   "source": [
    "import string\n",
    "store_info['TradePointName'] = store_info['TradePointName'].str.upper()\n",
    "store_info['TradePointName'] = store_info['TradePointName'].str.split(' ').str[0]\n",
    "store_info['TradePointName'] = store_info['TradePointName'].replace(r'[{}]'.format(string.punctuation), '', regex=True)\n",
    "set(store_info['TradePointName'])"
   ]
  },
  {
   "cell_type": "code",
   "execution_count": 192,
   "metadata": {
    "ExecuteTime": {
     "end_time": "2021-04-16T14:15:01.167531Z",
     "start_time": "2021-04-16T14:15:01.153535Z"
    }
   },
   "outputs": [],
   "source": [
    "df_sku = df_sku.join(store_info.set_index('Store'), on='Store')"
   ]
  },
  {
   "cell_type": "code",
   "execution_count": 193,
   "metadata": {
    "ExecuteTime": {
     "end_time": "2021-04-16T14:15:20.552609Z",
     "start_time": "2021-04-16T14:15:20.521632Z"
    }
   },
   "outputs": [
    {
     "data": {
      "text/html": [
       "<div>\n",
       "<style scoped>\n",
       "    .dataframe tbody tr th:only-of-type {\n",
       "        vertical-align: middle;\n",
       "    }\n",
       "\n",
       "    .dataframe tbody tr th {\n",
       "        vertical-align: top;\n",
       "    }\n",
       "\n",
       "    .dataframe thead th {\n",
       "        text-align: right;\n",
       "    }\n",
       "</style>\n",
       "<table border=\"1\" class=\"dataframe\">\n",
       "  <thead>\n",
       "    <tr style=\"text-align: right;\">\n",
       "      <th></th>\n",
       "      <th>SKU</th>\n",
       "      <th>SKU_Elast</th>\n",
       "    </tr>\n",
       "  </thead>\n",
       "  <tbody>\n",
       "    <tr>\n",
       "      <th>0</th>\n",
       "      <td>146</td>\n",
       "      <td>-2.524160</td>\n",
       "    </tr>\n",
       "    <tr>\n",
       "      <th>1</th>\n",
       "      <td>300</td>\n",
       "      <td>-1.128517</td>\n",
       "    </tr>\n",
       "    <tr>\n",
       "      <th>2</th>\n",
       "      <td>330</td>\n",
       "      <td>-2.499236</td>\n",
       "    </tr>\n",
       "    <tr>\n",
       "      <th>3</th>\n",
       "      <td>367</td>\n",
       "      <td>-3.470490</td>\n",
       "    </tr>\n",
       "    <tr>\n",
       "      <th>4</th>\n",
       "      <td>373</td>\n",
       "      <td>-3.197998</td>\n",
       "    </tr>\n",
       "    <tr>\n",
       "      <th>...</th>\n",
       "      <td>...</td>\n",
       "      <td>...</td>\n",
       "    </tr>\n",
       "    <tr>\n",
       "      <th>180</th>\n",
       "      <td>9673</td>\n",
       "      <td>-1.316859</td>\n",
       "    </tr>\n",
       "    <tr>\n",
       "      <th>181</th>\n",
       "      <td>9715</td>\n",
       "      <td>-2.376911</td>\n",
       "    </tr>\n",
       "    <tr>\n",
       "      <th>182</th>\n",
       "      <td>9766</td>\n",
       "      <td>-6.141334</td>\n",
       "    </tr>\n",
       "    <tr>\n",
       "      <th>183</th>\n",
       "      <td>9768</td>\n",
       "      <td>-6.547784</td>\n",
       "    </tr>\n",
       "    <tr>\n",
       "      <th>184</th>\n",
       "      <td>9790</td>\n",
       "      <td>-4.247252</td>\n",
       "    </tr>\n",
       "  </tbody>\n",
       "</table>\n",
       "<p>185 rows × 2 columns</p>\n",
       "</div>"
      ],
      "text/plain": [
       "      SKU  SKU_Elast\n",
       "0     146  -2.524160\n",
       "1     300  -1.128517\n",
       "2     330  -2.499236\n",
       "3     367  -3.470490\n",
       "4     373  -3.197998\n",
       "..    ...        ...\n",
       "180  9673  -1.316859\n",
       "181  9715  -2.376911\n",
       "182  9766  -6.141334\n",
       "183  9768  -6.547784\n",
       "184  9790  -4.247252\n",
       "\n",
       "[185 rows x 2 columns]"
      ]
     },
     "execution_count": 193,
     "metadata": {},
     "output_type": "execute_result"
    }
   ],
   "source": [
    "feat1 = pd.DataFrame(feat1)\n",
    "feat1.rename(columns={'Elasticity': 'SKU_Elast'}, inplace=True)\n",
    "feat1.reset_index(level=0, inplace=True)\n",
    "feat1"
   ]
  },
  {
   "cell_type": "code",
   "execution_count": 194,
   "metadata": {
    "ExecuteTime": {
     "end_time": "2021-04-16T14:15:26.660272Z",
     "start_time": "2021-04-16T14:15:26.629746Z"
    }
   },
   "outputs": [
    {
     "data": {
      "text/html": [
       "<div>\n",
       "<style scoped>\n",
       "    .dataframe tbody tr th:only-of-type {\n",
       "        vertical-align: middle;\n",
       "    }\n",
       "\n",
       "    .dataframe tbody tr th {\n",
       "        vertical-align: top;\n",
       "    }\n",
       "\n",
       "    .dataframe thead th {\n",
       "        text-align: right;\n",
       "    }\n",
       "</style>\n",
       "<table border=\"1\" class=\"dataframe\">\n",
       "  <thead>\n",
       "    <tr style=\"text-align: right;\">\n",
       "      <th></th>\n",
       "      <th>Store</th>\n",
       "      <th>Store_Elast</th>\n",
       "    </tr>\n",
       "  </thead>\n",
       "  <tbody>\n",
       "    <tr>\n",
       "      <th>0</th>\n",
       "      <td>1076</td>\n",
       "      <td>-3.050113</td>\n",
       "    </tr>\n",
       "    <tr>\n",
       "      <th>1</th>\n",
       "      <td>1077</td>\n",
       "      <td>-3.310158</td>\n",
       "    </tr>\n",
       "    <tr>\n",
       "      <th>2</th>\n",
       "      <td>1078</td>\n",
       "      <td>-3.362746</td>\n",
       "    </tr>\n",
       "    <tr>\n",
       "      <th>3</th>\n",
       "      <td>1079</td>\n",
       "      <td>-2.972870</td>\n",
       "    </tr>\n",
       "    <tr>\n",
       "      <th>4</th>\n",
       "      <td>1080</td>\n",
       "      <td>-3.091740</td>\n",
       "    </tr>\n",
       "    <tr>\n",
       "      <th>...</th>\n",
       "      <td>...</td>\n",
       "      <td>...</td>\n",
       "    </tr>\n",
       "    <tr>\n",
       "      <th>112</th>\n",
       "      <td>2230</td>\n",
       "      <td>-3.255741</td>\n",
       "    </tr>\n",
       "    <tr>\n",
       "      <th>113</th>\n",
       "      <td>2231</td>\n",
       "      <td>-4.099202</td>\n",
       "    </tr>\n",
       "    <tr>\n",
       "      <th>114</th>\n",
       "      <td>2232</td>\n",
       "      <td>-3.261717</td>\n",
       "    </tr>\n",
       "    <tr>\n",
       "      <th>115</th>\n",
       "      <td>2233</td>\n",
       "      <td>-2.706819</td>\n",
       "    </tr>\n",
       "    <tr>\n",
       "      <th>116</th>\n",
       "      <td>2834</td>\n",
       "      <td>-2.513955</td>\n",
       "    </tr>\n",
       "  </tbody>\n",
       "</table>\n",
       "<p>117 rows × 2 columns</p>\n",
       "</div>"
      ],
      "text/plain": [
       "     Store  Store_Elast\n",
       "0     1076    -3.050113\n",
       "1     1077    -3.310158\n",
       "2     1078    -3.362746\n",
       "3     1079    -2.972870\n",
       "4     1080    -3.091740\n",
       "..     ...          ...\n",
       "112   2230    -3.255741\n",
       "113   2231    -4.099202\n",
       "114   2232    -3.261717\n",
       "115   2233    -2.706819\n",
       "116   2834    -2.513955\n",
       "\n",
       "[117 rows x 2 columns]"
      ]
     },
     "execution_count": 194,
     "metadata": {},
     "output_type": "execute_result"
    }
   ],
   "source": [
    "feat2 = pd.DataFrame(feat2)\n",
    "feat2.rename(columns={'Elasticity': 'Store_Elast'}, inplace=True)\n",
    "feat2.reset_index(level=0, inplace=True)\n",
    "feat2"
   ]
  },
  {
   "cell_type": "code",
   "execution_count": 196,
   "metadata": {
    "ExecuteTime": {
     "end_time": "2021-04-16T14:16:32.342053Z",
     "start_time": "2021-04-16T14:16:32.272845Z"
    }
   },
   "outputs": [
    {
     "data": {
      "text/html": [
       "<div>\n",
       "<style scoped>\n",
       "    .dataframe tbody tr th:only-of-type {\n",
       "        vertical-align: middle;\n",
       "    }\n",
       "\n",
       "    .dataframe tbody tr th {\n",
       "        vertical-align: top;\n",
       "    }\n",
       "\n",
       "    .dataframe thead th {\n",
       "        text-align: right;\n",
       "    }\n",
       "</style>\n",
       "<table border=\"1\" class=\"dataframe\">\n",
       "  <thead>\n",
       "    <tr style=\"text-align: right;\">\n",
       "      <th></th>\n",
       "      <th>SKU</th>\n",
       "      <th>Store</th>\n",
       "      <th>Elasticity</th>\n",
       "      <th>Qty</th>\n",
       "      <th>P_value</th>\n",
       "      <th>ClassId</th>\n",
       "      <th>CategoryId</th>\n",
       "      <th>ClusterId</th>\n",
       "      <th>TradePointCode</th>\n",
       "      <th>TradePointName</th>\n",
       "      <th>OpenDate</th>\n",
       "      <th>CloseDate</th>\n",
       "      <th>BrandName</th>\n",
       "      <th>BrandGroupId</th>\n",
       "      <th>Brands_GUID</th>\n",
       "      <th>BE_Id</th>\n",
       "      <th>BE_Name</th>\n",
       "      <th>BE_GUID</th>\n",
       "      <th>SKU_Elast</th>\n",
       "      <th>Store_Elast</th>\n",
       "    </tr>\n",
       "  </thead>\n",
       "  <tbody>\n",
       "    <tr>\n",
       "      <th>0</th>\n",
       "      <td>691</td>\n",
       "      <td>2834</td>\n",
       "      <td>-6.446472</td>\n",
       "      <td>57.340720</td>\n",
       "      <td>4.524572e-07</td>\n",
       "      <td>2003</td>\n",
       "      <td>2489</td>\n",
       "      <td>467</td>\n",
       "      <td>А02829</td>\n",
       "      <td>ИНТЕРНЕТМАГАЗИН</td>\n",
       "      <td>2019-01-01</td>\n",
       "      <td>2100-01-01</td>\n",
       "      <td>Озерки</td>\n",
       "      <td>3.0</td>\n",
       "      <td>E378FD87-0BB5-E984-11E8-54EE74216F5D</td>\n",
       "      <td>25.0</td>\n",
       "      <td>БЕ Озерки СЗ</td>\n",
       "      <td>5000DB80-9356-86BC-11E8-82B3A92564D8</td>\n",
       "      <td>NaN</td>\n",
       "      <td>-2.513955</td>\n",
       "    </tr>\n",
       "    <tr>\n",
       "      <th>1</th>\n",
       "      <td>1483</td>\n",
       "      <td>2834</td>\n",
       "      <td>-0.457565</td>\n",
       "      <td>539.592798</td>\n",
       "      <td>8.548480e-18</td>\n",
       "      <td>2003</td>\n",
       "      <td>2855</td>\n",
       "      <td>43</td>\n",
       "      <td>А02829</td>\n",
       "      <td>ИНТЕРНЕТМАГАЗИН</td>\n",
       "      <td>2019-01-01</td>\n",
       "      <td>2100-01-01</td>\n",
       "      <td>Озерки</td>\n",
       "      <td>3.0</td>\n",
       "      <td>E378FD87-0BB5-E984-11E8-54EE74216F5D</td>\n",
       "      <td>25.0</td>\n",
       "      <td>БЕ Озерки СЗ</td>\n",
       "      <td>5000DB80-9356-86BC-11E8-82B3A92564D8</td>\n",
       "      <td>-2.483222</td>\n",
       "      <td>-2.513955</td>\n",
       "    </tr>\n",
       "    <tr>\n",
       "      <th>3</th>\n",
       "      <td>738</td>\n",
       "      <td>2834</td>\n",
       "      <td>-2.307756</td>\n",
       "      <td>567.664820</td>\n",
       "      <td>2.097424e-21</td>\n",
       "      <td>2003</td>\n",
       "      <td>2849</td>\n",
       "      <td>470</td>\n",
       "      <td>А02829</td>\n",
       "      <td>ИНТЕРНЕТМАГАЗИН</td>\n",
       "      <td>2019-01-01</td>\n",
       "      <td>2100-01-01</td>\n",
       "      <td>Озерки</td>\n",
       "      <td>3.0</td>\n",
       "      <td>E378FD87-0BB5-E984-11E8-54EE74216F5D</td>\n",
       "      <td>25.0</td>\n",
       "      <td>БЕ Озерки СЗ</td>\n",
       "      <td>5000DB80-9356-86BC-11E8-82B3A92564D8</td>\n",
       "      <td>-3.210406</td>\n",
       "      <td>-2.513955</td>\n",
       "    </tr>\n",
       "    <tr>\n",
       "      <th>4</th>\n",
       "      <td>4240</td>\n",
       "      <td>1191</td>\n",
       "      <td>-5.119616</td>\n",
       "      <td>5.013850</td>\n",
       "      <td>3.489532e-14</td>\n",
       "      <td>2003</td>\n",
       "      <td>2692</td>\n",
       "      <td>455</td>\n",
       "      <td>А01190</td>\n",
       "      <td>СПБ</td>\n",
       "      <td>2003-01-01</td>\n",
       "      <td>2100-01-01</td>\n",
       "      <td>Озерки</td>\n",
       "      <td>3.0</td>\n",
       "      <td>E378FD87-0BB5-E984-11E8-54EE74216F5D</td>\n",
       "      <td>25.0</td>\n",
       "      <td>БЕ Озерки СЗ</td>\n",
       "      <td>5000DB80-9356-86BC-11E8-82B3A92564D8</td>\n",
       "      <td>-3.152804</td>\n",
       "      <td>-2.437982</td>\n",
       "    </tr>\n",
       "    <tr>\n",
       "      <th>8</th>\n",
       "      <td>8215</td>\n",
       "      <td>2834</td>\n",
       "      <td>-0.066233</td>\n",
       "      <td>374.954737</td>\n",
       "      <td>3.541982e-02</td>\n",
       "      <td>2003</td>\n",
       "      <td>2547</td>\n",
       "      <td>5</td>\n",
       "      <td>А02829</td>\n",
       "      <td>ИНТЕРНЕТМАГАЗИН</td>\n",
       "      <td>2019-01-01</td>\n",
       "      <td>2100-01-01</td>\n",
       "      <td>Озерки</td>\n",
       "      <td>3.0</td>\n",
       "      <td>E378FD87-0BB5-E984-11E8-54EE74216F5D</td>\n",
       "      <td>25.0</td>\n",
       "      <td>БЕ Озерки СЗ</td>\n",
       "      <td>5000DB80-9356-86BC-11E8-82B3A92564D8</td>\n",
       "      <td>-0.320165</td>\n",
       "      <td>-2.513955</td>\n",
       "    </tr>\n",
       "    <tr>\n",
       "      <th>...</th>\n",
       "      <td>...</td>\n",
       "      <td>...</td>\n",
       "      <td>...</td>\n",
       "      <td>...</td>\n",
       "      <td>...</td>\n",
       "      <td>...</td>\n",
       "      <td>...</td>\n",
       "      <td>...</td>\n",
       "      <td>...</td>\n",
       "      <td>...</td>\n",
       "      <td>...</td>\n",
       "      <td>...</td>\n",
       "      <td>...</td>\n",
       "      <td>...</td>\n",
       "      <td>...</td>\n",
       "      <td>...</td>\n",
       "      <td>...</td>\n",
       "      <td>...</td>\n",
       "      <td>...</td>\n",
       "      <td>...</td>\n",
       "    </tr>\n",
       "    <tr>\n",
       "      <th>9990</th>\n",
       "      <td>1946</td>\n",
       "      <td>1139</td>\n",
       "      <td>-1.413106</td>\n",
       "      <td>1.471471</td>\n",
       "      <td>7.446300e-10</td>\n",
       "      <td>2003</td>\n",
       "      <td>2489</td>\n",
       "      <td>466</td>\n",
       "      <td>А01138</td>\n",
       "      <td>СПБ</td>\n",
       "      <td>2017-02-28</td>\n",
       "      <td>2100-01-01</td>\n",
       "      <td>Озерки</td>\n",
       "      <td>3.0</td>\n",
       "      <td>E378FD87-0BB5-E984-11E8-54EE74216F5D</td>\n",
       "      <td>25.0</td>\n",
       "      <td>БЕ Озерки СЗ</td>\n",
       "      <td>5000DB80-9356-86BC-11E8-82B3A92564D8</td>\n",
       "      <td>-1.882666</td>\n",
       "      <td>-3.234873</td>\n",
       "    </tr>\n",
       "    <tr>\n",
       "      <th>9991</th>\n",
       "      <td>490</td>\n",
       "      <td>1108</td>\n",
       "      <td>-1.305517</td>\n",
       "      <td>2.476471</td>\n",
       "      <td>2.932850e-15</td>\n",
       "      <td>2003</td>\n",
       "      <td>2489</td>\n",
       "      <td>466</td>\n",
       "      <td>А01107</td>\n",
       "      <td>СПБ</td>\n",
       "      <td>2015-03-16</td>\n",
       "      <td>2100-01-01</td>\n",
       "      <td>Озерки</td>\n",
       "      <td>3.0</td>\n",
       "      <td>E378FD87-0BB5-E984-11E8-54EE74216F5D</td>\n",
       "      <td>25.0</td>\n",
       "      <td>БЕ Озерки СЗ</td>\n",
       "      <td>5000DB80-9356-86BC-11E8-82B3A92564D8</td>\n",
       "      <td>-1.079827</td>\n",
       "      <td>-3.266093</td>\n",
       "    </tr>\n",
       "    <tr>\n",
       "      <th>9992</th>\n",
       "      <td>546</td>\n",
       "      <td>1139</td>\n",
       "      <td>-6.173850</td>\n",
       "      <td>2.463855</td>\n",
       "      <td>2.587914e-22</td>\n",
       "      <td>2003</td>\n",
       "      <td>2489</td>\n",
       "      <td>464</td>\n",
       "      <td>А01138</td>\n",
       "      <td>СПБ</td>\n",
       "      <td>2017-02-28</td>\n",
       "      <td>2100-01-01</td>\n",
       "      <td>Озерки</td>\n",
       "      <td>3.0</td>\n",
       "      <td>E378FD87-0BB5-E984-11E8-54EE74216F5D</td>\n",
       "      <td>25.0</td>\n",
       "      <td>БЕ Озерки СЗ</td>\n",
       "      <td>5000DB80-9356-86BC-11E8-82B3A92564D8</td>\n",
       "      <td>-1.324211</td>\n",
       "      <td>-3.234873</td>\n",
       "    </tr>\n",
       "    <tr>\n",
       "      <th>9993</th>\n",
       "      <td>546</td>\n",
       "      <td>1138</td>\n",
       "      <td>-1.965747</td>\n",
       "      <td>1.935103</td>\n",
       "      <td>1.692411e-05</td>\n",
       "      <td>2003</td>\n",
       "      <td>2489</td>\n",
       "      <td>464</td>\n",
       "      <td>А01137</td>\n",
       "      <td>СПБ</td>\n",
       "      <td>2017-02-16</td>\n",
       "      <td>2100-01-01</td>\n",
       "      <td>Озерки</td>\n",
       "      <td>3.0</td>\n",
       "      <td>E378FD87-0BB5-E984-11E8-54EE74216F5D</td>\n",
       "      <td>25.0</td>\n",
       "      <td>БЕ Озерки СЗ</td>\n",
       "      <td>5000DB80-9356-86BC-11E8-82B3A92564D8</td>\n",
       "      <td>-1.324211</td>\n",
       "      <td>-3.106920</td>\n",
       "    </tr>\n",
       "    <tr>\n",
       "      <th>9999</th>\n",
       "      <td>3043</td>\n",
       "      <td>1100</td>\n",
       "      <td>-4.789572</td>\n",
       "      <td>6.406433</td>\n",
       "      <td>7.705772e-03</td>\n",
       "      <td>2003</td>\n",
       "      <td>2928</td>\n",
       "      <td>26</td>\n",
       "      <td>А01099</td>\n",
       "      <td>СПБ</td>\n",
       "      <td>2010-03-10</td>\n",
       "      <td>2100-01-01</td>\n",
       "      <td>Озерки</td>\n",
       "      <td>3.0</td>\n",
       "      <td>E378FD87-0BB5-E984-11E8-54EE74216F5D</td>\n",
       "      <td>25.0</td>\n",
       "      <td>БЕ Озерки СЗ</td>\n",
       "      <td>5000DB80-9356-86BC-11E8-82B3A92564D8</td>\n",
       "      <td>-6.998188</td>\n",
       "      <td>-3.132508</td>\n",
       "    </tr>\n",
       "  </tbody>\n",
       "</table>\n",
       "<p>5163 rows × 20 columns</p>\n",
       "</div>"
      ],
      "text/plain": [
       "       SKU  Store  Elasticity         Qty       P_value  ClassId  CategoryId  \\\n",
       "0      691   2834   -6.446472   57.340720  4.524572e-07     2003        2489   \n",
       "1     1483   2834   -0.457565  539.592798  8.548480e-18     2003        2855   \n",
       "3      738   2834   -2.307756  567.664820  2.097424e-21     2003        2849   \n",
       "4     4240   1191   -5.119616    5.013850  3.489532e-14     2003        2692   \n",
       "8     8215   2834   -0.066233  374.954737  3.541982e-02     2003        2547   \n",
       "...    ...    ...         ...         ...           ...      ...         ...   \n",
       "9990  1946   1139   -1.413106    1.471471  7.446300e-10     2003        2489   \n",
       "9991   490   1108   -1.305517    2.476471  2.932850e-15     2003        2489   \n",
       "9992   546   1139   -6.173850    2.463855  2.587914e-22     2003        2489   \n",
       "9993   546   1138   -1.965747    1.935103  1.692411e-05     2003        2489   \n",
       "9999  3043   1100   -4.789572    6.406433  7.705772e-03     2003        2928   \n",
       "\n",
       "      ClusterId TradePointCode   TradePointName   OpenDate  CloseDate  \\\n",
       "0           467         А02829  ИНТЕРНЕТМАГАЗИН 2019-01-01 2100-01-01   \n",
       "1            43         А02829  ИНТЕРНЕТМАГАЗИН 2019-01-01 2100-01-01   \n",
       "3           470         А02829  ИНТЕРНЕТМАГАЗИН 2019-01-01 2100-01-01   \n",
       "4           455         А01190              СПБ 2003-01-01 2100-01-01   \n",
       "8             5         А02829  ИНТЕРНЕТМАГАЗИН 2019-01-01 2100-01-01   \n",
       "...         ...            ...              ...        ...        ...   \n",
       "9990        466         А01138              СПБ 2017-02-28 2100-01-01   \n",
       "9991        466         А01107              СПБ 2015-03-16 2100-01-01   \n",
       "9992        464         А01138              СПБ 2017-02-28 2100-01-01   \n",
       "9993        464         А01137              СПБ 2017-02-16 2100-01-01   \n",
       "9999         26         А01099              СПБ 2010-03-10 2100-01-01   \n",
       "\n",
       "     BrandName  BrandGroupId                           Brands_GUID  BE_Id  \\\n",
       "0       Озерки           3.0  E378FD87-0BB5-E984-11E8-54EE74216F5D   25.0   \n",
       "1       Озерки           3.0  E378FD87-0BB5-E984-11E8-54EE74216F5D   25.0   \n",
       "3       Озерки           3.0  E378FD87-0BB5-E984-11E8-54EE74216F5D   25.0   \n",
       "4       Озерки           3.0  E378FD87-0BB5-E984-11E8-54EE74216F5D   25.0   \n",
       "8       Озерки           3.0  E378FD87-0BB5-E984-11E8-54EE74216F5D   25.0   \n",
       "...        ...           ...                                   ...    ...   \n",
       "9990    Озерки           3.0  E378FD87-0BB5-E984-11E8-54EE74216F5D   25.0   \n",
       "9991    Озерки           3.0  E378FD87-0BB5-E984-11E8-54EE74216F5D   25.0   \n",
       "9992    Озерки           3.0  E378FD87-0BB5-E984-11E8-54EE74216F5D   25.0   \n",
       "9993    Озерки           3.0  E378FD87-0BB5-E984-11E8-54EE74216F5D   25.0   \n",
       "9999    Озерки           3.0  E378FD87-0BB5-E984-11E8-54EE74216F5D   25.0   \n",
       "\n",
       "           BE_Name                               BE_GUID  SKU_Elast  \\\n",
       "0     БЕ Озерки СЗ  5000DB80-9356-86BC-11E8-82B3A92564D8        NaN   \n",
       "1     БЕ Озерки СЗ  5000DB80-9356-86BC-11E8-82B3A92564D8  -2.483222   \n",
       "3     БЕ Озерки СЗ  5000DB80-9356-86BC-11E8-82B3A92564D8  -3.210406   \n",
       "4     БЕ Озерки СЗ  5000DB80-9356-86BC-11E8-82B3A92564D8  -3.152804   \n",
       "8     БЕ Озерки СЗ  5000DB80-9356-86BC-11E8-82B3A92564D8  -0.320165   \n",
       "...            ...                                   ...        ...   \n",
       "9990  БЕ Озерки СЗ  5000DB80-9356-86BC-11E8-82B3A92564D8  -1.882666   \n",
       "9991  БЕ Озерки СЗ  5000DB80-9356-86BC-11E8-82B3A92564D8  -1.079827   \n",
       "9992  БЕ Озерки СЗ  5000DB80-9356-86BC-11E8-82B3A92564D8  -1.324211   \n",
       "9993  БЕ Озерки СЗ  5000DB80-9356-86BC-11E8-82B3A92564D8  -1.324211   \n",
       "9999  БЕ Озерки СЗ  5000DB80-9356-86BC-11E8-82B3A92564D8  -6.998188   \n",
       "\n",
       "      Store_Elast  \n",
       "0       -2.513955  \n",
       "1       -2.513955  \n",
       "3       -2.513955  \n",
       "4       -2.437982  \n",
       "8       -2.513955  \n",
       "...           ...  \n",
       "9990    -3.234873  \n",
       "9991    -3.266093  \n",
       "9992    -3.234873  \n",
       "9993    -3.106920  \n",
       "9999    -3.132508  \n",
       "\n",
       "[5163 rows x 20 columns]"
      ]
     },
     "execution_count": 196,
     "metadata": {},
     "output_type": "execute_result"
    }
   ],
   "source": [
    "df_sku = df_sku.join(feat1.set_index('SKU'), on='SKU')\n",
    "df_sku = df_sku.join(feat2.set_index('Store'), on='Store')\n",
    "df_sku"
   ]
  },
  {
   "cell_type": "code",
   "execution_count": 197,
   "metadata": {
    "ExecuteTime": {
     "end_time": "2021-04-16T14:17:32.446437Z",
     "start_time": "2021-04-16T14:17:32.424913Z"
    }
   },
   "outputs": [
    {
     "data": {
      "text/plain": [
       "SKU                0\n",
       "Store              0\n",
       "Elasticity         0\n",
       "Qty                0\n",
       "P_value            0\n",
       "ClassId            0\n",
       "CategoryId         0\n",
       "ClusterId          0\n",
       "TradePointCode    25\n",
       "TradePointName    25\n",
       "OpenDate          25\n",
       "CloseDate         25\n",
       "BrandName         25\n",
       "BrandGroupId      25\n",
       "Brands_GUID       25\n",
       "BE_Id             25\n",
       "BE_Name           25\n",
       "BE_GUID           25\n",
       "SKU_Elast         26\n",
       "Store_Elast        3\n",
       "dtype: int64"
      ]
     },
     "execution_count": 197,
     "metadata": {},
     "output_type": "execute_result"
    }
   ],
   "source": [
    "df_sku.isna().sum()"
   ]
  },
  {
   "cell_type": "code",
   "execution_count": 198,
   "metadata": {
    "ExecuteTime": {
     "end_time": "2021-04-16T14:17:57.137335Z",
     "start_time": "2021-04-16T14:17:57.128629Z"
    }
   },
   "outputs": [],
   "source": [
    "df_sku = df_sku.rename(columns = {'TradePointName': 'Region'})"
   ]
  },
  {
   "cell_type": "code",
   "execution_count": 199,
   "metadata": {
    "ExecuteTime": {
     "end_time": "2021-04-16T14:17:57.715920Z",
     "start_time": "2021-04-16T14:17:57.701808Z"
    }
   },
   "outputs": [
    {
     "data": {
      "text/plain": [
       "3    184\n",
       "Name: BrandGroupId, dtype: int64"
      ]
     },
     "execution_count": 199,
     "metadata": {},
     "output_type": "execute_result"
    }
   ],
   "source": [
    "store_info.BrandGroupId.value_counts()"
   ]
  },
  {
   "cell_type": "code",
   "execution_count": 200,
   "metadata": {
    "ExecuteTime": {
     "end_time": "2021-04-16T14:17:58.217995Z",
     "start_time": "2021-04-16T14:17:58.205536Z"
    }
   },
   "outputs": [
    {
     "data": {
      "text/plain": [
       "25    184\n",
       "Name: BE_Id, dtype: int64"
      ]
     },
     "execution_count": 200,
     "metadata": {},
     "output_type": "execute_result"
    }
   ],
   "source": [
    "store_info.BE_Id.value_counts()"
   ]
  },
  {
   "cell_type": "code",
   "execution_count": 201,
   "metadata": {
    "ExecuteTime": {
     "end_time": "2021-04-16T14:17:58.764462Z",
     "start_time": "2021-04-16T14:17:58.749969Z"
    }
   },
   "outputs": [
    {
     "data": {
      "text/plain": [
       "E378FD87-0BB5-E984-11E8-54EE74216F5D    184\n",
       "Name: Brands_GUID, dtype: int64"
      ]
     },
     "execution_count": 201,
     "metadata": {},
     "output_type": "execute_result"
    }
   ],
   "source": [
    "store_info.Brands_GUID.value_counts()"
   ]
  },
  {
   "cell_type": "code",
   "execution_count": 202,
   "metadata": {
    "ExecuteTime": {
     "end_time": "2021-04-16T14:17:59.421378Z",
     "start_time": "2021-04-16T14:17:59.403009Z"
    }
   },
   "outputs": [],
   "source": [
    "import time\n",
    "df_sku['OpenDate'] = pd.to_datetime(df_sku.OpenDate)\n",
    "#cur_date = time.mktime(time.strptime('01/01/2019', \"%d/%m/%Y\"))\n",
    "df_sku['OpenDate'] = df_sku['OpenDate'].rsub(pd.Timestamp('today')).dt.days\n",
    "df_sku.rename(columns={'OpenDate' : 'DaysOpen'}, inplace = True)\n"
   ]
  },
  {
   "cell_type": "code",
   "execution_count": 205,
   "metadata": {
    "ExecuteTime": {
     "end_time": "2021-04-16T14:23:21.615759Z",
     "start_time": "2021-04-16T14:23:21.605127Z"
    }
   },
   "outputs": [],
   "source": [
    "df_sku['DaysOpen'].fillna(0, inplace=True)"
   ]
  },
  {
   "cell_type": "code",
   "execution_count": 208,
   "metadata": {
    "ExecuteTime": {
     "end_time": "2021-04-16T14:24:18.911582Z",
     "start_time": "2021-04-16T14:24:18.883653Z"
    }
   },
   "outputs": [],
   "source": [
    "df_sku['SKU_Elast'].fillna(df_sku['SKU_Elast'].mode()[0], inplace=True)\n",
    "df_sku['Store_Elast'].fillna(df_sku['Store_Elast'].mode()[0], inplace=True)"
   ]
  },
  {
   "cell_type": "code",
   "execution_count": 209,
   "metadata": {
    "ExecuteTime": {
     "end_time": "2021-04-16T14:24:23.379743Z",
     "start_time": "2021-04-16T14:24:23.340943Z"
    }
   },
   "outputs": [
    {
     "name": "stdout",
     "output_type": "stream",
     "text": [
      "       SKU  Store  ClassId  CategoryId  ClusterId  DaysOpen  ВО  ВОЛОГДА  \\\n",
      "0      691   2834     2003        2489        467     836.0   0        0   \n",
      "1     1483   2834     2003        2855         43     836.0   0        0   \n",
      "3      738   2834     2003        2849        470     836.0   0        0   \n",
      "4     4240   1191     2003        2692        455    6680.0   0        0   \n",
      "8     8215   2834     2003        2547          5     836.0   0        0   \n",
      "...    ...    ...      ...         ...        ...       ...  ..      ...   \n",
      "9990  1946   1139     2003        2489        466    1508.0   0        0   \n",
      "9991   490   1108     2003        2489        466    2223.0   0        0   \n",
      "9992   546   1139     2003        2489        464    1508.0   0        0   \n",
      "9993   546   1138     2003        2489        464    1520.0   0        0   \n",
      "9999  3043   1100     2003        2928         26    4055.0   0        0   \n",
      "\n",
      "      ИНТЕРНЕТМАГАЗИН  ЛО  СПБ  ЧЕРЕПОВЕЦ  \n",
      "0                   1   0    0          0  \n",
      "1                   1   0    0          0  \n",
      "3                   1   0    0          0  \n",
      "4                   0   0    1          0  \n",
      "8                   1   0    0          0  \n",
      "...               ...  ..  ...        ...  \n",
      "9990                0   0    1          0  \n",
      "9991                0   0    1          0  \n",
      "9992                0   0    1          0  \n",
      "9993                0   0    1          0  \n",
      "9999                0   0    1          0  \n",
      "\n",
      "[5163 rows x 12 columns]\n"
     ]
    }
   ],
   "source": [
    "X = df_sku[['SKU', 'Store', 'ClassId', 'CategoryId', 'ClusterId', 'Region', 'DaysOpen']]\n",
    "one_hot = pd.get_dummies(X['Region'])\n",
    "# Drop column B as it is now encoded\n",
    "X = X.drop('Region',axis = 1)\n",
    "# Join the encoded df\n",
    "X = X.join(one_hot)\n",
    "print(X)\n",
    "X = X.to_numpy()  \n",
    "y = df_sku['Elasticity'].to_numpy()"
   ]
  },
  {
   "cell_type": "code",
   "execution_count": 210,
   "metadata": {
    "ExecuteTime": {
     "end_time": "2021-04-16T14:24:38.223779Z",
     "start_time": "2021-04-16T14:24:38.215698Z"
    }
   },
   "outputs": [],
   "source": [
    "from sklearn.model_selection import train_test_split\n",
    "\n",
    "X_train, X_test, y_train, y_test = train_test_split(X, y, test_size=0.1, random_state=42)"
   ]
  },
  {
   "cell_type": "code",
   "execution_count": 211,
   "metadata": {
    "ExecuteTime": {
     "end_time": "2021-04-16T14:24:39.911626Z",
     "start_time": "2021-04-16T14:24:38.804279Z"
    }
   },
   "outputs": [],
   "source": [
    "from sklearn.ensemble import RandomForestRegressor\n",
    "from sklearn.metrics import mean_squared_error\n",
    "rf = RandomForestRegressor()\n",
    "reg = rf.fit(X_train, y_train)"
   ]
  },
  {
   "cell_type": "code",
   "execution_count": 212,
   "metadata": {
    "ExecuteTime": {
     "end_time": "2021-04-16T14:24:40.439727Z",
     "start_time": "2021-04-16T14:24:40.407135Z"
    }
   },
   "outputs": [
    {
     "data": {
      "text/plain": [
       "3.607489009810466"
      ]
     },
     "execution_count": 212,
     "metadata": {},
     "output_type": "execute_result"
    }
   ],
   "source": [
    "mean_squared_error(y_test, reg.predict(X_test))"
   ]
  },
  {
   "cell_type": "code",
   "execution_count": 213,
   "metadata": {
    "ExecuteTime": {
     "end_time": "2021-04-16T14:24:41.830023Z",
     "start_time": "2021-04-16T14:24:41.670279Z"
    }
   },
   "outputs": [
    {
     "data": {
      "text/plain": [
       "Text(0, 0.5, 'Predictions')"
      ]
     },
     "execution_count": 213,
     "metadata": {},
     "output_type": "execute_result"
    },
    {
     "data": {
      "image/png": "[encoded data removed]",
      "text/plain": [
       "<Figure size 432x288 with 1 Axes>"
      ]
     },
     "metadata": {
      "needs_background": "light"
     },
     "output_type": "display_data"
    }
   ],
   "source": [
    "plt.scatter(y_test, reg.predict(X_test))\n",
    "plt.xlabel(\"True Values\")\n",
    "plt.ylabel(\"Predictions\")"
   ]
  },
  {
   "cell_type": "markdown",
   "metadata": {},
   "source": [
    "# RandomForest"
   ]
  },
  {
   "cell_type": "markdown",
   "metadata": {},
   "source": [
    "## подбор гипер параметров"
   ]
  },
  {
   "cell_type": "code",
   "execution_count": 214,
   "metadata": {
    "ExecuteTime": {
     "end_time": "2021-04-16T14:26:50.045702Z",
     "start_time": "2021-04-16T14:24:45.319617Z"
    }
   },
   "outputs": [
    {
     "name": "stdout",
     "output_type": "stream",
     "text": [
      "Fitting 6 folds for each of 144 candidates, totalling 864 fits\n"
     ]
    },
    {
     "name": "stderr",
     "output_type": "stream",
     "text": [
      "[Parallel(n_jobs=-1)]: Using backend LokyBackend with 8 concurrent workers.\n",
      "[Parallel(n_jobs=-1)]: Done  25 tasks      | elapsed:    4.4s\n",
      "[Parallel(n_jobs=-1)]: Done 146 tasks      | elapsed:   16.7s\n",
      "[Parallel(n_jobs=-1)]: Done 349 tasks      | elapsed:   41.6s\n",
      "[Parallel(n_jobs=-1)]: Done 632 tasks      | elapsed:  1.4min\n",
      "[Parallel(n_jobs=-1)]: Done 864 out of 864 | elapsed:  2.1min finished\n"
     ]
    },
    {
     "name": "stdout",
     "output_type": "stream",
     "text": [
      "{'bootstrap': True, 'max_depth': 4, 'min_samples_leaf': 4, 'min_samples_split': 6, 'n_estimators': 250}\n",
      "3.894314288094134\n"
     ]
    },
    {
     "data": {
      "image/png": "[encoded data removed]",
      "text/plain": [
       "<Figure size 792x576 with 1 Axes>"
      ]
     },
     "metadata": {
      "needs_background": "light"
     },
     "output_type": "display_data"
    }
   ],
   "source": [
    "from sklearn.model_selection import GridSearchCV\n",
    "import seaborn as sns\n",
    "import pandas as pd\n",
    "\n",
    "def plot_cv_results(cv_results, param_x, param_z, metric='mean_test_score'):\n",
    "    \"\"\"\n",
    "    cv_results - cv_results_ attribute of a GridSearchCV instance (or similar)\n",
    "    param_x - name of grid search parameter to plot on x axis\n",
    "    param_z - name of grid search parameter to plot by line color\n",
    "    \"\"\"\n",
    "    cv_results = pd.DataFrame(cv_results)\n",
    "    col_x = 'param_' + param_x\n",
    "    col_z = 'param_' + param_z\n",
    "    fig, ax = plt.subplots(1, 1, figsize=(11, 8))\n",
    "    sns.pointplot(x=col_x, y=metric, hue=col_z, data=cv_results, ci=99, n_boot=64, ax=ax)\n",
    "    ax.set_title(\"CV Grid Search Results\")\n",
    "    ax.set_xlabel(param_x)\n",
    "    ax.set_ylabel(metric)\n",
    "    ax.legend(title=param_z)\n",
    "    return fig\n",
    "\n",
    "param_grid = {\n",
    "    'bootstrap': [True],\n",
    "    'max_depth': [2, 3, 4], \n",
    "    'min_samples_leaf': [2,3,4],\n",
    "    'min_samples_split': [5, 6, 7, 8],\n",
    "    'n_estimators': [100,150,200,250]\n",
    "}\n",
    "# Create a based model\n",
    "\n",
    "# Instantiate the grid search model\n",
    "grid_search = GridSearchCV(estimator = rf, param_grid = param_grid, \n",
    "                          cv = 6, n_jobs = -1, verbose = 2)\n",
    "\n",
    "grid_search.fit(X_train, y_train)\n",
    "print(grid_search.best_params_)\n",
    "\n",
    "#fig, axs = plt.subplots(figsize=(16, 5), ncols=4)\n",
    "\n",
    "\n",
    "print(mean_squared_error(y_test, grid_search.predict(X_test)))\n",
    "fig = plot_cv_results(grid_search.cv_results_, 'n_estimators', 'min_samples_split')"
   ]
  },
  {
   "cell_type": "code",
   "execution_count": 215,
   "metadata": {
    "ExecuteTime": {
     "end_time": "2021-04-16T14:26:50.640920Z",
     "start_time": "2021-04-16T14:26:50.484329Z"
    }
   },
   "outputs": [
    {
     "data": {
      "text/plain": [
       "Text(0, 0.5, 'Predictions')"
      ]
     },
     "execution_count": 215,
     "metadata": {},
     "output_type": "execute_result"
    },
    {
     "data": {
      "image/png": "[encoded data removed]",
      "text/plain": [
       "<Figure size 432x288 with 1 Axes>"
      ]
     },
     "metadata": {
      "needs_background": "light"
     },
     "output_type": "display_data"
    }
   ],
   "source": [
    "plt.scatter(y_test, grid_search.predict(X_test))\n",
    "plt.xlabel(\"True Values\")\n",
    "plt.ylabel(\"Predictions\")"
   ]
  },
  {
   "cell_type": "markdown",
   "metadata": {},
   "source": [
    "## MSE, Графики на кросс-вале"
   ]
  },
  {
   "cell_type": "code",
   "execution_count": 216,
   "metadata": {
    "ExecuteTime": {
     "end_time": "2021-04-16T14:39:22.502472Z",
     "start_time": "2021-04-16T14:26:51.220919Z"
    }
   },
   "outputs": [
    {
     "name": "stdout",
     "output_type": "stream",
     "text": [
      "Fitting 6 folds for each of 144 candidates, totalling 864 fits\n"
     ]
    },
    {
     "name": "stderr",
     "output_type": "stream",
     "text": [
      "[Parallel(n_jobs=-1)]: Using backend LokyBackend with 8 concurrent workers.\n",
      "[Parallel(n_jobs=-1)]: Done  25 tasks      | elapsed:    2.8s\n",
      "[Parallel(n_jobs=-1)]: Done 146 tasks      | elapsed:   16.8s\n",
      "[Parallel(n_jobs=-1)]: Done 349 tasks      | elapsed:   41.6s\n",
      "[Parallel(n_jobs=-1)]: Done 632 tasks      | elapsed:  1.4min\n",
      "[Parallel(n_jobs=-1)]: Done 864 out of 864 | elapsed:  2.1min finished\n"
     ]
    },
    {
     "name": "stdout",
     "output_type": "stream",
     "text": [
      "MSE : 1\n",
      "4.485640431032893\n",
      "Fitting 6 folds for each of 144 candidates, totalling 864 fits\n"
     ]
    },
    {
     "name": "stderr",
     "output_type": "stream",
     "text": [
      "[Parallel(n_jobs=-1)]: Using backend LokyBackend with 8 concurrent workers.\n",
      "[Parallel(n_jobs=-1)]: Done  25 tasks      | elapsed:    3.1s\n",
      "[Parallel(n_jobs=-1)]: Done 146 tasks      | elapsed:   17.8s\n",
      "[Parallel(n_jobs=-1)]: Done 349 tasks      | elapsed:   43.7s\n",
      "[Parallel(n_jobs=-1)]: Done 632 tasks      | elapsed:  1.4min\n",
      "[Parallel(n_jobs=-1)]: Done 864 out of 864 | elapsed:  2.1min finished\n"
     ]
    },
    {
     "name": "stdout",
     "output_type": "stream",
     "text": [
      "MSE : 2\n",
      "4.340087222079077\n",
      "Fitting 6 folds for each of 144 candidates, totalling 864 fits\n"
     ]
    },
    {
     "name": "stderr",
     "output_type": "stream",
     "text": [
      "[Parallel(n_jobs=-1)]: Using backend LokyBackend with 8 concurrent workers.\n",
      "[Parallel(n_jobs=-1)]: Done  25 tasks      | elapsed:    3.0s\n",
      "[Parallel(n_jobs=-1)]: Done 146 tasks      | elapsed:   17.6s\n",
      "[Parallel(n_jobs=-1)]: Done 349 tasks      | elapsed:   42.9s\n",
      "[Parallel(n_jobs=-1)]: Done 632 tasks      | elapsed:  1.4min\n",
      "[Parallel(n_jobs=-1)]: Done 864 out of 864 | elapsed:  2.1min finished\n"
     ]
    },
    {
     "name": "stdout",
     "output_type": "stream",
     "text": [
      "MSE : 3\n",
      "3.921839533191206\n",
      "Fitting 6 folds for each of 144 candidates, totalling 864 fits\n"
     ]
    },
    {
     "name": "stderr",
     "output_type": "stream",
     "text": [
      "[Parallel(n_jobs=-1)]: Using backend LokyBackend with 8 concurrent workers.\n",
      "[Parallel(n_jobs=-1)]: Done  25 tasks      | elapsed:    3.3s\n",
      "[Parallel(n_jobs=-1)]: Done 146 tasks      | elapsed:   18.2s\n",
      "[Parallel(n_jobs=-1)]: Done 349 tasks      | elapsed:   44.5s\n",
      "[Parallel(n_jobs=-1)]: Done 632 tasks      | elapsed:  1.4min\n",
      "[Parallel(n_jobs=-1)]: Done 864 out of 864 | elapsed:  2.1min finished\n"
     ]
    },
    {
     "name": "stdout",
     "output_type": "stream",
     "text": [
      "MSE : 4\n",
      "3.5665193230234853\n",
      "Fitting 6 folds for each of 144 candidates, totalling 864 fits\n"
     ]
    },
    {
     "name": "stderr",
     "output_type": "stream",
     "text": [
      "[Parallel(n_jobs=-1)]: Using backend LokyBackend with 8 concurrent workers.\n",
      "[Parallel(n_jobs=-1)]: Done  25 tasks      | elapsed:    3.2s\n",
      "[Parallel(n_jobs=-1)]: Done 146 tasks      | elapsed:   17.3s\n",
      "[Parallel(n_jobs=-1)]: Done 349 tasks      | elapsed:   43.3s\n",
      "[Parallel(n_jobs=-1)]: Done 632 tasks      | elapsed:  1.4min\n",
      "[Parallel(n_jobs=-1)]: Done 864 out of 864 | elapsed:  2.1min finished\n"
     ]
    },
    {
     "name": "stdout",
     "output_type": "stream",
     "text": [
      "MSE : 5\n",
      "3.5523408470589644\n",
      "Fitting 6 folds for each of 144 candidates, totalling 864 fits\n"
     ]
    },
    {
     "name": "stderr",
     "output_type": "stream",
     "text": [
      "[Parallel(n_jobs=-1)]: Using backend LokyBackend with 8 concurrent workers.\n",
      "[Parallel(n_jobs=-1)]: Done  25 tasks      | elapsed:    2.9s\n",
      "[Parallel(n_jobs=-1)]: Done 146 tasks      | elapsed:   17.0s\n",
      "[Parallel(n_jobs=-1)]: Done 349 tasks      | elapsed:   42.2s\n",
      "[Parallel(n_jobs=-1)]: Done 632 tasks      | elapsed:  1.4min\n",
      "[Parallel(n_jobs=-1)]: Done 864 out of 864 | elapsed:  2.0min finished\n"
     ]
    },
    {
     "name": "stdout",
     "output_type": "stream",
     "text": [
      "MSE : 6\n",
      "3.8470035883614995\n"
     ]
    },
    {
     "data": {
      "image/png": "[encoded data removed]",
      "text/plain": [
       "<Figure size 800x640 with 6 Axes>"
      ]
     },
     "metadata": {
      "needs_background": "light"
     },
     "output_type": "display_data"
    }
   ],
   "source": [
    "from sklearn.model_selection import KFold\n",
    "kf = KFold(n_splits=6)\n",
    "kf.get_n_splits(X)\n",
    "\n",
    "\n",
    "plt.figure(figsize=(10,8), dpi= 80)\n",
    "\n",
    "i = 0\n",
    "for train_index, test_index in kf.split(X):\n",
    "    #print(\"TRAIN:\", train_index, \"TEST:\", test_index)\n",
    "    X_cross, X_test = X[train_index], X[test_index]\n",
    "    y_cross, y_test = y[train_index], y[test_index]\n",
    "    grid_search.fit(X_cross, y_cross)\n",
    "    print(\"MSE :\", i+1)\n",
    "    print(mean_squared_error(y_test, grid_search.predict(X_test)))\n",
    "    plt.subplot(321 + i)\n",
    "    plt.scatter(y_test, grid_search.predict(X_test))\n",
    "    i += 1\n",
    "    plt.xlabel(\"True Values\")\n",
    "    plt.ylabel(\"Predictions\")\n",
    "\n",
    "plt.show()\n"
   ]
  },
  {
   "cell_type": "markdown",
   "metadata": {},
   "source": [
    "# Catboost"
   ]
  },
  {
   "cell_type": "markdown",
   "metadata": {},
   "source": [
    "## Подбор гиперпараметров"
   ]
  },
  {
   "cell_type": "code",
   "execution_count": 217,
   "metadata": {
    "ExecuteTime": {
     "end_time": "2021-04-16T14:41:08.017083Z",
     "start_time": "2021-04-16T14:39:22.503469Z"
    }
   },
   "outputs": [
    {
     "name": "stdout",
     "output_type": "stream",
     "text": [
      "Fitting 6 folds for each of 18 candidates, totalling 108 fits\n"
     ]
    },
    {
     "name": "stderr",
     "output_type": "stream",
     "text": [
      "[Parallel(n_jobs=-1)]: Using backend LokyBackend with 8 concurrent workers.\n",
      "[Parallel(n_jobs=-1)]: Done  25 tasks      | elapsed:   24.8s\n",
      "[Parallel(n_jobs=-1)]: Done 108 out of 108 | elapsed:  1.7min finished\n"
     ]
    },
    {
     "name": "stdout",
     "output_type": "stream",
     "text": [
      "{'bagging_temperature': 0, 'bootstrap_type': 'Bayesian', 'learning_rate': 0.03}\n",
      "2.5178138155881205\n"
     ]
    },
    {
     "data": {
      "image/png": "[encoded data removed]",
      "text/plain": [
       "<Figure size 792x576 with 1 Axes>"
      ]
     },
     "metadata": {
      "needs_background": "light"
     },
     "output_type": "display_data"
    }
   ],
   "source": [
    "from catboost import CatBoostRegressor\n",
    "from sklearn.model_selection import cross_val_score\n",
    "# Create a based model\n",
    "cb = CatBoostRegressor(verbose=False)\n",
    "# Instantiate the grid search model\n",
    "param_grid = {\n",
    "    'learning_rate': [0.001, 0.003, 0.01, 0.03, 0.1, 0.3],\n",
    "    'bootstrap_type':['Bayesian'],\n",
    "    'bagging_temperature': [0, 1, 10]\n",
    "}\n",
    "grid_search = GridSearchCV(estimator = cb, param_grid = param_grid, \n",
    "                          cv = 6, n_jobs = -1, verbose = 2)\n",
    "\n",
    "grid_search.fit(X_train, y_train)\n",
    "print(grid_search.best_params_)\n",
    "\n",
    "#fig, axs = plt.subplots(figsize=(16, 5), ncols=4)\n",
    "\n",
    "print(mean_squared_error(y_test, grid_search.predict(X_test)))\n",
    "\n",
    "\n",
    "fig = plot_cv_results(grid_search.cv_results_, 'learning_rate', 'bagging_temperature')"
   ]
  },
  {
   "cell_type": "markdown",
   "metadata": {},
   "source": [
    "## Сделаем честный кросс-вал"
   ]
  },
  {
   "cell_type": "code",
   "execution_count": 218,
   "metadata": {
    "ExecuteTime": {
     "end_time": "2021-04-16T14:51:03.901712Z",
     "start_time": "2021-04-16T14:41:09.090425Z"
    }
   },
   "outputs": [
    {
     "name": "stdout",
     "output_type": "stream",
     "text": [
      "Fitting 6 folds for each of 18 candidates, totalling 108 fits\n"
     ]
    },
    {
     "name": "stderr",
     "output_type": "stream",
     "text": [
      "[Parallel(n_jobs=-1)]: Using backend LokyBackend with 8 concurrent workers.\n",
      "[Parallel(n_jobs=-1)]: Done  25 tasks      | elapsed:   24.2s\n",
      "[Parallel(n_jobs=-1)]: Done 108 out of 108 | elapsed:  1.6min finished\n"
     ]
    },
    {
     "name": "stdout",
     "output_type": "stream",
     "text": [
      "MSE : 1\n",
      "3.2901787510567337\n",
      "Fitting 6 folds for each of 18 candidates, totalling 108 fits\n"
     ]
    },
    {
     "name": "stderr",
     "output_type": "stream",
     "text": [
      "[Parallel(n_jobs=-1)]: Using backend LokyBackend with 8 concurrent workers.\n",
      "[Parallel(n_jobs=-1)]: Done  25 tasks      | elapsed:   23.7s\n",
      "[Parallel(n_jobs=-1)]: Done 108 out of 108 | elapsed:  1.6min finished\n"
     ]
    },
    {
     "name": "stdout",
     "output_type": "stream",
     "text": [
      "MSE : 2\n",
      "3.3664008439174555\n",
      "Fitting 6 folds for each of 18 candidates, totalling 108 fits\n"
     ]
    },
    {
     "name": "stderr",
     "output_type": "stream",
     "text": [
      "[Parallel(n_jobs=-1)]: Using backend LokyBackend with 8 concurrent workers.\n",
      "[Parallel(n_jobs=-1)]: Done  25 tasks      | elapsed:   24.7s\n",
      "[Parallel(n_jobs=-1)]: Done 108 out of 108 | elapsed:  1.6min finished\n"
     ]
    },
    {
     "name": "stdout",
     "output_type": "stream",
     "text": [
      "MSE : 3\n",
      "3.2683691414905716\n",
      "Fitting 6 folds for each of 18 candidates, totalling 108 fits\n"
     ]
    },
    {
     "name": "stderr",
     "output_type": "stream",
     "text": [
      "[Parallel(n_jobs=-1)]: Using backend LokyBackend with 8 concurrent workers.\n",
      "[Parallel(n_jobs=-1)]: Done  25 tasks      | elapsed:   22.3s\n",
      "[Parallel(n_jobs=-1)]: Done 108 out of 108 | elapsed:  1.6min finished\n"
     ]
    },
    {
     "name": "stdout",
     "output_type": "stream",
     "text": [
      "MSE : 4\n",
      "3.0719076851116656\n",
      "Fitting 6 folds for each of 18 candidates, totalling 108 fits\n"
     ]
    },
    {
     "name": "stderr",
     "output_type": "stream",
     "text": [
      "[Parallel(n_jobs=-1)]: Using backend LokyBackend with 8 concurrent workers.\n",
      "[Parallel(n_jobs=-1)]: Done  25 tasks      | elapsed:   24.7s\n",
      "[Parallel(n_jobs=-1)]: Done 108 out of 108 | elapsed:  1.7min finished\n"
     ]
    },
    {
     "name": "stdout",
     "output_type": "stream",
     "text": [
      "MSE : 5\n",
      "3.0065146739501203\n",
      "Fitting 6 folds for each of 18 candidates, totalling 108 fits\n"
     ]
    },
    {
     "name": "stderr",
     "output_type": "stream",
     "text": [
      "[Parallel(n_jobs=-1)]: Using backend LokyBackend with 8 concurrent workers.\n",
      "[Parallel(n_jobs=-1)]: Done  25 tasks      | elapsed:   23.3s\n",
      "[Parallel(n_jobs=-1)]: Done 108 out of 108 | elapsed:  1.6min finished\n"
     ]
    },
    {
     "name": "stdout",
     "output_type": "stream",
     "text": [
      "MSE : 6\n",
      "3.356339782783683\n"
     ]
    },
    {
     "data": {
      "image/png": "[encoded data removed]",
      "text/plain": [
       "<Figure size 800x640 with 6 Axes>"
      ]
     },
     "metadata": {
      "needs_background": "light"
     },
     "output_type": "display_data"
    }
   ],
   "source": [
    "import seaborn as sns\n",
    "from catboost import CatBoostRegressor\n",
    "from sklearn.model_selection import cross_val_score, KFold\n",
    "\n",
    "\n",
    "# Instantiate the grid search model\n",
    "\n",
    "kf = KFold(n_splits=6)\n",
    "kf.get_n_splits(X)\n",
    "\n",
    "\n",
    "plt.figure(figsize=(10,8), dpi= 80)\n",
    "\n",
    "i = 0\n",
    "for train_index, test_index in kf.split(X):\n",
    "    #print(\"TRAIN:\", train_index, \"TEST:\", test_index)\n",
    "    X_cross, X_test = X[train_index], X[test_index]\n",
    "    y_cross, y_test = y[train_index], y[test_index]\n",
    "    grid_search.fit(X_cross, y_cross)\n",
    "    print(\"MSE :\", i+1)\n",
    "    print(mean_squared_error(y_test, grid_search.predict(X_test)))\n",
    "    plt.subplot(321 + i)\n",
    "    plt.scatter(y_test, grid_search.predict(X_test))\n",
    "    i += 1\n",
    "    plt.xlabel(\"True Values\")\n",
    "    plt.ylabel(\"Predictions\")\n",
    "\n",
    "plt.show()\n"
   ]
  },
  {
   "cell_type": "markdown",
   "metadata": {},
   "source": [
    "# XGBoost"
   ]
  },
  {
   "cell_type": "markdown",
   "metadata": {},
   "source": [
    "## Подбор гиперпараметров"
   ]
  },
  {
   "cell_type": "code",
   "execution_count": 219,
   "metadata": {
    "ExecuteTime": {
     "end_time": "2021-04-16T14:51:27.801262Z",
     "start_time": "2021-04-16T14:51:04.296978Z"
    }
   },
   "outputs": [
    {
     "name": "stdout",
     "output_type": "stream",
     "text": [
      "Fitting 6 folds for each of 54 candidates, totalling 324 fits\n"
     ]
    },
    {
     "name": "stderr",
     "output_type": "stream",
     "text": [
      "[Parallel(n_jobs=-1)]: Using backend LokyBackend with 8 concurrent workers.\n",
      "[Parallel(n_jobs=-1)]: Done  25 tasks      | elapsed:    2.3s\n",
      "[Parallel(n_jobs=-1)]: Done 146 tasks      | elapsed:   10.4s\n",
      "[Parallel(n_jobs=-1)]: Done 324 out of 324 | elapsed:   22.9s finished\n"
     ]
    },
    {
     "name": "stdout",
     "output_type": "stream",
     "text": [
      "{'gamma': 0.03, 'max_depth': 3, 'min_child_weight': 1}\n",
      "2.732889459959903\n"
     ]
    },
    {
     "data": {
      "image/png": "[encoded data removed]",
      "text/plain": [
       "<Figure size 792x576 with 1 Axes>"
      ]
     },
     "metadata": {
      "needs_background": "light"
     },
     "output_type": "display_data"
    }
   ],
   "source": [
    "from xgboost import XGBRegressor\n",
    "\n",
    "\n",
    "xgb = XGBRegressor(nthread=-1)\n",
    "\n",
    "param_grid = {\n",
    "    'max_depth': [2, 3, 4],\n",
    "    'min_child_weight':[1,2,3],\n",
    "    'gamma':[0.001, 0.003, 0.01, 0.03, 0.1, 0.3],\n",
    "}\n",
    "\n",
    "\n",
    "grid_search = GridSearchCV(estimator = xgb, param_grid = param_grid, \n",
    "                          cv = 6, n_jobs = -1, verbose = 2)\n",
    "\n",
    "grid_search.fit(X_train, y_train)\n",
    "print(grid_search.best_params_)\n",
    "\n",
    "#fig, axs = plt.subplots(figsize=(16, 5), ncols=4)\n",
    "\n",
    "print(mean_squared_error(y_test, grid_search.predict(X_test)))\n",
    "\n",
    "\n",
    "fig = plot_cv_results(grid_search.cv_results_, 'gamma', 'min_child_weight')\n"
   ]
  },
  {
   "cell_type": "markdown",
   "metadata": {},
   "source": [
    "## MSE, Графики cross-val"
   ]
  },
  {
   "cell_type": "code",
   "execution_count": 220,
   "metadata": {
    "ExecuteTime": {
     "end_time": "2021-04-16T14:53:39.065733Z",
     "start_time": "2021-04-16T14:51:27.802259Z"
    }
   },
   "outputs": [
    {
     "name": "stdout",
     "output_type": "stream",
     "text": [
      "Fitting 6 folds for each of 54 candidates, totalling 324 fits\n"
     ]
    },
    {
     "name": "stderr",
     "output_type": "stream",
     "text": [
      "[Parallel(n_jobs=-1)]: Using backend LokyBackend with 8 concurrent workers.\n",
      "[Parallel(n_jobs=-1)]: Done  25 tasks      | elapsed:    1.5s\n",
      "[Parallel(n_jobs=-1)]: Done 146 tasks      | elapsed:    9.7s\n",
      "[Parallel(n_jobs=-1)]: Done 324 out of 324 | elapsed:   21.2s finished\n"
     ]
    },
    {
     "name": "stdout",
     "output_type": "stream",
     "text": [
      "MSE : 1\n",
      "3.4114046459165213\n",
      "Fitting 6 folds for each of 54 candidates, totalling 324 fits\n"
     ]
    },
    {
     "name": "stderr",
     "output_type": "stream",
     "text": [
      "[Parallel(n_jobs=-1)]: Using backend LokyBackend with 8 concurrent workers.\n",
      "[Parallel(n_jobs=-1)]: Done  25 tasks      | elapsed:    1.7s\n",
      "[Parallel(n_jobs=-1)]: Done 146 tasks      | elapsed:    9.7s\n",
      "[Parallel(n_jobs=-1)]: Done 324 out of 324 | elapsed:   21.8s finished\n"
     ]
    },
    {
     "name": "stdout",
     "output_type": "stream",
     "text": [
      "MSE : 2\n",
      "3.4118120733382304\n",
      "Fitting 6 folds for each of 54 candidates, totalling 324 fits\n"
     ]
    },
    {
     "name": "stderr",
     "output_type": "stream",
     "text": [
      "[Parallel(n_jobs=-1)]: Using backend LokyBackend with 8 concurrent workers.\n",
      "[Parallel(n_jobs=-1)]: Done  25 tasks      | elapsed:    1.6s\n",
      "[Parallel(n_jobs=-1)]: Done 146 tasks      | elapsed:    9.7s\n",
      "[Parallel(n_jobs=-1)]: Done 324 out of 324 | elapsed:   21.5s finished\n"
     ]
    },
    {
     "name": "stdout",
     "output_type": "stream",
     "text": [
      "MSE : 3\n",
      "3.2663859493243295\n",
      "Fitting 6 folds for each of 54 candidates, totalling 324 fits\n"
     ]
    },
    {
     "name": "stderr",
     "output_type": "stream",
     "text": [
      "[Parallel(n_jobs=-1)]: Using backend LokyBackend with 8 concurrent workers.\n",
      "[Parallel(n_jobs=-1)]: Done  25 tasks      | elapsed:    1.6s\n",
      "[Parallel(n_jobs=-1)]: Done 146 tasks      | elapsed:    9.7s\n",
      "[Parallel(n_jobs=-1)]: Done 324 out of 324 | elapsed:   21.6s finished\n"
     ]
    },
    {
     "name": "stdout",
     "output_type": "stream",
     "text": [
      "MSE : 4\n",
      "3.030620150263851\n",
      "Fitting 6 folds for each of 54 candidates, totalling 324 fits\n"
     ]
    },
    {
     "name": "stderr",
     "output_type": "stream",
     "text": [
      "[Parallel(n_jobs=-1)]: Using backend LokyBackend with 8 concurrent workers.\n",
      "[Parallel(n_jobs=-1)]: Done  25 tasks      | elapsed:    1.5s\n",
      "[Parallel(n_jobs=-1)]: Done 146 tasks      | elapsed:    9.4s\n",
      "[Parallel(n_jobs=-1)]: Done 324 out of 324 | elapsed:   21.8s finished\n"
     ]
    },
    {
     "name": "stdout",
     "output_type": "stream",
     "text": [
      "MSE : 5\n",
      "2.917045193018631\n",
      "Fitting 6 folds for each of 54 candidates, totalling 324 fits\n"
     ]
    },
    {
     "name": "stderr",
     "output_type": "stream",
     "text": [
      "[Parallel(n_jobs=-1)]: Using backend LokyBackend with 8 concurrent workers.\n",
      "[Parallel(n_jobs=-1)]: Done  25 tasks      | elapsed:    1.6s\n",
      "[Parallel(n_jobs=-1)]: Done 146 tasks      | elapsed:    9.4s\n",
      "[Parallel(n_jobs=-1)]: Done 324 out of 324 | elapsed:   20.7s finished\n"
     ]
    },
    {
     "name": "stdout",
     "output_type": "stream",
     "text": [
      "MSE : 6\n",
      "3.313911116357276\n"
     ]
    },
    {
     "data": {
      "image/png": "[encoded data removed]",
      "text/plain": [
       "<Figure size 800x640 with 6 Axes>"
      ]
     },
     "metadata": {
      "needs_background": "light"
     },
     "output_type": "display_data"
    }
   ],
   "source": [
    "\n",
    "kf = KFold(n_splits=6)\n",
    "kf.get_n_splits(X)\n",
    "\n",
    "\n",
    "plt.figure(figsize=(10,8), dpi= 80)\n",
    "\n",
    "i = 0\n",
    "for train_index, test_index in kf.split(X):\n",
    "    #print(\"TRAIN:\", train_index, \"TEST:\", test_index)\n",
    "    X_cross, X_test = X[train_index], X[test_index]\n",
    "    y_cross, y_test = y[train_index], y[test_index]\n",
    "    grid_search.fit(X_cross, y_cross)\n",
    "    print(\"MSE :\", i+1)\n",
    "    print(mean_squared_error(y_test, grid_search.predict(X_test)))\n",
    "    plt.subplot(321 + i) \n",
    "    plt.scatter(y_test, grid_search.predict(X_test))\n",
    "    i += 1\n",
    "    plt.xlabel(\"True Values\")\n",
    "    plt.ylabel(\"Predictions\")\n",
    "\n",
    "plt.show()"
   ]
  },
  {
   "cell_type": "code",
   "execution_count": null,
   "metadata": {},
   "outputs": [],
   "source": []
  }
 ],
 "metadata": {
  "kernelspec": {
   "display_name": "Python 3",
   "language": "python",
   "name": "python3"
  },
  "language_info": {
   "codemirror_mode": {
    "name": "ipython",
    "version": 3
   },
   "file_extension": ".py",
   "mimetype": "text/x-python",
   "name": "python",
   "nbconvert_exporter": "python",
   "pygments_lexer": "ipython3",
   "version": "3.8.3"
  },
  "nbTranslate": {
   "displayLangs": [
    "*"
   ],
   "hotkey": "alt-t",
   "langInMainMenu": true,
   "sourceLang": "en",
   "targetLang": "fr",
   "useGoogleTranslate": true
  },
  "varInspector": {
   "cols": {
    "lenName": 16,
    "lenType": 16,
    "lenVar": 40
   },
   "kernels_config": {
    "python": {
     "delete_cmd_postfix": "",
     "delete_cmd_prefix": "del ",
     "library": "var_list.py",
     "varRefreshCmd": "print(var_dic_list())"
    },
    "r": {
     "delete_cmd_postfix": ") ",
     "delete_cmd_prefix": "rm(",
     "library": "var_list.r",
     "varRefreshCmd": "cat(var_dic_list()) "
    }
   },
   "types_to_exclude": [
    "module",
    "function",
    "builtin_function_or_method",
    "instance",
    "_Feature"
   ],
   "window_display": false
  }
 },
 "nbformat": 4,
 "nbformat_minor": 4
}
